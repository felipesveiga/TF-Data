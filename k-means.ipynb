{
 "cells": [
  {
   "cell_type": "markdown",
   "id": "f781dd45",
   "metadata": {
    "papermill": {
     "duration": 0.002467,
     "end_time": "2023-07-03T11:06:51.337254",
     "exception": false,
     "start_time": "2023-07-03T11:06:51.334787",
     "status": "completed"
    },
    "tags": []
   },
   "source": [
    "<h1 style='font-size:40px'> K-Means</h1>"
   ]
  },
  {
   "cell_type": "code",
   "execution_count": 1,
   "id": "1b3256bd",
   "metadata": {
    "_cell_guid": "b1076dfc-b9ad-4769-8c92-a6c4dae69d19",
    "_uuid": "8f2839f25d086af736a60e9eeb907d3b93b6e0e5",
    "execution": {
     "iopub.execute_input": "2023-07-03T11:06:51.343967Z",
     "iopub.status.busy": "2023-07-03T11:06:51.343459Z",
     "iopub.status.idle": "2023-07-03T11:06:51.349470Z",
     "shell.execute_reply": "2023-07-03T11:06:51.348220Z"
    },
    "papermill": {
     "duration": 0.016478,
     "end_time": "2023-07-03T11:06:51.355966",
     "exception": false,
     "start_time": "2023-07-03T11:06:51.339488",
     "status": "completed"
    },
    "tags": []
   },
   "outputs": [],
   "source": [
    "# K-Means; Elbow\n",
    "# Agg. Clustering\n",
    "# DBSCAN"
   ]
  },
  {
   "cell_type": "markdown",
   "id": "07ca81c5",
   "metadata": {
    "papermill": {
     "duration": 0.001719,
     "end_time": "2023-07-03T11:06:51.359864",
     "exception": false,
     "start_time": "2023-07-03T11:06:51.358145",
     "status": "completed"
    },
    "tags": []
   },
   "source": [
    "<p style='color:red'> Explicar lógica K-Means e propriedades da classe KMeans</p>"
   ]
  }
 ],
 "metadata": {
  "kernelspec": {
   "display_name": "Python 3",
   "language": "python",
   "name": "python3"
  },
  "language_info": {
   "codemirror_mode": {
    "name": "ipython",
    "version": 3
   },
   "file_extension": ".py",
   "mimetype": "text/x-python",
   "name": "python",
   "nbconvert_exporter": "python",
   "pygments_lexer": "ipython3",
   "version": "3.10.10"
  },
  "papermill": {
   "default_parameters": {},
   "duration": 15.034123,
   "end_time": "2023-07-03T11:06:52.284565",
   "environment_variables": {},
   "exception": null,
   "input_path": "__notebook__.ipynb",
   "output_path": "__notebook__.ipynb",
   "parameters": {},
   "start_time": "2023-07-03T11:06:37.250442",
   "version": "2.4.0"
  }
 },
 "nbformat": 4,
 "nbformat_minor": 5
}
