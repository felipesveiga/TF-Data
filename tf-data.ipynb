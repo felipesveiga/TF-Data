{
 "cells": [
  {
   "cell_type": "markdown",
   "id": "2f2128a2",
   "metadata": {
    "papermill": {
     "duration": 0.007456,
     "end_time": "2023-05-15T16:17:07.028318",
     "exception": false,
     "start_time": "2023-05-15T16:17:07.020862",
     "status": "completed"
    },
    "tags": []
   },
   "source": [
    "<h1 style='font-size:40px'> tf.data Pipeline</h1>\n",
    "<div> \n",
    "    <ul style='font-size:20px'> \n",
    "        <li> \n",
    "            In this notebook I'll practice my skills with the tf.data module solving Exercise 9 from Hands-On Machine Learning with Scikit-Learn and TensorFlow's Chapter 13.\n",
    "        </li>\n",
    "        <li> \n",
    "            The Exercise commands us the following:\n",
    "            <p style='font-style:italic;margin-top:10px'> \n",
    "                Load the Fashion MNIST dataset (introduced in Chapter 10); split\n",
    "it into a training set, a validation set, and a test set; shuffle the\n",
    "training set; and save each dataset to multiple TFRecord files.\n",
    "Each record should be a serialized Example protobuf with two\n",
    "features: the serialized image (use tf.io.serialize_tensor()\n",
    "to serialize each image), and the label. 11 Then use tf.data to create\n",
    "an efficient dataset for each set. Finally, use a Keras model to\n",
    "train these datasets, including a preprocessing layer to standardize\n",
    "each input feature. Try to make the input pipeline as efficient as\n",
    "possible, using TensorBoard to visualize profiling data.\n",
    "            </p>\n",
    "        </li>\n",
    "    </ul>\n",
    "</div>"
   ]
  },
  {
   "cell_type": "markdown",
   "id": "2c26276b",
   "metadata": {
    "papermill": {
     "duration": 0.005475,
     "end_time": "2023-05-15T16:17:07.040661",
     "exception": false,
     "start_time": "2023-05-15T16:17:07.035186",
     "status": "completed"
    },
    "tags": []
   },
   "source": [
    "<h2 style='font-size:30px'> Data Importing & Splitting</h2>"
   ]
  },
  {
   "cell_type": "code",
   "execution_count": 1,
   "id": "b1474eb4",
   "metadata": {
    "execution": {
     "iopub.execute_input": "2023-05-15T16:17:07.054450Z",
     "iopub.status.busy": "2023-05-15T16:17:07.053985Z",
     "iopub.status.idle": "2023-05-15T16:17:23.352273Z",
     "shell.execute_reply": "2023-05-15T16:17:23.350636Z"
    },
    "papermill": {
     "duration": 16.309437,
     "end_time": "2023-05-15T16:17:23.355799",
     "exception": false,
     "start_time": "2023-05-15T16:17:07.046362",
     "status": "completed"
    },
    "tags": []
   },
   "outputs": [
    {
     "name": "stdout",
     "output_type": "stream",
     "text": [
      "Downloading data from https://storage.googleapis.com/tensorflow/tf-keras-datasets/train-labels-idx1-ubyte.gz\n",
      "29515/29515 [==============================] - 0s 0us/step\n",
      "Downloading data from https://storage.googleapis.com/tensorflow/tf-keras-datasets/train-images-idx3-ubyte.gz\n",
      "26421880/26421880 [==============================] - 1s 0us/step\n",
      "Downloading data from https://storage.googleapis.com/tensorflow/tf-keras-datasets/t10k-labels-idx1-ubyte.gz\n",
      "5148/5148 [==============================] - 0s 0us/step\n",
      "Downloading data from https://storage.googleapis.com/tensorflow/tf-keras-datasets/t10k-images-idx3-ubyte.gz\n",
      "4422102/4422102 [==============================] - 1s 0us/step\n"
     ]
    }
   ],
   "source": [
    "# Loading the fashion_mnist dataset.\n",
    "from tensorflow.keras.datasets import fashion_mnist\n",
    "from sklearn.model_selection import train_test_split\n",
    "(X_train, y_train), (X_test, y_test) = fashion_mnist.load_data()\n",
    "\n",
    "# Now, generating the validation set with `train_test_split`.\n",
    "X_train, X_val, y_train, y_val = train_test_split(X_train, y_train, test_size=.1, random_state=42)"
   ]
  },
  {
   "cell_type": "code",
   "execution_count": 2,
   "id": "771da0f1",
   "metadata": {
    "execution": {
     "iopub.execute_input": "2023-05-15T16:17:23.377674Z",
     "iopub.status.busy": "2023-05-15T16:17:23.376696Z",
     "iopub.status.idle": "2023-05-15T16:17:23.564944Z",
     "shell.execute_reply": "2023-05-15T16:17:23.563325Z"
    },
    "papermill": {
     "duration": 0.203308,
     "end_time": "2023-05-15T16:17:23.568435",
     "exception": false,
     "start_time": "2023-05-15T16:17:23.365127",
     "status": "completed"
    },
    "tags": []
   },
   "outputs": [],
   "source": [
    "# Storing each one of the sets in a tf.data.Dataset object.\n",
    "# The classes store 1000 elements batches. The groups' data will be put into a .tfrecord file.\n",
    "from tensorflow.data import Dataset\n",
    "batch_size = 1000\n",
    "train = Dataset.from_tensor_slices((X_train, y_train)).shuffle(54000).batch(batch_size)\n",
    "val = Dataset.from_tensor_slices((X_val, y_val)).batch(batch_size)\n",
    "test = Dataset.from_tensor_slices((X_test, y_test)).batch(batch_size)"
   ]
  },
  {
   "cell_type": "code",
   "execution_count": 3,
   "id": "8f35aace",
   "metadata": {
    "execution": {
     "iopub.execute_input": "2023-05-15T16:17:23.589071Z",
     "iopub.status.busy": "2023-05-15T16:17:23.588593Z",
     "iopub.status.idle": "2023-05-15T16:17:23.596530Z",
     "shell.execute_reply": "2023-05-15T16:17:23.595043Z"
    },
    "papermill": {
     "duration": 0.022603,
     "end_time": "2023-05-15T16:17:23.600236",
     "exception": false,
     "start_time": "2023-05-15T16:17:23.577633",
     "status": "completed"
    },
    "tags": []
   },
   "outputs": [],
   "source": [
    "# We'll produce 1000 instances .tfrecord files. One corresponding to a bacth created.\n",
    "train_files = len(X_train) // batch_size\n",
    "val_files = len(X_val) // batch_size\n",
    "test_files = len(X_test) // batch_size"
   ]
  },
  {
   "cell_type": "markdown",
   "id": "04694d11",
   "metadata": {
    "papermill": {
     "duration": 0.009159,
     "end_time": "2023-05-15T16:17:23.618625",
     "exception": false,
     "start_time": "2023-05-15T16:17:23.609466",
     "status": "completed"
    },
    "tags": []
   },
   "source": [
    "<h2 style='font-size:30px'> .tfrecord's Production</h2>\n",
    "<div> \n",
    "    <ul style='font-size:20px'> \n",
    "        <li> \n",
    "            TensorFlow records demands data to be stored in protobuf format. We can do so by placing the serialized information in an `Example` class. \n",
    "        </li>\n",
    "    </ul>\n",
    "</div>"
   ]
  },
  {
   "cell_type": "code",
   "execution_count": 4,
   "id": "b20e55dc",
   "metadata": {
    "execution": {
     "iopub.execute_input": "2023-05-15T16:17:23.639305Z",
     "iopub.status.busy": "2023-05-15T16:17:23.638588Z",
     "iopub.status.idle": "2023-05-15T16:17:23.651350Z",
     "shell.execute_reply": "2023-05-15T16:17:23.650063Z"
    },
    "papermill": {
     "duration": 0.026889,
     "end_time": "2023-05-15T16:17:23.654710",
     "exception": false,
     "start_time": "2023-05-15T16:17:23.627821",
     "status": "completed"
    },
    "tags": []
   },
   "outputs": [],
   "source": [
    "from tensorflow import Tensor\n",
    "from tensorflow.train import BytesList, Example, Features, Feature, Int64List\n",
    "from tensorflow.io import serialize_tensor, TFRecordWriter\n",
    "\n",
    "def create_example(images:Tensor, targets:Tensor)->str:\n",
    "    '''\n",
    "        Generates a serialized `Example` object holding the pixel intensities and target values from a collection\n",
    "        of MNIST images.\n",
    "        \n",
    "        Parameters\n",
    "        ----------\n",
    "        `images`: A 3-D `tf.Tensor` with the digits pixels. \\n\n",
    "        `targets`: An 1-D `tf.Tensor` with the digits labels.\n",
    "        \n",
    "        Returns\n",
    "        -------\n",
    "        An `tf.train.Example` object storing both pixels and target values.\n",
    "    '''\n",
    "    # Serializing the input vectors.\n",
    "    serialized_images, serialized_targets = serialize_tensor(images), serialize_tensor(targets)\n",
    "    example = Example(\n",
    "        features=Features(\n",
    "            feature={\n",
    "            'pixels':Feature(bytes_list=BytesList(value=[serialized_images.numpy()])),\n",
    "            'target':Feature(bytes_list=BytesList(value=[serialized_targets.numpy()]))\n",
    "        }\n",
    "        ))\n",
    "    # Now, converting the `Example` object into a binary string.\n",
    "    return example.SerializeToString()"
   ]
  },
  {
   "cell_type": "code",
   "execution_count": 5,
   "id": "06a3fbb8",
   "metadata": {
    "execution": {
     "iopub.execute_input": "2023-05-15T16:17:23.675848Z",
     "iopub.status.busy": "2023-05-15T16:17:23.675368Z",
     "iopub.status.idle": "2023-05-15T16:17:24.804723Z",
     "shell.execute_reply": "2023-05-15T16:17:24.802915Z"
    },
    "papermill": {
     "duration": 1.144359,
     "end_time": "2023-05-15T16:17:24.808276",
     "exception": false,
     "start_time": "2023-05-15T16:17:23.663917",
     "status": "completed"
    },
    "tags": []
   },
   "outputs": [],
   "source": [
    "# It is convenient to place all data files in a separate directory.\n",
    "! mkdir mnist"
   ]
  },
  {
   "cell_type": "code",
   "execution_count": 6,
   "id": "8a64629c",
   "metadata": {
    "execution": {
     "iopub.execute_input": "2023-05-15T16:17:24.829113Z",
     "iopub.status.busy": "2023-05-15T16:17:24.828554Z",
     "iopub.status.idle": "2023-05-15T16:17:25.729623Z",
     "shell.execute_reply": "2023-05-15T16:17:25.728127Z"
    },
    "papermill": {
     "duration": 0.915376,
     "end_time": "2023-05-15T16:17:25.732891",
     "exception": false,
     "start_time": "2023-05-15T16:17:24.817515",
     "status": "completed"
    },
    "tags": []
   },
   "outputs": [],
   "source": [
    "def create_files(dataset:Dataset, filename:str, directory:str='.')->None:\n",
    "    '''\n",
    "        Creates the .tfrecord's files based on the batches from a provided `dataset`.\n",
    "        \n",
    "        Parameters\n",
    "        ----------\n",
    "        `dataset`: A `tf.data.Dataset` object. \\n\n",
    "        `filename`: A custom name for file identification. \\n\n",
    "        `directory`: A string that indicates the directory where the files are put.\n",
    "    '''\n",
    "    for index, (images, labels) in dataset.enumerate():\n",
    "        file = TFRecordWriter(f'{directory}/{filename}_{index}.tfrecord')\n",
    "        serialized_data = create_example(images, labels)\n",
    "        file.write(serialized_data)\n",
    "\n",
    "# Generating the files.\n",
    "create_files(train, 'train', 'mnist')\n",
    "create_files(val, 'val', 'mnist')\n",
    "create_files(test, 'test', 'mnist')"
   ]
  },
  {
   "cell_type": "markdown",
   "id": "d7cd527a",
   "metadata": {
    "papermill": {
     "duration": 0.008968,
     "end_time": "2023-05-15T16:17:25.751244",
     "exception": false,
     "start_time": "2023-05-15T16:17:25.742276",
     "status": "completed"
    },
    "tags": []
   },
   "source": [
    "<h2 style='font-size:30px'> Data Treatment</h2>\n",
    "<div> \n",
    "    <ul style='font-size:20px'> \n",
    "        <li> \n",
    "            With the files generated, we can proceed and handle the data importing and its proper treatment.\n",
    "        </li>\n",
    "    </ul>\n",
    "</div>"
   ]
  },
  {
   "cell_type": "code",
   "execution_count": 7,
   "id": "9b3ea062",
   "metadata": {
    "execution": {
     "iopub.execute_input": "2023-05-15T16:17:25.772462Z",
     "iopub.status.busy": "2023-05-15T16:17:25.771423Z",
     "iopub.status.idle": "2023-05-15T16:17:25.843633Z",
     "shell.execute_reply": "2023-05-15T16:17:25.842170Z"
    },
    "papermill": {
     "duration": 0.086904,
     "end_time": "2023-05-15T16:17:25.847258",
     "exception": false,
     "start_time": "2023-05-15T16:17:25.760354",
     "status": "completed"
    },
    "tags": []
   },
   "outputs": [],
   "source": [
    "# Reading the data files separately.\n",
    "train_files = Dataset.list_files('mnist/train*')\n",
    "val_files = Dataset.list_files('mnist/val*')\n",
    "test_files = Dataset.list_files('mnist/test*')"
   ]
  },
  {
   "cell_type": "code",
   "execution_count": 8,
   "id": "d61e6587",
   "metadata": {
    "execution": {
     "iopub.execute_input": "2023-05-15T16:17:25.868645Z",
     "iopub.status.busy": "2023-05-15T16:17:25.867825Z",
     "iopub.status.idle": "2023-05-15T16:17:25.881414Z",
     "shell.execute_reply": "2023-05-15T16:17:25.879802Z"
    },
    "papermill": {
     "duration": 0.028201,
     "end_time": "2023-05-15T16:17:25.884577",
     "exception": false,
     "start_time": "2023-05-15T16:17:25.856376",
     "status": "completed"
    },
    "tags": []
   },
   "outputs": [],
   "source": [
    "from tensorflow import string, uint8\n",
    "from tensorflow.data import AUTOTUNE, TFRecordDataset\n",
    "from tensorflow.io import FixedLenFeature, parse_example, parse_tensor\n",
    "from typing import Iterable, Tuple\n",
    "\n",
    "def preprocess(tfrecord:Tensor)->Tuple[Tensor, Tensor]:\n",
    "    '''\n",
    "    Reads an encoded protobuf and returns its Tensors in numerical format.\n",
    "    \n",
    "    Parameter\n",
    "    ---------\n",
    "    `tfrecord`: A `tf.Tensor` that stores encoded protobufs.\n",
    "    \n",
    "    Returns\n",
    "    -------\n",
    "    Two tensors in a tuple. One with the pixel intensities and another containing the target values.\n",
    "    '''\n",
    "    features = {\n",
    "    'pixels':FixedLenFeature([], string, default_value=''), \n",
    "    'target':FixedLenFeature([], string, default_value='-1')\n",
    "                }\n",
    "    example = parse_example(tfrecord, features) # Returns a dictionary with the serialized images and target values.\n",
    "    pixels, target = parse_tensor(example['pixels'], uint8), parse_tensor(example['target'], uint8)\n",
    "    return pixels, target\n",
    "\n",
    "def read_files(filenames:Iterable[str], shuffle_size:int=None, num_threads_reading:int=AUTOTUNE, \n",
    "               num_threads_preprocess:int=AUTOTUNE)->Dataset:\n",
    "    '''\n",
    "        Read the .tfrecord files specified and retrieves a `tf.data.Dataset` object with the processed data.\n",
    "        \n",
    "        Parameters\n",
    "        ----------\n",
    "        `filenames`: The names of the files.\n",
    "        `shuffle_size`: If specified, it shuffles the Dataset using a deck with the specified length.\n",
    "        `num_threads_reading`: The number of threads to use when reading the files.\n",
    "        `num_threads_preprocess`: The number of threads to use when preprocessing the dataset.\n",
    "        \n",
    "        Returns\n",
    "        -------\n",
    "        The treated dataset.\n",
    "    '''\n",
    "    dataset = TFRecordDataset(filenames, num_parallel_reads=num_threads_reading)\n",
    "    if shuffle_size:\n",
    "        dataset.shuffle(shuffle_size)\n",
    "    return dataset.map(preprocess, num_parallel_calls=num_threads_preprocess).prefetch(1)"
   ]
  },
  {
   "cell_type": "markdown",
   "id": "7d7c6daf",
   "metadata": {
    "papermill": {
     "duration": 0.008747,
     "end_time": "2023-05-15T16:17:25.902623",
     "exception": false,
     "start_time": "2023-05-15T16:17:25.893876",
     "status": "completed"
    },
    "tags": []
   },
   "source": [
    "<h2 style='font-size:30px'> Standardization Layer</h2>\n",
    "<div> \n",
    "    <ul style='font-size:20px'> \n",
    "        <li> \n",
    "            Here, we'll simply code a `tf.layers.Layer` object which fairly does a similar job of the Batch Normalization Layer. The main difference is that $\\mu$ and $\\sigma$ are computed in advance using the `adapt` function.\n",
    "        </li>\n",
    "    </ul>\n",
    "</div>"
   ]
  },
  {
   "cell_type": "markdown",
   "id": "c0773a91",
   "metadata": {
    "papermill": {
     "duration": 0.008788,
     "end_time": "2023-05-15T16:17:25.921445",
     "exception": false,
     "start_time": "2023-05-15T16:17:25.912657",
     "status": "completed"
    },
    "tags": []
   },
   "source": [
    "<p style='color:red'> Camada de Padronização"
   ]
  },
  {
   "cell_type": "markdown",
   "id": "713dc8b3",
   "metadata": {
    "papermill": {
     "duration": 0.008843,
     "end_time": "2023-05-15T16:17:25.939441",
     "exception": false,
     "start_time": "2023-05-15T16:17:25.930598",
     "status": "completed"
    },
    "tags": []
   },
   "source": [
    "<h2 style='font-size:30px'> </h2>"
   ]
  }
 ],
 "metadata": {
  "kernelspec": {
   "display_name": "Python 3",
   "language": "python",
   "name": "python3"
  },
  "language_info": {
   "codemirror_mode": {
    "name": "ipython",
    "version": 3
   },
   "file_extension": ".py",
   "mimetype": "text/x-python",
   "name": "python",
   "nbconvert_exporter": "python",
   "pygments_lexer": "ipython3",
   "version": "3.7.12"
  },
  "papermill": {
   "default_parameters": {},
   "duration": 39.009358,
   "end_time": "2023-05-15T16:17:28.994514",
   "environment_variables": {},
   "exception": null,
   "input_path": "__notebook__.ipynb",
   "output_path": "__notebook__.ipynb",
   "parameters": {},
   "start_time": "2023-05-15T16:16:49.985156",
   "version": "2.4.0"
  }
 },
 "nbformat": 4,
 "nbformat_minor": 5
}
