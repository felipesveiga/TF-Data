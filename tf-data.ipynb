{
 "cells": [
  {
   "cell_type": "markdown",
   "id": "fa40b7e9",
   "metadata": {
    "papermill": {
     "duration": 0.009993,
     "end_time": "2023-06-22T17:49:19.380288",
     "exception": false,
     "start_time": "2023-06-22T17:49:19.370295",
     "status": "completed"
    },
    "tags": []
   },
   "source": [
    "<h1 style='font-size:40px'> tf.data Pipeline</h1>\n",
    "<div> \n",
    "    <ul style='font-size:20px'> \n",
    "        <li> \n",
    "            In this notebook I'll practice my skills with the tf.data module solving Exercise 9 from Hands-On Machine Learning with Scikit-Learn and TensorFlow's Chapter 13.\n",
    "        </li>\n",
    "        <li> \n",
    "            The Exercise commands us the following:\n",
    "            <p style='font-style:italic;margin-top:10px'> \n",
    "                Load the Fashion MNIST dataset (introduced in Chapter 10); split\n",
    "it into a training set, a validation set, and a test set; shuffle the\n",
    "training set; and save each dataset to multiple TFRecord files.\n",
    "Each record should be a serialized Example protobuf with two\n",
    "features: the serialized image (use tf.io.serialize_tensor()\n",
    "to serialize each image), and the label. 11 Then use tf.data to create\n",
    "an efficient dataset for each set. Finally, use a Keras model to\n",
    "train these datasets, including a preprocessing layer to standardize\n",
    "each input feature. Try to make the input pipeline as efficient as\n",
    "possible, using TensorBoard to visualize profiling data.\n",
    "            </p>\n",
    "        </li>\n",
    "    </ul>\n",
    "</div>"
   ]
  },
  {
   "cell_type": "markdown",
   "id": "bc86ceab",
   "metadata": {
    "papermill": {
     "duration": 0.007433,
     "end_time": "2023-06-22T17:49:19.395677",
     "exception": false,
     "start_time": "2023-06-22T17:49:19.388244",
     "status": "completed"
    },
    "tags": []
   },
   "source": [
    "<h2 style='font-size:30px'> Data Importing & Splitting</h2>"
   ]
  },
  {
   "cell_type": "code",
   "execution_count": 1,
   "id": "4f9dacb6",
   "metadata": {
    "execution": {
     "iopub.execute_input": "2023-06-22T17:49:19.413807Z",
     "iopub.status.busy": "2023-06-22T17:49:19.412962Z",
     "iopub.status.idle": "2023-06-22T17:49:28.336549Z",
     "shell.execute_reply": "2023-06-22T17:49:28.335402Z"
    },
    "papermill": {
     "duration": 8.935937,
     "end_time": "2023-06-22T17:49:28.339580",
     "exception": false,
     "start_time": "2023-06-22T17:49:19.403643",
     "status": "completed"
    },
    "tags": []
   },
   "outputs": [
    {
     "name": "stdout",
     "output_type": "stream",
     "text": [
      "Downloading data from https://storage.googleapis.com/tensorflow/tf-keras-datasets/train-labels-idx1-ubyte.gz\n",
      "29515/29515 [==============================] - 0s 0us/step\n",
      "Downloading data from https://storage.googleapis.com/tensorflow/tf-keras-datasets/train-images-idx3-ubyte.gz\n",
      "26421880/26421880 [==============================] - 0s 0us/step\n",
      "Downloading data from https://storage.googleapis.com/tensorflow/tf-keras-datasets/t10k-labels-idx1-ubyte.gz\n",
      "5148/5148 [==============================] - 0s 0us/step\n",
      "Downloading data from https://storage.googleapis.com/tensorflow/tf-keras-datasets/t10k-images-idx3-ubyte.gz\n",
      "4422102/4422102 [==============================] - 0s 0us/step\n"
     ]
    }
   ],
   "source": [
    "# Loading the fashion_mnist dataset.\n",
    "from tensorflow.keras.datasets import fashion_mnist\n",
    "from sklearn.model_selection import train_test_split\n",
    "(X_train, y_train), (X_test, y_test) = fashion_mnist.load_data()\n",
    "\n",
    "# Now, generating the validation set with `train_test_split`.\n",
    "X_train, X_val, y_train, y_val = train_test_split(X_train, y_train, test_size=.1, random_state=42)"
   ]
  },
  {
   "cell_type": "code",
   "execution_count": 2,
   "id": "518fdf35",
   "metadata": {
    "execution": {
     "iopub.execute_input": "2023-06-22T17:49:28.359766Z",
     "iopub.status.busy": "2023-06-22T17:49:28.359072Z",
     "iopub.status.idle": "2023-06-22T17:49:31.752945Z",
     "shell.execute_reply": "2023-06-22T17:49:31.751843Z"
    },
    "papermill": {
     "duration": 3.406848,
     "end_time": "2023-06-22T17:49:31.755630",
     "exception": false,
     "start_time": "2023-06-22T17:49:28.348782",
     "status": "completed"
    },
    "tags": []
   },
   "outputs": [],
   "source": [
    "# Storing each one of the sets in a tf.data.Dataset object.\n",
    "# The classes store 1000 elements batches. The groups' data will be put into a .tfrecord file.\n",
    "from tensorflow.data import Dataset\n",
    "batch_size = 1000\n",
    "train = Dataset.from_tensor_slices((X_train, y_train)).shuffle(54000).batch(batch_size)\n",
    "val = Dataset.from_tensor_slices((X_val, y_val)).batch(batch_size)\n",
    "test = Dataset.from_tensor_slices((X_test, y_test)).batch(batch_size)"
   ]
  },
  {
   "cell_type": "code",
   "execution_count": 3,
   "id": "4b9cd27a",
   "metadata": {
    "execution": {
     "iopub.execute_input": "2023-06-22T17:49:31.775402Z",
     "iopub.status.busy": "2023-06-22T17:49:31.774493Z",
     "iopub.status.idle": "2023-06-22T17:49:31.780133Z",
     "shell.execute_reply": "2023-06-22T17:49:31.779031Z"
    },
    "papermill": {
     "duration": 0.017892,
     "end_time": "2023-06-22T17:49:31.782615",
     "exception": false,
     "start_time": "2023-06-22T17:49:31.764723",
     "status": "completed"
    },
    "tags": []
   },
   "outputs": [],
   "source": [
    "# We'll produce 1000 instances .tfrecord files. One corresponding to a bacth created.\n",
    "train_files = len(X_train) // batch_size\n",
    "val_files = len(X_val) // batch_size\n",
    "test_files = len(X_test) // batch_size"
   ]
  },
  {
   "cell_type": "markdown",
   "id": "ec40f5dd",
   "metadata": {
    "papermill": {
     "duration": 0.008624,
     "end_time": "2023-06-22T17:49:31.800140",
     "exception": false,
     "start_time": "2023-06-22T17:49:31.791516",
     "status": "completed"
    },
    "tags": []
   },
   "source": [
    "<h2 style='font-size:30px'> .tfrecord's Production</h2>\n",
    "<div> \n",
    "    <ul style='font-size:20px'> \n",
    "        <li> \n",
    "            TensorFlow records demands data to be stored in protobuf format. We can do so by placing the serialized information in an `Example` class. \n",
    "        </li>\n",
    "    </ul>\n",
    "</div>"
   ]
  },
  {
   "cell_type": "code",
   "execution_count": 4,
   "id": "7fab8307",
   "metadata": {
    "execution": {
     "iopub.execute_input": "2023-06-22T17:49:31.819969Z",
     "iopub.status.busy": "2023-06-22T17:49:31.818919Z",
     "iopub.status.idle": "2023-06-22T17:49:31.830716Z",
     "shell.execute_reply": "2023-06-22T17:49:31.829197Z"
    },
    "papermill": {
     "duration": 0.033785,
     "end_time": "2023-06-22T17:49:31.842622",
     "exception": false,
     "start_time": "2023-06-22T17:49:31.808837",
     "status": "completed"
    },
    "tags": []
   },
   "outputs": [],
   "source": [
    "from tensorflow import Tensor\n",
    "from tensorflow.train import BytesList, Example, Features, Feature, Int64List\n",
    "from tensorflow.io import serialize_tensor, TFRecordWriter\n",
    "\n",
    "def create_example(images:Tensor, targets:Tensor)->str:\n",
    "    '''\n",
    "        Generates a serialized `Example` object holding the pixel intensities and target values from a collection\n",
    "        of MNIST images.\n",
    "        \n",
    "        Parameters\n",
    "        ----------\n",
    "        `images`: A 3-D `tf.Tensor` with the digits pixels. \\n\n",
    "        `targets`: An 1-D `tf.Tensor` with the digits labels.\n",
    "        \n",
    "        Returns\n",
    "        -------\n",
    "        An `tf.train.Example` object storing both pixels and target values.\n",
    "    '''\n",
    "    # Serializing the input vectors.\n",
    "    serialized_images, serialized_targets = serialize_tensor(images), serialize_tensor(targets)\n",
    "    example = Example(\n",
    "        features=Features(\n",
    "            feature={\n",
    "            'pixels':Feature(bytes_list=BytesList(value=[serialized_images.numpy()])),\n",
    "            'target':Feature(bytes_list=BytesList(value=[serialized_targets.numpy()]))\n",
    "        }\n",
    "        ))\n",
    "    # Now, converting the `Example` object into a binary string.\n",
    "    return example.SerializeToString()"
   ]
  },
  {
   "cell_type": "code",
   "execution_count": 5,
   "id": "7f22008f",
   "metadata": {
    "execution": {
     "iopub.execute_input": "2023-06-22T17:49:31.862520Z",
     "iopub.status.busy": "2023-06-22T17:49:31.862222Z",
     "iopub.status.idle": "2023-06-22T17:49:32.851713Z",
     "shell.execute_reply": "2023-06-22T17:49:32.850163Z"
    },
    "papermill": {
     "duration": 1.002756,
     "end_time": "2023-06-22T17:49:32.854804",
     "exception": false,
     "start_time": "2023-06-22T17:49:31.852048",
     "status": "completed"
    },
    "tags": []
   },
   "outputs": [],
   "source": [
    "# It is convenient to place all data files in a separate directory.\n",
    "! mkdir mnist"
   ]
  },
  {
   "cell_type": "code",
   "execution_count": 6,
   "id": "121d3191",
   "metadata": {
    "execution": {
     "iopub.execute_input": "2023-06-22T17:49:32.877026Z",
     "iopub.status.busy": "2023-06-22T17:49:32.876670Z",
     "iopub.status.idle": "2023-06-22T17:49:33.336977Z",
     "shell.execute_reply": "2023-06-22T17:49:33.335866Z"
    },
    "papermill": {
     "duration": 0.47371,
     "end_time": "2023-06-22T17:49:33.339993",
     "exception": false,
     "start_time": "2023-06-22T17:49:32.866283",
     "status": "completed"
    },
    "tags": []
   },
   "outputs": [],
   "source": [
    "def create_files(dataset:Dataset, filename:str, directory:str='.')->None:\n",
    "    '''\n",
    "        Creates the .tfrecord's files based on the batches from a provided `dataset`.\n",
    "        \n",
    "        Parameters\n",
    "        ----------\n",
    "        `dataset`: A `tf.data.Dataset` object. \\n\n",
    "        `filename`: A custom name for file identification. \\n\n",
    "        `directory`: A string that indicates the directory where the files are put.\n",
    "    '''\n",
    "    for index, (images, labels) in dataset.enumerate():\n",
    "        file = TFRecordWriter(f'{directory}/{filename}_{index}.tfrecord')\n",
    "        serialized_data = create_example(images, labels)\n",
    "        file.write(serialized_data)\n",
    "\n",
    "# Generating the files.\n",
    "create_files(train, 'train', 'mnist')\n",
    "create_files(val, 'val', 'mnist')\n",
    "create_files(test, 'test', 'mnist')"
   ]
  },
  {
   "cell_type": "markdown",
   "id": "bb82d5c9",
   "metadata": {
    "papermill": {
     "duration": 0.009096,
     "end_time": "2023-06-22T17:49:33.358292",
     "exception": false,
     "start_time": "2023-06-22T17:49:33.349196",
     "status": "completed"
    },
    "tags": []
   },
   "source": [
    "<h2 style='font-size:30px'> Data Treatment</h2>\n",
    "<div> \n",
    "    <ul style='font-size:20px'> \n",
    "        <li> \n",
    "            With the files generated, we can proceed and handle the data importing and its proper treatment.\n",
    "        </li>\n",
    "    </ul>\n",
    "</div>"
   ]
  },
  {
   "cell_type": "code",
   "execution_count": 7,
   "id": "78650e3c",
   "metadata": {
    "execution": {
     "iopub.execute_input": "2023-06-22T17:49:33.377398Z",
     "iopub.status.busy": "2023-06-22T17:49:33.377058Z",
     "iopub.status.idle": "2023-06-22T17:49:33.426594Z",
     "shell.execute_reply": "2023-06-22T17:49:33.425607Z"
    },
    "papermill": {
     "duration": 0.062025,
     "end_time": "2023-06-22T17:49:33.429099",
     "exception": false,
     "start_time": "2023-06-22T17:49:33.367074",
     "status": "completed"
    },
    "tags": []
   },
   "outputs": [],
   "source": [
    "# Reading the data files separately.\n",
    "train_files = Dataset.list_files('mnist/train*')\n",
    "val_files = Dataset.list_files('mnist/val*')\n",
    "test_files = Dataset.list_files('mnist/test*')"
   ]
  },
  {
   "cell_type": "code",
   "execution_count": 8,
   "id": "30304464",
   "metadata": {
    "execution": {
     "iopub.execute_input": "2023-06-22T17:49:33.448367Z",
     "iopub.status.busy": "2023-06-22T17:49:33.448034Z",
     "iopub.status.idle": "2023-06-22T17:49:33.459378Z",
     "shell.execute_reply": "2023-06-22T17:49:33.458188Z"
    },
    "papermill": {
     "duration": 0.023518,
     "end_time": "2023-06-22T17:49:33.461458",
     "exception": false,
     "start_time": "2023-06-22T17:49:33.437940",
     "status": "completed"
    },
    "tags": []
   },
   "outputs": [],
   "source": [
    "from tensorflow import string, uint8\n",
    "from tensorflow.data import AUTOTUNE, TFRecordDataset\n",
    "from tensorflow.io import FixedLenFeature, parse_example, parse_tensor\n",
    "from typing import Optional, Iterable, Tuple\n",
    "\n",
    "def preprocess(tfrecord:Tensor)->Tuple[Tensor, Tensor]:\n",
    "    '''\n",
    "    Reads an encoded protobuf and returns its Tensors in numerical format.\n",
    "    \n",
    "    Parameter\n",
    "    ---------\n",
    "    `tfrecord`: A `tf.Tensor` that stores encoded protobufs.\n",
    "    \n",
    "    Returns\n",
    "    -------\n",
    "    Two tensors in a tuple. One with the pixel intensities and another containing the target values.\n",
    "    '''\n",
    "    features = {\n",
    "    'pixels':FixedLenFeature([], string, default_value=''), \n",
    "    'target':FixedLenFeature([], string, default_value='-1')\n",
    "                }\n",
    "    example = parse_example(tfrecord, features) # Returns a dictionary with the serialized images and target values.\n",
    "    pixels, target = parse_tensor(example['pixels'], uint8), parse_tensor(example['target'], uint8)\n",
    "    return pixels, target\n",
    "\n",
    "def read_files(filenames:Iterable[str], shuffle_size:Optional[int]=None, num_threads_reading:int=AUTOTUNE, \n",
    "               num_threads_preprocess:int=AUTOTUNE)->Dataset:\n",
    "    '''\n",
    "        Reads the .tfrecord files specified and retrieves a `tf.data.Dataset` object with the processed data.\n",
    "        \n",
    "        Parameters\n",
    "        ----------\n",
    "        `filenames`: The names of the files.\n",
    "        `shuffle_size`: If specified, it shuffles the Dataset using a deck with the specified length.\n",
    "        `num_threads_reading`: The number of threads to use when reading the files.\n",
    "        `num_threads_preprocess`: The number of threads to use when preprocessing the dataset.\n",
    "        \n",
    "        Returns\n",
    "        -------\n",
    "        The treated dataset.\n",
    "    '''\n",
    "    dataset = TFRecordDataset(filenames, num_parallel_reads=num_threads_reading)\n",
    "    if shuffle_size:\n",
    "        dataset.shuffle(shuffle_size)\n",
    "    return dataset.map(preprocess, num_parallel_calls=num_threads_preprocess).prefetch(1)"
   ]
  },
  {
   "cell_type": "markdown",
   "id": "bb893683",
   "metadata": {
    "papermill": {
     "duration": 0.008627,
     "end_time": "2023-06-22T17:49:33.478902",
     "exception": false,
     "start_time": "2023-06-22T17:49:33.470275",
     "status": "completed"
    },
    "tags": []
   },
   "source": [
    "<h2 style='font-size:30px'> Standardization Layer</h2>\n",
    "<div> \n",
    "    <ul style='font-size:20px'> \n",
    "        <li> \n",
    "            Here, we'll simply code a `tf.layers.Layer` object which fairly does a similar job of the Batch Normalization Layer. The main difference is that $\\mu$ and $\\sigma$ are computed in advance using the `adapt` function.\n",
    "        </li>\n",
    "    </ul>\n",
    "</div>"
   ]
  },
  {
   "cell_type": "code",
   "execution_count": 9,
   "id": "d9fc02fd",
   "metadata": {
    "execution": {
     "iopub.execute_input": "2023-06-22T17:49:33.498686Z",
     "iopub.status.busy": "2023-06-22T17:49:33.497924Z",
     "iopub.status.idle": "2023-06-22T17:49:33.512601Z",
     "shell.execute_reply": "2023-06-22T17:49:33.511683Z"
    },
    "papermill": {
     "duration": 0.027135,
     "end_time": "2023-06-22T17:49:33.514950",
     "exception": false,
     "start_time": "2023-06-22T17:49:33.487815",
     "status": "completed"
    },
    "tags": []
   },
   "outputs": [],
   "source": [
    "# The layer will inherit the properties of the experimental `PreprocessingLayer`.\n",
    "from tensorflow.keras.layers.experimental.preprocessing import PreprocessingLayer\n",
    "from tensorflow.keras.layers import Layer\n",
    "from tensorflow.math import reduce_mean, reduce_std\n",
    "from tensorflow.keras.backend import epsilon\n",
    "from typing import Union\n",
    "\n",
    "class Standardize(PreprocessingLayer):\n",
    "    '''\n",
    "    A `PreprocessingLayer` object that carries out the standardization of a given array accordingly to an \n",
    "    informed axis.\n",
    "    \n",
    "    The necessary stats are computed before training with the `adapt` method. This feature the  class' main \n",
    "    difference from the `BatchNormalization` layer, which computes means and standard deviations on the fly.\n",
    "    '''    \n",
    "    \n",
    "    def adapt(self, input_data:Union[Dataset, Tensor], axis=0)->None:\n",
    "        '''\n",
    "            Computes means and std's from a provided `tf.Tensor` or `tf.data.Dataset`.\n",
    "            \n",
    "            Paramater\n",
    "            ---------\n",
    "            `input_data`: The array from which the stats are computed.\n",
    "            `axis`: The axis of choice to compute the stats.\n",
    "        '''\n",
    "        self.means = reduce_mean(input_data, axis=axis, keepdims=True)\n",
    "        self.stds = reduce_std(input_data, axis=axis, keepdims=True)\n",
    "        return self\n",
    "        \n",
    "    def call(self, input_data:Union[Dataset, Tensor])->Union[Dataset, Tensor]:\n",
    "        '''\n",
    "        The method that standardizes the array.\n",
    "        \n",
    "        Parameter\n",
    "        --------\n",
    "        `input_data`: The array in which we perform the standardization.\n",
    "        \n",
    "        Returns\n",
    "        -------\n",
    "        The standardized array.\n",
    "        '''\n",
    "        return (input_data - self.means) / (self.stds + epsilon())\n",
    "    \n",
    "    def get_config(self):\n",
    "        '''\n",
    "            Returns the Layer's configurations. It is needed for saving a class' instance for future uses.\n",
    "        '''\n",
    "        base_config = super().get_config() # Rendering the `Preprocessing` layer `get_config` output.\n",
    "        return {**base_config, 'means':self.means.numpy(), 'stds':self.stds.numpy()}\n",
    "    "
   ]
  },
  {
   "cell_type": "markdown",
   "id": "f3adb493",
   "metadata": {
    "papermill": {
     "duration": 0.008734,
     "end_time": "2023-06-22T17:49:33.532548",
     "exception": false,
     "start_time": "2023-06-22T17:49:33.523814",
     "status": "completed"
    },
    "tags": []
   },
   "source": [
    "<h2 style='font-size:30px'> Neural Net Modeling</h2>\n",
    "<div> \n",
    "    <ul style='font-size:20px'> \n",
    "        <li> \n",
    "            With all the preprocessing stages programmed, we are able to model our Neural Network.\n",
    "        </li>\n",
    "        <li> \n",
    "            Firstly, we are going to design a simple Fully-Connected Neural Network and see how it performs.\n",
    "        </li>\n",
    "    </ul>\n",
    "</div>"
   ]
  },
  {
   "cell_type": "code",
   "execution_count": 10,
   "id": "d26e5bd8",
   "metadata": {
    "execution": {
     "iopub.execute_input": "2023-06-22T17:49:33.551902Z",
     "iopub.status.busy": "2023-06-22T17:49:33.551607Z",
     "iopub.status.idle": "2023-06-22T17:49:33.717879Z",
     "shell.execute_reply": "2023-06-22T17:49:33.716866Z"
    },
    "papermill": {
     "duration": 0.178605,
     "end_time": "2023-06-22T17:49:33.720319",
     "exception": false,
     "start_time": "2023-06-22T17:49:33.541714",
     "status": "completed"
    },
    "tags": []
   },
   "outputs": [],
   "source": [
    "# Reading all the .tfrecords created.\n",
    "train_set = read_files(train_files, shuffle_size=100)\n",
    "val_set = read_files(val_files)\n",
    "test_set = read_files(test_files)"
   ]
  },
  {
   "cell_type": "code",
   "execution_count": 11,
   "id": "48dee232",
   "metadata": {
    "execution": {
     "iopub.execute_input": "2023-06-22T17:49:33.740099Z",
     "iopub.status.busy": "2023-06-22T17:49:33.739459Z",
     "iopub.status.idle": "2023-06-22T17:49:33.928027Z",
     "shell.execute_reply": "2023-06-22T17:49:33.926813Z"
    },
    "papermill": {
     "duration": 0.201749,
     "end_time": "2023-06-22T17:49:33.931257",
     "exception": false,
     "start_time": "2023-06-22T17:49:33.729508",
     "status": "completed"
    },
    "tags": []
   },
   "outputs": [],
   "source": [
    "# But before actually fitting the NN, we need to adapt our `Standardize` layer with the training data.\n",
    "from tensorflow import concat, cast, float32\n",
    "train_pixels = list(train_set.map(lambda pixels, target: pixels).take(-1)) # Getting all the training images.\n",
    "train_pixels = cast(concat(train_pixels, axis=0), dtype=float32) # Concatenating the batches so that we end up\n",
    "                                                                # with a single 3-D matrix.\n",
    "\n",
    "# Now, instantiating the `Standardize` class and adapting it to the `train_pixels` data.\n",
    "standardize = Standardize(input_shape=train_pixels.shape[1:]).adapt(train_pixels, axis=0)"
   ]
  },
  {
   "cell_type": "code",
   "execution_count": 12,
   "id": "990a3770",
   "metadata": {
    "execution": {
     "iopub.execute_input": "2023-06-22T17:49:33.952126Z",
     "iopub.status.busy": "2023-06-22T17:49:33.951800Z",
     "iopub.status.idle": "2023-06-22T17:49:33.985954Z",
     "shell.execute_reply": "2023-06-22T17:49:33.984963Z"
    },
    "papermill": {
     "duration": 0.047271,
     "end_time": "2023-06-22T17:49:33.988308",
     "exception": false,
     "start_time": "2023-06-22T17:49:33.941037",
     "status": "completed"
    },
    "tags": []
   },
   "outputs": [],
   "source": [
    "# Finally, making our FCNN.\n",
    "from tensorflow.keras.models import Sequential\n",
    "from tensorflow.keras.layers import Dense, Dropout, Flatten, Input\n",
    "from tensorflow.keras.activations import elu, softmax\n",
    "from tensorflow.keras.initializers import GlorotNormal, HeNormal\n",
    "from tensorflow.keras.optimizers import SGD, Optimizer\n",
    "from tensorflow.keras.losses import SparseCategoricalCrossentropy, Loss\n",
    "from tensorflow.keras.metrics import Accuracy, Metric\n",
    "from typing import Callable\n",
    "\n",
    "# Here we define some of the model's settings.\n",
    "optimizer = SGD(momentum=.9, nesterov=True)\n",
    "loss = SparseCategoricalCrossentropy()\n",
    "metrics = [Accuracy()]\n",
    "\n",
    "def _check_length(neurons:Iterable, activations:Iterable)->bool:\n",
    "    '''\n",
    "        Checks whether both provided arrays have equal lengths.\n",
    "        \n",
    "        Parameters\n",
    "        ----------\n",
    "        `neurons`: First Array\n",
    "        `activations`: Second array\n",
    "        \n",
    "        Returns\n",
    "        -------\n",
    "        A boolean indicating the existance of such condition.\n",
    "    '''\n",
    "    if len(neurons) != len(activations):\n",
    "        raise  AttributeError('The `neurons` array must have the same length as `activations`')\n",
    "    return True\n",
    "\n",
    "def my_fcnn(neurons:Iterable[int], activations:Union[Iterable[Callable[[float], float]], Callable[[float], float]],dropout_ratio:float=None,  \n",
    "            input_shape:list=[28,28], **kwargs)->Sequential:\n",
    "    '''\n",
    "        Generates the Fully-Connected Neural Network for the project.\n",
    "        \n",
    "        Parameters\n",
    "        ----------\n",
    "        `neurons`: An iterable object that indicates the amount of neurons each hidden layer needs to own. Its length will suggest the amount of such layers the model will have.\n",
    "        \n",
    "        `activations`: The activation functions for each hidden layer. If the user wishes to use a single function to be applied in all layers, they\n",
    "                       can only inform just one callable object. Otherwise, it will be demanded an iterable object containing all the functions. \n",
    "                       Note that in such case, the structure needs to have the same length as `neurons`.\n",
    "        \n",
    "        `dropout_ratio`: The amount of dropout to be applied in every hidden layer. If 'None' - default value -, no dropout is used. \n",
    "        \n",
    "        `input_shape`: The original images' shape. Do not provide the batch size in the iterable.\n",
    "        \n",
    "        **kwargs: Any further keyword argument will be used in the `compile` method.\n",
    "        \n",
    "        Returns\n",
    "        -------\n",
    "        A Sequential object built accordingly to the user's preferences. If no **kwargs is provided, the model will have to be manually compiled.\n",
    "        \n",
    "    '''\n",
    "    # If the user informed a function for `activations`, a list of such callable of the same length as `hidden_layers`\n",
    "    # is created.\n",
    "    if isinstance(activations, Callable):\n",
    "        activations = [activations] * len(neurons)    \n",
    "    \n",
    "    # `check_length` is of use when 'activations' is given as an array by the user.\n",
    "    _check_length(neurons, activations)\n",
    "    \n",
    "    # Creating the model's basic structure.\n",
    "    model = Sequential([\n",
    "        Input(shape=input_shape),\n",
    "        standardize, \n",
    "        Flatten(), # The inputs are flattened after the standardization.\n",
    "    ])\n",
    "    \n",
    "    for units, activation in zip(neurons, activations):\n",
    "        model.add(Dense(units, activation=activation, kernel_initializer=HeNormal()))\n",
    "        # Adding Dropout if it is the user's wish.\n",
    "        if dropout_ratio:\n",
    "            model.add(Dropout(dropout_ratio))\n",
    "            \n",
    "    # In the end, applying the output layer.\n",
    "    model.add(Dense(units=10, activation=softmax , kernel_initializer=GlorotNormal()))\n",
    "    \n",
    "    # Compiling the model.\n",
    "    if kwargs:\n",
    "        model.compile(**kwargs)\n",
    "    return model"
   ]
  },
  {
   "cell_type": "code",
   "execution_count": 13,
   "id": "4152d146",
   "metadata": {
    "execution": {
     "iopub.execute_input": "2023-06-22T17:49:34.008350Z",
     "iopub.status.busy": "2023-06-22T17:49:34.007511Z",
     "iopub.status.idle": "2023-06-22T17:51:25.130316Z",
     "shell.execute_reply": "2023-06-22T17:51:25.129062Z"
    },
    "papermill": {
     "duration": 111.135575,
     "end_time": "2023-06-22T17:51:25.133032",
     "exception": false,
     "start_time": "2023-06-22T17:49:33.997457",
     "status": "completed"
    },
    "tags": []
   },
   "outputs": [
    {
     "name": "stdout",
     "output_type": "stream",
     "text": [
      "Epoch 1/100\n",
      "54/54 [==============================] - 15s 62ms/step - loss: 3.0839 - sparse_categorical_accuracy: 0.5071 - val_loss: 0.7238 - val_sparse_categorical_accuracy: 0.7763 - lr: 0.0025\n",
      "Epoch 2/100\n",
      "54/54 [==============================] - 1s 19ms/step - loss: 0.9301 - sparse_categorical_accuracy: 0.6904 - val_loss: 0.5396 - val_sparse_categorical_accuracy: 0.7993 - lr: 0.0025\n",
      "Epoch 3/100\n",
      "54/54 [==============================] - 1s 20ms/step - loss: 0.7122 - sparse_categorical_accuracy: 0.7524 - val_loss: 0.4922 - val_sparse_categorical_accuracy: 0.8197 - lr: 0.0025\n",
      "Epoch 4/100\n",
      "54/54 [==============================] - 1s 19ms/step - loss: 0.6238 - sparse_categorical_accuracy: 0.7832 - val_loss: 0.4540 - val_sparse_categorical_accuracy: 0.8360 - lr: 0.0025\n",
      "Epoch 5/100\n",
      "54/54 [==============================] - 1s 20ms/step - loss: 0.5783 - sparse_categorical_accuracy: 0.8018 - val_loss: 0.4324 - val_sparse_categorical_accuracy: 0.8450 - lr: 0.0025\n",
      "Epoch 6/100\n",
      "54/54 [==============================] - 1s 21ms/step - loss: 0.5470 - sparse_categorical_accuracy: 0.8132 - val_loss: 0.4226 - val_sparse_categorical_accuracy: 0.8478 - lr: 0.0025\n",
      "Epoch 7/100\n",
      "54/54 [==============================] - 1s 19ms/step - loss: 0.5274 - sparse_categorical_accuracy: 0.8197 - val_loss: 0.4139 - val_sparse_categorical_accuracy: 0.8502 - lr: 0.0025\n",
      "Epoch 8/100\n",
      "54/54 [==============================] - 1s 19ms/step - loss: 0.5076 - sparse_categorical_accuracy: 0.8265 - val_loss: 0.4004 - val_sparse_categorical_accuracy: 0.8533 - lr: 0.0025\n",
      "Epoch 9/100\n",
      "54/54 [==============================] - 1s 24ms/step - loss: 0.4889 - sparse_categorical_accuracy: 0.8327 - val_loss: 0.4002 - val_sparse_categorical_accuracy: 0.8562 - lr: 0.0025\n",
      "Epoch 10/100\n",
      "54/54 [==============================] - 1s 19ms/step - loss: 0.4854 - sparse_categorical_accuracy: 0.8337 - val_loss: 0.3946 - val_sparse_categorical_accuracy: 0.8577 - lr: 0.0025\n",
      "Epoch 11/100\n",
      "54/54 [==============================] - 1s 20ms/step - loss: 0.4733 - sparse_categorical_accuracy: 0.8367 - val_loss: 0.3848 - val_sparse_categorical_accuracy: 0.8593 - lr: 0.0025\n",
      "Epoch 12/100\n",
      "54/54 [==============================] - 1s 19ms/step - loss: 0.4565 - sparse_categorical_accuracy: 0.8429 - val_loss: 0.3757 - val_sparse_categorical_accuracy: 0.8633 - lr: 0.0025\n",
      "Epoch 13/100\n",
      "54/54 [==============================] - 1s 20ms/step - loss: 0.4576 - sparse_categorical_accuracy: 0.8452 - val_loss: 0.3809 - val_sparse_categorical_accuracy: 0.8603 - lr: 0.0025\n",
      "Epoch 14/100\n",
      "54/54 [==============================] - 1s 23ms/step - loss: 0.4438 - sparse_categorical_accuracy: 0.8465 - val_loss: 0.3692 - val_sparse_categorical_accuracy: 0.8632 - lr: 0.0025\n",
      "Epoch 15/100\n",
      "54/54 [==============================] - 1s 21ms/step - loss: 0.4368 - sparse_categorical_accuracy: 0.8496 - val_loss: 0.3772 - val_sparse_categorical_accuracy: 0.8640 - lr: 0.0025\n",
      "Epoch 16/100\n",
      "54/54 [==============================] - 1s 21ms/step - loss: 0.4341 - sparse_categorical_accuracy: 0.8525 - val_loss: 0.3666 - val_sparse_categorical_accuracy: 0.8697 - lr: 0.0025\n",
      "Epoch 17/100\n",
      "54/54 [==============================] - 1s 22ms/step - loss: 0.4293 - sparse_categorical_accuracy: 0.8515 - val_loss: 0.3592 - val_sparse_categorical_accuracy: 0.8703 - lr: 0.0025\n",
      "Epoch 18/100\n",
      "54/54 [==============================] - 1s 21ms/step - loss: 0.4253 - sparse_categorical_accuracy: 0.8534 - val_loss: 0.3609 - val_sparse_categorical_accuracy: 0.8658 - lr: 0.0025\n",
      "Epoch 19/100\n",
      "54/54 [==============================] - 1s 22ms/step - loss: 0.4164 - sparse_categorical_accuracy: 0.8561 - val_loss: 0.3598 - val_sparse_categorical_accuracy: 0.8758 - lr: 0.0025\n",
      "Epoch 20/100\n",
      "54/54 [==============================] - 1s 23ms/step - loss: 0.4068 - sparse_categorical_accuracy: 0.8599 - val_loss: 0.3547 - val_sparse_categorical_accuracy: 0.8727 - lr: 0.0025\n",
      "Epoch 21/100\n",
      "54/54 [==============================] - 1s 23ms/step - loss: 0.4030 - sparse_categorical_accuracy: 0.8601 - val_loss: 0.3498 - val_sparse_categorical_accuracy: 0.8765 - lr: 0.0025\n",
      "Epoch 22/100\n",
      "54/54 [==============================] - 2s 29ms/step - loss: 0.3975 - sparse_categorical_accuracy: 0.8631 - val_loss: 0.3483 - val_sparse_categorical_accuracy: 0.8788 - lr: 0.0025\n",
      "Epoch 23/100\n",
      "54/54 [==============================] - 1s 21ms/step - loss: 0.3949 - sparse_categorical_accuracy: 0.8640 - val_loss: 0.3424 - val_sparse_categorical_accuracy: 0.8835 - lr: 0.0025\n",
      "Epoch 24/100\n",
      "54/54 [==============================] - 1s 20ms/step - loss: 0.3898 - sparse_categorical_accuracy: 0.8665 - val_loss: 0.3411 - val_sparse_categorical_accuracy: 0.8795 - lr: 0.0025\n",
      "Epoch 25/100\n",
      "54/54 [==============================] - 1s 20ms/step - loss: 0.3903 - sparse_categorical_accuracy: 0.8639 - val_loss: 0.3495 - val_sparse_categorical_accuracy: 0.8788 - lr: 0.0025\n",
      "Epoch 26/100\n",
      "54/54 [==============================] - 1s 21ms/step - loss: 0.3871 - sparse_categorical_accuracy: 0.8656 - val_loss: 0.3348 - val_sparse_categorical_accuracy: 0.8757 - lr: 0.0025\n",
      "Epoch 27/100\n",
      "54/54 [==============================] - 1s 21ms/step - loss: 0.3767 - sparse_categorical_accuracy: 0.8694 - val_loss: 0.3389 - val_sparse_categorical_accuracy: 0.8808 - lr: 0.0025\n",
      "Epoch 28/100\n",
      "54/54 [==============================] - 1s 22ms/step - loss: 0.3755 - sparse_categorical_accuracy: 0.8688 - val_loss: 0.3368 - val_sparse_categorical_accuracy: 0.8820 - lr: 0.0025\n",
      "Epoch 29/100\n",
      "54/54 [==============================] - 1s 21ms/step - loss: 0.3777 - sparse_categorical_accuracy: 0.8691 - val_loss: 0.3372 - val_sparse_categorical_accuracy: 0.8802 - lr: 0.0025\n",
      "Epoch 30/100\n",
      "54/54 [==============================] - 1s 20ms/step - loss: 0.3678 - sparse_categorical_accuracy: 0.8723 - val_loss: 0.3359 - val_sparse_categorical_accuracy: 0.8813 - lr: 0.0025\n",
      "Epoch 31/100\n",
      "54/54 [==============================] - 1s 20ms/step - loss: 0.3700 - sparse_categorical_accuracy: 0.8708 - val_loss: 0.3347 - val_sparse_categorical_accuracy: 0.8838 - lr: 0.0025\n",
      "Epoch 32/100\n",
      "54/54 [==============================] - 1s 21ms/step - loss: 0.3651 - sparse_categorical_accuracy: 0.8726 - val_loss: 0.3298 - val_sparse_categorical_accuracy: 0.8792 - lr: 0.0025\n",
      "Epoch 33/100\n",
      "54/54 [==============================] - 1s 21ms/step - loss: 0.3672 - sparse_categorical_accuracy: 0.8723 - val_loss: 0.3359 - val_sparse_categorical_accuracy: 0.8827 - lr: 0.0025\n",
      "Epoch 34/100\n",
      "54/54 [==============================] - 1s 20ms/step - loss: 0.3546 - sparse_categorical_accuracy: 0.8790 - val_loss: 0.3251 - val_sparse_categorical_accuracy: 0.8853 - lr: 0.0020\n",
      "Epoch 35/100\n",
      "54/54 [==============================] - 1s 21ms/step - loss: 0.3435 - sparse_categorical_accuracy: 0.8787 - val_loss: 0.3233 - val_sparse_categorical_accuracy: 0.8843 - lr: 0.0020\n",
      "Epoch 36/100\n",
      "54/54 [==============================] - 1s 22ms/step - loss: 0.3399 - sparse_categorical_accuracy: 0.8813 - val_loss: 0.3310 - val_sparse_categorical_accuracy: 0.8800 - lr: 0.0020\n",
      "Epoch 37/100\n",
      "54/54 [==============================] - 1s 20ms/step - loss: 0.3410 - sparse_categorical_accuracy: 0.8808 - val_loss: 0.3212 - val_sparse_categorical_accuracy: 0.8837 - lr: 0.0020\n",
      "Epoch 38/100\n",
      "54/54 [==============================] - 1s 20ms/step - loss: 0.3362 - sparse_categorical_accuracy: 0.8798 - val_loss: 0.3162 - val_sparse_categorical_accuracy: 0.8848 - lr: 0.0020\n",
      "Epoch 39/100\n",
      "54/54 [==============================] - 1s 20ms/step - loss: 0.3357 - sparse_categorical_accuracy: 0.8824 - val_loss: 0.3241 - val_sparse_categorical_accuracy: 0.8872 - lr: 0.0020\n",
      "Epoch 40/100\n",
      "54/54 [==============================] - 1s 20ms/step - loss: 0.3333 - sparse_categorical_accuracy: 0.8837 - val_loss: 0.3221 - val_sparse_categorical_accuracy: 0.8863 - lr: 0.0020\n",
      "Epoch 41/100\n",
      "54/54 [==============================] - 1s 21ms/step - loss: 0.3343 - sparse_categorical_accuracy: 0.8840 - val_loss: 0.3203 - val_sparse_categorical_accuracy: 0.8888 - lr: 0.0020\n",
      "Epoch 42/100\n",
      "54/54 [==============================] - 1s 20ms/step - loss: 0.3329 - sparse_categorical_accuracy: 0.8826 - val_loss: 0.3259 - val_sparse_categorical_accuracy: 0.8885 - lr: 0.0020\n",
      "Epoch 43/100\n",
      "54/54 [==============================] - 1s 21ms/step - loss: 0.3286 - sparse_categorical_accuracy: 0.8839 - val_loss: 0.3365 - val_sparse_categorical_accuracy: 0.8863 - lr: 0.0020\n",
      "Epoch 44/100\n",
      "54/54 [==============================] - 1s 21ms/step - loss: 0.3190 - sparse_categorical_accuracy: 0.8873 - val_loss: 0.3236 - val_sparse_categorical_accuracy: 0.8837 - lr: 0.0016\n",
      "Epoch 45/100\n",
      "54/54 [==============================] - 2s 29ms/step - loss: 0.3137 - sparse_categorical_accuracy: 0.8894 - val_loss: 0.3220 - val_sparse_categorical_accuracy: 0.8895 - lr: 0.0016\n",
      "Epoch 46/100\n",
      "54/54 [==============================] - 1s 21ms/step - loss: 0.3118 - sparse_categorical_accuracy: 0.8896 - val_loss: 0.3196 - val_sparse_categorical_accuracy: 0.8897 - lr: 0.0016\n",
      "Epoch 47/100\n",
      "54/54 [==============================] - 1s 20ms/step - loss: 0.3077 - sparse_categorical_accuracy: 0.8902 - val_loss: 0.3204 - val_sparse_categorical_accuracy: 0.8872 - lr: 0.0016\n",
      "Epoch 48/100\n",
      "54/54 [==============================] - 1s 20ms/step - loss: 0.3082 - sparse_categorical_accuracy: 0.8908 - val_loss: 0.3146 - val_sparse_categorical_accuracy: 0.8940 - lr: 0.0016\n",
      "Epoch 49/100\n",
      "54/54 [==============================] - 1s 20ms/step - loss: 0.3124 - sparse_categorical_accuracy: 0.8895 - val_loss: 0.3201 - val_sparse_categorical_accuracy: 0.8925 - lr: 0.0016\n",
      "Epoch 50/100\n",
      "54/54 [==============================] - 1s 22ms/step - loss: 0.3071 - sparse_categorical_accuracy: 0.8910 - val_loss: 0.3156 - val_sparse_categorical_accuracy: 0.8935 - lr: 0.0016\n",
      "Epoch 51/100\n",
      "54/54 [==============================] - 1s 20ms/step - loss: 0.3022 - sparse_categorical_accuracy: 0.8922 - val_loss: 0.3205 - val_sparse_categorical_accuracy: 0.8877 - lr: 0.0016\n",
      "Epoch 52/100\n",
      "54/54 [==============================] - 1s 21ms/step - loss: 0.3058 - sparse_categorical_accuracy: 0.8906 - val_loss: 0.3116 - val_sparse_categorical_accuracy: 0.8877 - lr: 0.0016\n",
      "Epoch 53/100\n",
      "54/54 [==============================] - 1s 20ms/step - loss: 0.3032 - sparse_categorical_accuracy: 0.8923 - val_loss: 0.3126 - val_sparse_categorical_accuracy: 0.8930 - lr: 0.0016\n",
      "Epoch 54/100\n",
      "54/54 [==============================] - 1s 20ms/step - loss: 0.3004 - sparse_categorical_accuracy: 0.8932 - val_loss: 0.3211 - val_sparse_categorical_accuracy: 0.8902 - lr: 0.0016\n",
      "Epoch 55/100\n",
      "54/54 [==============================] - 1s 20ms/step - loss: 0.2997 - sparse_categorical_accuracy: 0.8949 - val_loss: 0.3148 - val_sparse_categorical_accuracy: 0.8903 - lr: 0.0016\n",
      "Epoch 56/100\n",
      "54/54 [==============================] - 1s 20ms/step - loss: 0.2995 - sparse_categorical_accuracy: 0.8942 - val_loss: 0.3134 - val_sparse_categorical_accuracy: 0.8922 - lr: 0.0016\n",
      "Epoch 57/100\n",
      "54/54 [==============================] - 1s 20ms/step - loss: 0.3004 - sparse_categorical_accuracy: 0.8931 - val_loss: 0.3055 - val_sparse_categorical_accuracy: 0.8943 - lr: 0.0016\n",
      "Epoch 58/100\n",
      "54/54 [==============================] - 1s 23ms/step - loss: 0.2951 - sparse_categorical_accuracy: 0.8950 - val_loss: 0.3075 - val_sparse_categorical_accuracy: 0.8947 - lr: 0.0016\n",
      "Epoch 59/100\n",
      "54/54 [==============================] - 1s 20ms/step - loss: 0.2906 - sparse_categorical_accuracy: 0.8958 - val_loss: 0.3079 - val_sparse_categorical_accuracy: 0.8948 - lr: 0.0013\n",
      "Epoch 60/100\n",
      "54/54 [==============================] - 1s 20ms/step - loss: 0.2849 - sparse_categorical_accuracy: 0.8980 - val_loss: 0.3069 - val_sparse_categorical_accuracy: 0.8925 - lr: 0.0013\n",
      "Epoch 61/100\n",
      "54/54 [==============================] - 1s 20ms/step - loss: 0.2870 - sparse_categorical_accuracy: 0.8981 - val_loss: 0.3050 - val_sparse_categorical_accuracy: 0.8957 - lr: 0.0013\n",
      "Epoch 62/100\n",
      "54/54 [==============================] - 1s 20ms/step - loss: 0.2826 - sparse_categorical_accuracy: 0.8996 - val_loss: 0.3158 - val_sparse_categorical_accuracy: 0.8918 - lr: 0.0013\n",
      "Epoch 63/100\n",
      "54/54 [==============================] - 1s 20ms/step - loss: 0.2795 - sparse_categorical_accuracy: 0.8993 - val_loss: 0.3130 - val_sparse_categorical_accuracy: 0.8925 - lr: 0.0013\n",
      "Epoch 64/100\n",
      "54/54 [==============================] - 1s 20ms/step - loss: 0.2759 - sparse_categorical_accuracy: 0.9026 - val_loss: 0.3035 - val_sparse_categorical_accuracy: 0.8965 - lr: 0.0013\n",
      "Epoch 65/100\n",
      "54/54 [==============================] - 1s 20ms/step - loss: 0.2770 - sparse_categorical_accuracy: 0.9021 - val_loss: 0.3006 - val_sparse_categorical_accuracy: 0.8952 - lr: 0.0013\n",
      "Epoch 66/100\n",
      "54/54 [==============================] - 1s 22ms/step - loss: 0.2797 - sparse_categorical_accuracy: 0.9007 - val_loss: 0.3073 - val_sparse_categorical_accuracy: 0.8952 - lr: 0.0013\n",
      "Epoch 67/100\n",
      "54/54 [==============================] - 1s 21ms/step - loss: 0.2736 - sparse_categorical_accuracy: 0.9026 - val_loss: 0.3095 - val_sparse_categorical_accuracy: 0.8948 - lr: 0.0013\n",
      "Epoch 68/100\n",
      "54/54 [==============================] - 1s 21ms/step - loss: 0.2755 - sparse_categorical_accuracy: 0.9025 - val_loss: 0.3049 - val_sparse_categorical_accuracy: 0.8952 - lr: 0.0013\n",
      "Epoch 69/100\n",
      "54/54 [==============================] - 1s 21ms/step - loss: 0.2679 - sparse_categorical_accuracy: 0.9057 - val_loss: 0.3043 - val_sparse_categorical_accuracy: 0.8970 - lr: 0.0010\n",
      "Epoch 70/100\n",
      "54/54 [==============================] - 2s 31ms/step - loss: 0.2684 - sparse_categorical_accuracy: 0.9046 - val_loss: 0.3041 - val_sparse_categorical_accuracy: 0.8953 - lr: 0.0010\n",
      "Epoch 71/100\n",
      "54/54 [==============================] - 1s 21ms/step - loss: 0.2648 - sparse_categorical_accuracy: 0.9066 - val_loss: 0.3035 - val_sparse_categorical_accuracy: 0.8948 - lr: 0.0010\n",
      "Epoch 72/100\n",
      "54/54 [==============================] - 1s 21ms/step - loss: 0.2624 - sparse_categorical_accuracy: 0.9057 - val_loss: 0.3041 - val_sparse_categorical_accuracy: 0.8952 - lr: 0.0010\n",
      "Epoch 73/100\n",
      "54/54 [==============================] - 1s 23ms/step - loss: 0.2630 - sparse_categorical_accuracy: 0.9066 - val_loss: 0.3078 - val_sparse_categorical_accuracy: 0.8952 - lr: 0.0010\n"
     ]
    }
   ],
   "source": [
    "# Compiling and fitting the model.\n",
    "from numpy.random import randint, seed\n",
    "from tensorflow.keras.optimizers import Adam \n",
    "from tensorflow.keras.losses import SparseCategoricalCrossentropy\n",
    "from tensorflow.keras.metrics import SparseCategoricalAccuracy\n",
    "from tensorflow.keras.callbacks import EarlyStopping, ReduceLROnPlateau\n",
    "from tensorflow.config import list_logical_devices\n",
    "import tensorflow.distribute as tf_dist\n",
    "\n",
    "seed(42) \n",
    "\n",
    "# Running the fitting in our available GPU's.\n",
    "gpus = list_logical_devices('GPU')\n",
    "strategy = tf_dist.MirroredStrategy(gpus)\n",
    "\n",
    "# Informing TensorFlow to run the training in the GPU's.\n",
    "with strategy.scope():\n",
    "    # Setting the compilation configs.\n",
    "    optimizer = Adam(learning_rate=0.0025)\n",
    "    loss = SparseCategoricalCrossentropy()\n",
    "    metrics = [SparseCategoricalAccuracy()]\n",
    "    callbacks = [EarlyStopping(monitor='val_sparse_categorical_accuracy', min_delta=.01, patience=25, restore_best_weights=True),\n",
    "                    ReduceLROnPlateau(monitor='val_sparse_categorical_accuracy', factor=.8, min_delta=.01, patience=10)]\n",
    "    neurons = randint(200, 400, 5)\n",
    "    \n",
    "    # Creating the model and fitting it.\n",
    "    fcnn = my_fcnn(neurons, elu, .5, optimizer=optimizer, loss=loss, metrics=metrics)\n",
    "    fcnn.fit(x=train_set, epochs=100, callbacks=callbacks, validation_data=val_set)"
   ]
  },
  {
   "cell_type": "markdown",
   "id": "8a5dbb82",
   "metadata": {
    "papermill": {
     "duration": 0.099145,
     "end_time": "2023-06-22T17:51:25.337454",
     "exception": false,
     "start_time": "2023-06-22T17:51:25.238309",
     "status": "completed"
    },
    "tags": []
   },
   "source": [
    "<h3 style='font-size:30px;font-style:italic'> Extra Challenge: LeNet-5 </h3>\n",
    "<div> \n",
    "    <ul style='font-size:20px'> \n",
    "        <li> \n",
    "            Fully-Connected Neural Networks are utterly unsuitable to tasks such as Computer Vision. In modern DL systems, Convolutional Neural Networks show up as a resource both trustable and computationally lighter for this duty.\n",
    "        </li>\n",
    "        <li> \n",
    "            Hence, we'll design here a LeNet-5 model because of its success in digit recognition. \n",
    "        </li>\n",
    "    </ul>\n",
    "</div>"
   ]
  },
  {
   "cell_type": "code",
   "execution_count": 14,
   "id": "0bb43d02",
   "metadata": {
    "execution": {
     "iopub.execute_input": "2023-06-22T17:51:25.541633Z",
     "iopub.status.busy": "2023-06-22T17:51:25.541223Z",
     "iopub.status.idle": "2023-06-22T17:51:25.548822Z",
     "shell.execute_reply": "2023-06-22T17:51:25.547636Z"
    },
    "papermill": {
     "duration": 0.110813,
     "end_time": "2023-06-22T17:51:25.550974",
     "exception": false,
     "start_time": "2023-06-22T17:51:25.440161",
     "status": "completed"
    },
    "tags": []
   },
   "outputs": [],
   "source": [
    "# We'll be designing here a LetNet-5 NN. Thus, we'll need some extra components.\n",
    "\n",
    "# The images that feed the Input Layer of such model have 32x32 shape. Since the MNIST digits are 28x28 it is\n",
    "# necessary to add zero-padding to each matrix.\n",
    "from tensorflow.keras.layers import Reshape, ZeroPadding2D\n",
    "\n",
    "# `ZeroPadding2d` demands the inputs to own a dimension for the amount of channels. That's why we are invoking the\n",
    "# `Reshape` layer as well.\n",
    "target_shape = train_pixels.shape[1:]+[1]\n",
    "reshape = Reshape(target_shape=target_shape)\n",
    "\n",
    "# Instantiating the `ZeroPadding2D` layer.\n",
    "zero_padding_2d = ZeroPadding2D(padding=2)"
   ]
  },
  {
   "cell_type": "code",
   "execution_count": 15,
   "id": "b6977dda",
   "metadata": {
    "execution": {
     "iopub.execute_input": "2023-06-22T17:51:25.750679Z",
     "iopub.status.busy": "2023-06-22T17:51:25.750271Z",
     "iopub.status.idle": "2023-06-22T17:52:51.098586Z",
     "shell.execute_reply": "2023-06-22T17:52:51.097391Z"
    },
    "papermill": {
     "duration": 85.451115,
     "end_time": "2023-06-22T17:52:51.101046",
     "exception": false,
     "start_time": "2023-06-22T17:51:25.649931",
     "status": "completed"
    },
    "tags": []
   },
   "outputs": [
    {
     "name": "stdout",
     "output_type": "stream",
     "text": [
      "Epoch 1/100\n",
      "54/54 [==============================] - 15s 59ms/step - loss: 0.8529 - sparse_categorical_accuracy: 0.7101 - val_loss: 0.5664 - val_sparse_categorical_accuracy: 0.7935 - lr: 0.0012\n",
      "Epoch 2/100\n",
      "54/54 [==============================] - 1s 24ms/step - loss: 0.5119 - sparse_categorical_accuracy: 0.8184 - val_loss: 0.4649 - val_sparse_categorical_accuracy: 0.8357 - lr: 0.0012\n",
      "Epoch 3/100\n",
      "54/54 [==============================] - 1s 24ms/step - loss: 0.4385 - sparse_categorical_accuracy: 0.8452 - val_loss: 0.4212 - val_sparse_categorical_accuracy: 0.8495 - lr: 0.0012\n",
      "Epoch 4/100\n",
      "54/54 [==============================] - 1s 27ms/step - loss: 0.3967 - sparse_categorical_accuracy: 0.8608 - val_loss: 0.3882 - val_sparse_categorical_accuracy: 0.8592 - lr: 0.0012\n",
      "Epoch 5/100\n",
      "54/54 [==============================] - 1s 24ms/step - loss: 0.3711 - sparse_categorical_accuracy: 0.8684 - val_loss: 0.3720 - val_sparse_categorical_accuracy: 0.8638 - lr: 0.0012\n",
      "Epoch 6/100\n",
      "54/54 [==============================] - 1s 24ms/step - loss: 0.3521 - sparse_categorical_accuracy: 0.8754 - val_loss: 0.3539 - val_sparse_categorical_accuracy: 0.8743 - lr: 0.0012\n",
      "Epoch 7/100\n",
      "54/54 [==============================] - 1s 24ms/step - loss: 0.3348 - sparse_categorical_accuracy: 0.8803 - val_loss: 0.3408 - val_sparse_categorical_accuracy: 0.8777 - lr: 0.0012\n",
      "Epoch 8/100\n",
      "54/54 [==============================] - 1s 26ms/step - loss: 0.3210 - sparse_categorical_accuracy: 0.8855 - val_loss: 0.3353 - val_sparse_categorical_accuracy: 0.8785 - lr: 0.0012\n",
      "Epoch 9/100\n",
      "54/54 [==============================] - 1s 26ms/step - loss: 0.3076 - sparse_categorical_accuracy: 0.8894 - val_loss: 0.3264 - val_sparse_categorical_accuracy: 0.8818 - lr: 0.0012\n",
      "Epoch 10/100\n",
      "54/54 [==============================] - 1s 26ms/step - loss: 0.2977 - sparse_categorical_accuracy: 0.8925 - val_loss: 0.3202 - val_sparse_categorical_accuracy: 0.8853 - lr: 0.0012\n",
      "Epoch 11/100\n",
      "54/54 [==============================] - 1s 24ms/step - loss: 0.2872 - sparse_categorical_accuracy: 0.8960 - val_loss: 0.3170 - val_sparse_categorical_accuracy: 0.8820 - lr: 0.0012\n",
      "Epoch 12/100\n",
      "54/54 [==============================] - 1s 24ms/step - loss: 0.2770 - sparse_categorical_accuracy: 0.8996 - val_loss: 0.3110 - val_sparse_categorical_accuracy: 0.8868 - lr: 0.0012\n",
      "Epoch 13/100\n",
      "54/54 [==============================] - 1s 25ms/step - loss: 0.2696 - sparse_categorical_accuracy: 0.9023 - val_loss: 0.3083 - val_sparse_categorical_accuracy: 0.8867 - lr: 0.0012\n",
      "Epoch 14/100\n",
      "54/54 [==============================] - 1s 26ms/step - loss: 0.2627 - sparse_categorical_accuracy: 0.9047 - val_loss: 0.3032 - val_sparse_categorical_accuracy: 0.8917 - lr: 0.0012\n",
      "Epoch 15/100\n",
      "54/54 [==============================] - 1s 24ms/step - loss: 0.2559 - sparse_categorical_accuracy: 0.9070 - val_loss: 0.3027 - val_sparse_categorical_accuracy: 0.8898 - lr: 0.0012\n",
      "Epoch 16/100\n",
      "54/54 [==============================] - 1s 24ms/step - loss: 0.2483 - sparse_categorical_accuracy: 0.9099 - val_loss: 0.2987 - val_sparse_categorical_accuracy: 0.8873 - lr: 0.0012\n",
      "Epoch 17/100\n",
      "54/54 [==============================] - 1s 26ms/step - loss: 0.2431 - sparse_categorical_accuracy: 0.9118 - val_loss: 0.2957 - val_sparse_categorical_accuracy: 0.8938 - lr: 0.0012\n",
      "Epoch 18/100\n",
      "54/54 [==============================] - 1s 24ms/step - loss: 0.2361 - sparse_categorical_accuracy: 0.9137 - val_loss: 0.2948 - val_sparse_categorical_accuracy: 0.8932 - lr: 0.0012\n",
      "Epoch 19/100\n",
      "54/54 [==============================] - 1s 23ms/step - loss: 0.2310 - sparse_categorical_accuracy: 0.9156 - val_loss: 0.2996 - val_sparse_categorical_accuracy: 0.8935 - lr: 0.0012\n",
      "Epoch 20/100\n",
      "54/54 [==============================] - 1s 23ms/step - loss: 0.2248 - sparse_categorical_accuracy: 0.9185 - val_loss: 0.2901 - val_sparse_categorical_accuracy: 0.8973 - lr: 0.0012\n",
      "Epoch 21/100\n",
      "54/54 [==============================] - 1s 23ms/step - loss: 0.2195 - sparse_categorical_accuracy: 0.9201 - val_loss: 0.2920 - val_sparse_categorical_accuracy: 0.8907 - lr: 0.0012\n",
      "Epoch 22/100\n",
      "54/54 [==============================] - 1s 23ms/step - loss: 0.2139 - sparse_categorical_accuracy: 0.9229 - val_loss: 0.2899 - val_sparse_categorical_accuracy: 0.8990 - lr: 0.0012\n",
      "Epoch 23/100\n",
      "54/54 [==============================] - 1s 23ms/step - loss: 0.2076 - sparse_categorical_accuracy: 0.9243 - val_loss: 0.2962 - val_sparse_categorical_accuracy: 0.8960 - lr: 0.0012\n",
      "Epoch 24/100\n",
      "54/54 [==============================] - 1s 24ms/step - loss: 0.2044 - sparse_categorical_accuracy: 0.9259 - val_loss: 0.2948 - val_sparse_categorical_accuracy: 0.8977 - lr: 0.0012\n",
      "Epoch 25/100\n",
      "54/54 [==============================] - 1s 25ms/step - loss: 0.1979 - sparse_categorical_accuracy: 0.9282 - val_loss: 0.2857 - val_sparse_categorical_accuracy: 0.9015 - lr: 0.0012\n",
      "Epoch 26/100\n",
      "54/54 [==============================] - 1s 25ms/step - loss: 0.1930 - sparse_categorical_accuracy: 0.9297 - val_loss: 0.2888 - val_sparse_categorical_accuracy: 0.8978 - lr: 0.0012\n",
      "Epoch 27/100\n",
      "54/54 [==============================] - 1s 26ms/step - loss: 0.1893 - sparse_categorical_accuracy: 0.9319 - val_loss: 0.2919 - val_sparse_categorical_accuracy: 0.8978 - lr: 0.0012\n",
      "Epoch 28/100\n",
      "54/54 [==============================] - 1s 24ms/step - loss: 0.1841 - sparse_categorical_accuracy: 0.9329 - val_loss: 0.2837 - val_sparse_categorical_accuracy: 0.9008 - lr: 0.0012\n",
      "Epoch 29/100\n",
      "54/54 [==============================] - 2s 33ms/step - loss: 0.1783 - sparse_categorical_accuracy: 0.9366 - val_loss: 0.2881 - val_sparse_categorical_accuracy: 0.8993 - lr: 0.0012\n",
      "Epoch 30/100\n",
      "54/54 [==============================] - 1s 27ms/step - loss: 0.1746 - sparse_categorical_accuracy: 0.9374 - val_loss: 0.2845 - val_sparse_categorical_accuracy: 0.9005 - lr: 0.0012\n",
      "Epoch 31/100\n",
      "54/54 [==============================] - 1s 25ms/step - loss: 0.1605 - sparse_categorical_accuracy: 0.9435 - val_loss: 0.2844 - val_sparse_categorical_accuracy: 0.9018 - lr: 6.2500e-04\n",
      "Epoch 32/100\n",
      "54/54 [==============================] - 1s 23ms/step - loss: 0.1580 - sparse_categorical_accuracy: 0.9445 - val_loss: 0.2860 - val_sparse_categorical_accuracy: 0.9013 - lr: 6.2500e-04\n",
      "Epoch 33/100\n",
      "54/54 [==============================] - 1s 25ms/step - loss: 0.1563 - sparse_categorical_accuracy: 0.9456 - val_loss: 0.2897 - val_sparse_categorical_accuracy: 0.9012 - lr: 6.2500e-04\n",
      "Epoch 34/100\n",
      "54/54 [==============================] - 1s 24ms/step - loss: 0.1539 - sparse_categorical_accuracy: 0.9459 - val_loss: 0.2863 - val_sparse_categorical_accuracy: 0.9018 - lr: 6.2500e-04\n",
      "Epoch 35/100\n",
      "54/54 [==============================] - 1s 24ms/step - loss: 0.1512 - sparse_categorical_accuracy: 0.9467 - val_loss: 0.2883 - val_sparse_categorical_accuracy: 0.8987 - lr: 6.2500e-04\n",
      "Epoch 36/100\n",
      "54/54 [==============================] - 1s 25ms/step - loss: 0.1480 - sparse_categorical_accuracy: 0.9486 - val_loss: 0.2864 - val_sparse_categorical_accuracy: 0.9030 - lr: 6.2500e-04\n",
      "Epoch 37/100\n",
      "54/54 [==============================] - 1s 25ms/step - loss: 0.1465 - sparse_categorical_accuracy: 0.9496 - val_loss: 0.2870 - val_sparse_categorical_accuracy: 0.9023 - lr: 6.2500e-04\n",
      "Epoch 38/100\n",
      "54/54 [==============================] - 2s 32ms/step - loss: 0.1429 - sparse_categorical_accuracy: 0.9499 - val_loss: 0.2917 - val_sparse_categorical_accuracy: 0.9007 - lr: 6.2500e-04\n",
      "Epoch 39/100\n",
      "54/54 [==============================] - 1s 25ms/step - loss: 0.1414 - sparse_categorical_accuracy: 0.9509 - val_loss: 0.2900 - val_sparse_categorical_accuracy: 0.9018 - lr: 6.2500e-04\n",
      "Epoch 40/100\n",
      "54/54 [==============================] - 1s 26ms/step - loss: 0.1390 - sparse_categorical_accuracy: 0.9517 - val_loss: 0.2962 - val_sparse_categorical_accuracy: 0.9013 - lr: 6.2500e-04\n",
      "Epoch 41/100\n",
      "54/54 [==============================] - 1s 27ms/step - loss: 0.1365 - sparse_categorical_accuracy: 0.9527 - val_loss: 0.2953 - val_sparse_categorical_accuracy: 0.9012 - lr: 6.2500e-04\n",
      "Epoch 42/100\n",
      "54/54 [==============================] - 1s 25ms/step - loss: 0.1355 - sparse_categorical_accuracy: 0.9527 - val_loss: 0.2971 - val_sparse_categorical_accuracy: 0.9018 - lr: 6.2500e-04\n",
      "Epoch 43/100\n",
      "54/54 [==============================] - 1s 25ms/step - loss: 0.1332 - sparse_categorical_accuracy: 0.9536 - val_loss: 0.2965 - val_sparse_categorical_accuracy: 0.9015 - lr: 6.2500e-04\n",
      "Epoch 44/100\n",
      "54/54 [==============================] - 1s 25ms/step - loss: 0.1301 - sparse_categorical_accuracy: 0.9551 - val_loss: 0.3006 - val_sparse_categorical_accuracy: 0.8978 - lr: 6.2500e-04\n",
      "Epoch 45/100\n",
      "54/54 [==============================] - 1s 28ms/step - loss: 0.1286 - sparse_categorical_accuracy: 0.9562 - val_loss: 0.3027 - val_sparse_categorical_accuracy: 0.9020 - lr: 6.2500e-04\n"
     ]
    }
   ],
   "source": [
    "from tensorflow.keras.layers import Conv2D, AveragePooling2D\n",
    "# Informing TensorFlow to run the training in the GPU's.\n",
    "with strategy.scope():\n",
    "    \n",
    "    # Building our LeNet-5\n",
    "    lenet5 = Sequential([\n",
    "        # Initial layers.\n",
    "        Input(shape=[28,28]),\n",
    "        standardize, # Note that the inputs need to be standardized as well in this architecture.\n",
    "        reshape,\n",
    "        zero_padding_2d,\n",
    "\n",
    "        # Performing the Convolutions and Pooling in accordance to LeNet-5's architecture.\n",
    "        Conv2D(filters=6, kernel_size=5, strides=1, activation='tanh'),\n",
    "        AveragePooling2D(),\n",
    "        Conv2D(filters=16, kernel_size=5, strides=1, activation='tanh'),\n",
    "        AveragePooling2D(),\n",
    "        Conv2D(filters=120, kernel_size=5, strides=1, activation='tanh'),\n",
    "\n",
    "        # A Dense layer followed by the output layer.\n",
    "        Flatten(),\n",
    "        Dense(units=84, activation='tanh', kernel_initializer=GlorotNormal()),\n",
    "        Dense(units=10, activation='softmax')\n",
    "\n",
    "    ])\n",
    "\n",
    "    # Setting the compilation configs.\n",
    "    optimizer = Adam(learning_rate=0.00125)\n",
    "    loss = SparseCategoricalCrossentropy()\n",
    "    metrics = [SparseCategoricalAccuracy()]\n",
    "    callbacks = [EarlyStopping(monitor='val_sparse_categorical_accuracy', min_delta=.01, patience=25, restore_best_weights=True),\n",
    "                    ReduceLROnPlateau(monitor='val_sparse_categorical_accuracy', factor=.5, min_delta=.005, patience=10)]\n",
    "    \n",
    "    # Creating the model and fitting it.\n",
    "    lenet5.compile(optimizer=optimizer, loss=loss, metrics=metrics)\n",
    "    lenet5.fit(x=train_set, epochs=100, callbacks=callbacks, validation_data=val_set)"
   ]
  },
  {
   "cell_type": "markdown",
   "id": "a49274e1",
   "metadata": {
    "papermill": {
     "duration": 0.170837,
     "end_time": "2023-06-22T17:52:51.444475",
     "exception": false,
     "start_time": "2023-06-22T17:52:51.273638",
     "status": "completed"
    },
    "tags": []
   },
   "source": [
    "<h2 style='font-size:30px'> Models Testing and Comparison</h2>\n",
    "<div> \n",
    "    <ul style='font-size:20px'> \n",
    "        <li> \n",
    "            By seeing the fitting logs, we cannot observe a big difference between the NN's accuracies. \n",
    "        </li>\n",
    "        <li> \n",
    "            Let's find out whether the test performances presents any statistical difference.\n",
    "        </li>\n",
    "    </ul>\n",
    "</div>"
   ]
  },
  {
   "cell_type": "code",
   "execution_count": 16,
   "id": "d018337e",
   "metadata": {
    "execution": {
     "iopub.execute_input": "2023-06-22T17:52:51.847835Z",
     "iopub.status.busy": "2023-06-22T17:52:51.846493Z",
     "iopub.status.idle": "2023-06-22T17:52:57.211018Z",
     "shell.execute_reply": "2023-06-22T17:52:57.209629Z"
    },
    "papermill": {
     "duration": 5.602335,
     "end_time": "2023-06-22T17:52:57.214206",
     "exception": false,
     "start_time": "2023-06-22T17:52:51.611871",
     "status": "completed"
    },
    "tags": []
   },
   "outputs": [
    {
     "name": "stdout",
     "output_type": "stream",
     "text": [
      "313/313 [==============================] - 4s 12ms/step - loss: 0.3022 - sparse_categorical_accuracy: 0.8941\n"
     ]
    },
    {
     "data": {
      "text/plain": [
       "[0.3022363781929016, 0.89410001039505]"
      ]
     },
     "execution_count": 16,
     "metadata": {},
     "output_type": "execute_result"
    }
   ],
   "source": [
    "from numpy import argmax\n",
    "#argmax(lenet5.predict(X_test), axis=1)\n",
    "lenet5.evaluate(X_test, y_test)"
   ]
  },
  {
   "cell_type": "code",
   "execution_count": 17,
   "id": "04a1a9fe",
   "metadata": {
    "execution": {
     "iopub.execute_input": "2023-06-22T17:52:57.567103Z",
     "iopub.status.busy": "2023-06-22T17:52:57.565989Z",
     "iopub.status.idle": "2023-06-22T17:52:57.603912Z",
     "shell.execute_reply": "2023-06-22T17:52:57.602835Z"
    },
    "papermill": {
     "duration": 0.237977,
     "end_time": "2023-06-22T17:52:57.625843",
     "exception": false,
     "start_time": "2023-06-22T17:52:57.387866",
     "status": "completed"
    },
    "tags": []
   },
   "outputs": [
    {
     "name": "stdout",
     "output_type": "stream",
     "text": [
      "Model: \"sequential_1\"\n",
      "_________________________________________________________________\n",
      " Layer (type)                Output Shape              Param #   \n",
      "=================================================================\n",
      " standardize (Standardize)   (None, 28, 28)            0         \n",
      "                                                                 \n",
      " reshape (Reshape)           (None, 28, 28, 1)         0         \n",
      "                                                                 \n",
      " zero_padding2d (ZeroPadding  (None, 32, 32, 1)        0         \n",
      " 2D)                                                             \n",
      "                                                                 \n",
      " conv2d (Conv2D)             (None, 28, 28, 6)         156       \n",
      "                                                                 \n",
      " average_pooling2d (AverageP  (None, 14, 14, 6)        0         \n",
      " ooling2D)                                                       \n",
      "                                                                 \n",
      " conv2d_1 (Conv2D)           (None, 10, 10, 16)        2416      \n",
      "                                                                 \n",
      " average_pooling2d_1 (Averag  (None, 5, 5, 16)         0         \n",
      " ePooling2D)                                                     \n",
      "                                                                 \n",
      " conv2d_2 (Conv2D)           (None, 1, 1, 120)         48120     \n",
      "                                                                 \n",
      " flatten_1 (Flatten)         (None, 120)               0         \n",
      "                                                                 \n",
      " dense_6 (Dense)             (None, 84)                10164     \n",
      "                                                                 \n",
      " dense_7 (Dense)             (None, 10)                850       \n",
      "                                                                 \n",
      "=================================================================\n",
      "Total params: 61,706\n",
      "Trainable params: 61,706\n",
      "Non-trainable params: 0\n",
      "_________________________________________________________________\n"
     ]
    }
   ],
   "source": [
    "lenet5.summary()"
   ]
  },
  {
   "cell_type": "code",
   "execution_count": 18,
   "id": "4eb5abc6",
   "metadata": {
    "execution": {
     "iopub.execute_input": "2023-06-22T17:52:57.989302Z",
     "iopub.status.busy": "2023-06-22T17:52:57.988507Z",
     "iopub.status.idle": "2023-06-22T17:52:58.026788Z",
     "shell.execute_reply": "2023-06-22T17:52:58.025936Z"
    },
    "papermill": {
     "duration": 0.243683,
     "end_time": "2023-06-22T17:52:58.046739",
     "exception": false,
     "start_time": "2023-06-22T17:52:57.803056",
     "status": "completed"
    },
    "tags": []
   },
   "outputs": [
    {
     "name": "stdout",
     "output_type": "stream",
     "text": [
      "Model: \"sequential\"\n",
      "_________________________________________________________________\n",
      " Layer (type)                Output Shape              Param #   \n",
      "=================================================================\n",
      " standardize (Standardize)   (None, 28, 28)            0         \n",
      "                                                                 \n",
      " flatten (Flatten)           (None, 784)               0         \n",
      "                                                                 \n",
      " dense (Dense)               (None, 302)               237070    \n",
      "                                                                 \n",
      " dropout (Dropout)           (None, 302)               0         \n",
      "                                                                 \n",
      " dense_1 (Dense)             (None, 379)               114837    \n",
      "                                                                 \n",
      " dropout_1 (Dropout)         (None, 379)               0         \n",
      "                                                                 \n",
      " dense_2 (Dense)             (None, 292)               110960    \n",
      "                                                                 \n",
      " dropout_2 (Dropout)         (None, 292)               0         \n",
      "                                                                 \n",
      " dense_3 (Dense)             (None, 214)               62702     \n",
      "                                                                 \n",
      " dropout_3 (Dropout)         (None, 214)               0         \n",
      "                                                                 \n",
      " dense_4 (Dense)             (None, 306)               65790     \n",
      "                                                                 \n",
      " dropout_4 (Dropout)         (None, 306)               0         \n",
      "                                                                 \n",
      " dense_5 (Dense)             (None, 10)                3070      \n",
      "                                                                 \n",
      "=================================================================\n",
      "Total params: 594,429\n",
      "Trainable params: 594,429\n",
      "Non-trainable params: 0\n",
      "_________________________________________________________________\n"
     ]
    }
   ],
   "source": [
    "fcnn.summary()#(X_test, y_test)"
   ]
  },
  {
   "cell_type": "markdown",
   "id": "aa59407a",
   "metadata": {
    "papermill": {
     "duration": 0.180486,
     "end_time": "2023-06-22T17:52:58.406082",
     "exception": false,
     "start_time": "2023-06-22T17:52:58.225596",
     "status": "completed"
    },
    "tags": []
   },
   "source": [
    "<p style='color:red'>  Teste de Hipóteses"
   ]
  },
  {
   "cell_type": "markdown",
   "id": "45ca80ab",
   "metadata": {
    "papermill": {
     "duration": 0.180648,
     "end_time": "2023-06-22T17:52:58.766965",
     "exception": false,
     "start_time": "2023-06-22T17:52:58.586317",
     "status": "completed"
    },
    "tags": []
   },
   "source": [
    "<h2 style='font-size:30px'> </h2>"
   ]
  }
 ],
 "metadata": {
  "kernelspec": {
   "display_name": "Python 3",
   "language": "python",
   "name": "python3"
  },
  "language_info": {
   "codemirror_mode": {
    "name": "ipython",
    "version": 3
   },
   "file_extension": ".py",
   "mimetype": "text/x-python",
   "name": "python",
   "nbconvert_exporter": "python",
   "pygments_lexer": "ipython3",
   "version": "3.7.12"
  },
  "papermill": {
   "default_parameters": {},
   "duration": 234.116248,
   "end_time": "2023-06-22T17:53:02.405176",
   "environment_variables": {},
   "exception": null,
   "input_path": "__notebook__.ipynb",
   "output_path": "__notebook__.ipynb",
   "parameters": {},
   "start_time": "2023-06-22T17:49:08.288928",
   "version": "2.4.0"
  }
 },
 "nbformat": 4,
 "nbformat_minor": 5
}
