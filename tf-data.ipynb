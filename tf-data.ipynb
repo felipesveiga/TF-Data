{
 "cells": [
  {
   "cell_type": "markdown",
   "id": "7281876b",
   "metadata": {
    "papermill": {
     "duration": 0.008964,
     "end_time": "2023-05-23T15:58:47.236169",
     "exception": false,
     "start_time": "2023-05-23T15:58:47.227205",
     "status": "completed"
    },
    "tags": []
   },
   "source": [
    "<h1 style='font-size:40px'> tf.data Pipeline</h1>\n",
    "<div> \n",
    "    <ul style='font-size:20px'> \n",
    "        <li> \n",
    "            In this notebook I'll practice my skills with the tf.data module solving Exercise 9 from Hands-On Machine Learning with Scikit-Learn and TensorFlow's Chapter 13.\n",
    "        </li>\n",
    "        <li> \n",
    "            The Exercise commands us the following:\n",
    "            <p style='font-style:italic;margin-top:10px'> \n",
    "                Load the Fashion MNIST dataset (introduced in Chapter 10); split\n",
    "it into a training set, a validation set, and a test set; shuffle the\n",
    "training set; and save each dataset to multiple TFRecord files.\n",
    "Each record should be a serialized Example protobuf with two\n",
    "features: the serialized image (use tf.io.serialize_tensor()\n",
    "to serialize each image), and the label. 11 Then use tf.data to create\n",
    "an efficient dataset for each set. Finally, use a Keras model to\n",
    "train these datasets, including a preprocessing layer to standardize\n",
    "each input feature. Try to make the input pipeline as efficient as\n",
    "possible, using TensorBoard to visualize profiling data.\n",
    "            </p>\n",
    "        </li>\n",
    "    </ul>\n",
    "</div>"
   ]
  },
  {
   "cell_type": "markdown",
   "id": "e35b603b",
   "metadata": {
    "papermill": {
     "duration": 0.007343,
     "end_time": "2023-05-23T15:58:47.251333",
     "exception": false,
     "start_time": "2023-05-23T15:58:47.243990",
     "status": "completed"
    },
    "tags": []
   },
   "source": [
    "<h2 style='font-size:30px'> Data Importing & Splitting</h2>"
   ]
  },
  {
   "cell_type": "code",
   "execution_count": 1,
   "id": "7bc947fa",
   "metadata": {
    "execution": {
     "iopub.execute_input": "2023-05-23T15:58:47.269586Z",
     "iopub.status.busy": "2023-05-23T15:58:47.268151Z",
     "iopub.status.idle": "2023-05-23T15:59:01.422318Z",
     "shell.execute_reply": "2023-05-23T15:59:01.420068Z"
    },
    "papermill": {
     "duration": 14.167366,
     "end_time": "2023-05-23T15:59:01.426426",
     "exception": false,
     "start_time": "2023-05-23T15:58:47.259060",
     "status": "completed"
    },
    "tags": []
   },
   "outputs": [
    {
     "name": "stdout",
     "output_type": "stream",
     "text": [
      "Downloading data from https://storage.googleapis.com/tensorflow/tf-keras-datasets/train-labels-idx1-ubyte.gz\n",
      "29515/29515 [==============================] - 0s 0us/step\n",
      "Downloading data from https://storage.googleapis.com/tensorflow/tf-keras-datasets/train-images-idx3-ubyte.gz\n",
      "26421880/26421880 [==============================] - 0s 0us/step\n",
      "Downloading data from https://storage.googleapis.com/tensorflow/tf-keras-datasets/t10k-labels-idx1-ubyte.gz\n",
      "5148/5148 [==============================] - 0s 0us/step\n",
      "Downloading data from https://storage.googleapis.com/tensorflow/tf-keras-datasets/t10k-images-idx3-ubyte.gz\n",
      "4422102/4422102 [==============================] - 0s 0us/step\n"
     ]
    }
   ],
   "source": [
    "# Loading the fashion_mnist dataset.\n",
    "from tensorflow.keras.datasets import fashion_mnist\n",
    "from sklearn.model_selection import train_test_split\n",
    "(X_train, y_train), (X_test, y_test) = fashion_mnist.load_data()\n",
    "\n",
    "# Now, generating the validation set with `train_test_split`.\n",
    "X_train, X_val, y_train, y_val = train_test_split(X_train, y_train, test_size=.1, random_state=42)"
   ]
  },
  {
   "cell_type": "code",
   "execution_count": 2,
   "id": "0a7b8623",
   "metadata": {
    "execution": {
     "iopub.execute_input": "2023-05-23T15:59:01.448655Z",
     "iopub.status.busy": "2023-05-23T15:59:01.447529Z",
     "iopub.status.idle": "2023-05-23T15:59:01.665243Z",
     "shell.execute_reply": "2023-05-23T15:59:01.663810Z"
    },
    "papermill": {
     "duration": 0.232771,
     "end_time": "2023-05-23T15:59:01.668934",
     "exception": false,
     "start_time": "2023-05-23T15:59:01.436163",
     "status": "completed"
    },
    "tags": []
   },
   "outputs": [],
   "source": [
    "# Storing each one of the sets in a tf.data.Dataset object.\n",
    "# The classes store 1000 elements batches. The groups' data will be put into a .tfrecord file.\n",
    "from tensorflow.data import Dataset\n",
    "batch_size = 1000\n",
    "train = Dataset.from_tensor_slices((X_train, y_train)).shuffle(54000).batch(batch_size)\n",
    "val = Dataset.from_tensor_slices((X_val, y_val)).batch(batch_size)\n",
    "test = Dataset.from_tensor_slices((X_test, y_test)).batch(batch_size)"
   ]
  },
  {
   "cell_type": "code",
   "execution_count": 3,
   "id": "218e01d2",
   "metadata": {
    "execution": {
     "iopub.execute_input": "2023-05-23T15:59:01.690124Z",
     "iopub.status.busy": "2023-05-23T15:59:01.688789Z",
     "iopub.status.idle": "2023-05-23T15:59:01.697051Z",
     "shell.execute_reply": "2023-05-23T15:59:01.695170Z"
    },
    "papermill": {
     "duration": 0.022734,
     "end_time": "2023-05-23T15:59:01.700479",
     "exception": false,
     "start_time": "2023-05-23T15:59:01.677745",
     "status": "completed"
    },
    "tags": []
   },
   "outputs": [],
   "source": [
    "# We'll produce 1000 instances .tfrecord files. One corresponding to a bacth created.\n",
    "train_files = len(X_train) // batch_size\n",
    "val_files = len(X_val) // batch_size\n",
    "test_files = len(X_test) // batch_size"
   ]
  },
  {
   "cell_type": "markdown",
   "id": "51b4692f",
   "metadata": {
    "papermill": {
     "duration": 0.008469,
     "end_time": "2023-05-23T15:59:01.718670",
     "exception": false,
     "start_time": "2023-05-23T15:59:01.710201",
     "status": "completed"
    },
    "tags": []
   },
   "source": [
    "<h2 style='font-size:30px'> .tfrecord's Production</h2>\n",
    "<div> \n",
    "    <ul style='font-size:20px'> \n",
    "        <li> \n",
    "            TensorFlow records demands data to be stored in protobuf format. We can do so by placing the serialized information in an `Example` class. \n",
    "        </li>\n",
    "    </ul>\n",
    "</div>"
   ]
  },
  {
   "cell_type": "code",
   "execution_count": 4,
   "id": "388367dc",
   "metadata": {
    "execution": {
     "iopub.execute_input": "2023-05-23T15:59:01.740279Z",
     "iopub.status.busy": "2023-05-23T15:59:01.739763Z",
     "iopub.status.idle": "2023-05-23T15:59:01.752786Z",
     "shell.execute_reply": "2023-05-23T15:59:01.751274Z"
    },
    "papermill": {
     "duration": 0.027917,
     "end_time": "2023-05-23T15:59:01.756418",
     "exception": false,
     "start_time": "2023-05-23T15:59:01.728501",
     "status": "completed"
    },
    "tags": []
   },
   "outputs": [],
   "source": [
    "from tensorflow import Tensor\n",
    "from tensorflow.train import BytesList, Example, Features, Feature, Int64List\n",
    "from tensorflow.io import serialize_tensor, TFRecordWriter\n",
    "\n",
    "def create_example(images:Tensor, targets:Tensor)->str:\n",
    "    '''\n",
    "        Generates a serialized `Example` object holding the pixel intensities and target values from a collection\n",
    "        of MNIST images.\n",
    "        \n",
    "        Parameters\n",
    "        ----------\n",
    "        `images`: A 3-D `tf.Tensor` with the digits pixels. \\n\n",
    "        `targets`: An 1-D `tf.Tensor` with the digits labels.\n",
    "        \n",
    "        Returns\n",
    "        -------\n",
    "        An `tf.train.Example` object storing both pixels and target values.\n",
    "    '''\n",
    "    # Serializing the input vectors.\n",
    "    serialized_images, serialized_targets = serialize_tensor(images), serialize_tensor(targets)\n",
    "    example = Example(\n",
    "        features=Features(\n",
    "            feature={\n",
    "            'pixels':Feature(bytes_list=BytesList(value=[serialized_images.numpy()])),\n",
    "            'target':Feature(bytes_list=BytesList(value=[serialized_targets.numpy()]))\n",
    "        }\n",
    "        ))\n",
    "    # Now, converting the `Example` object into a binary string.\n",
    "    return example.SerializeToString()"
   ]
  },
  {
   "cell_type": "code",
   "execution_count": 5,
   "id": "2aa634d2",
   "metadata": {
    "execution": {
     "iopub.execute_input": "2023-05-23T15:59:01.776088Z",
     "iopub.status.busy": "2023-05-23T15:59:01.775593Z",
     "iopub.status.idle": "2023-05-23T15:59:02.902845Z",
     "shell.execute_reply": "2023-05-23T15:59:02.900456Z"
    },
    "papermill": {
     "duration": 1.141579,
     "end_time": "2023-05-23T15:59:02.906735",
     "exception": false,
     "start_time": "2023-05-23T15:59:01.765156",
     "status": "completed"
    },
    "tags": []
   },
   "outputs": [],
   "source": [
    "# It is convenient to place all data files in a separate directory.\n",
    "! mkdir mnist"
   ]
  },
  {
   "cell_type": "code",
   "execution_count": 6,
   "id": "e80bee78",
   "metadata": {
    "execution": {
     "iopub.execute_input": "2023-05-23T15:59:02.928208Z",
     "iopub.status.busy": "2023-05-23T15:59:02.927599Z",
     "iopub.status.idle": "2023-05-23T15:59:03.658836Z",
     "shell.execute_reply": "2023-05-23T15:59:03.657209Z"
    },
    "papermill": {
     "duration": 0.746736,
     "end_time": "2023-05-23T15:59:03.662339",
     "exception": false,
     "start_time": "2023-05-23T15:59:02.915603",
     "status": "completed"
    },
    "tags": []
   },
   "outputs": [],
   "source": [
    "def create_files(dataset:Dataset, filename:str, directory:str='.')->None:\n",
    "    '''\n",
    "        Creates the .tfrecord's files based on the batches from a provided `dataset`.\n",
    "        \n",
    "        Parameters\n",
    "        ----------\n",
    "        `dataset`: A `tf.data.Dataset` object. \\n\n",
    "        `filename`: A custom name for file identification. \\n\n",
    "        `directory`: A string that indicates the directory where the files are put.\n",
    "    '''\n",
    "    for index, (images, labels) in dataset.enumerate():\n",
    "        file = TFRecordWriter(f'{directory}/{filename}_{index}.tfrecord')\n",
    "        serialized_data = create_example(images, labels)\n",
    "        file.write(serialized_data)\n",
    "\n",
    "# Generating the files.\n",
    "create_files(train, 'train', 'mnist')\n",
    "create_files(val, 'val', 'mnist')\n",
    "create_files(test, 'test', 'mnist')"
   ]
  },
  {
   "cell_type": "markdown",
   "id": "8322565a",
   "metadata": {
    "papermill": {
     "duration": 0.009153,
     "end_time": "2023-05-23T15:59:03.680446",
     "exception": false,
     "start_time": "2023-05-23T15:59:03.671293",
     "status": "completed"
    },
    "tags": []
   },
   "source": [
    "<h2 style='font-size:30px'> Data Treatment</h2>\n",
    "<div> \n",
    "    <ul style='font-size:20px'> \n",
    "        <li> \n",
    "            With the files generated, we can proceed and handle the data importing and its proper treatment.\n",
    "        </li>\n",
    "    </ul>\n",
    "</div>"
   ]
  },
  {
   "cell_type": "code",
   "execution_count": 7,
   "id": "d51b6b69",
   "metadata": {
    "execution": {
     "iopub.execute_input": "2023-05-23T15:59:03.702439Z",
     "iopub.status.busy": "2023-05-23T15:59:03.701918Z",
     "iopub.status.idle": "2023-05-23T15:59:03.779344Z",
     "shell.execute_reply": "2023-05-23T15:59:03.777461Z"
    },
    "papermill": {
     "duration": 0.093529,
     "end_time": "2023-05-23T15:59:03.782900",
     "exception": false,
     "start_time": "2023-05-23T15:59:03.689371",
     "status": "completed"
    },
    "tags": []
   },
   "outputs": [],
   "source": [
    "# Reading the data files separately.\n",
    "train_files = Dataset.list_files('mnist/train*')\n",
    "val_files = Dataset.list_files('mnist/val*')\n",
    "test_files = Dataset.list_files('mnist/test*')"
   ]
  },
  {
   "cell_type": "code",
   "execution_count": 8,
   "id": "824f0e25",
   "metadata": {
    "execution": {
     "iopub.execute_input": "2023-05-23T15:59:03.804932Z",
     "iopub.status.busy": "2023-05-23T15:59:03.804429Z",
     "iopub.status.idle": "2023-05-23T15:59:03.819997Z",
     "shell.execute_reply": "2023-05-23T15:59:03.817970Z"
    },
    "papermill": {
     "duration": 0.030968,
     "end_time": "2023-05-23T15:59:03.823240",
     "exception": false,
     "start_time": "2023-05-23T15:59:03.792272",
     "status": "completed"
    },
    "tags": []
   },
   "outputs": [],
   "source": [
    "from tensorflow import string, uint8\n",
    "from tensorflow.data import AUTOTUNE, TFRecordDataset\n",
    "from tensorflow.io import FixedLenFeature, parse_example, parse_tensor\n",
    "from typing import Optional, Iterable, Tuple\n",
    "\n",
    "def preprocess(tfrecord:Tensor)->Tuple[Tensor, Tensor]:\n",
    "    '''\n",
    "    Reads an encoded protobuf and returns its Tensors in numerical format.\n",
    "    \n",
    "    Parameter\n",
    "    ---------\n",
    "    `tfrecord`: A `tf.Tensor` that stores encoded protobufs.\n",
    "    \n",
    "    Returns\n",
    "    -------\n",
    "    Two tensors in a tuple. One with the pixel intensities and another containing the target values.\n",
    "    '''\n",
    "    features = {\n",
    "    'pixels':FixedLenFeature([], string, default_value=''), \n",
    "    'target':FixedLenFeature([], string, default_value='-1')\n",
    "                }\n",
    "    example = parse_example(tfrecord, features) # Returns a dictionary with the serialized images and target values.\n",
    "    pixels, target = parse_tensor(example['pixels'], uint8), parse_tensor(example['target'], uint8)\n",
    "    return pixels, target\n",
    "\n",
    "def read_files(filenames:Iterable[str], shuffle_size:Optional[int]=None, num_threads_reading:int=AUTOTUNE, \n",
    "               num_threads_preprocess:int=AUTOTUNE)->Dataset:\n",
    "    '''\n",
    "        Reads the .tfrecord files specified and retrieves a `tf.data.Dataset` object with the processed data.\n",
    "        \n",
    "        Parameters\n",
    "        ----------\n",
    "        `filenames`: The names of the files.\n",
    "        `shuffle_size`: If specified, it shuffles the Dataset using a deck with the specified length.\n",
    "        `num_threads_reading`: The number of threads to use when reading the files.\n",
    "        `num_threads_preprocess`: The number of threads to use when preprocessing the dataset.\n",
    "        \n",
    "        Returns\n",
    "        -------\n",
    "        The treated dataset.\n",
    "    '''\n",
    "    dataset = TFRecordDataset(filenames, num_parallel_reads=num_threads_reading)\n",
    "    if shuffle_size:\n",
    "        dataset.shuffle(shuffle_size)\n",
    "    return dataset.map(preprocess, num_parallel_calls=num_threads_preprocess).prefetch(1)"
   ]
  },
  {
   "cell_type": "markdown",
   "id": "004c4b37",
   "metadata": {
    "papermill": {
     "duration": 0.008894,
     "end_time": "2023-05-23T15:59:03.842013",
     "exception": false,
     "start_time": "2023-05-23T15:59:03.833119",
     "status": "completed"
    },
    "tags": []
   },
   "source": [
    "<h2 style='font-size:30px'> Standardization Layer</h2>\n",
    "<div> \n",
    "    <ul style='font-size:20px'> \n",
    "        <li> \n",
    "            Here, we'll simply code a `tf.layers.Layer` object which fairly does a similar job of the Batch Normalization Layer. The main difference is that $\\mu$ and $\\sigma$ are computed in advance using the `adapt` function.\n",
    "        </li>\n",
    "    </ul>\n",
    "</div>"
   ]
  },
  {
   "cell_type": "code",
   "execution_count": 9,
   "id": "245a978a",
   "metadata": {
    "execution": {
     "iopub.execute_input": "2023-05-23T15:59:03.863372Z",
     "iopub.status.busy": "2023-05-23T15:59:03.862884Z",
     "iopub.status.idle": "2023-05-23T15:59:03.882815Z",
     "shell.execute_reply": "2023-05-23T15:59:03.880801Z"
    },
    "papermill": {
     "duration": 0.03474,
     "end_time": "2023-05-23T15:59:03.886511",
     "exception": false,
     "start_time": "2023-05-23T15:59:03.851771",
     "status": "completed"
    },
    "tags": []
   },
   "outputs": [],
   "source": [
    "# The layer will inherit the properties of the experimental `PreprocessingLayer`.\n",
    "from tensorflow.keras.layers.experimental.preprocessing import PreprocessingLayer\n",
    "from tensorflow.keras.layers import Layer\n",
    "from tensorflow.math import reduce_mean, reduce_std\n",
    "from tensorflow.keras.backend import epsilon\n",
    "from typing import Union\n",
    "\n",
    "class Standardize(PreprocessingLayer):\n",
    "    '''\n",
    "    A `PreprocessingLayer` object that carries out the standardization of a given array accordingly to an \n",
    "    informed axis.\n",
    "    \n",
    "    The necessary stats are computed before training with the `adapt` method. This feature the  class' main \n",
    "    difference from the `BatchNormalization` layer, which computes means and standard deviations on the fly.\n",
    "    '''\n",
    "    def adapt(self, input_data:Union[Dataset, Tensor], axis=0)->None:\n",
    "        '''\n",
    "            Computes means and std's from a provided `tf.Tensor` or `tf.data.Dataset`.\n",
    "            \n",
    "            Paramater\n",
    "            ---------\n",
    "            `input_data`: The array from which the stats are computed.\n",
    "            `axis`: The axis of choice to compute the stats.\n",
    "        '''\n",
    "        self.means = reduce_mean(input_data, axis=axis)\n",
    "        self.stds = reduce_std(input_data, axis=axis)\n",
    "        return self\n",
    "        \n",
    "    def call(self, input_data:Union[Dataset, Tensor])->Union[Dataset, Tensor]:\n",
    "        '''\n",
    "        The method that standardizes the array.\n",
    "        \n",
    "        Parameter\n",
    "        --------\n",
    "        `input_data`: The array in which we perform the standardization.\n",
    "        \n",
    "        Returns\n",
    "        -------\n",
    "        The standardized array.\n",
    "        '''\n",
    "        return (input_data - self.means) / (self.stds + epsilon())"
   ]
  },
  {
   "cell_type": "markdown",
   "id": "69a71ad8",
   "metadata": {
    "papermill": {
     "duration": 0.008938,
     "end_time": "2023-05-23T15:59:03.904413",
     "exception": false,
     "start_time": "2023-05-23T15:59:03.895475",
     "status": "completed"
    },
    "tags": []
   },
   "source": [
    "<h2 style='font-size:30px'> Neural Net Modelling</h2>\n",
    "<div> \n",
    "    <ul style='font-size:20px'> \n",
    "        <li> \n",
    "            With all the preprocessing stages programmed, we are free to model our Neural Network.\n",
    "        </li>\n",
    "    </ul>\n",
    "</div>"
   ]
  },
  {
   "cell_type": "code",
   "execution_count": 10,
   "id": "ed4777d6",
   "metadata": {
    "execution": {
     "iopub.execute_input": "2023-05-23T15:59:03.924870Z",
     "iopub.status.busy": "2023-05-23T15:59:03.924377Z",
     "iopub.status.idle": "2023-05-23T15:59:04.183288Z",
     "shell.execute_reply": "2023-05-23T15:59:04.181440Z"
    },
    "papermill": {
     "duration": 0.274745,
     "end_time": "2023-05-23T15:59:04.188201",
     "exception": false,
     "start_time": "2023-05-23T15:59:03.913456",
     "status": "completed"
    },
    "tags": []
   },
   "outputs": [],
   "source": [
    "# Reading all the .tfrecords created.\n",
    "train_set = read_files(train_files, shuffle_size=100)\n",
    "val_set = read_files(val_files)\n",
    "test_set = read_files(test_files)"
   ]
  },
  {
   "cell_type": "code",
   "execution_count": 11,
   "id": "fbbb7de4",
   "metadata": {
    "execution": {
     "iopub.execute_input": "2023-05-23T15:59:04.210807Z",
     "iopub.status.busy": "2023-05-23T15:59:04.209574Z",
     "iopub.status.idle": "2023-05-23T15:59:04.220141Z",
     "shell.execute_reply": "2023-05-23T15:59:04.218190Z"
    },
    "papermill": {
     "duration": 0.025146,
     "end_time": "2023-05-23T15:59:04.223366",
     "exception": false,
     "start_time": "2023-05-23T15:59:04.198220",
     "status": "completed"
    },
    "tags": []
   },
   "outputs": [],
   "source": [
    "# Agora, nos resta criar a camada de padronização.\n",
    "class Stantardize(Layer):\n",
    "    def adapt(self, input_data):\n",
    "        # Medindo médias e desvios-padrões de cada pixel.\n",
    "        self.means = reduce_mean(input_data, axis=0)\n",
    "        self.std = reduce_std(input_data, axis=0)\n",
    "        \n",
    "    def call(self, inputs):\n",
    "        return (inputs - self.means) / (self.std + epsilon())"
   ]
  },
  {
   "cell_type": "code",
   "execution_count": 12,
   "id": "5a0f14ae",
   "metadata": {
    "execution": {
     "iopub.execute_input": "2023-05-23T15:59:04.244840Z",
     "iopub.status.busy": "2023-05-23T15:59:04.243598Z",
     "iopub.status.idle": "2023-05-23T15:59:04.430963Z",
     "shell.execute_reply": "2023-05-23T15:59:04.428888Z"
    },
    "papermill": {
     "duration": 0.202273,
     "end_time": "2023-05-23T15:59:04.434811",
     "exception": false,
     "start_time": "2023-05-23T15:59:04.232538",
     "status": "completed"
    },
    "tags": []
   },
   "outputs": [],
   "source": [
    "# But before actually fitting the NN, we need to adapt our `Standardize` layer with the training data.\n",
    "from tensorflow import concat, cast, float32\n",
    "train_pixels = list(train_set.map(lambda pixels, target: pixels).take(-1))"
   ]
  },
  {
   "cell_type": "markdown",
   "id": "45299802",
   "metadata": {
    "papermill": {
     "duration": 0.008927,
     "end_time": "2023-05-23T15:59:04.452679",
     "exception": false,
     "start_time": "2023-05-23T15:59:04.443752",
     "status": "completed"
    },
    "tags": []
   },
   "source": [
    "<p style='color:red'> padronizar train_pixels"
   ]
  },
  {
   "cell_type": "markdown",
   "id": "02181b39",
   "metadata": {
    "papermill": {
     "duration": 0.008644,
     "end_time": "2023-05-23T15:59:04.470780",
     "exception": false,
     "start_time": "2023-05-23T15:59:04.462136",
     "status": "completed"
    },
    "tags": []
   },
   "source": [
    "<h2 style='font-size:30px'> </h2>"
   ]
  }
 ],
 "metadata": {
  "kernelspec": {
   "display_name": "Python 3",
   "language": "python",
   "name": "python3"
  },
  "language_info": {
   "codemirror_mode": {
    "name": "ipython",
    "version": 3
   },
   "file_extension": ".py",
   "mimetype": "text/x-python",
   "name": "python",
   "nbconvert_exporter": "python",
   "pygments_lexer": "ipython3",
   "version": "3.7.12"
  },
  "papermill": {
   "default_parameters": {},
   "duration": 38.101744,
   "end_time": "2023-05-23T15:59:07.469867",
   "environment_variables": {},
   "exception": null,
   "input_path": "__notebook__.ipynb",
   "output_path": "__notebook__.ipynb",
   "parameters": {},
   "start_time": "2023-05-23T15:58:29.368123",
   "version": "2.4.0"
  }
 },
 "nbformat": 4,
 "nbformat_minor": 5
}
