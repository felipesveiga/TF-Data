{
 "cells": [
  {
   "cell_type": "markdown",
   "id": "9edcc184",
   "metadata": {
    "papermill": {
     "duration": 0.004952,
     "end_time": "2023-05-01T12:35:18.452058",
     "exception": false,
     "start_time": "2023-05-01T12:35:18.447106",
     "status": "completed"
    },
    "tags": []
   },
   "source": [
    "<h1 style='font-size:40px'> tf.data Pipeline</h1>\n",
    "<div> \n",
    "    <ul style='font-size:20px'> \n",
    "        <li> \n",
    "            In this notebook I'll practice my skills with the tf.data module solving Exercise 9 from Hands-On Machine Learning with Scikit-Learn and TensorFlow's Chapter 13.\n",
    "        </li>\n",
    "        <li> \n",
    "            The Exercise commands us the following:\n",
    "            <p style='font-style:italic;margin-top:10px'> \n",
    "                Load the Fashion MNIST dataset (introduced in Chapter 10); split\n",
    "it into a training set, a validation set, and a test set; shuffle the\n",
    "training set; and save each dataset to multiple TFRecord files.\n",
    "Each record should be a serialized Example protobuf with two\n",
    "features: the serialized image (use tf.io.serialize_tensor()\n",
    "to serialize each image), and the label. 11 Then use tf.data to create\n",
    "an efficient dataset for each set. Finally, use a Keras model to\n",
    "train these datasets, including a preprocessing layer to standardize\n",
    "each input feature. Try to make the input pipeline as efficient as\n",
    "possible, using TensorBoard to visualize profiling data.\n",
    "            </p>\n",
    "        </li>\n",
    "    </ul>\n",
    "</div>"
   ]
  },
  {
   "cell_type": "markdown",
   "id": "dd2c4e76",
   "metadata": {
    "papermill": {
     "duration": 0.00302,
     "end_time": "2023-05-01T12:35:18.459593",
     "exception": false,
     "start_time": "2023-05-01T12:35:18.456573",
     "status": "completed"
    },
    "tags": []
   },
   "source": [
    "<h2 style='font-size:30px'> Data Importing & Splitting</h2>"
   ]
  },
  {
   "cell_type": "code",
   "execution_count": 1,
   "id": "64fb3a19",
   "metadata": {
    "execution": {
     "iopub.execute_input": "2023-05-01T12:35:18.468725Z",
     "iopub.status.busy": "2023-05-01T12:35:18.468274Z",
     "iopub.status.idle": "2023-05-01T12:35:33.528340Z",
     "shell.execute_reply": "2023-05-01T12:35:33.526756Z"
    },
    "papermill": {
     "duration": 15.068871,
     "end_time": "2023-05-01T12:35:33.532044",
     "exception": false,
     "start_time": "2023-05-01T12:35:18.463173",
     "status": "completed"
    },
    "tags": []
   },
   "outputs": [
    {
     "name": "stdout",
     "output_type": "stream",
     "text": [
      "Downloading data from https://storage.googleapis.com/tensorflow/tf-keras-datasets/train-labels-idx1-ubyte.gz\n",
      "29515/29515 [==============================] - 0s 1us/step\n",
      "Downloading data from https://storage.googleapis.com/tensorflow/tf-keras-datasets/train-images-idx3-ubyte.gz\n",
      "26421880/26421880 [==============================] - 2s 0us/step\n",
      "Downloading data from https://storage.googleapis.com/tensorflow/tf-keras-datasets/t10k-labels-idx1-ubyte.gz\n",
      "5148/5148 [==============================] - 0s 0us/step\n",
      "Downloading data from https://storage.googleapis.com/tensorflow/tf-keras-datasets/t10k-images-idx3-ubyte.gz\n",
      "4422102/4422102 [==============================] - 1s 0us/step\n"
     ]
    }
   ],
   "source": [
    "# Loading the fashion_mnist dataset.\n",
    "from tensorflow.keras.datasets import fashion_mnist\n",
    "from sklearn.model_selection import train_test_split\n",
    "(X_train, y_train), (X_test, y_test) = fashion_mnist.load_data()\n",
    "\n",
    "# Now, generating the validation set with `train_test_split`.\n",
    "X_train, X_val, y_train, y_val = train_test_split(X_train, y_train, test_size=.1, random_state=42)"
   ]
  },
  {
   "cell_type": "code",
   "execution_count": 2,
   "id": "8b9bb0f4",
   "metadata": {
    "execution": {
     "iopub.execute_input": "2023-05-01T12:35:33.550325Z",
     "iopub.status.busy": "2023-05-01T12:35:33.548236Z",
     "iopub.status.idle": "2023-05-01T12:35:33.740226Z",
     "shell.execute_reply": "2023-05-01T12:35:33.738452Z"
    },
    "papermill": {
     "duration": 0.204529,
     "end_time": "2023-05-01T12:35:33.743841",
     "exception": false,
     "start_time": "2023-05-01T12:35:33.539312",
     "status": "completed"
    },
    "tags": []
   },
   "outputs": [],
   "source": [
    "# Storing each one of the sets in a tf.data.Dataset object.\n",
    "# The classes store 1000 elements batches. The groups' data will be put into a .tfrecord file.\n",
    "from tensorflow.data import Dataset\n",
    "batch_size = 1000\n",
    "train = Dataset.from_tensor_slices((X_train, y_train)).shuffle(54000).batch(batch_size)\n",
    "val = Dataset.from_tensor_slices((X_val, y_val)).batch(batch_size)\n",
    "test = Dataset.from_tensor_slices((X_test, y_test)).batch(batch_size)"
   ]
  },
  {
   "cell_type": "code",
   "execution_count": 3,
   "id": "4f59e5d4",
   "metadata": {
    "execution": {
     "iopub.execute_input": "2023-05-01T12:35:33.758881Z",
     "iopub.status.busy": "2023-05-01T12:35:33.758404Z",
     "iopub.status.idle": "2023-05-01T12:35:33.765162Z",
     "shell.execute_reply": "2023-05-01T12:35:33.763429Z"
    },
    "papermill": {
     "duration": 0.01779,
     "end_time": "2023-05-01T12:35:33.768232",
     "exception": false,
     "start_time": "2023-05-01T12:35:33.750442",
     "status": "completed"
    },
    "tags": []
   },
   "outputs": [],
   "source": [
    "# We'll produce 1000 instances .tfrecord files. One corresponding to a bacth created.\n",
    "train_files = int(len(X_train) / batch_size)\n",
    "val_files = int(len(X_val) / batch_size)\n",
    "test_files = int(len(X_test) / batch_size)"
   ]
  },
  {
   "cell_type": "markdown",
   "id": "f6f8f0b0",
   "metadata": {
    "papermill": {
     "duration": 0.006075,
     "end_time": "2023-05-01T12:35:33.780943",
     "exception": false,
     "start_time": "2023-05-01T12:35:33.774868",
     "status": "completed"
    },
    "tags": []
   },
   "source": [
    "<h2 style='font-size:30px'> .tfrecord's Production</h2>\n",
    "<div> \n",
    "    <ul style='font-size:20px'> \n",
    "        <li> \n",
    "            TensorFlow records demands data to be stored in protobuf format. We can do so by placing the serialized information in an `Example` class. \n",
    "        </li>\n",
    "    </ul>\n",
    "</div>"
   ]
  },
  {
   "cell_type": "code",
   "execution_count": 4,
   "id": "2475a745",
   "metadata": {
    "execution": {
     "iopub.execute_input": "2023-05-01T12:35:33.796737Z",
     "iopub.status.busy": "2023-05-01T12:35:33.795699Z",
     "iopub.status.idle": "2023-05-01T12:35:33.805939Z",
     "shell.execute_reply": "2023-05-01T12:35:33.804766Z"
    },
    "papermill": {
     "duration": 0.02172,
     "end_time": "2023-05-01T12:35:33.809012",
     "exception": false,
     "start_time": "2023-05-01T12:35:33.787292",
     "status": "completed"
    },
    "tags": []
   },
   "outputs": [],
   "source": [
    "from tensorflow import Tensor\n",
    "from tensorflow.train import BytesList, Example, Features, Feature, Int64List\n",
    "from tensorflow.io import serialize_tensor, TFRecordWriter\n",
    "def create_example(images:Tensor, targets:Tensor)->str:\n",
    "    '''\n",
    "        Generates a serialized `Example` object holding the pixel intensities and target values from a collection\n",
    "        of MNIST images.\n",
    "        \n",
    "        Parameters\n",
    "        ----------\n",
    "        `images`: A 3-D `tf.Tensor` with the digits pixels.\n",
    "        `targets`: A 1-D `tf.Tensor` with the digits labels.\n",
    "        \n",
    "        Returns\n",
    "        -------\n",
    "        An `tf.train.Example` object storing both pixels and target values.\n",
    "    '''\n",
    "    # Serializing the input vectors.\n",
    "    serialized_images, serialized_targets = serialize_tensor(images), serialize_tensor(targets)\n",
    "    example = Example(\n",
    "        features=Features(\n",
    "            feature={\n",
    "            'pixels':Feature(bytes_list=BytesList(value=[serialized_images.numpy()])),\n",
    "            'target':Feature(bytes_list=BytesList(value=[serialized_targets.numpy()]))\n",
    "        }\n",
    "        ))\n",
    "    # Now, converting the `Example` object into a binary string.\n",
    "    return example.SerializeToString()"
   ]
  },
  {
   "cell_type": "code",
   "execution_count": 5,
   "id": "5e43a5b3",
   "metadata": {
    "execution": {
     "iopub.execute_input": "2023-05-01T12:35:33.825711Z",
     "iopub.status.busy": "2023-05-01T12:35:33.824987Z",
     "iopub.status.idle": "2023-05-01T12:35:33.830197Z",
     "shell.execute_reply": "2023-05-01T12:35:33.828980Z"
    },
    "papermill": {
     "duration": 0.016913,
     "end_time": "2023-05-01T12:35:33.832772",
     "exception": false,
     "start_time": "2023-05-01T12:35:33.815859",
     "status": "completed"
    },
    "tags": []
   },
   "outputs": [],
   "source": [
    "def create_files(dataset:Dataset, filename:str, num_files:int):\n",
    "    pass"
   ]
  },
  {
   "cell_type": "markdown",
   "id": "0aa35369",
   "metadata": {
    "papermill": {
     "duration": 0.006291,
     "end_time": "2023-05-01T12:35:33.845647",
     "exception": false,
     "start_time": "2023-05-01T12:35:33.839356",
     "status": "completed"
    },
    "tags": []
   },
   "source": [
    "<p style='color:red'> create_files"
   ]
  },
  {
   "cell_type": "markdown",
   "id": "36f0f0fa",
   "metadata": {
    "papermill": {
     "duration": 0.006412,
     "end_time": "2023-05-01T12:35:33.858573",
     "exception": false,
     "start_time": "2023-05-01T12:35:33.852161",
     "status": "completed"
    },
    "tags": []
   },
   "source": [
    "<h2 style='font-size:30px'> </h2>"
   ]
  }
 ],
 "metadata": {
  "kernelspec": {
   "display_name": "Python 3",
   "language": "python",
   "name": "python3"
  },
  "language_info": {
   "codemirror_mode": {
    "name": "ipython",
    "version": 3
   },
   "file_extension": ".py",
   "mimetype": "text/x-python",
   "name": "python",
   "nbconvert_exporter": "python",
   "pygments_lexer": "ipython3",
   "version": "3.7.12"
  },
  "papermill": {
   "default_parameters": {},
   "duration": 30.06956,
   "end_time": "2023-05-01T12:35:36.513176",
   "environment_variables": {},
   "exception": null,
   "input_path": "__notebook__.ipynb",
   "output_path": "__notebook__.ipynb",
   "parameters": {},
   "start_time": "2023-05-01T12:35:06.443616",
   "version": "2.4.0"
  }
 },
 "nbformat": 4,
 "nbformat_minor": 5
}
