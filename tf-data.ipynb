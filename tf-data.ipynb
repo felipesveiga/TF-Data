{
 "cells": [
  {
   "cell_type": "markdown",
   "id": "91ce5547",
   "metadata": {
    "papermill": {
     "duration": 0.010387,
     "end_time": "2023-07-04T16:46:40.549130",
     "exception": false,
     "start_time": "2023-07-04T16:46:40.538743",
     "status": "completed"
    },
    "tags": []
   },
   "source": [
    "<h1 style='font-size:40px'> tf.data Pipeline</h1>\n",
    "<div> \n",
    "    <ul style='font-size:20px'> \n",
    "        <li> \n",
    "            In this notebook I'll practice my skills with the tf.data module solving Exercise 9 from Hands-On Machine Learning with Scikit-Learn and TensorFlow's Chapter 13.\n",
    "        </li>\n",
    "        <li> \n",
    "            The Exercise commands us the following:\n",
    "            <p style='font-style:italic;margin-top:10px'> \n",
    "                Load the Fashion MNIST dataset (introduced in Chapter 10); split\n",
    "it into a training set, a validation set, and a test set; shuffle the\n",
    "training set; and save each dataset to multiple TFRecord files.\n",
    "Each record should be a serialized Example protobuf with two\n",
    "features: the serialized image (use tf.io.serialize_tensor()\n",
    "to serialize each image), and the label. 11 Then use tf.data to create\n",
    "an efficient dataset for each set. Finally, use a Keras model to\n",
    "train these datasets, including a preprocessing layer to standardize\n",
    "each input feature. Try to make the input pipeline as efficient as\n",
    "possible, using TensorBoard to visualize profiling data.\n",
    "            </p>\n",
    "        </li>\n",
    "    </ul>\n",
    "</div>"
   ]
  },
  {
   "cell_type": "markdown",
   "id": "20202223",
   "metadata": {
    "papermill": {
     "duration": 0.008837,
     "end_time": "2023-07-04T16:46:40.567379",
     "exception": false,
     "start_time": "2023-07-04T16:46:40.558542",
     "status": "completed"
    },
    "tags": []
   },
   "source": [
    "<h2 style='font-size:30px'> Data Importing & Splitting</h2>"
   ]
  },
  {
   "cell_type": "code",
   "execution_count": 1,
   "id": "44c19be5",
   "metadata": {
    "execution": {
     "iopub.execute_input": "2023-07-04T16:46:40.587559Z",
     "iopub.status.busy": "2023-07-04T16:46:40.587067Z",
     "iopub.status.idle": "2023-07-04T16:46:49.544014Z",
     "shell.execute_reply": "2023-07-04T16:46:49.542724Z"
    },
    "papermill": {
     "duration": 8.970619,
     "end_time": "2023-07-04T16:46:49.546957",
     "exception": false,
     "start_time": "2023-07-04T16:46:40.576338",
     "status": "completed"
    },
    "tags": []
   },
   "outputs": [
    {
     "name": "stdout",
     "output_type": "stream",
     "text": [
      "Downloading data from https://storage.googleapis.com/tensorflow/tf-keras-datasets/train-labels-idx1-ubyte.gz\n",
      "29515/29515 [==============================] - 0s 0us/step\n",
      "Downloading data from https://storage.googleapis.com/tensorflow/tf-keras-datasets/train-images-idx3-ubyte.gz\n",
      "26421880/26421880 [==============================] - 0s 0us/step\n",
      "Downloading data from https://storage.googleapis.com/tensorflow/tf-keras-datasets/t10k-labels-idx1-ubyte.gz\n",
      "5148/5148 [==============================] - 0s 0us/step\n",
      "Downloading data from https://storage.googleapis.com/tensorflow/tf-keras-datasets/t10k-images-idx3-ubyte.gz\n",
      "4422102/4422102 [==============================] - 0s 0us/step\n"
     ]
    }
   ],
   "source": [
    "# Loading the fashion_mnist dataset.\n",
    "from tensorflow.keras.datasets import fashion_mnist\n",
    "from sklearn.model_selection import train_test_split\n",
    "(X_train, y_train), (X_test, y_test) = fashion_mnist.load_data()\n",
    "\n",
    "# Now, generating the validation set with `train_test_split`.\n",
    "X_train, X_val, y_train, y_val = train_test_split(X_train, y_train, test_size=.1, random_state=42)"
   ]
  },
  {
   "cell_type": "code",
   "execution_count": 2,
   "id": "cd65369a",
   "metadata": {
    "execution": {
     "iopub.execute_input": "2023-07-04T16:46:49.569749Z",
     "iopub.status.busy": "2023-07-04T16:46:49.568731Z",
     "iopub.status.idle": "2023-07-04T16:46:53.044340Z",
     "shell.execute_reply": "2023-07-04T16:46:53.043052Z"
    },
    "papermill": {
     "duration": 3.489882,
     "end_time": "2023-07-04T16:46:53.047188",
     "exception": false,
     "start_time": "2023-07-04T16:46:49.557306",
     "status": "completed"
    },
    "tags": []
   },
   "outputs": [],
   "source": [
    "# Storing each one of the sets in a tf.data.Dataset object.\n",
    "# The classes store 1000 elements batches. The groups' data will be put into a .tfrecord file.\n",
    "from tensorflow.data import Dataset\n",
    "batch_size = 1000\n",
    "train = Dataset.from_tensor_slices((X_train, y_train)).shuffle(54000).batch(batch_size)\n",
    "val = Dataset.from_tensor_slices((X_val, y_val)).batch(batch_size)\n",
    "test = Dataset.from_tensor_slices((X_test, y_test)).batch(batch_size)"
   ]
  },
  {
   "cell_type": "code",
   "execution_count": 3,
   "id": "5d61e74b",
   "metadata": {
    "execution": {
     "iopub.execute_input": "2023-07-04T16:46:53.068300Z",
     "iopub.status.busy": "2023-07-04T16:46:53.067970Z",
     "iopub.status.idle": "2023-07-04T16:46:53.073262Z",
     "shell.execute_reply": "2023-07-04T16:46:53.072074Z"
    },
    "papermill": {
     "duration": 0.018923,
     "end_time": "2023-07-04T16:46:53.075933",
     "exception": false,
     "start_time": "2023-07-04T16:46:53.057010",
     "status": "completed"
    },
    "tags": []
   },
   "outputs": [],
   "source": [
    "# We'll produce 1000 instances .tfrecord files. One corresponding to a bacth created.\n",
    "train_files = len(X_train) // batch_size\n",
    "val_files = len(X_val) // batch_size\n",
    "test_files = len(X_test) // batch_size"
   ]
  },
  {
   "cell_type": "markdown",
   "id": "0e6fe645",
   "metadata": {
    "papermill": {
     "duration": 0.009528,
     "end_time": "2023-07-04T16:46:53.095396",
     "exception": false,
     "start_time": "2023-07-04T16:46:53.085868",
     "status": "completed"
    },
    "tags": []
   },
   "source": [
    "<h2 style='font-size:30px'> .tfrecord's Production</h2>\n",
    "<div> \n",
    "    <ul style='font-size:20px'> \n",
    "        <li> \n",
    "            TensorFlow records demands data to be stored in protobuf format. We can do so by placing the serialized information in an `Example` class. \n",
    "        </li>\n",
    "    </ul>\n",
    "</div>"
   ]
  },
  {
   "cell_type": "code",
   "execution_count": 4,
   "id": "e9d6bea8",
   "metadata": {
    "execution": {
     "iopub.execute_input": "2023-07-04T16:46:53.116851Z",
     "iopub.status.busy": "2023-07-04T16:46:53.116430Z",
     "iopub.status.idle": "2023-07-04T16:46:53.128887Z",
     "shell.execute_reply": "2023-07-04T16:46:53.128075Z"
    },
    "papermill": {
     "duration": 0.025877,
     "end_time": "2023-07-04T16:46:53.131158",
     "exception": false,
     "start_time": "2023-07-04T16:46:53.105281",
     "status": "completed"
    },
    "tags": []
   },
   "outputs": [],
   "source": [
    "from tensorflow import Tensor\n",
    "from tensorflow.train import BytesList, Example, Features, Feature, Int64List\n",
    "from tensorflow.io import serialize_tensor, TFRecordWriter\n",
    "\n",
    "def create_example(images:Tensor, targets:Tensor)->str:\n",
    "    '''\n",
    "        Generates a serialized `Example` object holding the pixel intensities and target values from a collection\n",
    "        of MNIST images.\n",
    "        \n",
    "        Parameters\n",
    "        ----------\n",
    "        `images`: A 3-D `tf.Tensor` with the digits pixels. \\n\n",
    "        `targets`: An 1-D `tf.Tensor` with the digits labels.\n",
    "        \n",
    "        Returns\n",
    "        -------\n",
    "        An `tf.train.Example` object storing both pixels and target values.\n",
    "    '''\n",
    "    # Serializing the input vectors.\n",
    "    serialized_images, serialized_targets = serialize_tensor(images), serialize_tensor(targets)\n",
    "    example = Example(\n",
    "        features=Features(\n",
    "            feature={\n",
    "            'pixels':Feature(bytes_list=BytesList(value=[serialized_images.numpy()])),\n",
    "            'target':Feature(bytes_list=BytesList(value=[serialized_targets.numpy()]))\n",
    "        }\n",
    "        ))\n",
    "    # Now, converting the `Example` object into a binary string.\n",
    "    return example.SerializeToString()"
   ]
  },
  {
   "cell_type": "code",
   "execution_count": 5,
   "id": "7661d4b3",
   "metadata": {
    "execution": {
     "iopub.execute_input": "2023-07-04T16:46:53.153209Z",
     "iopub.status.busy": "2023-07-04T16:46:53.152882Z",
     "iopub.status.idle": "2023-07-04T16:46:54.156895Z",
     "shell.execute_reply": "2023-07-04T16:46:54.155377Z"
    },
    "papermill": {
     "duration": 1.017906,
     "end_time": "2023-07-04T16:46:54.159891",
     "exception": false,
     "start_time": "2023-07-04T16:46:53.141985",
     "status": "completed"
    },
    "tags": []
   },
   "outputs": [],
   "source": [
    "# It is convenient to place all data files in a separate directory.\n",
    "! mkdir mnist"
   ]
  },
  {
   "cell_type": "code",
   "execution_count": 6,
   "id": "1d32dae6",
   "metadata": {
    "execution": {
     "iopub.execute_input": "2023-07-04T16:46:54.182791Z",
     "iopub.status.busy": "2023-07-04T16:46:54.182365Z",
     "iopub.status.idle": "2023-07-04T16:46:54.653274Z",
     "shell.execute_reply": "2023-07-04T16:46:54.652057Z"
    },
    "papermill": {
     "duration": 0.48516,
     "end_time": "2023-07-04T16:46:54.656244",
     "exception": false,
     "start_time": "2023-07-04T16:46:54.171084",
     "status": "completed"
    },
    "tags": []
   },
   "outputs": [],
   "source": [
    "def create_files(dataset:Dataset, filename:str, directory:str='.')->None:\n",
    "    '''\n",
    "        Creates the .tfrecord's files based on the batches from a provided `dataset`.\n",
    "        \n",
    "        Parameters\n",
    "        ----------\n",
    "        `dataset`: A `tf.data.Dataset` object. \\n\n",
    "        `filename`: A custom name for file identification. \\n\n",
    "        `directory`: A string that indicates the directory where the files are put.\n",
    "    '''\n",
    "    for index, (images, labels) in dataset.enumerate():\n",
    "        file = TFRecordWriter(f'{directory}/{filename}_{index}.tfrecord')\n",
    "        serialized_data = create_example(images, labels)\n",
    "        file.write(serialized_data)\n",
    "\n",
    "# Generating the files.\n",
    "create_files(train, 'train', 'mnist')\n",
    "create_files(val, 'val', 'mnist')\n",
    "create_files(test, 'test', 'mnist')"
   ]
  },
  {
   "cell_type": "markdown",
   "id": "359edc45",
   "metadata": {
    "papermill": {
     "duration": 0.009891,
     "end_time": "2023-07-04T16:46:54.676327",
     "exception": false,
     "start_time": "2023-07-04T16:46:54.666436",
     "status": "completed"
    },
    "tags": []
   },
   "source": [
    "<h2 style='font-size:30px'> Data Treatment</h2>\n",
    "<div> \n",
    "    <ul style='font-size:20px'> \n",
    "        <li> \n",
    "            With the files generated, we can proceed and handle the data importing and its proper treatment.\n",
    "        </li>\n",
    "    </ul>\n",
    "</div>"
   ]
  },
  {
   "cell_type": "code",
   "execution_count": 7,
   "id": "30619586",
   "metadata": {
    "execution": {
     "iopub.execute_input": "2023-07-04T16:46:54.698830Z",
     "iopub.status.busy": "2023-07-04T16:46:54.697668Z",
     "iopub.status.idle": "2023-07-04T16:46:54.751880Z",
     "shell.execute_reply": "2023-07-04T16:46:54.750837Z"
    },
    "papermill": {
     "duration": 0.068235,
     "end_time": "2023-07-04T16:46:54.754486",
     "exception": false,
     "start_time": "2023-07-04T16:46:54.686251",
     "status": "completed"
    },
    "tags": []
   },
   "outputs": [],
   "source": [
    "# Reading the data files separately.\n",
    "train_files = Dataset.list_files('mnist/train*')\n",
    "val_files = Dataset.list_files('mnist/val*')\n",
    "test_files = Dataset.list_files('mnist/test*')"
   ]
  },
  {
   "cell_type": "code",
   "execution_count": 8,
   "id": "c95ac9fa",
   "metadata": {
    "execution": {
     "iopub.execute_input": "2023-07-04T16:46:54.776224Z",
     "iopub.status.busy": "2023-07-04T16:46:54.775311Z",
     "iopub.status.idle": "2023-07-04T16:46:54.786773Z",
     "shell.execute_reply": "2023-07-04T16:46:54.785695Z"
    },
    "papermill": {
     "duration": 0.024689,
     "end_time": "2023-07-04T16:46:54.789079",
     "exception": false,
     "start_time": "2023-07-04T16:46:54.764390",
     "status": "completed"
    },
    "tags": []
   },
   "outputs": [],
   "source": [
    "from tensorflow import string, uint8\n",
    "from tensorflow.data import AUTOTUNE, TFRecordDataset\n",
    "from tensorflow.io import FixedLenFeature, parse_example, parse_tensor\n",
    "from typing import Optional, Iterable, Tuple\n",
    "\n",
    "def preprocess(tfrecord:Tensor)->Tuple[Tensor, Tensor]:\n",
    "    '''\n",
    "    Reads an encoded protobuf and returns its Tensors in numerical format.\n",
    "    \n",
    "    Parameter\n",
    "    ---------\n",
    "    `tfrecord`: A `tf.Tensor` that stores encoded protobufs.\n",
    "    \n",
    "    Returns\n",
    "    -------\n",
    "    Two tensors in a tuple. One with the pixel intensities and another containing the target values.\n",
    "    '''\n",
    "    features = {\n",
    "    'pixels':FixedLenFeature([], string, default_value=''), \n",
    "    'target':FixedLenFeature([], string, default_value='-1')\n",
    "                }\n",
    "    example = parse_example(tfrecord, features) # Returns a dictionary with the serialized images and target values.\n",
    "    pixels, target = parse_tensor(example['pixels'], uint8), parse_tensor(example['target'], uint8)\n",
    "    return pixels, target\n",
    "\n",
    "def read_files(filenames:Iterable[str], shuffle_size:Optional[int]=None, num_threads_reading:int=AUTOTUNE, \n",
    "               num_threads_preprocess:int=AUTOTUNE)->Dataset:\n",
    "    '''\n",
    "        Reads the .tfrecord files specified and retrieves a `tf.data.Dataset` object with the processed data.\n",
    "        \n",
    "        Parameters\n",
    "        ----------\n",
    "        `filenames`: The names of the files.\n",
    "        `shuffle_size`: If specified, it shuffles the Dataset using a deck with the specified length.\n",
    "        `num_threads_reading`: The number of threads to use when reading the files.\n",
    "        `num_threads_preprocess`: The number of threads to use when preprocessing the dataset.\n",
    "        \n",
    "        Returns\n",
    "        -------\n",
    "        The treated dataset.\n",
    "    '''\n",
    "    dataset = TFRecordDataset(filenames, num_parallel_reads=num_threads_reading)\n",
    "    if shuffle_size:\n",
    "        dataset.shuffle(shuffle_size)\n",
    "    return dataset.map(preprocess, num_parallel_calls=num_threads_preprocess).prefetch(1)"
   ]
  },
  {
   "cell_type": "markdown",
   "id": "266bea86",
   "metadata": {
    "papermill": {
     "duration": 0.009338,
     "end_time": "2023-07-04T16:46:54.807919",
     "exception": false,
     "start_time": "2023-07-04T16:46:54.798581",
     "status": "completed"
    },
    "tags": []
   },
   "source": [
    "<h2 style='font-size:30px'> Standardization Layer</h2>\n",
    "<div> \n",
    "    <ul style='font-size:20px'> \n",
    "        <li> \n",
    "            Here, we'll simply code a `tf.layers.Layer` object which fairly does a similar job of the Batch Normalization Layer. The main difference is that $\\mu$ and $\\sigma$ are computed in advance using the `adapt` function.\n",
    "        </li>\n",
    "    </ul>\n",
    "</div>"
   ]
  },
  {
   "cell_type": "code",
   "execution_count": 9,
   "id": "e207d371",
   "metadata": {
    "execution": {
     "iopub.execute_input": "2023-07-04T16:46:54.828909Z",
     "iopub.status.busy": "2023-07-04T16:46:54.828553Z",
     "iopub.status.idle": "2023-07-04T16:46:54.844248Z",
     "shell.execute_reply": "2023-07-04T16:46:54.843297Z"
    },
    "papermill": {
     "duration": 0.028958,
     "end_time": "2023-07-04T16:46:54.846577",
     "exception": false,
     "start_time": "2023-07-04T16:46:54.817619",
     "status": "completed"
    },
    "tags": []
   },
   "outputs": [],
   "source": [
    "# The layer will inherit the properties of the experimental `PreprocessingLayer`.\n",
    "from tensorflow.keras.layers.experimental.preprocessing import PreprocessingLayer\n",
    "from tensorflow.keras.layers import Layer\n",
    "from tensorflow.math import reduce_mean, reduce_std\n",
    "from tensorflow.keras.backend import epsilon\n",
    "from typing import Union\n",
    "\n",
    "class Standardize(PreprocessingLayer):\n",
    "    '''\n",
    "    A `PreprocessingLayer` object that carries out the standardization of a given array accordingly to an \n",
    "    informed axis.\n",
    "    \n",
    "    The necessary stats are computed before training with the `adapt` method. This feature the  class' main \n",
    "    difference from the `BatchNormalization` layer, which computes means and standard deviations on the fly.\n",
    "    '''    \n",
    "    \n",
    "    def adapt(self, input_data:Union[Dataset, Tensor], axis=0)->None:\n",
    "        '''\n",
    "            Computes means and std's from a provided `tf.Tensor` or `tf.data.Dataset`.\n",
    "            \n",
    "            Paramater\n",
    "            ---------\n",
    "            `input_data`: The array from which the stats are computed.\n",
    "            `axis`: The axis of choice to compute the stats.\n",
    "        '''\n",
    "        self.means = reduce_mean(input_data, axis=axis, keepdims=True)\n",
    "        self.stds = reduce_std(input_data, axis=axis, keepdims=True)\n",
    "        return self\n",
    "        \n",
    "    def call(self, input_data:Union[Dataset, Tensor])->Union[Dataset, Tensor]:\n",
    "        '''\n",
    "        The method that standardizes the array.\n",
    "        \n",
    "        Parameter\n",
    "        --------\n",
    "        `input_data`: The array in which we perform the standardization.\n",
    "        \n",
    "        Returns\n",
    "        -------\n",
    "        The standardized array.\n",
    "        '''\n",
    "        return (input_data - self.means) / (self.stds + epsilon())\n",
    "    \n",
    "    def get_config(self):\n",
    "        '''\n",
    "            Returns the Layer's configurations. It is needed for saving a class' instance for future uses.\n",
    "        '''\n",
    "        base_config = super().get_config() # Rendering the `Preprocessing` layer `get_config` output.\n",
    "        return {**base_config, 'means':self.means.numpy(), 'stds':self.stds.numpy()}\n",
    "    "
   ]
  },
  {
   "cell_type": "markdown",
   "id": "d783884f",
   "metadata": {
    "papermill": {
     "duration": 0.009452,
     "end_time": "2023-07-04T16:46:54.865594",
     "exception": false,
     "start_time": "2023-07-04T16:46:54.856142",
     "status": "completed"
    },
    "tags": []
   },
   "source": [
    "<h2 style='font-size:30px'> Neural Net Modeling</h2>\n",
    "<div> \n",
    "    <ul style='font-size:20px'> \n",
    "        <li> \n",
    "            With all the preprocessing stages programmed, we are able to model our Neural Network.\n",
    "        </li>\n",
    "        <li> \n",
    "            Firstly, we are going to design a simple Fully-Connected Neural Network and see how it performs.\n",
    "        </li>\n",
    "    </ul>\n",
    "</div>"
   ]
  },
  {
   "cell_type": "code",
   "execution_count": 10,
   "id": "12cf5ddc",
   "metadata": {
    "execution": {
     "iopub.execute_input": "2023-07-04T16:46:54.886633Z",
     "iopub.status.busy": "2023-07-04T16:46:54.886308Z",
     "iopub.status.idle": "2023-07-04T16:46:55.071472Z",
     "shell.execute_reply": "2023-07-04T16:46:55.070417Z"
    },
    "papermill": {
     "duration": 0.198861,
     "end_time": "2023-07-04T16:46:55.074290",
     "exception": false,
     "start_time": "2023-07-04T16:46:54.875429",
     "status": "completed"
    },
    "tags": []
   },
   "outputs": [],
   "source": [
    "# Reading all the .tfrecords created.\n",
    "train_set = read_files(train_files, shuffle_size=100)\n",
    "val_set = read_files(val_files)\n",
    "test_set = read_files(test_files)"
   ]
  },
  {
   "cell_type": "code",
   "execution_count": 11,
   "id": "454d7917",
   "metadata": {
    "execution": {
     "iopub.execute_input": "2023-07-04T16:46:55.095838Z",
     "iopub.status.busy": "2023-07-04T16:46:55.095169Z",
     "iopub.status.idle": "2023-07-04T16:46:55.283994Z",
     "shell.execute_reply": "2023-07-04T16:46:55.282855Z"
    },
    "papermill": {
     "duration": 0.202825,
     "end_time": "2023-07-04T16:46:55.287063",
     "exception": false,
     "start_time": "2023-07-04T16:46:55.084238",
     "status": "completed"
    },
    "tags": []
   },
   "outputs": [],
   "source": [
    "# But before actually fitting the NN, we need to adapt our `Standardize` layer with the training data.\n",
    "from tensorflow import concat, cast, float32\n",
    "train_pixels = list(train_set.map(lambda pixels, target: pixels).take(-1)) # Getting all the training images.\n",
    "train_pixels = cast(concat(train_pixels, axis=0), dtype=float32) # Concatenating the batches so that we end up\n",
    "                                                                # with a single 3-D matrix.\n",
    "\n",
    "# Now, instantiating the `Standardize` class and adapting it to the `train_pixels` data.\n",
    "standardize = Standardize(input_shape=train_pixels.shape[1:]).adapt(train_pixels, axis=0)"
   ]
  },
  {
   "cell_type": "code",
   "execution_count": 12,
   "id": "268ae895",
   "metadata": {
    "execution": {
     "iopub.execute_input": "2023-07-04T16:46:55.309092Z",
     "iopub.status.busy": "2023-07-04T16:46:55.308693Z",
     "iopub.status.idle": "2023-07-04T16:46:55.345070Z",
     "shell.execute_reply": "2023-07-04T16:46:55.344010Z"
    },
    "papermill": {
     "duration": 0.050986,
     "end_time": "2023-07-04T16:46:55.347920",
     "exception": false,
     "start_time": "2023-07-04T16:46:55.296934",
     "status": "completed"
    },
    "tags": []
   },
   "outputs": [],
   "source": [
    "# Finally, making our FCNN.\n",
    "from tensorflow.keras.models import Sequential\n",
    "from tensorflow.keras.layers import Dense, Dropout, Flatten, Input\n",
    "from tensorflow.keras.activations import elu, softmax\n",
    "from tensorflow.keras.initializers import GlorotNormal, HeNormal\n",
    "from tensorflow.keras.optimizers import SGD, Optimizer\n",
    "from tensorflow.keras.losses import SparseCategoricalCrossentropy, Loss\n",
    "from tensorflow.keras.metrics import Accuracy, Metric\n",
    "from typing import Callable\n",
    "\n",
    "# Here we define some of the model's settings.\n",
    "optimizer = SGD(momentum=.9, nesterov=True)\n",
    "loss = SparseCategoricalCrossentropy()\n",
    "metrics = [Accuracy()]\n",
    "\n",
    "def _check_length(neurons:Iterable, activations:Iterable)->bool:\n",
    "    '''\n",
    "        Checks whether both provided arrays have equal lengths.\n",
    "        \n",
    "        Parameters\n",
    "        ----------\n",
    "        `neurons`: First Array\n",
    "        `activations`: Second array\n",
    "        \n",
    "        Returns\n",
    "        -------\n",
    "        A boolean indicating the existance of such condition.\n",
    "    '''\n",
    "    if len(neurons) != len(activations):\n",
    "        raise  AttributeError('The `neurons` array must have the same length as `activations`')\n",
    "    return True\n",
    "\n",
    "def my_fcnn(neurons:Iterable[int], activations:Union[Iterable[Callable[[float], float]], Callable[[float], float]],dropout_ratio:float=None,  \n",
    "            input_shape:list=[28,28], **kwargs)->Sequential:\n",
    "    '''\n",
    "        Generates the Fully-Connected Neural Network for the project.\n",
    "        \n",
    "        Parameters\n",
    "        ----------\n",
    "        `neurons`: An iterable object that indicates the amount of neurons each hidden layer needs to own. Its length will suggest the amount of such layers the model will have.\n",
    "        \n",
    "        `activations`: The activation functions for each hidden layer. If the user wishes to use a single function to be applied in all layers, they\n",
    "                       can only inform just one callable object. Otherwise, it will be demanded an iterable object containing all the functions. \n",
    "                       Note that in such case, the structure needs to have the same length as `neurons`.\n",
    "        \n",
    "        `dropout_ratio`: The amount of dropout to be applied in every hidden layer. If 'None' - default value -, no dropout is used. \n",
    "        \n",
    "        `input_shape`: The original images' shape. Do not provide the batch size in the iterable.\n",
    "        \n",
    "        **kwargs: Any further keyword argument will be used in the `compile` method.\n",
    "        \n",
    "        Returns\n",
    "        -------\n",
    "        A Sequential object built accordingly to the user's preferences. If no **kwargs is provided, the model will have to be manually compiled.\n",
    "        \n",
    "    '''\n",
    "    # If the user informed a function for `activations`, a list of such callable of the same length as `hidden_layers`\n",
    "    # is created.\n",
    "    if isinstance(activations, Callable):\n",
    "        activations = [activations] * len(neurons)    \n",
    "    \n",
    "    # `check_length` is of use when 'activations' is given as an array by the user.\n",
    "    _check_length(neurons, activations)\n",
    "    \n",
    "    # Creating the model's basic structure.\n",
    "    model = Sequential([\n",
    "        Input(shape=input_shape),\n",
    "        standardize, \n",
    "        Flatten(), # The inputs are flattened after the standardization.\n",
    "    ])\n",
    "    \n",
    "    for units, activation in zip(neurons, activations):\n",
    "        model.add(Dense(units, activation=activation, kernel_initializer=HeNormal()))\n",
    "        # Adding Dropout if it is the user's wish.\n",
    "        if dropout_ratio:\n",
    "            model.add(Dropout(dropout_ratio))\n",
    "            \n",
    "    # In the end, applying the output layer.\n",
    "    model.add(Dense(units=10, activation=softmax , kernel_initializer=GlorotNormal()))\n",
    "    \n",
    "    # Compiling the model.\n",
    "    if kwargs:\n",
    "        model.compile(**kwargs)\n",
    "    return model"
   ]
  },
  {
   "cell_type": "code",
   "execution_count": 13,
   "id": "562ea329",
   "metadata": {
    "execution": {
     "iopub.execute_input": "2023-07-04T16:46:55.369985Z",
     "iopub.status.busy": "2023-07-04T16:46:55.369577Z",
     "iopub.status.idle": "2023-07-04T16:48:31.940770Z",
     "shell.execute_reply": "2023-07-04T16:48:31.939643Z"
    },
    "papermill": {
     "duration": 96.585169,
     "end_time": "2023-07-04T16:48:31.943377",
     "exception": false,
     "start_time": "2023-07-04T16:46:55.358208",
     "status": "completed"
    },
    "tags": []
   },
   "outputs": [
    {
     "name": "stdout",
     "output_type": "stream",
     "text": [
      "Epoch 1/100\n",
      "54/54 [==============================] - 15s 63ms/step - loss: 3.1779 - sparse_categorical_accuracy: 0.5023 - val_loss: 0.7199 - val_sparse_categorical_accuracy: 0.7820 - lr: 0.0025\n",
      "Epoch 2/100\n",
      "54/54 [==============================] - 1s 21ms/step - loss: 0.9445 - sparse_categorical_accuracy: 0.6946 - val_loss: 0.5257 - val_sparse_categorical_accuracy: 0.8183 - lr: 0.0025\n",
      "Epoch 3/100\n",
      "54/54 [==============================] - 1s 21ms/step - loss: 0.6984 - sparse_categorical_accuracy: 0.7580 - val_loss: 0.4752 - val_sparse_categorical_accuracy: 0.8310 - lr: 0.0025\n",
      "Epoch 4/100\n",
      "54/54 [==============================] - 1s 20ms/step - loss: 0.6122 - sparse_categorical_accuracy: 0.7887 - val_loss: 0.4533 - val_sparse_categorical_accuracy: 0.8387 - lr: 0.0025\n",
      "Epoch 5/100\n",
      "54/54 [==============================] - 1s 23ms/step - loss: 0.5710 - sparse_categorical_accuracy: 0.8052 - val_loss: 0.4338 - val_sparse_categorical_accuracy: 0.8418 - lr: 0.0025\n",
      "Epoch 6/100\n",
      "54/54 [==============================] - 1s 20ms/step - loss: 0.5450 - sparse_categorical_accuracy: 0.8138 - val_loss: 0.4209 - val_sparse_categorical_accuracy: 0.8505 - lr: 0.0025\n",
      "Epoch 7/100\n",
      "54/54 [==============================] - 1s 21ms/step - loss: 0.5165 - sparse_categorical_accuracy: 0.8244 - val_loss: 0.4149 - val_sparse_categorical_accuracy: 0.8532 - lr: 0.0025\n",
      "Epoch 8/100\n",
      "54/54 [==============================] - 1s 21ms/step - loss: 0.5069 - sparse_categorical_accuracy: 0.8270 - val_loss: 0.4076 - val_sparse_categorical_accuracy: 0.8493 - lr: 0.0025\n",
      "Epoch 9/100\n",
      "54/54 [==============================] - 1s 26ms/step - loss: 0.4905 - sparse_categorical_accuracy: 0.8313 - val_loss: 0.3998 - val_sparse_categorical_accuracy: 0.8548 - lr: 0.0025\n",
      "Epoch 10/100\n",
      "54/54 [==============================] - 1s 22ms/step - loss: 0.4822 - sparse_categorical_accuracy: 0.8334 - val_loss: 0.4015 - val_sparse_categorical_accuracy: 0.8560 - lr: 0.0025\n",
      "Epoch 11/100\n",
      "54/54 [==============================] - 1s 20ms/step - loss: 0.4687 - sparse_categorical_accuracy: 0.8381 - val_loss: 0.3862 - val_sparse_categorical_accuracy: 0.8580 - lr: 0.0025\n",
      "Epoch 12/100\n",
      "54/54 [==============================] - 1s 21ms/step - loss: 0.4616 - sparse_categorical_accuracy: 0.8406 - val_loss: 0.3792 - val_sparse_categorical_accuracy: 0.8610 - lr: 0.0025\n",
      "Epoch 13/100\n",
      "54/54 [==============================] - 1s 22ms/step - loss: 0.4591 - sparse_categorical_accuracy: 0.8414 - val_loss: 0.3776 - val_sparse_categorical_accuracy: 0.8633 - lr: 0.0025\n",
      "Epoch 14/100\n",
      "54/54 [==============================] - 1s 20ms/step - loss: 0.4502 - sparse_categorical_accuracy: 0.8459 - val_loss: 0.3727 - val_sparse_categorical_accuracy: 0.8640 - lr: 0.0025\n",
      "Epoch 15/100\n",
      "54/54 [==============================] - 1s 21ms/step - loss: 0.4419 - sparse_categorical_accuracy: 0.8479 - val_loss: 0.3739 - val_sparse_categorical_accuracy: 0.8632 - lr: 0.0025\n",
      "Epoch 16/100\n",
      "54/54 [==============================] - 1s 21ms/step - loss: 0.4354 - sparse_categorical_accuracy: 0.8496 - val_loss: 0.3714 - val_sparse_categorical_accuracy: 0.8713 - lr: 0.0025\n",
      "Epoch 17/100\n",
      "54/54 [==============================] - 1s 20ms/step - loss: 0.4243 - sparse_categorical_accuracy: 0.8556 - val_loss: 0.3631 - val_sparse_categorical_accuracy: 0.8695 - lr: 0.0025\n",
      "Epoch 18/100\n",
      "54/54 [==============================] - 1s 20ms/step - loss: 0.4235 - sparse_categorical_accuracy: 0.8538 - val_loss: 0.3523 - val_sparse_categorical_accuracy: 0.8713 - lr: 0.0025\n",
      "Epoch 19/100\n",
      "54/54 [==============================] - 1s 20ms/step - loss: 0.4125 - sparse_categorical_accuracy: 0.8560 - val_loss: 0.3572 - val_sparse_categorical_accuracy: 0.8710 - lr: 0.0025\n",
      "Epoch 20/100\n",
      "54/54 [==============================] - 1s 20ms/step - loss: 0.4134 - sparse_categorical_accuracy: 0.8560 - val_loss: 0.3550 - val_sparse_categorical_accuracy: 0.8725 - lr: 0.0025\n",
      "Epoch 21/100\n",
      "54/54 [==============================] - 1s 22ms/step - loss: 0.4051 - sparse_categorical_accuracy: 0.8594 - val_loss: 0.3590 - val_sparse_categorical_accuracy: 0.8713 - lr: 0.0025\n",
      "Epoch 22/100\n",
      "54/54 [==============================] - 1s 22ms/step - loss: 0.4013 - sparse_categorical_accuracy: 0.8627 - val_loss: 0.3518 - val_sparse_categorical_accuracy: 0.8748 - lr: 0.0025\n",
      "Epoch 23/100\n",
      "54/54 [==============================] - 1s 20ms/step - loss: 0.3925 - sparse_categorical_accuracy: 0.8635 - val_loss: 0.3507 - val_sparse_categorical_accuracy: 0.8765 - lr: 0.0025\n",
      "Epoch 24/100\n",
      "54/54 [==============================] - 1s 21ms/step - loss: 0.3883 - sparse_categorical_accuracy: 0.8655 - val_loss: 0.3465 - val_sparse_categorical_accuracy: 0.8777 - lr: 0.0025\n",
      "Epoch 25/100\n",
      "54/54 [==============================] - 1s 21ms/step - loss: 0.3901 - sparse_categorical_accuracy: 0.8643 - val_loss: 0.3450 - val_sparse_categorical_accuracy: 0.8745 - lr: 0.0025\n",
      "Epoch 26/100\n",
      "54/54 [==============================] - 1s 21ms/step - loss: 0.3862 - sparse_categorical_accuracy: 0.8657 - val_loss: 0.3484 - val_sparse_categorical_accuracy: 0.8788 - lr: 0.0025\n",
      "Epoch 27/100\n",
      "54/54 [==============================] - 1s 22ms/step - loss: 0.3799 - sparse_categorical_accuracy: 0.8689 - val_loss: 0.3371 - val_sparse_categorical_accuracy: 0.8775 - lr: 0.0025\n",
      "Epoch 28/100\n",
      "54/54 [==============================] - 1s 20ms/step - loss: 0.3752 - sparse_categorical_accuracy: 0.8693 - val_loss: 0.3377 - val_sparse_categorical_accuracy: 0.8747 - lr: 0.0025\n",
      "Epoch 29/100\n",
      "54/54 [==============================] - 1s 21ms/step - loss: 0.3716 - sparse_categorical_accuracy: 0.8715 - val_loss: 0.3340 - val_sparse_categorical_accuracy: 0.8770 - lr: 0.0025\n",
      "Epoch 30/100\n",
      "54/54 [==============================] - 1s 20ms/step - loss: 0.3784 - sparse_categorical_accuracy: 0.8694 - val_loss: 0.3414 - val_sparse_categorical_accuracy: 0.8840 - lr: 0.0025\n",
      "Epoch 31/100\n",
      "54/54 [==============================] - 1s 20ms/step - loss: 0.3752 - sparse_categorical_accuracy: 0.8686 - val_loss: 0.3327 - val_sparse_categorical_accuracy: 0.8847 - lr: 0.0025\n",
      "Epoch 32/100\n",
      "54/54 [==============================] - 1s 20ms/step - loss: 0.3721 - sparse_categorical_accuracy: 0.8691 - val_loss: 0.3296 - val_sparse_categorical_accuracy: 0.8808 - lr: 0.0025\n",
      "Epoch 33/100\n",
      "54/54 [==============================] - 1s 21ms/step - loss: 0.3600 - sparse_categorical_accuracy: 0.8742 - val_loss: 0.3272 - val_sparse_categorical_accuracy: 0.8810 - lr: 0.0020\n",
      "Epoch 34/100\n",
      "54/54 [==============================] - 1s 20ms/step - loss: 0.3495 - sparse_categorical_accuracy: 0.8761 - val_loss: 0.3355 - val_sparse_categorical_accuracy: 0.8817 - lr: 0.0020\n",
      "Epoch 35/100\n",
      "54/54 [==============================] - 1s 22ms/step - loss: 0.3471 - sparse_categorical_accuracy: 0.8774 - val_loss: 0.3323 - val_sparse_categorical_accuracy: 0.8825 - lr: 0.0020\n",
      "Epoch 36/100\n",
      "54/54 [==============================] - 1s 20ms/step - loss: 0.3414 - sparse_categorical_accuracy: 0.8796 - val_loss: 0.3264 - val_sparse_categorical_accuracy: 0.8848 - lr: 0.0020\n",
      "Epoch 37/100\n",
      "54/54 [==============================] - 1s 20ms/step - loss: 0.3409 - sparse_categorical_accuracy: 0.8810 - val_loss: 0.3190 - val_sparse_categorical_accuracy: 0.8873 - lr: 0.0020\n",
      "Epoch 38/100\n",
      "54/54 [==============================] - 1s 20ms/step - loss: 0.3371 - sparse_categorical_accuracy: 0.8819 - val_loss: 0.3207 - val_sparse_categorical_accuracy: 0.8818 - lr: 0.0020\n",
      "Epoch 39/100\n",
      "54/54 [==============================] - 1s 22ms/step - loss: 0.3369 - sparse_categorical_accuracy: 0.8803 - val_loss: 0.3229 - val_sparse_categorical_accuracy: 0.8827 - lr: 0.0020\n",
      "Epoch 40/100\n",
      "54/54 [==============================] - 1s 21ms/step - loss: 0.3354 - sparse_categorical_accuracy: 0.8809 - val_loss: 0.3259 - val_sparse_categorical_accuracy: 0.8875 - lr: 0.0020\n",
      "Epoch 41/100\n",
      "54/54 [==============================] - 1s 20ms/step - loss: 0.3381 - sparse_categorical_accuracy: 0.8808 - val_loss: 0.3256 - val_sparse_categorical_accuracy: 0.8878 - lr: 0.0020\n",
      "Epoch 42/100\n",
      "54/54 [==============================] - 1s 21ms/step - loss: 0.3287 - sparse_categorical_accuracy: 0.8857 - val_loss: 0.3251 - val_sparse_categorical_accuracy: 0.8840 - lr: 0.0020\n",
      "Epoch 43/100\n",
      "54/54 [==============================] - 1s 22ms/step - loss: 0.3304 - sparse_categorical_accuracy: 0.8838 - val_loss: 0.3206 - val_sparse_categorical_accuracy: 0.8902 - lr: 0.0020\n",
      "Epoch 44/100\n",
      "54/54 [==============================] - 1s 20ms/step - loss: 0.3306 - sparse_categorical_accuracy: 0.8833 - val_loss: 0.3154 - val_sparse_categorical_accuracy: 0.8877 - lr: 0.0020\n",
      "Epoch 45/100\n",
      "54/54 [==============================] - 1s 23ms/step - loss: 0.3249 - sparse_categorical_accuracy: 0.8867 - val_loss: 0.3144 - val_sparse_categorical_accuracy: 0.8872 - lr: 0.0020\n",
      "Epoch 46/100\n",
      "54/54 [==============================] - 1s 20ms/step - loss: 0.3206 - sparse_categorical_accuracy: 0.8876 - val_loss: 0.3198 - val_sparse_categorical_accuracy: 0.8883 - lr: 0.0020\n",
      "Epoch 47/100\n",
      "54/54 [==============================] - 1s 20ms/step - loss: 0.3255 - sparse_categorical_accuracy: 0.8863 - val_loss: 0.3170 - val_sparse_categorical_accuracy: 0.8892 - lr: 0.0020\n",
      "Epoch 48/100\n",
      "54/54 [==============================] - 1s 21ms/step - loss: 0.3179 - sparse_categorical_accuracy: 0.8884 - val_loss: 0.3116 - val_sparse_categorical_accuracy: 0.8892 - lr: 0.0016\n",
      "Epoch 49/100\n",
      "54/54 [==============================] - 1s 20ms/step - loss: 0.3123 - sparse_categorical_accuracy: 0.8897 - val_loss: 0.3141 - val_sparse_categorical_accuracy: 0.8885 - lr: 0.0016\n",
      "Epoch 50/100\n",
      "54/54 [==============================] - 1s 22ms/step - loss: 0.3096 - sparse_categorical_accuracy: 0.8899 - val_loss: 0.3128 - val_sparse_categorical_accuracy: 0.8923 - lr: 0.0016\n",
      "Epoch 51/100\n",
      "54/54 [==============================] - 1s 20ms/step - loss: 0.3052 - sparse_categorical_accuracy: 0.8904 - val_loss: 0.3070 - val_sparse_categorical_accuracy: 0.8927 - lr: 0.0016\n",
      "Epoch 52/100\n",
      "54/54 [==============================] - 1s 20ms/step - loss: 0.3029 - sparse_categorical_accuracy: 0.8927 - val_loss: 0.3102 - val_sparse_categorical_accuracy: 0.8918 - lr: 0.0016\n",
      "Epoch 53/100\n",
      "54/54 [==============================] - 1s 21ms/step - loss: 0.3042 - sparse_categorical_accuracy: 0.8925 - val_loss: 0.3136 - val_sparse_categorical_accuracy: 0.8935 - lr: 0.0016\n",
      "Epoch 54/100\n",
      "54/54 [==============================] - 1s 20ms/step - loss: 0.3049 - sparse_categorical_accuracy: 0.8931 - val_loss: 0.3187 - val_sparse_categorical_accuracy: 0.8897 - lr: 0.0016\n",
      "Epoch 55/100\n",
      "54/54 [==============================] - 1s 21ms/step - loss: 0.2967 - sparse_categorical_accuracy: 0.8943 - val_loss: 0.3164 - val_sparse_categorical_accuracy: 0.8892 - lr: 0.0016\n",
      "Epoch 56/100\n",
      "54/54 [==============================] - 1s 21ms/step - loss: 0.2949 - sparse_categorical_accuracy: 0.8965 - val_loss: 0.3091 - val_sparse_categorical_accuracy: 0.8912 - lr: 0.0016\n",
      "Epoch 57/100\n",
      "54/54 [==============================] - 1s 20ms/step - loss: 0.2960 - sparse_categorical_accuracy: 0.8961 - val_loss: 0.3084 - val_sparse_categorical_accuracy: 0.8938 - lr: 0.0016\n",
      "Epoch 58/100\n",
      "54/54 [==============================] - 1s 24ms/step - loss: 0.2874 - sparse_categorical_accuracy: 0.8960 - val_loss: 0.3104 - val_sparse_categorical_accuracy: 0.8913 - lr: 0.0013\n",
      "Epoch 59/100\n",
      "54/54 [==============================] - 1s 20ms/step - loss: 0.2849 - sparse_categorical_accuracy: 0.8969 - val_loss: 0.3134 - val_sparse_categorical_accuracy: 0.8933 - lr: 0.0013\n",
      "Epoch 60/100\n",
      "54/54 [==============================] - 1s 21ms/step - loss: 0.2829 - sparse_categorical_accuracy: 0.9002 - val_loss: 0.3067 - val_sparse_categorical_accuracy: 0.8930 - lr: 0.0013\n",
      "Epoch 61/100\n",
      "54/54 [==============================] - 1s 20ms/step - loss: 0.2854 - sparse_categorical_accuracy: 0.8982 - val_loss: 0.3091 - val_sparse_categorical_accuracy: 0.8942 - lr: 0.0013\n",
      "Epoch 62/100\n",
      "54/54 [==============================] - 1s 21ms/step - loss: 0.2827 - sparse_categorical_accuracy: 0.9000 - val_loss: 0.3079 - val_sparse_categorical_accuracy: 0.8948 - lr: 0.0013\n"
     ]
    }
   ],
   "source": [
    "# Compiling and fitting the model.\n",
    "from numpy.random import randint, seed\n",
    "from tensorflow.keras.optimizers import Adam \n",
    "from tensorflow.keras.losses import SparseCategoricalCrossentropy\n",
    "from tensorflow.keras.metrics import SparseCategoricalAccuracy\n",
    "from tensorflow.keras.callbacks import EarlyStopping, ReduceLROnPlateau\n",
    "from tensorflow.config import list_logical_devices\n",
    "import tensorflow.distribute as tf_dist\n",
    "\n",
    "seed(42) \n",
    "\n",
    "# Running the fitting in our available GPU's.\n",
    "gpus = list_logical_devices('GPU')\n",
    "strategy = tf_dist.MirroredStrategy(gpus)\n",
    "\n",
    "# Informing TensorFlow to run the training in the GPU's.\n",
    "with strategy.scope():\n",
    "    # Setting the compilation configs.\n",
    "    optimizer = Adam(learning_rate=0.0025)\n",
    "    loss = SparseCategoricalCrossentropy()\n",
    "    metrics = [SparseCategoricalAccuracy()]\n",
    "    callbacks = [EarlyStopping(monitor='val_sparse_categorical_accuracy', min_delta=.01, patience=25, restore_best_weights=True),\n",
    "                    ReduceLROnPlateau(monitor='val_sparse_categorical_accuracy', factor=.8, min_delta=.01, patience=10)]\n",
    "    neurons = randint(200, 400, 5)\n",
    "    \n",
    "    # Creating the model and fitting it.\n",
    "    fcnn = my_fcnn(neurons, elu, .5, optimizer=optimizer, loss=loss, metrics=metrics)\n",
    "    fcnn.fit(x=train_set, epochs=100, callbacks=callbacks, validation_data=val_set)"
   ]
  },
  {
   "cell_type": "markdown",
   "id": "c62aba8d",
   "metadata": {
    "papermill": {
     "duration": 0.084335,
     "end_time": "2023-07-04T16:48:32.114615",
     "exception": false,
     "start_time": "2023-07-04T16:48:32.030280",
     "status": "completed"
    },
    "tags": []
   },
   "source": [
    "<h3 style='font-size:30px;font-style:italic'> Extra Challenge: LeNet-5 </h3>\n",
    "<div> \n",
    "    <ul style='font-size:20px'> \n",
    "        <li> \n",
    "            Fully-Connected Neural Networks are utterly unsuitable to tasks such as Computer Vision. In modern DL systems, Convolutional Neural Networks show up as a resource both trustable and computationally lighter for this duty.\n",
    "        </li>\n",
    "        <li> \n",
    "            Hence, we'll design here a LeNet-5 model because of its success in digit recognition. \n",
    "        </li>\n",
    "    </ul>\n",
    "</div>"
   ]
  },
  {
   "cell_type": "code",
   "execution_count": 14,
   "id": "de8688e0",
   "metadata": {
    "execution": {
     "iopub.execute_input": "2023-07-04T16:48:32.285667Z",
     "iopub.status.busy": "2023-07-04T16:48:32.285254Z",
     "iopub.status.idle": "2023-07-04T16:48:32.294901Z",
     "shell.execute_reply": "2023-07-04T16:48:32.293799Z"
    },
    "papermill": {
     "duration": 0.098085,
     "end_time": "2023-07-04T16:48:32.297450",
     "exception": false,
     "start_time": "2023-07-04T16:48:32.199365",
     "status": "completed"
    },
    "tags": []
   },
   "outputs": [],
   "source": [
    "# We'll be designing here a LetNet-5 NN. Thus, we'll need some extra components.\n",
    "\n",
    "# The images that feed the Input Layer of such model have 32x32 shape. Since the MNIST digits are 28x28 it is\n",
    "# necessary to add zero-padding to each matrix.\n",
    "from tensorflow.keras.layers import Reshape, ZeroPadding2D\n",
    "\n",
    "# `ZeroPadding2d` demands the inputs to own a dimension for the amount of channels. That's why we are invoking the\n",
    "# `Reshape` layer as well.\n",
    "target_shape = train_pixels.shape[1:]+[1]\n",
    "reshape = Reshape(target_shape=target_shape)\n",
    "\n",
    "# Instantiating the `ZeroPadding2D` layer.\n",
    "zero_padding_2d = ZeroPadding2D(padding=2)"
   ]
  },
  {
   "cell_type": "code",
   "execution_count": 15,
   "id": "b7ef148c",
   "metadata": {
    "execution": {
     "iopub.execute_input": "2023-07-04T16:48:32.472453Z",
     "iopub.status.busy": "2023-07-04T16:48:32.472086Z",
     "iopub.status.idle": "2023-07-04T16:49:49.441920Z",
     "shell.execute_reply": "2023-07-04T16:49:49.440841Z"
    },
    "papermill": {
     "duration": 77.058792,
     "end_time": "2023-07-04T16:49:49.444633",
     "exception": false,
     "start_time": "2023-07-04T16:48:32.385841",
     "status": "completed"
    },
    "tags": []
   },
   "outputs": [
    {
     "name": "stdout",
     "output_type": "stream",
     "text": [
      "Epoch 1/100\n",
      "54/54 [==============================] - 14s 60ms/step - loss: 0.8527 - sparse_categorical_accuracy: 0.7074 - val_loss: 0.5631 - val_sparse_categorical_accuracy: 0.8023 - lr: 0.0012\n",
      "Epoch 2/100\n",
      "54/54 [==============================] - 1s 27ms/step - loss: 0.5093 - sparse_categorical_accuracy: 0.8202 - val_loss: 0.4634 - val_sparse_categorical_accuracy: 0.8397 - lr: 0.0012\n",
      "Epoch 3/100\n",
      "54/54 [==============================] - 1s 25ms/step - loss: 0.4376 - sparse_categorical_accuracy: 0.8460 - val_loss: 0.4088 - val_sparse_categorical_accuracy: 0.8538 - lr: 0.0012\n",
      "Epoch 4/100\n",
      "54/54 [==============================] - 1s 26ms/step - loss: 0.3967 - sparse_categorical_accuracy: 0.8581 - val_loss: 0.3899 - val_sparse_categorical_accuracy: 0.8572 - lr: 0.0012\n",
      "Epoch 5/100\n",
      "54/54 [==============================] - 1s 24ms/step - loss: 0.3690 - sparse_categorical_accuracy: 0.8690 - val_loss: 0.3661 - val_sparse_categorical_accuracy: 0.8680 - lr: 0.0012\n",
      "Epoch 6/100\n",
      "54/54 [==============================] - 1s 27ms/step - loss: 0.3473 - sparse_categorical_accuracy: 0.8751 - val_loss: 0.3540 - val_sparse_categorical_accuracy: 0.8723 - lr: 0.0012\n",
      "Epoch 7/100\n",
      "54/54 [==============================] - 1s 26ms/step - loss: 0.3330 - sparse_categorical_accuracy: 0.8804 - val_loss: 0.3441 - val_sparse_categorical_accuracy: 0.8755 - lr: 0.0012\n",
      "Epoch 8/100\n",
      "54/54 [==============================] - 1s 26ms/step - loss: 0.3207 - sparse_categorical_accuracy: 0.8847 - val_loss: 0.3310 - val_sparse_categorical_accuracy: 0.8772 - lr: 0.0012\n",
      "Epoch 9/100\n",
      "54/54 [==============================] - 1s 25ms/step - loss: 0.3065 - sparse_categorical_accuracy: 0.8895 - val_loss: 0.3198 - val_sparse_categorical_accuracy: 0.8815 - lr: 0.0012\n",
      "Epoch 10/100\n",
      "54/54 [==============================] - 1s 25ms/step - loss: 0.2965 - sparse_categorical_accuracy: 0.8938 - val_loss: 0.3201 - val_sparse_categorical_accuracy: 0.8825 - lr: 0.0012\n",
      "Epoch 11/100\n",
      "54/54 [==============================] - 1s 25ms/step - loss: 0.2873 - sparse_categorical_accuracy: 0.8965 - val_loss: 0.3217 - val_sparse_categorical_accuracy: 0.8813 - lr: 0.0012\n",
      "Epoch 12/100\n",
      "54/54 [==============================] - 1s 27ms/step - loss: 0.2820 - sparse_categorical_accuracy: 0.8981 - val_loss: 0.3065 - val_sparse_categorical_accuracy: 0.8887 - lr: 0.0012\n",
      "Epoch 13/100\n",
      "54/54 [==============================] - 2s 28ms/step - loss: 0.2706 - sparse_categorical_accuracy: 0.9021 - val_loss: 0.3020 - val_sparse_categorical_accuracy: 0.8903 - lr: 0.0012\n",
      "Epoch 14/100\n",
      "54/54 [==============================] - 1s 25ms/step - loss: 0.2607 - sparse_categorical_accuracy: 0.9057 - val_loss: 0.2994 - val_sparse_categorical_accuracy: 0.8957 - lr: 0.0012\n",
      "Epoch 15/100\n",
      "54/54 [==============================] - 1s 26ms/step - loss: 0.2548 - sparse_categorical_accuracy: 0.9076 - val_loss: 0.3016 - val_sparse_categorical_accuracy: 0.8930 - lr: 0.0012\n",
      "Epoch 16/100\n",
      "54/54 [==============================] - 2s 30ms/step - loss: 0.2479 - sparse_categorical_accuracy: 0.9103 - val_loss: 0.2903 - val_sparse_categorical_accuracy: 0.8962 - lr: 0.0012\n",
      "Epoch 17/100\n",
      "54/54 [==============================] - 1s 25ms/step - loss: 0.2420 - sparse_categorical_accuracy: 0.9119 - val_loss: 0.2914 - val_sparse_categorical_accuracy: 0.8975 - lr: 0.0012\n",
      "Epoch 18/100\n",
      "54/54 [==============================] - 1s 25ms/step - loss: 0.2380 - sparse_categorical_accuracy: 0.9129 - val_loss: 0.2905 - val_sparse_categorical_accuracy: 0.8935 - lr: 0.0012\n",
      "Epoch 19/100\n",
      "54/54 [==============================] - 1s 26ms/step - loss: 0.2288 - sparse_categorical_accuracy: 0.9169 - val_loss: 0.2905 - val_sparse_categorical_accuracy: 0.8942 - lr: 0.0012\n",
      "Epoch 20/100\n",
      "54/54 [==============================] - 1s 25ms/step - loss: 0.2279 - sparse_categorical_accuracy: 0.9168 - val_loss: 0.2853 - val_sparse_categorical_accuracy: 0.8980 - lr: 0.0012\n",
      "Epoch 21/100\n",
      "54/54 [==============================] - 1s 25ms/step - loss: 0.2204 - sparse_categorical_accuracy: 0.9198 - val_loss: 0.2864 - val_sparse_categorical_accuracy: 0.8935 - lr: 0.0012\n",
      "Epoch 22/100\n",
      "54/54 [==============================] - 1s 26ms/step - loss: 0.2143 - sparse_categorical_accuracy: 0.9221 - val_loss: 0.2838 - val_sparse_categorical_accuracy: 0.9012 - lr: 0.0012\n",
      "Epoch 23/100\n",
      "54/54 [==============================] - 1s 26ms/step - loss: 0.2092 - sparse_categorical_accuracy: 0.9242 - val_loss: 0.2849 - val_sparse_categorical_accuracy: 0.8963 - lr: 0.0012\n",
      "Epoch 24/100\n",
      "54/54 [==============================] - 1s 26ms/step - loss: 0.2034 - sparse_categorical_accuracy: 0.9255 - val_loss: 0.2843 - val_sparse_categorical_accuracy: 0.9013 - lr: 0.0012\n",
      "Epoch 25/100\n",
      "54/54 [==============================] - 1s 27ms/step - loss: 0.2002 - sparse_categorical_accuracy: 0.9271 - val_loss: 0.2851 - val_sparse_categorical_accuracy: 0.8998 - lr: 0.0012\n",
      "Epoch 26/100\n",
      "54/54 [==============================] - 1s 27ms/step - loss: 0.1947 - sparse_categorical_accuracy: 0.9296 - val_loss: 0.2869 - val_sparse_categorical_accuracy: 0.9015 - lr: 0.0012\n",
      "Epoch 27/100\n",
      "54/54 [==============================] - 1s 25ms/step - loss: 0.1885 - sparse_categorical_accuracy: 0.9311 - val_loss: 0.2815 - val_sparse_categorical_accuracy: 0.8997 - lr: 0.0012\n",
      "Epoch 28/100\n",
      "54/54 [==============================] - 1s 25ms/step - loss: 0.1836 - sparse_categorical_accuracy: 0.9341 - val_loss: 0.2831 - val_sparse_categorical_accuracy: 0.9007 - lr: 0.0012\n",
      "Epoch 29/100\n",
      "54/54 [==============================] - 1s 27ms/step - loss: 0.1788 - sparse_categorical_accuracy: 0.9360 - val_loss: 0.2911 - val_sparse_categorical_accuracy: 0.8960 - lr: 0.0012\n",
      "Epoch 30/100\n",
      "54/54 [==============================] - 1s 25ms/step - loss: 0.1769 - sparse_categorical_accuracy: 0.9360 - val_loss: 0.2907 - val_sparse_categorical_accuracy: 0.8990 - lr: 0.0012\n",
      "Epoch 31/100\n",
      "54/54 [==============================] - 1s 26ms/step - loss: 0.1736 - sparse_categorical_accuracy: 0.9372 - val_loss: 0.2911 - val_sparse_categorical_accuracy: 0.8987 - lr: 0.0012\n",
      "Epoch 32/100\n",
      "54/54 [==============================] - 1s 25ms/step - loss: 0.1654 - sparse_categorical_accuracy: 0.9407 - val_loss: 0.2891 - val_sparse_categorical_accuracy: 0.9002 - lr: 0.0012\n",
      "Epoch 33/100\n",
      "54/54 [==============================] - 1s 25ms/step - loss: 0.1543 - sparse_categorical_accuracy: 0.9448 - val_loss: 0.2847 - val_sparse_categorical_accuracy: 0.9007 - lr: 6.2500e-04\n",
      "Epoch 34/100\n",
      "54/54 [==============================] - 1s 25ms/step - loss: 0.1510 - sparse_categorical_accuracy: 0.9461 - val_loss: 0.2867 - val_sparse_categorical_accuracy: 0.9020 - lr: 6.2500e-04\n",
      "Epoch 35/100\n",
      "54/54 [==============================] - 1s 27ms/step - loss: 0.1475 - sparse_categorical_accuracy: 0.9479 - val_loss: 0.2846 - val_sparse_categorical_accuracy: 0.9023 - lr: 6.2500e-04\n",
      "Epoch 36/100\n",
      "54/54 [==============================] - 2s 31ms/step - loss: 0.1449 - sparse_categorical_accuracy: 0.9489 - val_loss: 0.2863 - val_sparse_categorical_accuracy: 0.8977 - lr: 6.2500e-04\n",
      "Epoch 37/100\n",
      "54/54 [==============================] - 1s 27ms/step - loss: 0.1431 - sparse_categorical_accuracy: 0.9499 - val_loss: 0.2871 - val_sparse_categorical_accuracy: 0.9013 - lr: 6.2500e-04\n",
      "Epoch 38/100\n",
      "54/54 [==============================] - 1s 25ms/step - loss: 0.1410 - sparse_categorical_accuracy: 0.9506 - val_loss: 0.2915 - val_sparse_categorical_accuracy: 0.9000 - lr: 6.2500e-04\n",
      "Epoch 39/100\n",
      "54/54 [==============================] - 1s 25ms/step - loss: 0.1394 - sparse_categorical_accuracy: 0.9505 - val_loss: 0.2886 - val_sparse_categorical_accuracy: 0.9023 - lr: 6.2500e-04\n"
     ]
    }
   ],
   "source": [
    "from tensorflow.keras.layers import Conv2D, AveragePooling2D\n",
    "# Informing TensorFlow to run the training in the GPU's.\n",
    "with strategy.scope():\n",
    "    \n",
    "    # Building our LeNet-5\n",
    "    lenet5 = Sequential([\n",
    "        # Initial layers.\n",
    "        Input(shape=[28,28]),\n",
    "        standardize, # Note that the inputs need to be standardized as well in this architecture.\n",
    "        reshape,\n",
    "        zero_padding_2d,\n",
    "\n",
    "        # Performing the Convolutions and Pooling in accordance to LeNet-5's architecture.\n",
    "        Conv2D(filters=6, kernel_size=5, strides=1, activation='tanh'),\n",
    "        AveragePooling2D(),\n",
    "        Conv2D(filters=16, kernel_size=5, strides=1, activation='tanh'),\n",
    "        AveragePooling2D(),\n",
    "        Conv2D(filters=120, kernel_size=5, strides=1, activation='tanh'),\n",
    "\n",
    "        # A Dense layer followed by the output layer.\n",
    "        Flatten(),\n",
    "        Dense(units=84, activation='tanh', kernel_initializer=GlorotNormal()),\n",
    "        Dense(units=10, activation='softmax')\n",
    "\n",
    "    ])\n",
    "\n",
    "    # Setting the compilation configs.\n",
    "    optimizer = Adam(learning_rate=0.00125)\n",
    "    loss = SparseCategoricalCrossentropy()\n",
    "    metrics = [SparseCategoricalAccuracy()]\n",
    "    callbacks = [EarlyStopping(monitor='val_sparse_categorical_accuracy', min_delta=.01, patience=25, restore_best_weights=True),\n",
    "                    ReduceLROnPlateau(monitor='val_sparse_categorical_accuracy', factor=.5, min_delta=.005, patience=10)]\n",
    "    \n",
    "    # Creating the model and fitting it.\n",
    "    lenet5.compile(optimizer=optimizer, loss=loss, metrics=metrics)\n",
    "    lenet5.fit(x=train_set, epochs=100, callbacks=callbacks, validation_data=val_set)"
   ]
  },
  {
   "cell_type": "markdown",
   "id": "4e72f81e",
   "metadata": {
    "papermill": {
     "duration": 0.144856,
     "end_time": "2023-07-04T16:49:49.737287",
     "exception": false,
     "start_time": "2023-07-04T16:49:49.592431",
     "status": "completed"
    },
    "tags": []
   },
   "source": [
    "<h2 style='font-size:30px'> Models Testing and Comparison</h2>\n",
    "<div> \n",
    "    <ul style='font-size:20px'> \n",
    "        <li> \n",
    "            By seeing the fitting logs, we cannot observe a big difference between the NN's accuracies. \n",
    "        </li>\n",
    "        <li> \n",
    "            Let's find out whether the test performances presents any statistical difference.\n",
    "        </li>\n",
    "    </ul>\n",
    "</div>"
   ]
  },
  {
   "cell_type": "code",
   "execution_count": 16,
   "id": "b727f53b",
   "metadata": {
    "execution": {
     "iopub.execute_input": "2023-07-04T16:49:50.034439Z",
     "iopub.status.busy": "2023-07-04T16:49:50.034036Z",
     "iopub.status.idle": "2023-07-04T16:49:50.040874Z",
     "shell.execute_reply": "2023-07-04T16:49:50.039656Z"
    },
    "papermill": {
     "duration": 0.161684,
     "end_time": "2023-07-04T16:49:50.043260",
     "exception": false,
     "start_time": "2023-07-04T16:49:49.881576",
     "status": "completed"
    },
    "tags": []
   },
   "outputs": [],
   "source": [
    "# We are going to conduct a Hypothesis Test on both models' accuracy.\n",
    "# Since the statsmodels function demands us to inform countings instead of proportions, we need to create a small method\n",
    "# that gives us the quantity of right estimations.\n",
    "\n",
    "def n_correct_predictions(model:Sequential, data:Dataset)->int:\n",
    "    '''\n",
    "        Computes the amount of instances that a given model correctly predicted.\n",
    "        \n",
    "        Parameters\n",
    "        ----------\n",
    "        `model`: A Keras model.\n",
    "        `data`: A Dataset object storing the independent and dependent variables.\n",
    "        \n",
    "        Returns\n",
    "        -------\n",
    "        An integer indicating the number of instances correctly predicted by the model.\n",
    "    '''\n",
    "    accuracy = model.evaluate(data)[1]\n",
    "    return int(round(accuracy, 4) * 10000) # Rounding the model's accuracy and multiplying it by 10000 (test set's length)."
   ]
  },
  {
   "cell_type": "code",
   "execution_count": 17,
   "id": "b8f530e8",
   "metadata": {
    "execution": {
     "iopub.execute_input": "2023-07-04T16:49:50.343418Z",
     "iopub.status.busy": "2023-07-04T16:49:50.342133Z",
     "iopub.status.idle": "2023-07-04T16:49:51.421214Z",
     "shell.execute_reply": "2023-07-04T16:49:51.419169Z"
    },
    "papermill": {
     "duration": 1.230122,
     "end_time": "2023-07-04T16:49:51.423636",
     "exception": false,
     "start_time": "2023-07-04T16:49:50.193514",
     "status": "completed"
    },
    "tags": []
   },
   "outputs": [
    {
     "name": "stdout",
     "output_type": "stream",
     "text": [
      "10/10 [==============================] - 0s 16ms/step - loss: 0.3478 - sparse_categorical_accuracy: 0.8777\n",
      "10/10 [==============================] - 0s 17ms/step - loss: 0.3207 - sparse_categorical_accuracy: 0.8861\n",
      "FCNN has correctly estimated 8777 instances\n",
      "LeNet-5 has correctly estimated 8861 instances\n"
     ]
    }
   ],
   "source": [
    "# Carrying out the estimations.\n",
    "with strategy.scope():\n",
    "    fcnn_correct = n_correct_predictions(fcnn, test_set)\n",
    "    lenet5_correct = n_correct_predictions(lenet5, test_set)\n",
    "    \n",
    "print(f'FCNN has correctly estimated {fcnn_correct} instances')\n",
    "print(f'LeNet-5 has correctly estimated {lenet5_correct} instances')"
   ]
  },
  {
   "cell_type": "code",
   "execution_count": 18,
   "id": "d02f1a15",
   "metadata": {
    "execution": {
     "iopub.execute_input": "2023-07-04T16:49:51.724014Z",
     "iopub.status.busy": "2023-07-04T16:49:51.723588Z",
     "iopub.status.idle": "2023-07-04T16:49:51.777434Z",
     "shell.execute_reply": "2023-07-04T16:49:51.776074Z"
    },
    "papermill": {
     "duration": 0.207055,
     "end_time": "2023-07-04T16:49:51.781010",
     "exception": false,
     "start_time": "2023-07-04T16:49:51.573955",
     "status": "completed"
    },
    "tags": []
   },
   "outputs": [
    {
     "name": "stdout",
     "output_type": "stream",
     "text": [
      "The test's p-value was 0.03286.\n"
     ]
    }
   ],
   "source": [
    "from statsmodels.stats.proportion import test_proportions_2indep, confint_proportions_2indep\n",
    "\n",
    "# H0: The accuracies are equal\n",
    "# H1: FCNN's accuracy is lower than LeNet-5's.\n",
    "\n",
    "# By setting the confidence level as 5%, we own sufficient evidence that LeNet-5 had a better performance than the FCNN.\n",
    "nobs = len(y_test)\n",
    "\n",
    "pvalue = test_proportions_2indep(fcnn_correct, nobs, lenet5_correct, nobs, compare='ratio', alternative='smaller', return_results=False)[1]\n",
    "print(f'The test\\'s p-value was {pvalue :.5f}.')"
   ]
  },
  {
   "cell_type": "code",
   "execution_count": 19,
   "id": "f8876362",
   "metadata": {
    "execution": {
     "iopub.execute_input": "2023-07-04T16:49:52.155614Z",
     "iopub.status.busy": "2023-07-04T16:49:52.155195Z",
     "iopub.status.idle": "2023-07-04T16:49:52.164898Z",
     "shell.execute_reply": "2023-07-04T16:49:52.163746Z"
    },
    "papermill": {
     "duration": 0.231404,
     "end_time": "2023-07-04T16:49:52.167469",
     "exception": false,
     "start_time": "2023-07-04T16:49:51.936065",
     "status": "completed"
    },
    "tags": []
   },
   "outputs": [
    {
     "data": {
      "text/plain": [
       "(0.9805240227815871, 1.0006194819982623)"
      ]
     },
     "execution_count": 19,
     "metadata": {},
     "output_type": "execute_result"
    }
   ],
   "source": [
    "# And here is the Confidence Interval for the Accuracies Ratio. Since it did not contain 1, we must reject H0.\n",
    "confint_proportions_2indep(fcnn_correct, nobs, lenet5_correct, nobs, compare='ratio', alpha=.05)"
   ]
  },
  {
   "cell_type": "markdown",
   "id": "97b5ce9c",
   "metadata": {
    "papermill": {
     "duration": 0.149361,
     "end_time": "2023-07-04T16:49:52.471546",
     "exception": false,
     "start_time": "2023-07-04T16:49:52.322185",
     "status": "completed"
    },
    "tags": []
   },
   "source": [
    "<div> \n",
    "    <ul style='font-size:20px'> \n",
    "        <li> \n",
    "            But on top of the LeNet-5's greater performance, this model was built with roughly 10 times less parameters than the Fully-Connected Neural Network.  \n",
    "        </li>\n",
    "    </ul>\n",
    "</div>"
   ]
  },
  {
   "cell_type": "code",
   "execution_count": 20,
   "id": "ef3de95c",
   "metadata": {
    "execution": {
     "iopub.execute_input": "2023-07-04T16:49:52.774667Z",
     "iopub.status.busy": "2023-07-04T16:49:52.773904Z",
     "iopub.status.idle": "2023-07-04T16:49:52.784865Z",
     "shell.execute_reply": "2023-07-04T16:49:52.783805Z"
    },
    "papermill": {
     "duration": 0.163712,
     "end_time": "2023-07-04T16:49:52.787326",
     "exception": false,
     "start_time": "2023-07-04T16:49:52.623614",
     "status": "completed"
    },
    "tags": []
   },
   "outputs": [
    {
     "data": {
      "text/plain": [
       "0.10380718302774596"
      ]
     },
     "execution_count": 20,
     "metadata": {},
     "output_type": "execute_result"
    }
   ],
   "source": [
    "lenet5.count_params() / fcnn.count_params()"
   ]
  },
  {
   "cell_type": "markdown",
   "id": "410240f2",
   "metadata": {
    "papermill": {
     "duration": 0.148691,
     "end_time": "2023-07-04T16:49:53.086650",
     "exception": false,
     "start_time": "2023-07-04T16:49:52.937959",
     "status": "completed"
    },
    "tags": []
   },
   "source": [
    "<h2 style='font-size:30px'> Final Thoughts</h2>\n",
    "<div> \n",
    "    <ul style='font-size:20px'> \n",
    "        <li> \n",
    "            We've succeeded in generating a complete Deep Learning Pipeline with the use of TensorFlow's data storage and modeling resources.\n",
    "        </li>\n",
    "        <li>\n",
    "            I hope you've enjoyed going through the whole code. I'll leave here my <a href='https://www.linkedin.com/in/felipesveiga'> LinkedIn</a> and <a href='https://medium.com/@felipesveiga'> Medium</a> accounts if you want to follow up my content productions. \n",
    "        </li>\n",
    "    </ul>\n",
    "</div>"
   ]
  },
  {
   "cell_type": "markdown",
   "id": "d13ea012",
   "metadata": {
    "papermill": {
     "duration": 0.159617,
     "end_time": "2023-07-04T16:49:53.403201",
     "exception": false,
     "start_time": "2023-07-04T16:49:53.243584",
     "status": "completed"
    },
    "tags": []
   },
   "source": [
    "<p style='color:red'> Rever todo o código! Corrigir as conclusões sobre o teste de hipo. Preparar o README do repositório"
   ]
  },
  {
   "cell_type": "markdown",
   "id": "580e1b51",
   "metadata": {
    "papermill": {
     "duration": 0.149452,
     "end_time": "2023-07-04T16:49:53.709738",
     "exception": false,
     "start_time": "2023-07-04T16:49:53.560286",
     "status": "completed"
    },
    "tags": []
   },
   "source": [
    "<h2 style='font-size:30px'> </h2>"
   ]
  }
 ],
 "metadata": {
  "kernelspec": {
   "display_name": "Python 3",
   "language": "python",
   "name": "python3"
  },
  "language_info": {
   "codemirror_mode": {
    "name": "ipython",
    "version": 3
   },
   "file_extension": ".py",
   "mimetype": "text/x-python",
   "name": "python",
   "nbconvert_exporter": "python",
   "pygments_lexer": "ipython3",
   "version": "3.7.12"
  },
  "papermill": {
   "default_parameters": {},
   "duration": 208.113109,
   "end_time": "2023-07-04T16:49:57.641968",
   "environment_variables": {},
   "exception": null,
   "input_path": "__notebook__.ipynb",
   "output_path": "__notebook__.ipynb",
   "parameters": {},
   "start_time": "2023-07-04T16:46:29.528859",
   "version": "2.4.0"
  }
 },
 "nbformat": 4,
 "nbformat_minor": 5
}
