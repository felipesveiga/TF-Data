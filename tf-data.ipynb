{
 "cells": [
  {
   "cell_type": "markdown",
   "id": "df817182",
   "metadata": {
    "papermill": {
     "duration": 0.004547,
     "end_time": "2023-05-03T18:27:39.528000",
     "exception": false,
     "start_time": "2023-05-03T18:27:39.523453",
     "status": "completed"
    },
    "tags": []
   },
   "source": [
    "<h1 style='font-size:40px'> tf.data Pipeline</h1>\n",
    "<div> \n",
    "    <ul style='font-size:20px'> \n",
    "        <li> \n",
    "            In this notebook I'll practice my skills with the tf.data module solving Exercise 9 from Hands-On Machine Learning with Scikit-Learn and TensorFlow's Chapter 13.\n",
    "        </li>\n",
    "        <li> \n",
    "            The Exercise commands us the following:\n",
    "            <p style='font-style:italic;margin-top:10px'> \n",
    "                Load the Fashion MNIST dataset (introduced in Chapter 10); split\n",
    "it into a training set, a validation set, and a test set; shuffle the\n",
    "training set; and save each dataset to multiple TFRecord files.\n",
    "Each record should be a serialized Example protobuf with two\n",
    "features: the serialized image (use tf.io.serialize_tensor()\n",
    "to serialize each image), and the label. 11 Then use tf.data to create\n",
    "an efficient dataset for each set. Finally, use a Keras model to\n",
    "train these datasets, including a preprocessing layer to standardize\n",
    "each input feature. Try to make the input pipeline as efficient as\n",
    "possible, using TensorBoard to visualize profiling data.\n",
    "            </p>\n",
    "        </li>\n",
    "    </ul>\n",
    "</div>"
   ]
  },
  {
   "cell_type": "markdown",
   "id": "58029e46",
   "metadata": {
    "papermill": {
     "duration": 0.003157,
     "end_time": "2023-05-03T18:27:39.534940",
     "exception": false,
     "start_time": "2023-05-03T18:27:39.531783",
     "status": "completed"
    },
    "tags": []
   },
   "source": [
    "<h2 style='font-size:30px'> Data Importing & Splitting</h2>"
   ]
  },
  {
   "cell_type": "code",
   "execution_count": 1,
   "id": "e595f7e2",
   "metadata": {
    "execution": {
     "iopub.execute_input": "2023-05-03T18:27:39.545085Z",
     "iopub.status.busy": "2023-05-03T18:27:39.544696Z",
     "iopub.status.idle": "2023-05-03T18:27:51.229286Z",
     "shell.execute_reply": "2023-05-03T18:27:51.227745Z"
    },
    "papermill": {
     "duration": 11.693794,
     "end_time": "2023-05-03T18:27:51.232401",
     "exception": false,
     "start_time": "2023-05-03T18:27:39.538607",
     "status": "completed"
    },
    "tags": []
   },
   "outputs": [
    {
     "name": "stdout",
     "output_type": "stream",
     "text": [
      "Downloading data from https://storage.googleapis.com/tensorflow/tf-keras-datasets/train-labels-idx1-ubyte.gz\n",
      "29515/29515 [==============================] - 0s 0us/step\n",
      "Downloading data from https://storage.googleapis.com/tensorflow/tf-keras-datasets/train-images-idx3-ubyte.gz\n",
      "26421880/26421880 [==============================] - 0s 0us/step\n",
      "Downloading data from https://storage.googleapis.com/tensorflow/tf-keras-datasets/t10k-labels-idx1-ubyte.gz\n",
      "5148/5148 [==============================] - 0s 0us/step\n",
      "Downloading data from https://storage.googleapis.com/tensorflow/tf-keras-datasets/t10k-images-idx3-ubyte.gz\n",
      "4422102/4422102 [==============================] - 0s 0us/step\n"
     ]
    }
   ],
   "source": [
    "# Loading the fashion_mnist dataset.\n",
    "from tensorflow.keras.datasets import fashion_mnist\n",
    "from sklearn.model_selection import train_test_split\n",
    "(X_train, y_train), (X_test, y_test) = fashion_mnist.load_data()\n",
    "\n",
    "# Now, generating the validation set with `train_test_split`.\n",
    "X_train, X_val, y_train, y_val = train_test_split(X_train, y_train, test_size=.1, random_state=42)"
   ]
  },
  {
   "cell_type": "code",
   "execution_count": 2,
   "id": "e58d6fbc",
   "metadata": {
    "execution": {
     "iopub.execute_input": "2023-05-03T18:27:51.245208Z",
     "iopub.status.busy": "2023-05-03T18:27:51.243501Z",
     "iopub.status.idle": "2023-05-03T18:27:51.411191Z",
     "shell.execute_reply": "2023-05-03T18:27:51.409924Z"
    },
    "papermill": {
     "duration": 0.177138,
     "end_time": "2023-05-03T18:27:51.414377",
     "exception": false,
     "start_time": "2023-05-03T18:27:51.237239",
     "status": "completed"
    },
    "tags": []
   },
   "outputs": [],
   "source": [
    "# Storing each one of the sets in a tf.data.Dataset object.\n",
    "# The classes store 1000 elements batches. The groups' data will be put into a .tfrecord file.\n",
    "from tensorflow.data import Dataset\n",
    "batch_size = 1000\n",
    "train = Dataset.from_tensor_slices((X_train, y_train)).shuffle(54000).batch(batch_size)\n",
    "val = Dataset.from_tensor_slices((X_val, y_val)).batch(batch_size)\n",
    "test = Dataset.from_tensor_slices((X_test, y_test)).batch(batch_size)"
   ]
  },
  {
   "cell_type": "code",
   "execution_count": 3,
   "id": "99572f4b",
   "metadata": {
    "execution": {
     "iopub.execute_input": "2023-05-03T18:27:51.425265Z",
     "iopub.status.busy": "2023-05-03T18:27:51.424840Z",
     "iopub.status.idle": "2023-05-03T18:27:51.430892Z",
     "shell.execute_reply": "2023-05-03T18:27:51.429570Z"
    },
    "papermill": {
     "duration": 0.014791,
     "end_time": "2023-05-03T18:27:51.433550",
     "exception": false,
     "start_time": "2023-05-03T18:27:51.418759",
     "status": "completed"
    },
    "tags": []
   },
   "outputs": [],
   "source": [
    "# We'll produce 1000 instances .tfrecord files. One corresponding to a bacth created.\n",
    "train_files = len(X_train) // batch_size\n",
    "val_files = len(X_val) // batch_size\n",
    "test_files = len(X_test) // batch_size"
   ]
  },
  {
   "cell_type": "markdown",
   "id": "322a3e70",
   "metadata": {
    "papermill": {
     "duration": 0.004049,
     "end_time": "2023-05-03T18:27:51.442086",
     "exception": false,
     "start_time": "2023-05-03T18:27:51.438037",
     "status": "completed"
    },
    "tags": []
   },
   "source": [
    "<h2 style='font-size:30px'> .tfrecord's Production</h2>\n",
    "<div> \n",
    "    <ul style='font-size:20px'> \n",
    "        <li> \n",
    "            TensorFlow records demands data to be stored in protobuf format. We can do so by placing the serialized information in an `Example` class. \n",
    "        </li>\n",
    "    </ul>\n",
    "</div>"
   ]
  },
  {
   "cell_type": "code",
   "execution_count": 4,
   "id": "6f71e59e",
   "metadata": {
    "execution": {
     "iopub.execute_input": "2023-05-03T18:27:51.453036Z",
     "iopub.status.busy": "2023-05-03T18:27:51.452584Z",
     "iopub.status.idle": "2023-05-03T18:27:51.463552Z",
     "shell.execute_reply": "2023-05-03T18:27:51.462169Z"
    },
    "papermill": {
     "duration": 0.020374,
     "end_time": "2023-05-03T18:27:51.466880",
     "exception": false,
     "start_time": "2023-05-03T18:27:51.446506",
     "status": "completed"
    },
    "tags": []
   },
   "outputs": [],
   "source": [
    "from tensorflow import Tensor\n",
    "from tensorflow.train import BytesList, Example, Features, Feature, Int64List\n",
    "from tensorflow.io import serialize_tensor, TFRecordWriter\n",
    "\n",
    "def create_example(images:Tensor, targets:Tensor)->str:\n",
    "    '''\n",
    "        Generates a serialized `Example` object holding the pixel intensities and target values from a collection\n",
    "        of MNIST images.\n",
    "        \n",
    "        Parameters\n",
    "        ----------\n",
    "        `images`: A 3-D `tf.Tensor` with the digits pixels. \\n\n",
    "        `targets`: An 1-D `tf.Tensor` with the digits labels.\n",
    "        \n",
    "        Returns\n",
    "        -------\n",
    "        An `tf.train.Example` object storing both pixels and target values.\n",
    "    '''\n",
    "    # Serializing the input vectors.\n",
    "    serialized_images, serialized_targets = serialize_tensor(images), serialize_tensor(targets)\n",
    "    example = Example(\n",
    "        features=Features(\n",
    "            feature={\n",
    "            'pixels':Feature(bytes_list=BytesList(value=[serialized_images.numpy()])),\n",
    "            'target':Feature(bytes_list=BytesList(value=[serialized_targets.numpy()]))\n",
    "        }\n",
    "        ))\n",
    "    # Now, converting the `Example` object into a binary string.\n",
    "    return example.SerializeToString()"
   ]
  },
  {
   "cell_type": "code",
   "execution_count": 5,
   "id": "4265a42b",
   "metadata": {
    "execution": {
     "iopub.execute_input": "2023-05-03T18:27:51.477469Z",
     "iopub.status.busy": "2023-05-03T18:27:51.477000Z",
     "iopub.status.idle": "2023-05-03T18:27:52.577622Z",
     "shell.execute_reply": "2023-05-03T18:27:52.575864Z"
    },
    "papermill": {
     "duration": 1.109292,
     "end_time": "2023-05-03T18:27:52.580644",
     "exception": false,
     "start_time": "2023-05-03T18:27:51.471352",
     "status": "completed"
    },
    "tags": []
   },
   "outputs": [],
   "source": [
    "# It is convenient to place all data files in a separate directory.\n",
    "! mkdir mnist"
   ]
  },
  {
   "cell_type": "code",
   "execution_count": 6,
   "id": "01071b5b",
   "metadata": {
    "execution": {
     "iopub.execute_input": "2023-05-03T18:27:52.593389Z",
     "iopub.status.busy": "2023-05-03T18:27:52.592561Z",
     "iopub.status.idle": "2023-05-03T18:27:53.188989Z",
     "shell.execute_reply": "2023-05-03T18:27:53.187643Z"
    },
    "papermill": {
     "duration": 0.606009,
     "end_time": "2023-05-03T18:27:53.191976",
     "exception": false,
     "start_time": "2023-05-03T18:27:52.585967",
     "status": "completed"
    },
    "tags": []
   },
   "outputs": [],
   "source": [
    "def create_files(dataset:Dataset, filename:str, directory:str='.')->None:\n",
    "    '''\n",
    "        Creates the .tfrecord's files based on the batches from a provided `dataset`.\n",
    "        \n",
    "        Parameters\n",
    "        ----------\n",
    "        `dataset`: A `tf.data.Dataset` object. \\n\n",
    "        `filename`: A custom name for file identification. \\n\n",
    "        `directory`: A string that indicates the directory where the files are put.\n",
    "    '''\n",
    "    for index, (images, labels) in dataset.enumerate():\n",
    "        file = TFRecordWriter(f'{directory}/{filename}_{index}.tfrecord')\n",
    "        serialized_data = create_example(images, labels)\n",
    "        file.write(serialized_data)\n",
    "\n",
    "# Generating the files.\n",
    "create_files(train, 'train', 'mnist')\n",
    "create_files(val, 'val', 'mnist')\n",
    "create_files(test, 'test', 'mnist')"
   ]
  },
  {
   "cell_type": "markdown",
   "id": "0010f592",
   "metadata": {
    "papermill": {
     "duration": 0.003919,
     "end_time": "2023-05-03T18:27:53.200307",
     "exception": false,
     "start_time": "2023-05-03T18:27:53.196388",
     "status": "completed"
    },
    "tags": []
   },
   "source": [
    "<p style='color:red'> Pré-processamento dos .tfrecord's"
   ]
  },
  {
   "cell_type": "markdown",
   "id": "32ae01d1",
   "metadata": {
    "papermill": {
     "duration": 0.003948,
     "end_time": "2023-05-03T18:27:53.208442",
     "exception": false,
     "start_time": "2023-05-03T18:27:53.204494",
     "status": "completed"
    },
    "tags": []
   },
   "source": [
    "<h2 style='font-size:30px'> </h2>"
   ]
  }
 ],
 "metadata": {
  "kernelspec": {
   "display_name": "Python 3",
   "language": "python",
   "name": "python3"
  },
  "language_info": {
   "codemirror_mode": {
    "name": "ipython",
    "version": 3
   },
   "file_extension": ".py",
   "mimetype": "text/x-python",
   "name": "python",
   "nbconvert_exporter": "python",
   "pygments_lexer": "ipython3",
   "version": "3.7.12"
  },
  "papermill": {
   "default_parameters": {},
   "duration": 29.5272,
   "end_time": "2023-05-03T18:27:56.139217",
   "environment_variables": {},
   "exception": null,
   "input_path": "__notebook__.ipynb",
   "output_path": "__notebook__.ipynb",
   "parameters": {},
   "start_time": "2023-05-03T18:27:26.612017",
   "version": "2.4.0"
  }
 },
 "nbformat": 4,
 "nbformat_minor": 5
}
