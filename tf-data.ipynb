{
 "cells": [
  {
   "cell_type": "markdown",
   "id": "3eb11f82",
   "metadata": {
    "papermill": {
     "duration": 0.009236,
     "end_time": "2023-06-28T16:35:11.628909",
     "exception": false,
     "start_time": "2023-06-28T16:35:11.619673",
     "status": "completed"
    },
    "tags": []
   },
   "source": [
    "<h1 style='font-size:40px'> tf.data Pipeline</h1>\n",
    "<div> \n",
    "    <ul style='font-size:20px'> \n",
    "        <li> \n",
    "            In this notebook I'll practice my skills with the tf.data module solving Exercise 9 from Hands-On Machine Learning with Scikit-Learn and TensorFlow's Chapter 13.\n",
    "        </li>\n",
    "        <li> \n",
    "            The Exercise commands us the following:\n",
    "            <p style='font-style:italic;margin-top:10px'> \n",
    "                Load the Fashion MNIST dataset (introduced in Chapter 10); split\n",
    "it into a training set, a validation set, and a test set; shuffle the\n",
    "training set; and save each dataset to multiple TFRecord files.\n",
    "Each record should be a serialized Example protobuf with two\n",
    "features: the serialized image (use tf.io.serialize_tensor()\n",
    "to serialize each image), and the label. 11 Then use tf.data to create\n",
    "an efficient dataset for each set. Finally, use a Keras model to\n",
    "train these datasets, including a preprocessing layer to standardize\n",
    "each input feature. Try to make the input pipeline as efficient as\n",
    "possible, using TensorBoard to visualize profiling data.\n",
    "            </p>\n",
    "        </li>\n",
    "    </ul>\n",
    "</div>"
   ]
  },
  {
   "cell_type": "markdown",
   "id": "76f392e1",
   "metadata": {
    "papermill": {
     "duration": 0.009136,
     "end_time": "2023-06-28T16:35:11.646863",
     "exception": false,
     "start_time": "2023-06-28T16:35:11.637727",
     "status": "completed"
    },
    "tags": []
   },
   "source": [
    "<h2 style='font-size:30px'> Data Importing & Splitting</h2>"
   ]
  },
  {
   "cell_type": "code",
   "execution_count": 1,
   "id": "4720595c",
   "metadata": {
    "execution": {
     "iopub.execute_input": "2023-06-28T16:35:11.665582Z",
     "iopub.status.busy": "2023-06-28T16:35:11.665123Z",
     "iopub.status.idle": "2023-06-28T16:35:22.144116Z",
     "shell.execute_reply": "2023-06-28T16:35:22.142890Z"
    },
    "papermill": {
     "duration": 10.492334,
     "end_time": "2023-06-28T16:35:22.147376",
     "exception": false,
     "start_time": "2023-06-28T16:35:11.655042",
     "status": "completed"
    },
    "tags": []
   },
   "outputs": [
    {
     "name": "stdout",
     "output_type": "stream",
     "text": [
      "Downloading data from https://storage.googleapis.com/tensorflow/tf-keras-datasets/train-labels-idx1-ubyte.gz\n",
      "29515/29515 [==============================] - 0s 0us/step\n",
      "Downloading data from https://storage.googleapis.com/tensorflow/tf-keras-datasets/train-images-idx3-ubyte.gz\n",
      "26421880/26421880 [==============================] - 0s 0us/step\n",
      "Downloading data from https://storage.googleapis.com/tensorflow/tf-keras-datasets/t10k-labels-idx1-ubyte.gz\n",
      "5148/5148 [==============================] - 0s 0us/step\n",
      "Downloading data from https://storage.googleapis.com/tensorflow/tf-keras-datasets/t10k-images-idx3-ubyte.gz\n",
      "4422102/4422102 [==============================] - 0s 0us/step\n"
     ]
    }
   ],
   "source": [
    "# Loading the fashion_mnist dataset.\n",
    "from tensorflow.keras.datasets import fashion_mnist\n",
    "from sklearn.model_selection import train_test_split\n",
    "(X_train, y_train), (X_test, y_test) = fashion_mnist.load_data()\n",
    "\n",
    "# Now, generating the validation set with `train_test_split`.\n",
    "X_train, X_val, y_train, y_val = train_test_split(X_train, y_train, test_size=.1, random_state=42)"
   ]
  },
  {
   "cell_type": "code",
   "execution_count": 2,
   "id": "1d3cb19b",
   "metadata": {
    "execution": {
     "iopub.execute_input": "2023-06-28T16:35:22.168330Z",
     "iopub.status.busy": "2023-06-28T16:35:22.167637Z",
     "iopub.status.idle": "2023-06-28T16:35:26.034784Z",
     "shell.execute_reply": "2023-06-28T16:35:26.033488Z"
    },
    "papermill": {
     "duration": 3.880503,
     "end_time": "2023-06-28T16:35:26.037632",
     "exception": false,
     "start_time": "2023-06-28T16:35:22.157129",
     "status": "completed"
    },
    "tags": []
   },
   "outputs": [],
   "source": [
    "# Storing each one of the sets in a tf.data.Dataset object.\n",
    "# The classes store 1000 elements batches. The groups' data will be put into a .tfrecord file.\n",
    "from tensorflow.data import Dataset\n",
    "batch_size = 1000\n",
    "train = Dataset.from_tensor_slices((X_train, y_train)).shuffle(54000).batch(batch_size)\n",
    "val = Dataset.from_tensor_slices((X_val, y_val)).batch(batch_size)\n",
    "test = Dataset.from_tensor_slices((X_test, y_test)).batch(batch_size)"
   ]
  },
  {
   "cell_type": "code",
   "execution_count": 3,
   "id": "00525ba3",
   "metadata": {
    "execution": {
     "iopub.execute_input": "2023-06-28T16:35:26.057657Z",
     "iopub.status.busy": "2023-06-28T16:35:26.057306Z",
     "iopub.status.idle": "2023-06-28T16:35:26.063351Z",
     "shell.execute_reply": "2023-06-28T16:35:26.061554Z"
    },
    "papermill": {
     "duration": 0.018724,
     "end_time": "2023-06-28T16:35:26.065724",
     "exception": false,
     "start_time": "2023-06-28T16:35:26.047000",
     "status": "completed"
    },
    "tags": []
   },
   "outputs": [],
   "source": [
    "# We'll produce 1000 instances .tfrecord files. One corresponding to a bacth created.\n",
    "train_files = len(X_train) // batch_size\n",
    "val_files = len(X_val) // batch_size\n",
    "test_files = len(X_test) // batch_size"
   ]
  },
  {
   "cell_type": "markdown",
   "id": "727d0741",
   "metadata": {
    "papermill": {
     "duration": 0.009739,
     "end_time": "2023-06-28T16:35:26.085222",
     "exception": false,
     "start_time": "2023-06-28T16:35:26.075483",
     "status": "completed"
    },
    "tags": []
   },
   "source": [
    "<h2 style='font-size:30px'> .tfrecord's Production</h2>\n",
    "<div> \n",
    "    <ul style='font-size:20px'> \n",
    "        <li> \n",
    "            TensorFlow records demands data to be stored in protobuf format. We can do so by placing the serialized information in an `Example` class. \n",
    "        </li>\n",
    "    </ul>\n",
    "</div>"
   ]
  },
  {
   "cell_type": "code",
   "execution_count": 4,
   "id": "66fe902e",
   "metadata": {
    "execution": {
     "iopub.execute_input": "2023-06-28T16:35:26.105870Z",
     "iopub.status.busy": "2023-06-28T16:35:26.105525Z",
     "iopub.status.idle": "2023-06-28T16:35:26.116990Z",
     "shell.execute_reply": "2023-06-28T16:35:26.116012Z"
    },
    "papermill": {
     "duration": 0.024802,
     "end_time": "2023-06-28T16:35:26.119502",
     "exception": false,
     "start_time": "2023-06-28T16:35:26.094700",
     "status": "completed"
    },
    "tags": []
   },
   "outputs": [],
   "source": [
    "from tensorflow import Tensor\n",
    "from tensorflow.train import BytesList, Example, Features, Feature, Int64List\n",
    "from tensorflow.io import serialize_tensor, TFRecordWriter\n",
    "\n",
    "def create_example(images:Tensor, targets:Tensor)->str:\n",
    "    '''\n",
    "        Generates a serialized `Example` object holding the pixel intensities and target values from a collection\n",
    "        of MNIST images.\n",
    "        \n",
    "        Parameters\n",
    "        ----------\n",
    "        `images`: A 3-D `tf.Tensor` with the digits pixels. \\n\n",
    "        `targets`: An 1-D `tf.Tensor` with the digits labels.\n",
    "        \n",
    "        Returns\n",
    "        -------\n",
    "        An `tf.train.Example` object storing both pixels and target values.\n",
    "    '''\n",
    "    # Serializing the input vectors.\n",
    "    serialized_images, serialized_targets = serialize_tensor(images), serialize_tensor(targets)\n",
    "    example = Example(\n",
    "        features=Features(\n",
    "            feature={\n",
    "            'pixels':Feature(bytes_list=BytesList(value=[serialized_images.numpy()])),\n",
    "            'target':Feature(bytes_list=BytesList(value=[serialized_targets.numpy()]))\n",
    "        }\n",
    "        ))\n",
    "    # Now, converting the `Example` object into a binary string.\n",
    "    return example.SerializeToString()"
   ]
  },
  {
   "cell_type": "code",
   "execution_count": 5,
   "id": "e427aaa0",
   "metadata": {
    "execution": {
     "iopub.execute_input": "2023-06-28T16:35:26.141075Z",
     "iopub.status.busy": "2023-06-28T16:35:26.140789Z",
     "iopub.status.idle": "2023-06-28T16:35:27.150495Z",
     "shell.execute_reply": "2023-06-28T16:35:27.149080Z"
    },
    "papermill": {
     "duration": 1.024163,
     "end_time": "2023-06-28T16:35:27.153467",
     "exception": false,
     "start_time": "2023-06-28T16:35:26.129304",
     "status": "completed"
    },
    "tags": []
   },
   "outputs": [],
   "source": [
    "# It is convenient to place all data files in a separate directory.\n",
    "! mkdir mnist"
   ]
  },
  {
   "cell_type": "code",
   "execution_count": 6,
   "id": "34b24f09",
   "metadata": {
    "execution": {
     "iopub.execute_input": "2023-06-28T16:35:27.175493Z",
     "iopub.status.busy": "2023-06-28T16:35:27.174371Z",
     "iopub.status.idle": "2023-06-28T16:35:27.679181Z",
     "shell.execute_reply": "2023-06-28T16:35:27.677977Z"
    },
    "papermill": {
     "duration": 0.518841,
     "end_time": "2023-06-28T16:35:27.682059",
     "exception": false,
     "start_time": "2023-06-28T16:35:27.163218",
     "status": "completed"
    },
    "tags": []
   },
   "outputs": [],
   "source": [
    "def create_files(dataset:Dataset, filename:str, directory:str='.')->None:\n",
    "    '''\n",
    "        Creates the .tfrecord's files based on the batches from a provided `dataset`.\n",
    "        \n",
    "        Parameters\n",
    "        ----------\n",
    "        `dataset`: A `tf.data.Dataset` object. \\n\n",
    "        `filename`: A custom name for file identification. \\n\n",
    "        `directory`: A string that indicates the directory where the files are put.\n",
    "    '''\n",
    "    for index, (images, labels) in dataset.enumerate():\n",
    "        file = TFRecordWriter(f'{directory}/{filename}_{index}.tfrecord')\n",
    "        serialized_data = create_example(images, labels)\n",
    "        file.write(serialized_data)\n",
    "\n",
    "# Generating the files.\n",
    "create_files(train, 'train', 'mnist')\n",
    "create_files(val, 'val', 'mnist')\n",
    "create_files(test, 'test', 'mnist')"
   ]
  },
  {
   "cell_type": "markdown",
   "id": "9edefeb3",
   "metadata": {
    "papermill": {
     "duration": 0.00901,
     "end_time": "2023-06-28T16:35:27.702135",
     "exception": false,
     "start_time": "2023-06-28T16:35:27.693125",
     "status": "completed"
    },
    "tags": []
   },
   "source": [
    "<h2 style='font-size:30px'> Data Treatment</h2>\n",
    "<div> \n",
    "    <ul style='font-size:20px'> \n",
    "        <li> \n",
    "            With the files generated, we can proceed and handle the data importing and its proper treatment.\n",
    "        </li>\n",
    "    </ul>\n",
    "</div>"
   ]
  },
  {
   "cell_type": "code",
   "execution_count": 7,
   "id": "7f98e6b2",
   "metadata": {
    "execution": {
     "iopub.execute_input": "2023-06-28T16:35:27.722107Z",
     "iopub.status.busy": "2023-06-28T16:35:27.721766Z",
     "iopub.status.idle": "2023-06-28T16:35:27.778110Z",
     "shell.execute_reply": "2023-06-28T16:35:27.777053Z"
    },
    "papermill": {
     "duration": 0.069372,
     "end_time": "2023-06-28T16:35:27.780869",
     "exception": false,
     "start_time": "2023-06-28T16:35:27.711497",
     "status": "completed"
    },
    "tags": []
   },
   "outputs": [],
   "source": [
    "# Reading the data files separately.\n",
    "train_files = Dataset.list_files('mnist/train*')\n",
    "val_files = Dataset.list_files('mnist/val*')\n",
    "test_files = Dataset.list_files('mnist/test*')"
   ]
  },
  {
   "cell_type": "code",
   "execution_count": 8,
   "id": "cc3c646f",
   "metadata": {
    "execution": {
     "iopub.execute_input": "2023-06-28T16:35:27.801680Z",
     "iopub.status.busy": "2023-06-28T16:35:27.801339Z",
     "iopub.status.idle": "2023-06-28T16:35:27.812489Z",
     "shell.execute_reply": "2023-06-28T16:35:27.811218Z"
    },
    "papermill": {
     "duration": 0.025052,
     "end_time": "2023-06-28T16:35:27.815408",
     "exception": false,
     "start_time": "2023-06-28T16:35:27.790356",
     "status": "completed"
    },
    "tags": []
   },
   "outputs": [],
   "source": [
    "from tensorflow import string, uint8\n",
    "from tensorflow.data import AUTOTUNE, TFRecordDataset\n",
    "from tensorflow.io import FixedLenFeature, parse_example, parse_tensor\n",
    "from typing import Optional, Iterable, Tuple\n",
    "\n",
    "def preprocess(tfrecord:Tensor)->Tuple[Tensor, Tensor]:\n",
    "    '''\n",
    "    Reads an encoded protobuf and returns its Tensors in numerical format.\n",
    "    \n",
    "    Parameter\n",
    "    ---------\n",
    "    `tfrecord`: A `tf.Tensor` that stores encoded protobufs.\n",
    "    \n",
    "    Returns\n",
    "    -------\n",
    "    Two tensors in a tuple. One with the pixel intensities and another containing the target values.\n",
    "    '''\n",
    "    features = {\n",
    "    'pixels':FixedLenFeature([], string, default_value=''), \n",
    "    'target':FixedLenFeature([], string, default_value='-1')\n",
    "                }\n",
    "    example = parse_example(tfrecord, features) # Returns a dictionary with the serialized images and target values.\n",
    "    pixels, target = parse_tensor(example['pixels'], uint8), parse_tensor(example['target'], uint8)\n",
    "    return pixels, target\n",
    "\n",
    "def read_files(filenames:Iterable[str], shuffle_size:Optional[int]=None, num_threads_reading:int=AUTOTUNE, \n",
    "               num_threads_preprocess:int=AUTOTUNE)->Dataset:\n",
    "    '''\n",
    "        Reads the .tfrecord files specified and retrieves a `tf.data.Dataset` object with the processed data.\n",
    "        \n",
    "        Parameters\n",
    "        ----------\n",
    "        `filenames`: The names of the files.\n",
    "        `shuffle_size`: If specified, it shuffles the Dataset using a deck with the specified length.\n",
    "        `num_threads_reading`: The number of threads to use when reading the files.\n",
    "        `num_threads_preprocess`: The number of threads to use when preprocessing the dataset.\n",
    "        \n",
    "        Returns\n",
    "        -------\n",
    "        The treated dataset.\n",
    "    '''\n",
    "    dataset = TFRecordDataset(filenames, num_parallel_reads=num_threads_reading)\n",
    "    if shuffle_size:\n",
    "        dataset.shuffle(shuffle_size)\n",
    "    return dataset.map(preprocess, num_parallel_calls=num_threads_preprocess).prefetch(1)"
   ]
  },
  {
   "cell_type": "markdown",
   "id": "6f54b85f",
   "metadata": {
    "papermill": {
     "duration": 0.009006,
     "end_time": "2023-06-28T16:35:27.834993",
     "exception": false,
     "start_time": "2023-06-28T16:35:27.825987",
     "status": "completed"
    },
    "tags": []
   },
   "source": [
    "<h2 style='font-size:30px'> Standardization Layer</h2>\n",
    "<div> \n",
    "    <ul style='font-size:20px'> \n",
    "        <li> \n",
    "            Here, we'll simply code a `tf.layers.Layer` object which fairly does a similar job of the Batch Normalization Layer. The main difference is that $\\mu$ and $\\sigma$ are computed in advance using the `adapt` function.\n",
    "        </li>\n",
    "    </ul>\n",
    "</div>"
   ]
  },
  {
   "cell_type": "code",
   "execution_count": 9,
   "id": "c0f6fa48",
   "metadata": {
    "execution": {
     "iopub.execute_input": "2023-06-28T16:35:27.855169Z",
     "iopub.status.busy": "2023-06-28T16:35:27.854649Z",
     "iopub.status.idle": "2023-06-28T16:35:27.871739Z",
     "shell.execute_reply": "2023-06-28T16:35:27.870794Z"
    },
    "papermill": {
     "duration": 0.029885,
     "end_time": "2023-06-28T16:35:27.874252",
     "exception": false,
     "start_time": "2023-06-28T16:35:27.844367",
     "status": "completed"
    },
    "tags": []
   },
   "outputs": [],
   "source": [
    "# The layer will inherit the properties of the experimental `PreprocessingLayer`.\n",
    "from tensorflow.keras.layers.experimental.preprocessing import PreprocessingLayer\n",
    "from tensorflow.keras.layers import Layer\n",
    "from tensorflow.math import reduce_mean, reduce_std\n",
    "from tensorflow.keras.backend import epsilon\n",
    "from typing import Union\n",
    "\n",
    "class Standardize(PreprocessingLayer):\n",
    "    '''\n",
    "    A `PreprocessingLayer` object that carries out the standardization of a given array accordingly to an \n",
    "    informed axis.\n",
    "    \n",
    "    The necessary stats are computed before training with the `adapt` method. This feature the  class' main \n",
    "    difference from the `BatchNormalization` layer, which computes means and standard deviations on the fly.\n",
    "    '''    \n",
    "    \n",
    "    def adapt(self, input_data:Union[Dataset, Tensor], axis=0)->None:\n",
    "        '''\n",
    "            Computes means and std's from a provided `tf.Tensor` or `tf.data.Dataset`.\n",
    "            \n",
    "            Paramater\n",
    "            ---------\n",
    "            `input_data`: The array from which the stats are computed.\n",
    "            `axis`: The axis of choice to compute the stats.\n",
    "        '''\n",
    "        self.means = reduce_mean(input_data, axis=axis, keepdims=True)\n",
    "        self.stds = reduce_std(input_data, axis=axis, keepdims=True)\n",
    "        return self\n",
    "        \n",
    "    def call(self, input_data:Union[Dataset, Tensor])->Union[Dataset, Tensor]:\n",
    "        '''\n",
    "        The method that standardizes the array.\n",
    "        \n",
    "        Parameter\n",
    "        --------\n",
    "        `input_data`: The array in which we perform the standardization.\n",
    "        \n",
    "        Returns\n",
    "        -------\n",
    "        The standardized array.\n",
    "        '''\n",
    "        return (input_data - self.means) / (self.stds + epsilon())\n",
    "    \n",
    "    def get_config(self):\n",
    "        '''\n",
    "            Returns the Layer's configurations. It is needed for saving a class' instance for future uses.\n",
    "        '''\n",
    "        base_config = super().get_config() # Rendering the `Preprocessing` layer `get_config` output.\n",
    "        return {**base_config, 'means':self.means.numpy(), 'stds':self.stds.numpy()}\n",
    "    "
   ]
  },
  {
   "cell_type": "markdown",
   "id": "4d9154ad",
   "metadata": {
    "papermill": {
     "duration": 0.008908,
     "end_time": "2023-06-28T16:35:27.892250",
     "exception": false,
     "start_time": "2023-06-28T16:35:27.883342",
     "status": "completed"
    },
    "tags": []
   },
   "source": [
    "<h2 style='font-size:30px'> Neural Net Modeling</h2>\n",
    "<div> \n",
    "    <ul style='font-size:20px'> \n",
    "        <li> \n",
    "            With all the preprocessing stages programmed, we are able to model our Neural Network.\n",
    "        </li>\n",
    "        <li> \n",
    "            Firstly, we are going to design a simple Fully-Connected Neural Network and see how it performs.\n",
    "        </li>\n",
    "    </ul>\n",
    "</div>"
   ]
  },
  {
   "cell_type": "code",
   "execution_count": 10,
   "id": "46155dff",
   "metadata": {
    "execution": {
     "iopub.execute_input": "2023-06-28T16:35:27.912408Z",
     "iopub.status.busy": "2023-06-28T16:35:27.911738Z",
     "iopub.status.idle": "2023-06-28T16:35:28.083467Z",
     "shell.execute_reply": "2023-06-28T16:35:28.082339Z"
    },
    "papermill": {
     "duration": 0.184675,
     "end_time": "2023-06-28T16:35:28.086198",
     "exception": false,
     "start_time": "2023-06-28T16:35:27.901523",
     "status": "completed"
    },
    "tags": []
   },
   "outputs": [],
   "source": [
    "# Reading all the .tfrecords created.\n",
    "train_set = read_files(train_files, shuffle_size=100)\n",
    "val_set = read_files(val_files)\n",
    "test_set = read_files(test_files)"
   ]
  },
  {
   "cell_type": "code",
   "execution_count": 11,
   "id": "b4e9811f",
   "metadata": {
    "execution": {
     "iopub.execute_input": "2023-06-28T16:35:28.107583Z",
     "iopub.status.busy": "2023-06-28T16:35:28.107246Z",
     "iopub.status.idle": "2023-06-28T16:35:28.311196Z",
     "shell.execute_reply": "2023-06-28T16:35:28.309978Z"
    },
    "papermill": {
     "duration": 0.218201,
     "end_time": "2023-06-28T16:35:28.314401",
     "exception": false,
     "start_time": "2023-06-28T16:35:28.096200",
     "status": "completed"
    },
    "tags": []
   },
   "outputs": [],
   "source": [
    "# But before actually fitting the NN, we need to adapt our `Standardize` layer with the training data.\n",
    "from tensorflow import concat, cast, float32\n",
    "train_pixels = list(train_set.map(lambda pixels, target: pixels).take(-1)) # Getting all the training images.\n",
    "train_pixels = cast(concat(train_pixels, axis=0), dtype=float32) # Concatenating the batches so that we end up\n",
    "                                                                # with a single 3-D matrix.\n",
    "\n",
    "# Now, instantiating the `Standardize` class and adapting it to the `train_pixels` data.\n",
    "standardize = Standardize(input_shape=train_pixels.shape[1:]).adapt(train_pixels, axis=0)"
   ]
  },
  {
   "cell_type": "code",
   "execution_count": 12,
   "id": "64f9cbad",
   "metadata": {
    "execution": {
     "iopub.execute_input": "2023-06-28T16:35:28.336960Z",
     "iopub.status.busy": "2023-06-28T16:35:28.336567Z",
     "iopub.status.idle": "2023-06-28T16:35:28.373184Z",
     "shell.execute_reply": "2023-06-28T16:35:28.372050Z"
    },
    "papermill": {
     "duration": 0.050862,
     "end_time": "2023-06-28T16:35:28.375690",
     "exception": false,
     "start_time": "2023-06-28T16:35:28.324828",
     "status": "completed"
    },
    "tags": []
   },
   "outputs": [],
   "source": [
    "# Finally, making our FCNN.\n",
    "from tensorflow.keras.models import Sequential\n",
    "from tensorflow.keras.layers import Dense, Dropout, Flatten, Input\n",
    "from tensorflow.keras.activations import elu, softmax\n",
    "from tensorflow.keras.initializers import GlorotNormal, HeNormal\n",
    "from tensorflow.keras.optimizers import SGD, Optimizer\n",
    "from tensorflow.keras.losses import SparseCategoricalCrossentropy, Loss\n",
    "from tensorflow.keras.metrics import Accuracy, Metric\n",
    "from typing import Callable\n",
    "\n",
    "# Here we define some of the model's settings.\n",
    "optimizer = SGD(momentum=.9, nesterov=True)\n",
    "loss = SparseCategoricalCrossentropy()\n",
    "metrics = [Accuracy()]\n",
    "\n",
    "def _check_length(neurons:Iterable, activations:Iterable)->bool:\n",
    "    '''\n",
    "        Checks whether both provided arrays have equal lengths.\n",
    "        \n",
    "        Parameters\n",
    "        ----------\n",
    "        `neurons`: First Array\n",
    "        `activations`: Second array\n",
    "        \n",
    "        Returns\n",
    "        -------\n",
    "        A boolean indicating the existance of such condition.\n",
    "    '''\n",
    "    if len(neurons) != len(activations):\n",
    "        raise  AttributeError('The `neurons` array must have the same length as `activations`')\n",
    "    return True\n",
    "\n",
    "def my_fcnn(neurons:Iterable[int], activations:Union[Iterable[Callable[[float], float]], Callable[[float], float]],dropout_ratio:float=None,  \n",
    "            input_shape:list=[28,28], **kwargs)->Sequential:\n",
    "    '''\n",
    "        Generates the Fully-Connected Neural Network for the project.\n",
    "        \n",
    "        Parameters\n",
    "        ----------\n",
    "        `neurons`: An iterable object that indicates the amount of neurons each hidden layer needs to own. Its length will suggest the amount of such layers the model will have.\n",
    "        \n",
    "        `activations`: The activation functions for each hidden layer. If the user wishes to use a single function to be applied in all layers, they\n",
    "                       can only inform just one callable object. Otherwise, it will be demanded an iterable object containing all the functions. \n",
    "                       Note that in such case, the structure needs to have the same length as `neurons`.\n",
    "        \n",
    "        `dropout_ratio`: The amount of dropout to be applied in every hidden layer. If 'None' - default value -, no dropout is used. \n",
    "        \n",
    "        `input_shape`: The original images' shape. Do not provide the batch size in the iterable.\n",
    "        \n",
    "        **kwargs: Any further keyword argument will be used in the `compile` method.\n",
    "        \n",
    "        Returns\n",
    "        -------\n",
    "        A Sequential object built accordingly to the user's preferences. If no **kwargs is provided, the model will have to be manually compiled.\n",
    "        \n",
    "    '''\n",
    "    # If the user informed a function for `activations`, a list of such callable of the same length as `hidden_layers`\n",
    "    # is created.\n",
    "    if isinstance(activations, Callable):\n",
    "        activations = [activations] * len(neurons)    \n",
    "    \n",
    "    # `check_length` is of use when 'activations' is given as an array by the user.\n",
    "    _check_length(neurons, activations)\n",
    "    \n",
    "    # Creating the model's basic structure.\n",
    "    model = Sequential([\n",
    "        Input(shape=input_shape),\n",
    "        standardize, \n",
    "        Flatten(), # The inputs are flattened after the standardization.\n",
    "    ])\n",
    "    \n",
    "    for units, activation in zip(neurons, activations):\n",
    "        model.add(Dense(units, activation=activation, kernel_initializer=HeNormal()))\n",
    "        # Adding Dropout if it is the user's wish.\n",
    "        if dropout_ratio:\n",
    "            model.add(Dropout(dropout_ratio))\n",
    "            \n",
    "    # In the end, applying the output layer.\n",
    "    model.add(Dense(units=10, activation=softmax , kernel_initializer=GlorotNormal()))\n",
    "    \n",
    "    # Compiling the model.\n",
    "    if kwargs:\n",
    "        model.compile(**kwargs)\n",
    "    return model"
   ]
  },
  {
   "cell_type": "code",
   "execution_count": 13,
   "id": "a546b51e",
   "metadata": {
    "execution": {
     "iopub.execute_input": "2023-06-28T16:35:28.398210Z",
     "iopub.status.busy": "2023-06-28T16:35:28.397240Z",
     "iopub.status.idle": "2023-06-28T16:37:00.801042Z",
     "shell.execute_reply": "2023-06-28T16:37:00.799929Z"
    },
    "papermill": {
     "duration": 92.41772,
     "end_time": "2023-06-28T16:37:00.803478",
     "exception": false,
     "start_time": "2023-06-28T16:35:28.385758",
     "status": "completed"
    },
    "tags": []
   },
   "outputs": [
    {
     "name": "stdout",
     "output_type": "stream",
     "text": [
      "Epoch 1/100\n",
      "54/54 [==============================] - 15s 64ms/step - loss: 3.1121 - sparse_categorical_accuracy: 0.5045 - val_loss: 0.6992 - val_sparse_categorical_accuracy: 0.7843 - lr: 0.0025\n",
      "Epoch 2/100\n",
      "54/54 [==============================] - 1s 21ms/step - loss: 0.9410 - sparse_categorical_accuracy: 0.6963 - val_loss: 0.5059 - val_sparse_categorical_accuracy: 0.8175 - lr: 0.0025\n",
      "Epoch 3/100\n",
      "54/54 [==============================] - 1s 22ms/step - loss: 0.6967 - sparse_categorical_accuracy: 0.7593 - val_loss: 0.4635 - val_sparse_categorical_accuracy: 0.8282 - lr: 0.0025\n",
      "Epoch 4/100\n",
      "54/54 [==============================] - 1s 20ms/step - loss: 0.6193 - sparse_categorical_accuracy: 0.7854 - val_loss: 0.4423 - val_sparse_categorical_accuracy: 0.8360 - lr: 0.0025\n",
      "Epoch 5/100\n",
      "54/54 [==============================] - 1s 20ms/step - loss: 0.5731 - sparse_categorical_accuracy: 0.8024 - val_loss: 0.4231 - val_sparse_categorical_accuracy: 0.8498 - lr: 0.0025\n",
      "Epoch 6/100\n",
      "54/54 [==============================] - 1s 20ms/step - loss: 0.5441 - sparse_categorical_accuracy: 0.8144 - val_loss: 0.4240 - val_sparse_categorical_accuracy: 0.8475 - lr: 0.0025\n",
      "Epoch 7/100\n",
      "54/54 [==============================] - 1s 22ms/step - loss: 0.5221 - sparse_categorical_accuracy: 0.8214 - val_loss: 0.4091 - val_sparse_categorical_accuracy: 0.8523 - lr: 0.0025\n",
      "Epoch 8/100\n",
      "54/54 [==============================] - 1s 20ms/step - loss: 0.5073 - sparse_categorical_accuracy: 0.8256 - val_loss: 0.4065 - val_sparse_categorical_accuracy: 0.8518 - lr: 0.0025\n",
      "Epoch 9/100\n",
      "54/54 [==============================] - 1s 22ms/step - loss: 0.4955 - sparse_categorical_accuracy: 0.8311 - val_loss: 0.3959 - val_sparse_categorical_accuracy: 0.8578 - lr: 0.0025\n",
      "Epoch 10/100\n",
      "54/54 [==============================] - 1s 21ms/step - loss: 0.4812 - sparse_categorical_accuracy: 0.8344 - val_loss: 0.3924 - val_sparse_categorical_accuracy: 0.8573 - lr: 0.0025\n",
      "Epoch 11/100\n",
      "54/54 [==============================] - 1s 20ms/step - loss: 0.4664 - sparse_categorical_accuracy: 0.8397 - val_loss: 0.3826 - val_sparse_categorical_accuracy: 0.8600 - lr: 0.0025\n",
      "Epoch 12/100\n",
      "54/54 [==============================] - 1s 20ms/step - loss: 0.4606 - sparse_categorical_accuracy: 0.8412 - val_loss: 0.3813 - val_sparse_categorical_accuracy: 0.8633 - lr: 0.0025\n",
      "Epoch 13/100\n",
      "54/54 [==============================] - 1s 21ms/step - loss: 0.4517 - sparse_categorical_accuracy: 0.8449 - val_loss: 0.3787 - val_sparse_categorical_accuracy: 0.8620 - lr: 0.0025\n",
      "Epoch 14/100\n",
      "54/54 [==============================] - 1s 20ms/step - loss: 0.4406 - sparse_categorical_accuracy: 0.8474 - val_loss: 0.3758 - val_sparse_categorical_accuracy: 0.8643 - lr: 0.0025\n",
      "Epoch 15/100\n",
      "54/54 [==============================] - 1s 20ms/step - loss: 0.4364 - sparse_categorical_accuracy: 0.8498 - val_loss: 0.3682 - val_sparse_categorical_accuracy: 0.8667 - lr: 0.0025\n",
      "Epoch 16/100\n",
      "54/54 [==============================] - 1s 20ms/step - loss: 0.4301 - sparse_categorical_accuracy: 0.8531 - val_loss: 0.3670 - val_sparse_categorical_accuracy: 0.8675 - lr: 0.0025\n",
      "Epoch 17/100\n",
      "54/54 [==============================] - 1s 22ms/step - loss: 0.4261 - sparse_categorical_accuracy: 0.8521 - val_loss: 0.3761 - val_sparse_categorical_accuracy: 0.8662 - lr: 0.0025\n",
      "Epoch 18/100\n",
      "54/54 [==============================] - 1s 25ms/step - loss: 0.4233 - sparse_categorical_accuracy: 0.8550 - val_loss: 0.3620 - val_sparse_categorical_accuracy: 0.8687 - lr: 0.0025\n",
      "Epoch 19/100\n",
      "54/54 [==============================] - 1s 21ms/step - loss: 0.4160 - sparse_categorical_accuracy: 0.8566 - val_loss: 0.3486 - val_sparse_categorical_accuracy: 0.8768 - lr: 0.0025\n",
      "Epoch 20/100\n",
      "54/54 [==============================] - 1s 20ms/step - loss: 0.4143 - sparse_categorical_accuracy: 0.8584 - val_loss: 0.3573 - val_sparse_categorical_accuracy: 0.8755 - lr: 0.0025\n",
      "Epoch 21/100\n",
      "54/54 [==============================] - 1s 20ms/step - loss: 0.4062 - sparse_categorical_accuracy: 0.8604 - val_loss: 0.3521 - val_sparse_categorical_accuracy: 0.8688 - lr: 0.0025\n",
      "Epoch 22/100\n",
      "54/54 [==============================] - 1s 20ms/step - loss: 0.4010 - sparse_categorical_accuracy: 0.8607 - val_loss: 0.3541 - val_sparse_categorical_accuracy: 0.8765 - lr: 0.0025\n",
      "Epoch 23/100\n",
      "54/54 [==============================] - 1s 20ms/step - loss: 0.3964 - sparse_categorical_accuracy: 0.8628 - val_loss: 0.3534 - val_sparse_categorical_accuracy: 0.8767 - lr: 0.0025\n",
      "Epoch 24/100\n",
      "54/54 [==============================] - 1s 20ms/step - loss: 0.3869 - sparse_categorical_accuracy: 0.8666 - val_loss: 0.3538 - val_sparse_categorical_accuracy: 0.8780 - lr: 0.0025\n",
      "Epoch 25/100\n",
      "54/54 [==============================] - 1s 21ms/step - loss: 0.3927 - sparse_categorical_accuracy: 0.8658 - val_loss: 0.3555 - val_sparse_categorical_accuracy: 0.8755 - lr: 0.0025\n",
      "Epoch 26/100\n",
      "54/54 [==============================] - 1s 20ms/step - loss: 0.3914 - sparse_categorical_accuracy: 0.8659 - val_loss: 0.3461 - val_sparse_categorical_accuracy: 0.8783 - lr: 0.0025\n",
      "Epoch 27/100\n",
      "54/54 [==============================] - 1s 25ms/step - loss: 0.3803 - sparse_categorical_accuracy: 0.8687 - val_loss: 0.3416 - val_sparse_categorical_accuracy: 0.8810 - lr: 0.0025\n",
      "Epoch 28/100\n",
      "54/54 [==============================] - 1s 24ms/step - loss: 0.3782 - sparse_categorical_accuracy: 0.8674 - val_loss: 0.3451 - val_sparse_categorical_accuracy: 0.8752 - lr: 0.0025\n",
      "Epoch 29/100\n",
      "54/54 [==============================] - 1s 20ms/step - loss: 0.3754 - sparse_categorical_accuracy: 0.8698 - val_loss: 0.3462 - val_sparse_categorical_accuracy: 0.8805 - lr: 0.0025\n",
      "Epoch 30/100\n",
      "54/54 [==============================] - 1s 22ms/step - loss: 0.3622 - sparse_categorical_accuracy: 0.8728 - val_loss: 0.3336 - val_sparse_categorical_accuracy: 0.8808 - lr: 0.0020\n",
      "Epoch 31/100\n",
      "54/54 [==============================] - 1s 20ms/step - loss: 0.3573 - sparse_categorical_accuracy: 0.8772 - val_loss: 0.3333 - val_sparse_categorical_accuracy: 0.8842 - lr: 0.0020\n",
      "Epoch 32/100\n",
      "54/54 [==============================] - 1s 20ms/step - loss: 0.3524 - sparse_categorical_accuracy: 0.8778 - val_loss: 0.3333 - val_sparse_categorical_accuracy: 0.8833 - lr: 0.0020\n",
      "Epoch 33/100\n",
      "54/54 [==============================] - 1s 22ms/step - loss: 0.3505 - sparse_categorical_accuracy: 0.8777 - val_loss: 0.3336 - val_sparse_categorical_accuracy: 0.8820 - lr: 0.0020\n",
      "Epoch 34/100\n",
      "54/54 [==============================] - 1s 20ms/step - loss: 0.3466 - sparse_categorical_accuracy: 0.8787 - val_loss: 0.3354 - val_sparse_categorical_accuracy: 0.8873 - lr: 0.0020\n",
      "Epoch 35/100\n",
      "54/54 [==============================] - 1s 21ms/step - loss: 0.3444 - sparse_categorical_accuracy: 0.8793 - val_loss: 0.3276 - val_sparse_categorical_accuracy: 0.8840 - lr: 0.0020\n",
      "Epoch 36/100\n",
      "54/54 [==============================] - 1s 20ms/step - loss: 0.3446 - sparse_categorical_accuracy: 0.8788 - val_loss: 0.3247 - val_sparse_categorical_accuracy: 0.8842 - lr: 0.0020\n",
      "Epoch 37/100\n",
      "54/54 [==============================] - 1s 20ms/step - loss: 0.3490 - sparse_categorical_accuracy: 0.8776 - val_loss: 0.3278 - val_sparse_categorical_accuracy: 0.8885 - lr: 0.0020\n",
      "Epoch 38/100\n",
      "54/54 [==============================] - 1s 21ms/step - loss: 0.3363 - sparse_categorical_accuracy: 0.8820 - val_loss: 0.3272 - val_sparse_categorical_accuracy: 0.8862 - lr: 0.0020\n",
      "Epoch 39/100\n",
      "54/54 [==============================] - 1s 20ms/step - loss: 0.3327 - sparse_categorical_accuracy: 0.8837 - val_loss: 0.3261 - val_sparse_categorical_accuracy: 0.8870 - lr: 0.0020\n",
      "Epoch 40/100\n",
      "54/54 [==============================] - 1s 20ms/step - loss: 0.3359 - sparse_categorical_accuracy: 0.8796 - val_loss: 0.3216 - val_sparse_categorical_accuracy: 0.8850 - lr: 0.0020\n",
      "Epoch 41/100\n",
      "54/54 [==============================] - 1s 22ms/step - loss: 0.3351 - sparse_categorical_accuracy: 0.8824 - val_loss: 0.3234 - val_sparse_categorical_accuracy: 0.8860 - lr: 0.0020\n",
      "Epoch 42/100\n",
      "54/54 [==============================] - 1s 21ms/step - loss: 0.3314 - sparse_categorical_accuracy: 0.8831 - val_loss: 0.3205 - val_sparse_categorical_accuracy: 0.8895 - lr: 0.0020\n",
      "Epoch 43/100\n",
      "54/54 [==============================] - 1s 20ms/step - loss: 0.3312 - sparse_categorical_accuracy: 0.8845 - val_loss: 0.3192 - val_sparse_categorical_accuracy: 0.8880 - lr: 0.0020\n",
      "Epoch 44/100\n",
      "54/54 [==============================] - 1s 20ms/step - loss: 0.3313 - sparse_categorical_accuracy: 0.8839 - val_loss: 0.3225 - val_sparse_categorical_accuracy: 0.8905 - lr: 0.0020\n",
      "Epoch 45/100\n",
      "54/54 [==============================] - 1s 20ms/step - loss: 0.3242 - sparse_categorical_accuracy: 0.8864 - val_loss: 0.3112 - val_sparse_categorical_accuracy: 0.8917 - lr: 0.0016\n",
      "Epoch 46/100\n",
      "54/54 [==============================] - 1s 21ms/step - loss: 0.3173 - sparse_categorical_accuracy: 0.8888 - val_loss: 0.3192 - val_sparse_categorical_accuracy: 0.8852 - lr: 0.0016\n",
      "Epoch 47/100\n",
      "54/54 [==============================] - 1s 22ms/step - loss: 0.3138 - sparse_categorical_accuracy: 0.8887 - val_loss: 0.3117 - val_sparse_categorical_accuracy: 0.8915 - lr: 0.0016\n",
      "Epoch 48/100\n",
      "54/54 [==============================] - 1s 20ms/step - loss: 0.3111 - sparse_categorical_accuracy: 0.8899 - val_loss: 0.3130 - val_sparse_categorical_accuracy: 0.8928 - lr: 0.0016\n",
      "Epoch 49/100\n",
      "54/54 [==============================] - 1s 20ms/step - loss: 0.3076 - sparse_categorical_accuracy: 0.8908 - val_loss: 0.3128 - val_sparse_categorical_accuracy: 0.8948 - lr: 0.0016\n",
      "Epoch 50/100\n",
      "54/54 [==============================] - 1s 20ms/step - loss: 0.3105 - sparse_categorical_accuracy: 0.8903 - val_loss: 0.3070 - val_sparse_categorical_accuracy: 0.8918 - lr: 0.0016\n",
      "Epoch 51/100\n",
      "54/54 [==============================] - 1s 20ms/step - loss: 0.3063 - sparse_categorical_accuracy: 0.8911 - val_loss: 0.3150 - val_sparse_categorical_accuracy: 0.8915 - lr: 0.0016\n",
      "Epoch 52/100\n",
      "54/54 [==============================] - 2s 30ms/step - loss: 0.3061 - sparse_categorical_accuracy: 0.8924 - val_loss: 0.3159 - val_sparse_categorical_accuracy: 0.8902 - lr: 0.0016\n",
      "Epoch 53/100\n",
      "54/54 [==============================] - 1s 20ms/step - loss: 0.3020 - sparse_categorical_accuracy: 0.8955 - val_loss: 0.3190 - val_sparse_categorical_accuracy: 0.8928 - lr: 0.0016\n",
      "Epoch 54/100\n",
      "54/54 [==============================] - 1s 21ms/step - loss: 0.2998 - sparse_categorical_accuracy: 0.8931 - val_loss: 0.3112 - val_sparse_categorical_accuracy: 0.8905 - lr: 0.0016\n",
      "Epoch 55/100\n",
      "54/54 [==============================] - 1s 22ms/step - loss: 0.2946 - sparse_categorical_accuracy: 0.8970 - val_loss: 0.3153 - val_sparse_categorical_accuracy: 0.8918 - lr: 0.0013\n",
      "Epoch 56/100\n",
      "54/54 [==============================] - 1s 20ms/step - loss: 0.2891 - sparse_categorical_accuracy: 0.8966 - val_loss: 0.3090 - val_sparse_categorical_accuracy: 0.8950 - lr: 0.0013\n",
      "Epoch 57/100\n",
      "54/54 [==============================] - 1s 20ms/step - loss: 0.2852 - sparse_categorical_accuracy: 0.8983 - val_loss: 0.3154 - val_sparse_categorical_accuracy: 0.8930 - lr: 0.0013\n",
      "Epoch 58/100\n",
      "54/54 [==============================] - 1s 21ms/step - loss: 0.2879 - sparse_categorical_accuracy: 0.8977 - val_loss: 0.3155 - val_sparse_categorical_accuracy: 0.8953 - lr: 0.0013\n",
      "Epoch 59/100\n",
      "54/54 [==============================] - 1s 21ms/step - loss: 0.2842 - sparse_categorical_accuracy: 0.8996 - val_loss: 0.3061 - val_sparse_categorical_accuracy: 0.8938 - lr: 0.0013\n"
     ]
    }
   ],
   "source": [
    "# Compiling and fitting the model.\n",
    "from numpy.random import randint, seed\n",
    "from tensorflow.keras.optimizers import Adam \n",
    "from tensorflow.keras.losses import SparseCategoricalCrossentropy\n",
    "from tensorflow.keras.metrics import SparseCategoricalAccuracy\n",
    "from tensorflow.keras.callbacks import EarlyStopping, ReduceLROnPlateau\n",
    "from tensorflow.config import list_logical_devices\n",
    "import tensorflow.distribute as tf_dist\n",
    "\n",
    "seed(42) \n",
    "\n",
    "# Running the fitting in our available GPU's.\n",
    "gpus = list_logical_devices('GPU')\n",
    "strategy = tf_dist.MirroredStrategy(gpus)\n",
    "\n",
    "# Informing TensorFlow to run the training in the GPU's.\n",
    "with strategy.scope():\n",
    "    # Setting the compilation configs.\n",
    "    optimizer = Adam(learning_rate=0.0025)\n",
    "    loss = SparseCategoricalCrossentropy()\n",
    "    metrics = [SparseCategoricalAccuracy()]\n",
    "    callbacks = [EarlyStopping(monitor='val_sparse_categorical_accuracy', min_delta=.01, patience=25, restore_best_weights=True),\n",
    "                    ReduceLROnPlateau(monitor='val_sparse_categorical_accuracy', factor=.8, min_delta=.01, patience=10)]\n",
    "    neurons = randint(200, 400, 5)\n",
    "    \n",
    "    # Creating the model and fitting it.\n",
    "    fcnn = my_fcnn(neurons, elu, .5, optimizer=optimizer, loss=loss, metrics=metrics)\n",
    "    fcnn.fit(x=train_set, epochs=100, callbacks=callbacks, validation_data=val_set)"
   ]
  },
  {
   "cell_type": "markdown",
   "id": "68eb8050",
   "metadata": {
    "papermill": {
     "duration": 0.084276,
     "end_time": "2023-06-28T16:37:00.969707",
     "exception": false,
     "start_time": "2023-06-28T16:37:00.885431",
     "status": "completed"
    },
    "tags": []
   },
   "source": [
    "<h3 style='font-size:30px;font-style:italic'> Extra Challenge: LeNet-5 </h3>\n",
    "<div> \n",
    "    <ul style='font-size:20px'> \n",
    "        <li> \n",
    "            Fully-Connected Neural Networks are utterly unsuitable to tasks such as Computer Vision. In modern DL systems, Convolutional Neural Networks show up as a resource both trustable and computationally lighter for this duty.\n",
    "        </li>\n",
    "        <li> \n",
    "            Hence, we'll design here a LeNet-5 model because of its success in digit recognition. \n",
    "        </li>\n",
    "    </ul>\n",
    "</div>"
   ]
  },
  {
   "cell_type": "code",
   "execution_count": 14,
   "id": "cefd45d1",
   "metadata": {
    "execution": {
     "iopub.execute_input": "2023-06-28T16:37:01.141637Z",
     "iopub.status.busy": "2023-06-28T16:37:01.141230Z",
     "iopub.status.idle": "2023-06-28T16:37:01.150777Z",
     "shell.execute_reply": "2023-06-28T16:37:01.149703Z"
    },
    "papermill": {
     "duration": 0.097144,
     "end_time": "2023-06-28T16:37:01.153260",
     "exception": false,
     "start_time": "2023-06-28T16:37:01.056116",
     "status": "completed"
    },
    "tags": []
   },
   "outputs": [],
   "source": [
    "# We'll be designing here a LetNet-5 NN. Thus, we'll need some extra components.\n",
    "\n",
    "# The images that feed the Input Layer of such model have 32x32 shape. Since the MNIST digits are 28x28 it is\n",
    "# necessary to add zero-padding to each matrix.\n",
    "from tensorflow.keras.layers import Reshape, ZeroPadding2D\n",
    "\n",
    "# `ZeroPadding2d` demands the inputs to own a dimension for the amount of channels. That's why we are invoking the\n",
    "# `Reshape` layer as well.\n",
    "target_shape = train_pixels.shape[1:]+[1]\n",
    "reshape = Reshape(target_shape=target_shape)\n",
    "\n",
    "# Instantiating the `ZeroPadding2D` layer.\n",
    "zero_padding_2d = ZeroPadding2D(padding=2)"
   ]
  },
  {
   "cell_type": "code",
   "execution_count": 15,
   "id": "2d91854f",
   "metadata": {
    "execution": {
     "iopub.execute_input": "2023-06-28T16:37:01.325460Z",
     "iopub.status.busy": "2023-06-28T16:37:01.325033Z",
     "iopub.status.idle": "2023-06-28T16:38:18.184446Z",
     "shell.execute_reply": "2023-06-28T16:38:18.183315Z"
    },
    "papermill": {
     "duration": 76.948897,
     "end_time": "2023-06-28T16:38:18.187051",
     "exception": false,
     "start_time": "2023-06-28T16:37:01.238154",
     "status": "completed"
    },
    "tags": []
   },
   "outputs": [
    {
     "name": "stdout",
     "output_type": "stream",
     "text": [
      "Epoch 1/100\n",
      "54/54 [==============================] - 13s 41ms/step - loss: 0.8713 - sparse_categorical_accuracy: 0.7038 - val_loss: 0.5895 - val_sparse_categorical_accuracy: 0.7908 - lr: 0.0012\n",
      "Epoch 2/100\n",
      "54/54 [==============================] - 1s 24ms/step - loss: 0.5350 - sparse_categorical_accuracy: 0.8095 - val_loss: 0.4865 - val_sparse_categorical_accuracy: 0.8292 - lr: 0.0012\n",
      "Epoch 3/100\n",
      "54/54 [==============================] - 1s 24ms/step - loss: 0.4607 - sparse_categorical_accuracy: 0.8371 - val_loss: 0.4261 - val_sparse_categorical_accuracy: 0.8480 - lr: 0.0012\n",
      "Epoch 4/100\n",
      "54/54 [==============================] - 1s 25ms/step - loss: 0.4123 - sparse_categorical_accuracy: 0.8541 - val_loss: 0.3957 - val_sparse_categorical_accuracy: 0.8548 - lr: 0.0012\n",
      "Epoch 5/100\n",
      "54/54 [==============================] - 2s 30ms/step - loss: 0.3827 - sparse_categorical_accuracy: 0.8639 - val_loss: 0.3706 - val_sparse_categorical_accuracy: 0.8653 - lr: 0.0012\n",
      "Epoch 6/100\n",
      "54/54 [==============================] - 2s 30ms/step - loss: 0.3591 - sparse_categorical_accuracy: 0.8719 - val_loss: 0.3630 - val_sparse_categorical_accuracy: 0.8677 - lr: 0.0012\n",
      "Epoch 7/100\n",
      "54/54 [==============================] - 1s 26ms/step - loss: 0.3413 - sparse_categorical_accuracy: 0.8764 - val_loss: 0.3508 - val_sparse_categorical_accuracy: 0.8700 - lr: 0.0012\n",
      "Epoch 8/100\n",
      "54/54 [==============================] - 1s 24ms/step - loss: 0.3260 - sparse_categorical_accuracy: 0.8823 - val_loss: 0.3336 - val_sparse_categorical_accuracy: 0.8808 - lr: 0.0012\n",
      "Epoch 9/100\n",
      "54/54 [==============================] - 1s 25ms/step - loss: 0.3119 - sparse_categorical_accuracy: 0.8883 - val_loss: 0.3320 - val_sparse_categorical_accuracy: 0.8810 - lr: 0.0012\n",
      "Epoch 10/100\n",
      "54/54 [==============================] - 1s 25ms/step - loss: 0.3017 - sparse_categorical_accuracy: 0.8911 - val_loss: 0.3249 - val_sparse_categorical_accuracy: 0.8837 - lr: 0.0012\n",
      "Epoch 11/100\n",
      "54/54 [==============================] - 1s 24ms/step - loss: 0.2923 - sparse_categorical_accuracy: 0.8934 - val_loss: 0.3193 - val_sparse_categorical_accuracy: 0.8848 - lr: 0.0012\n",
      "Epoch 12/100\n",
      "54/54 [==============================] - 1s 24ms/step - loss: 0.2842 - sparse_categorical_accuracy: 0.8972 - val_loss: 0.3148 - val_sparse_categorical_accuracy: 0.8832 - lr: 0.0012\n",
      "Epoch 13/100\n",
      "54/54 [==============================] - 1s 24ms/step - loss: 0.2768 - sparse_categorical_accuracy: 0.8985 - val_loss: 0.3037 - val_sparse_categorical_accuracy: 0.8882 - lr: 0.0012\n",
      "Epoch 14/100\n",
      "54/54 [==============================] - 1s 25ms/step - loss: 0.2669 - sparse_categorical_accuracy: 0.9028 - val_loss: 0.2984 - val_sparse_categorical_accuracy: 0.8888 - lr: 0.0012\n",
      "Epoch 15/100\n",
      "54/54 [==============================] - 1s 24ms/step - loss: 0.2589 - sparse_categorical_accuracy: 0.9060 - val_loss: 0.2976 - val_sparse_categorical_accuracy: 0.8882 - lr: 0.0012\n",
      "Epoch 16/100\n",
      "54/54 [==============================] - 1s 24ms/step - loss: 0.2525 - sparse_categorical_accuracy: 0.9084 - val_loss: 0.3061 - val_sparse_categorical_accuracy: 0.8857 - lr: 0.0012\n",
      "Epoch 17/100\n",
      "54/54 [==============================] - 1s 24ms/step - loss: 0.2464 - sparse_categorical_accuracy: 0.9096 - val_loss: 0.2909 - val_sparse_categorical_accuracy: 0.8930 - lr: 0.0012\n",
      "Epoch 18/100\n",
      "54/54 [==============================] - 1s 24ms/step - loss: 0.2383 - sparse_categorical_accuracy: 0.9137 - val_loss: 0.2900 - val_sparse_categorical_accuracy: 0.8920 - lr: 0.0012\n",
      "Epoch 19/100\n",
      "54/54 [==============================] - 1s 23ms/step - loss: 0.2335 - sparse_categorical_accuracy: 0.9146 - val_loss: 0.2890 - val_sparse_categorical_accuracy: 0.8930 - lr: 0.0012\n",
      "Epoch 20/100\n",
      "54/54 [==============================] - 1s 24ms/step - loss: 0.2291 - sparse_categorical_accuracy: 0.9162 - val_loss: 0.2957 - val_sparse_categorical_accuracy: 0.8912 - lr: 0.0012\n",
      "Epoch 21/100\n",
      "54/54 [==============================] - 1s 25ms/step - loss: 0.2248 - sparse_categorical_accuracy: 0.9184 - val_loss: 0.2849 - val_sparse_categorical_accuracy: 0.8962 - lr: 0.0012\n",
      "Epoch 22/100\n",
      "54/54 [==============================] - 1s 23ms/step - loss: 0.2152 - sparse_categorical_accuracy: 0.9218 - val_loss: 0.2841 - val_sparse_categorical_accuracy: 0.8957 - lr: 0.0012\n",
      "Epoch 23/100\n",
      "54/54 [==============================] - 1s 25ms/step - loss: 0.2099 - sparse_categorical_accuracy: 0.9230 - val_loss: 0.2846 - val_sparse_categorical_accuracy: 0.8930 - lr: 0.0012\n",
      "Epoch 24/100\n",
      "54/54 [==============================] - 1s 24ms/step - loss: 0.2098 - sparse_categorical_accuracy: 0.9229 - val_loss: 0.2837 - val_sparse_categorical_accuracy: 0.8948 - lr: 0.0012\n",
      "Epoch 25/100\n",
      "54/54 [==============================] - 1s 24ms/step - loss: 0.2041 - sparse_categorical_accuracy: 0.9259 - val_loss: 0.2829 - val_sparse_categorical_accuracy: 0.8950 - lr: 0.0012\n",
      "Epoch 26/100\n",
      "54/54 [==============================] - 1s 25ms/step - loss: 0.1976 - sparse_categorical_accuracy: 0.9281 - val_loss: 0.2921 - val_sparse_categorical_accuracy: 0.8917 - lr: 0.0012\n",
      "Epoch 27/100\n",
      "54/54 [==============================] - 1s 27ms/step - loss: 0.1900 - sparse_categorical_accuracy: 0.9314 - val_loss: 0.2750 - val_sparse_categorical_accuracy: 0.8968 - lr: 0.0012\n",
      "Epoch 28/100\n",
      "54/54 [==============================] - 1s 25ms/step - loss: 0.1867 - sparse_categorical_accuracy: 0.9321 - val_loss: 0.2844 - val_sparse_categorical_accuracy: 0.8968 - lr: 0.0012\n",
      "Epoch 29/100\n",
      "54/54 [==============================] - 1s 23ms/step - loss: 0.1831 - sparse_categorical_accuracy: 0.9339 - val_loss: 0.2748 - val_sparse_categorical_accuracy: 0.9008 - lr: 0.0012\n",
      "Epoch 30/100\n",
      "54/54 [==============================] - 1s 24ms/step - loss: 0.1771 - sparse_categorical_accuracy: 0.9355 - val_loss: 0.2819 - val_sparse_categorical_accuracy: 0.8978 - lr: 0.0012\n",
      "Epoch 31/100\n",
      "54/54 [==============================] - 1s 25ms/step - loss: 0.1734 - sparse_categorical_accuracy: 0.9378 - val_loss: 0.2820 - val_sparse_categorical_accuracy: 0.8982 - lr: 0.0012\n",
      "Epoch 32/100\n",
      "54/54 [==============================] - 1s 24ms/step - loss: 0.1614 - sparse_categorical_accuracy: 0.9423 - val_loss: 0.2778 - val_sparse_categorical_accuracy: 0.8990 - lr: 6.2500e-04\n",
      "Epoch 33/100\n",
      "54/54 [==============================] - 1s 25ms/step - loss: 0.1579 - sparse_categorical_accuracy: 0.9435 - val_loss: 0.2766 - val_sparse_categorical_accuracy: 0.9005 - lr: 6.2500e-04\n",
      "Epoch 34/100\n",
      "54/54 [==============================] - 1s 25ms/step - loss: 0.1555 - sparse_categorical_accuracy: 0.9456 - val_loss: 0.2774 - val_sparse_categorical_accuracy: 0.9005 - lr: 6.2500e-04\n",
      "Epoch 35/100\n",
      "54/54 [==============================] - 1s 25ms/step - loss: 0.1531 - sparse_categorical_accuracy: 0.9458 - val_loss: 0.2808 - val_sparse_categorical_accuracy: 0.8983 - lr: 6.2500e-04\n",
      "Epoch 36/100\n",
      "54/54 [==============================] - 1s 24ms/step - loss: 0.1512 - sparse_categorical_accuracy: 0.9466 - val_loss: 0.2818 - val_sparse_categorical_accuracy: 0.9003 - lr: 6.2500e-04\n",
      "Epoch 37/100\n",
      "54/54 [==============================] - 1s 24ms/step - loss: 0.1473 - sparse_categorical_accuracy: 0.9486 - val_loss: 0.2822 - val_sparse_categorical_accuracy: 0.8993 - lr: 6.2500e-04\n",
      "Epoch 38/100\n",
      "54/54 [==============================] - 1s 24ms/step - loss: 0.1474 - sparse_categorical_accuracy: 0.9487 - val_loss: 0.2829 - val_sparse_categorical_accuracy: 0.8992 - lr: 6.2500e-04\n",
      "Epoch 39/100\n",
      "54/54 [==============================] - 1s 23ms/step - loss: 0.1438 - sparse_categorical_accuracy: 0.9505 - val_loss: 0.2861 - val_sparse_categorical_accuracy: 0.9000 - lr: 6.2500e-04\n",
      "Epoch 40/100\n",
      "54/54 [==============================] - 1s 24ms/step - loss: 0.1423 - sparse_categorical_accuracy: 0.9507 - val_loss: 0.2873 - val_sparse_categorical_accuracy: 0.8980 - lr: 6.2500e-04\n",
      "Epoch 41/100\n",
      "54/54 [==============================] - 1s 25ms/step - loss: 0.1395 - sparse_categorical_accuracy: 0.9514 - val_loss: 0.2915 - val_sparse_categorical_accuracy: 0.8990 - lr: 6.2500e-04\n",
      "Epoch 42/100\n",
      "54/54 [==============================] - 1s 26ms/step - loss: 0.1339 - sparse_categorical_accuracy: 0.9548 - val_loss: 0.2862 - val_sparse_categorical_accuracy: 0.8998 - lr: 3.1250e-04\n"
     ]
    }
   ],
   "source": [
    "from tensorflow.keras.layers import Conv2D, AveragePooling2D\n",
    "# Informing TensorFlow to run the training in the GPU's.\n",
    "with strategy.scope():\n",
    "    \n",
    "    # Building our LeNet-5\n",
    "    lenet5 = Sequential([\n",
    "        # Initial layers.\n",
    "        Input(shape=[28,28]),\n",
    "        standardize, # Note that the inputs need to be standardized as well in this architecture.\n",
    "        reshape,\n",
    "        zero_padding_2d,\n",
    "\n",
    "        # Performing the Convolutions and Pooling in accordance to LeNet-5's architecture.\n",
    "        Conv2D(filters=6, kernel_size=5, strides=1, activation='tanh'),\n",
    "        AveragePooling2D(),\n",
    "        Conv2D(filters=16, kernel_size=5, strides=1, activation='tanh'),\n",
    "        AveragePooling2D(),\n",
    "        Conv2D(filters=120, kernel_size=5, strides=1, activation='tanh'),\n",
    "\n",
    "        # A Dense layer followed by the output layer.\n",
    "        Flatten(),\n",
    "        Dense(units=84, activation='tanh', kernel_initializer=GlorotNormal()),\n",
    "        Dense(units=10, activation='softmax')\n",
    "\n",
    "    ])\n",
    "\n",
    "    # Setting the compilation configs.\n",
    "    optimizer = Adam(learning_rate=0.00125)\n",
    "    loss = SparseCategoricalCrossentropy()\n",
    "    metrics = [SparseCategoricalAccuracy()]\n",
    "    callbacks = [EarlyStopping(monitor='val_sparse_categorical_accuracy', min_delta=.01, patience=25, restore_best_weights=True),\n",
    "                    ReduceLROnPlateau(monitor='val_sparse_categorical_accuracy', factor=.5, min_delta=.005, patience=10)]\n",
    "    \n",
    "    # Creating the model and fitting it.\n",
    "    lenet5.compile(optimizer=optimizer, loss=loss, metrics=metrics)\n",
    "    lenet5.fit(x=train_set, epochs=100, callbacks=callbacks, validation_data=val_set)"
   ]
  },
  {
   "cell_type": "markdown",
   "id": "7207fa35",
   "metadata": {
    "papermill": {
     "duration": 0.15488,
     "end_time": "2023-06-28T16:38:18.485809",
     "exception": false,
     "start_time": "2023-06-28T16:38:18.330929",
     "status": "completed"
    },
    "tags": []
   },
   "source": [
    "<h2 style='font-size:30px'> Models Testing and Comparison</h2>\n",
    "<div> \n",
    "    <ul style='font-size:20px'> \n",
    "        <li> \n",
    "            By seeing the fitting logs, we cannot observe a big difference between the NN's accuracies. \n",
    "        </li>\n",
    "        <li> \n",
    "            Let's find out whether the test performances presents any statistical difference.\n",
    "        </li>\n",
    "    </ul>\n",
    "</div>"
   ]
  },
  {
   "cell_type": "code",
   "execution_count": 16,
   "id": "e9a6b4cc",
   "metadata": {
    "execution": {
     "iopub.execute_input": "2023-06-28T16:38:18.778037Z",
     "iopub.status.busy": "2023-06-28T16:38:18.777293Z",
     "iopub.status.idle": "2023-06-28T16:38:18.784593Z",
     "shell.execute_reply": "2023-06-28T16:38:18.783362Z"
    },
    "papermill": {
     "duration": 0.155154,
     "end_time": "2023-06-28T16:38:18.787631",
     "exception": false,
     "start_time": "2023-06-28T16:38:18.632477",
     "status": "completed"
    },
    "tags": []
   },
   "outputs": [],
   "source": [
    "from numpy import argwhere, argmax\n",
    "\n",
    "# We are going to conduct a Hypothesis Test on both models' accuracy.\n",
    "# Since the statsmodels function demands us to inform countings instead of proportions, we need to create a small method\n",
    "# that gives us the quantity of right estimations.\n",
    "\n",
    "def n_correct_predictions(model:Sequential, X:Tensor, y:Tensor)->int:\n",
    "    '''\n",
    "        Computes the amount of instances that a given model correctly predicted.\n",
    "        \n",
    "        Parameters\n",
    "        ----------\n",
    "        `model`: A Keras model.\n",
    "        `X`: The dataset's independent variables Tensor.\n",
    "        `y`: The dataset's dependent variables Tensor.\n",
    "        \n",
    "        Returns\n",
    "        -------\n",
    "        An integer indicating the number of instances correctly predicted by the model.\n",
    "    '''\n",
    "    return len(argwhere(argmax(model.predict(X), axis=1) == y))"
   ]
  },
  {
   "cell_type": "code",
   "execution_count": 17,
   "id": "cbc3e21e",
   "metadata": {
    "execution": {
     "iopub.execute_input": "2023-06-28T16:38:19.077952Z",
     "iopub.status.busy": "2023-06-28T16:38:19.076912Z",
     "iopub.status.idle": "2023-06-28T16:38:24.473538Z",
     "shell.execute_reply": "2023-06-28T16:38:24.472308Z"
    },
    "papermill": {
     "duration": 5.546151,
     "end_time": "2023-06-28T16:38:24.475997",
     "exception": false,
     "start_time": "2023-06-28T16:38:18.929846",
     "status": "completed"
    },
    "tags": []
   },
   "outputs": [
    {
     "name": "stdout",
     "output_type": "stream",
     "text": [
      "313/313 [==============================] - 3s 5ms/step\n",
      "313/313 [==============================] - 2s 5ms/step\n",
      "FCNN has correctly estimated 8781 instances\n",
      "LeNet-5 has correctly estimated 8887 instances\n"
     ]
    }
   ],
   "source": [
    "# Carrying out the estimations.\n",
    "with strategy.scope():\n",
    "    fcnn_correct = n_correct_predictions(fcnn, X_test, y_test)\n",
    "    lenet5_correct = n_correct_predictions(lenet5, X_test, y_test)\n",
    "    \n",
    "print(f'FCNN has correctly estimated {fcnn_correct} instances')\n",
    "print(f'LeNet-5 has correctly estimated {lenet5_correct} instances')"
   ]
  },
  {
   "cell_type": "code",
   "execution_count": 18,
   "id": "58303276",
   "metadata": {
    "execution": {
     "iopub.execute_input": "2023-06-28T16:38:24.911305Z",
     "iopub.status.busy": "2023-06-28T16:38:24.910689Z",
     "iopub.status.idle": "2023-06-28T16:38:24.999989Z",
     "shell.execute_reply": "2023-06-28T16:38:24.998761Z"
    },
    "papermill": {
     "duration": 0.375061,
     "end_time": "2023-06-28T16:38:25.003459",
     "exception": false,
     "start_time": "2023-06-28T16:38:24.628398",
     "status": "completed"
    },
    "tags": []
   },
   "outputs": [
    {
     "data": {
      "text/plain": [
       "(-2.335068635991568, 0.009769917734904552)"
      ]
     },
     "execution_count": 18,
     "metadata": {},
     "output_type": "execute_result"
    }
   ],
   "source": [
    "from statsmodels.stats.proportion import test_proportions_2indep\n",
    "\n",
    "nobs = len(y_test)\n",
    "test_proportions_2indep(fcnn_correct, nobs, lenet5_correct, nobs, compare='ratio', alternative='smaller', return_results=False)"
   ]
  },
  {
   "cell_type": "code",
   "execution_count": 19,
   "id": "1fe37b60",
   "metadata": {
    "execution": {
     "iopub.execute_input": "2023-06-28T16:38:25.476720Z",
     "iopub.status.busy": "2023-06-28T16:38:25.476131Z",
     "iopub.status.idle": "2023-06-28T16:38:25.526461Z",
     "shell.execute_reply": "2023-06-28T16:38:25.525360Z"
    },
    "papermill": {
     "duration": 0.341313,
     "end_time": "2023-06-28T16:38:25.580468",
     "exception": false,
     "start_time": "2023-06-28T16:38:25.239155",
     "status": "completed"
    },
    "tags": []
   },
   "outputs": [
    {
     "name": "stdout",
     "output_type": "stream",
     "text": [
      "Model: \"sequential_1\"\n",
      "_________________________________________________________________\n",
      " Layer (type)                Output Shape              Param #   \n",
      "=================================================================\n",
      " standardize (Standardize)   (None, 28, 28)            0         \n",
      "                                                                 \n",
      " reshape (Reshape)           (None, 28, 28, 1)         0         \n",
      "                                                                 \n",
      " zero_padding2d (ZeroPadding  (None, 32, 32, 1)        0         \n",
      " 2D)                                                             \n",
      "                                                                 \n",
      " conv2d (Conv2D)             (None, 28, 28, 6)         156       \n",
      "                                                                 \n",
      " average_pooling2d (AverageP  (None, 14, 14, 6)        0         \n",
      " ooling2D)                                                       \n",
      "                                                                 \n",
      " conv2d_1 (Conv2D)           (None, 10, 10, 16)        2416      \n",
      "                                                                 \n",
      " average_pooling2d_1 (Averag  (None, 5, 5, 16)         0         \n",
      " ePooling2D)                                                     \n",
      "                                                                 \n",
      " conv2d_2 (Conv2D)           (None, 1, 1, 120)         48120     \n",
      "                                                                 \n",
      " flatten_1 (Flatten)         (None, 120)               0         \n",
      "                                                                 \n",
      " dense_6 (Dense)             (None, 84)                10164     \n",
      "                                                                 \n",
      " dense_7 (Dense)             (None, 10)                850       \n",
      "                                                                 \n",
      "=================================================================\n",
      "Total params: 61,706\n",
      "Trainable params: 61,706\n",
      "Non-trainable params: 0\n",
      "_________________________________________________________________\n"
     ]
    }
   ],
   "source": [
    "lenet5.summary()"
   ]
  },
  {
   "cell_type": "code",
   "execution_count": 20,
   "id": "0a3edcf3",
   "metadata": {
    "execution": {
     "iopub.execute_input": "2023-06-28T16:38:26.065571Z",
     "iopub.status.busy": "2023-06-28T16:38:26.065136Z",
     "iopub.status.idle": "2023-06-28T16:38:26.098151Z",
     "shell.execute_reply": "2023-06-28T16:38:26.097430Z"
    },
    "papermill": {
     "duration": 0.302343,
     "end_time": "2023-06-28T16:38:26.151296",
     "exception": false,
     "start_time": "2023-06-28T16:38:25.848953",
     "status": "completed"
    },
    "tags": []
   },
   "outputs": [
    {
     "name": "stdout",
     "output_type": "stream",
     "text": [
      "Model: \"sequential\"\n",
      "_________________________________________________________________\n",
      " Layer (type)                Output Shape              Param #   \n",
      "=================================================================\n",
      " standardize (Standardize)   (None, 28, 28)            0         \n",
      "                                                                 \n",
      " flatten (Flatten)           (None, 784)               0         \n",
      "                                                                 \n",
      " dense (Dense)               (None, 302)               237070    \n",
      "                                                                 \n",
      " dropout (Dropout)           (None, 302)               0         \n",
      "                                                                 \n",
      " dense_1 (Dense)             (None, 379)               114837    \n",
      "                                                                 \n",
      " dropout_1 (Dropout)         (None, 379)               0         \n",
      "                                                                 \n",
      " dense_2 (Dense)             (None, 292)               110960    \n",
      "                                                                 \n",
      " dropout_2 (Dropout)         (None, 292)               0         \n",
      "                                                                 \n",
      " dense_3 (Dense)             (None, 214)               62702     \n",
      "                                                                 \n",
      " dropout_3 (Dropout)         (None, 214)               0         \n",
      "                                                                 \n",
      " dense_4 (Dense)             (None, 306)               65790     \n",
      "                                                                 \n",
      " dropout_4 (Dropout)         (None, 306)               0         \n",
      "                                                                 \n",
      " dense_5 (Dense)             (None, 10)                3070      \n",
      "                                                                 \n",
      "=================================================================\n",
      "Total params: 594,429\n",
      "Trainable params: 594,429\n",
      "Non-trainable params: 0\n",
      "_________________________________________________________________\n"
     ]
    }
   ],
   "source": [
    "fcnn.summary()#(X_test, y_test)"
   ]
  },
  {
   "cell_type": "markdown",
   "id": "9da35bf0",
   "metadata": {
    "papermill": {
     "duration": 0.157477,
     "end_time": "2023-06-28T16:38:26.506252",
     "exception": false,
     "start_time": "2023-06-28T16:38:26.348775",
     "status": "completed"
    },
    "tags": []
   },
   "source": [
    "<p style='color:red'> Escrever uma conclusão sobre o Teste de Hipóteses"
   ]
  },
  {
   "cell_type": "markdown",
   "id": "51c70eb1",
   "metadata": {
    "papermill": {
     "duration": 0.162536,
     "end_time": "2023-06-28T16:38:26.825523",
     "exception": false,
     "start_time": "2023-06-28T16:38:26.662987",
     "status": "completed"
    },
    "tags": []
   },
   "source": [
    "<h2 style='font-size:30px'> </h2>"
   ]
  }
 ],
 "metadata": {
  "kernelspec": {
   "display_name": "Python 3",
   "language": "python",
   "name": "python3"
  },
  "language_info": {
   "codemirror_mode": {
    "name": "ipython",
    "version": 3
   },
   "file_extension": ".py",
   "mimetype": "text/x-python",
   "name": "python",
   "nbconvert_exporter": "python",
   "pygments_lexer": "ipython3",
   "version": "3.7.12"
  },
  "papermill": {
   "default_parameters": {},
   "duration": 210.274606,
   "end_time": "2023-06-28T16:38:30.350099",
   "environment_variables": {},
   "exception": null,
   "input_path": "__notebook__.ipynb",
   "output_path": "__notebook__.ipynb",
   "parameters": {},
   "start_time": "2023-06-28T16:35:00.075493",
   "version": "2.4.0"
  }
 },
 "nbformat": 4,
 "nbformat_minor": 5
}
