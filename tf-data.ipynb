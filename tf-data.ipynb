{
 "cells": [
  {
   "cell_type": "markdown",
   "id": "639fafaa",
   "metadata": {
    "papermill": {
     "duration": 0.00796,
     "end_time": "2023-05-19T16:01:09.548887",
     "exception": false,
     "start_time": "2023-05-19T16:01:09.540927",
     "status": "completed"
    },
    "tags": []
   },
   "source": [
    "<h1 style='font-size:40px'> tf.data Pipeline</h1>\n",
    "<div> \n",
    "    <ul style='font-size:20px'> \n",
    "        <li> \n",
    "            In this notebook I'll practice my skills with the tf.data module solving Exercise 9 from Hands-On Machine Learning with Scikit-Learn and TensorFlow's Chapter 13.\n",
    "        </li>\n",
    "        <li> \n",
    "            The Exercise commands us the following:\n",
    "            <p style='font-style:italic;margin-top:10px'> \n",
    "                Load the Fashion MNIST dataset (introduced in Chapter 10); split\n",
    "it into a training set, a validation set, and a test set; shuffle the\n",
    "training set; and save each dataset to multiple TFRecord files.\n",
    "Each record should be a serialized Example protobuf with two\n",
    "features: the serialized image (use tf.io.serialize_tensor()\n",
    "to serialize each image), and the label. 11 Then use tf.data to create\n",
    "an efficient dataset for each set. Finally, use a Keras model to\n",
    "train these datasets, including a preprocessing layer to standardize\n",
    "each input feature. Try to make the input pipeline as efficient as\n",
    "possible, using TensorBoard to visualize profiling data.\n",
    "            </p>\n",
    "        </li>\n",
    "    </ul>\n",
    "</div>"
   ]
  },
  {
   "cell_type": "markdown",
   "id": "1640cfce",
   "metadata": {
    "papermill": {
     "duration": 0.006297,
     "end_time": "2023-05-19T16:01:09.561998",
     "exception": false,
     "start_time": "2023-05-19T16:01:09.555701",
     "status": "completed"
    },
    "tags": []
   },
   "source": [
    "<h2 style='font-size:30px'> Data Importing & Splitting</h2>"
   ]
  },
  {
   "cell_type": "code",
   "execution_count": 1,
   "id": "37010023",
   "metadata": {
    "execution": {
     "iopub.execute_input": "2023-05-19T16:01:09.578840Z",
     "iopub.status.busy": "2023-05-19T16:01:09.577719Z",
     "iopub.status.idle": "2023-05-19T16:01:26.719003Z",
     "shell.execute_reply": "2023-05-19T16:01:26.717151Z"
    },
    "papermill": {
     "duration": 17.154309,
     "end_time": "2023-05-19T16:01:26.722932",
     "exception": false,
     "start_time": "2023-05-19T16:01:09.568623",
     "status": "completed"
    },
    "tags": []
   },
   "outputs": [
    {
     "name": "stdout",
     "output_type": "stream",
     "text": [
      "Downloading data from https://storage.googleapis.com/tensorflow/tf-keras-datasets/train-labels-idx1-ubyte.gz\n",
      "29515/29515 [==============================] - 0s 1us/step\n",
      "Downloading data from https://storage.googleapis.com/tensorflow/tf-keras-datasets/train-images-idx3-ubyte.gz\n",
      "26421880/26421880 [==============================] - 2s 0us/step\n",
      "Downloading data from https://storage.googleapis.com/tensorflow/tf-keras-datasets/t10k-labels-idx1-ubyte.gz\n",
      "5148/5148 [==============================] - 0s 0us/step\n",
      "Downloading data from https://storage.googleapis.com/tensorflow/tf-keras-datasets/t10k-images-idx3-ubyte.gz\n",
      "4422102/4422102 [==============================] - 1s 0us/step\n"
     ]
    }
   ],
   "source": [
    "# Loading the fashion_mnist dataset.\n",
    "from tensorflow.keras.datasets import fashion_mnist\n",
    "from sklearn.model_selection import train_test_split\n",
    "(X_train, y_train), (X_test, y_test) = fashion_mnist.load_data()\n",
    "\n",
    "# Now, generating the validation set with `train_test_split`.\n",
    "X_train, X_val, y_train, y_val = train_test_split(X_train, y_train, test_size=.1, random_state=42)"
   ]
  },
  {
   "cell_type": "code",
   "execution_count": 2,
   "id": "65904dcf",
   "metadata": {
    "execution": {
     "iopub.execute_input": "2023-05-19T16:01:26.749779Z",
     "iopub.status.busy": "2023-05-19T16:01:26.748737Z",
     "iopub.status.idle": "2023-05-19T16:01:26.929718Z",
     "shell.execute_reply": "2023-05-19T16:01:26.928023Z"
    },
    "papermill": {
     "duration": 0.197982,
     "end_time": "2023-05-19T16:01:26.933099",
     "exception": false,
     "start_time": "2023-05-19T16:01:26.735117",
     "status": "completed"
    },
    "tags": []
   },
   "outputs": [],
   "source": [
    "# Storing each one of the sets in a tf.data.Dataset object.\n",
    "# The classes store 1000 elements batches. The groups' data will be put into a .tfrecord file.\n",
    "from tensorflow.data import Dataset\n",
    "batch_size = 1000\n",
    "train = Dataset.from_tensor_slices((X_train, y_train)).shuffle(54000).batch(batch_size)\n",
    "val = Dataset.from_tensor_slices((X_val, y_val)).batch(batch_size)\n",
    "test = Dataset.from_tensor_slices((X_test, y_test)).batch(batch_size)"
   ]
  },
  {
   "cell_type": "code",
   "execution_count": 3,
   "id": "94df9cc1",
   "metadata": {
    "execution": {
     "iopub.execute_input": "2023-05-19T16:01:26.958407Z",
     "iopub.status.busy": "2023-05-19T16:01:26.957922Z",
     "iopub.status.idle": "2023-05-19T16:01:26.964501Z",
     "shell.execute_reply": "2023-05-19T16:01:26.962977Z"
    },
    "papermill": {
     "duration": 0.023068,
     "end_time": "2023-05-19T16:01:26.967455",
     "exception": false,
     "start_time": "2023-05-19T16:01:26.944387",
     "status": "completed"
    },
    "tags": []
   },
   "outputs": [],
   "source": [
    "# We'll produce 1000 instances .tfrecord files. One corresponding to a bacth created.\n",
    "train_files = len(X_train) // batch_size\n",
    "val_files = len(X_val) // batch_size\n",
    "test_files = len(X_test) // batch_size"
   ]
  },
  {
   "cell_type": "markdown",
   "id": "dbcbdf4b",
   "metadata": {
    "papermill": {
     "duration": 0.01082,
     "end_time": "2023-05-19T16:01:26.989441",
     "exception": false,
     "start_time": "2023-05-19T16:01:26.978621",
     "status": "completed"
    },
    "tags": []
   },
   "source": [
    "<h2 style='font-size:30px'> .tfrecord's Production</h2>\n",
    "<div> \n",
    "    <ul style='font-size:20px'> \n",
    "        <li> \n",
    "            TensorFlow records demands data to be stored in protobuf format. We can do so by placing the serialized information in an `Example` class. \n",
    "        </li>\n",
    "    </ul>\n",
    "</div>"
   ]
  },
  {
   "cell_type": "code",
   "execution_count": 4,
   "id": "2870098e",
   "metadata": {
    "execution": {
     "iopub.execute_input": "2023-05-19T16:01:27.014294Z",
     "iopub.status.busy": "2023-05-19T16:01:27.013800Z",
     "iopub.status.idle": "2023-05-19T16:01:27.028014Z",
     "shell.execute_reply": "2023-05-19T16:01:27.026582Z"
    },
    "papermill": {
     "duration": 0.030694,
     "end_time": "2023-05-19T16:01:27.031429",
     "exception": false,
     "start_time": "2023-05-19T16:01:27.000735",
     "status": "completed"
    },
    "tags": []
   },
   "outputs": [],
   "source": [
    "from tensorflow import Tensor\n",
    "from tensorflow.train import BytesList, Example, Features, Feature, Int64List\n",
    "from tensorflow.io import serialize_tensor, TFRecordWriter\n",
    "\n",
    "def create_example(images:Tensor, targets:Tensor)->str:\n",
    "    '''\n",
    "        Generates a serialized `Example` object holding the pixel intensities and target values from a collection\n",
    "        of MNIST images.\n",
    "        \n",
    "        Parameters\n",
    "        ----------\n",
    "        `images`: A 3-D `tf.Tensor` with the digits pixels. \\n\n",
    "        `targets`: An 1-D `tf.Tensor` with the digits labels.\n",
    "        \n",
    "        Returns\n",
    "        -------\n",
    "        An `tf.train.Example` object storing both pixels and target values.\n",
    "    '''\n",
    "    # Serializing the input vectors.\n",
    "    serialized_images, serialized_targets = serialize_tensor(images), serialize_tensor(targets)\n",
    "    example = Example(\n",
    "        features=Features(\n",
    "            feature={\n",
    "            'pixels':Feature(bytes_list=BytesList(value=[serialized_images.numpy()])),\n",
    "            'target':Feature(bytes_list=BytesList(value=[serialized_targets.numpy()]))\n",
    "        }\n",
    "        ))\n",
    "    # Now, converting the `Example` object into a binary string.\n",
    "    return example.SerializeToString()"
   ]
  },
  {
   "cell_type": "code",
   "execution_count": 5,
   "id": "ddd3dd18",
   "metadata": {
    "execution": {
     "iopub.execute_input": "2023-05-19T16:01:27.056502Z",
     "iopub.status.busy": "2023-05-19T16:01:27.055992Z",
     "iopub.status.idle": "2023-05-19T16:01:28.185384Z",
     "shell.execute_reply": "2023-05-19T16:01:28.183367Z"
    },
    "papermill": {
     "duration": 1.146481,
     "end_time": "2023-05-19T16:01:28.189185",
     "exception": false,
     "start_time": "2023-05-19T16:01:27.042704",
     "status": "completed"
    },
    "tags": []
   },
   "outputs": [],
   "source": [
    "# It is convenient to place all data files in a separate directory.\n",
    "! mkdir mnist"
   ]
  },
  {
   "cell_type": "code",
   "execution_count": 6,
   "id": "1776ce7c",
   "metadata": {
    "execution": {
     "iopub.execute_input": "2023-05-19T16:01:28.215941Z",
     "iopub.status.busy": "2023-05-19T16:01:28.215030Z",
     "iopub.status.idle": "2023-05-19T16:01:28.797143Z",
     "shell.execute_reply": "2023-05-19T16:01:28.795143Z"
    },
    "papermill": {
     "duration": 0.599247,
     "end_time": "2023-05-19T16:01:28.800393",
     "exception": false,
     "start_time": "2023-05-19T16:01:28.201146",
     "status": "completed"
    },
    "tags": []
   },
   "outputs": [],
   "source": [
    "def create_files(dataset:Dataset, filename:str, directory:str='.')->None:\n",
    "    '''\n",
    "        Creates the .tfrecord's files based on the batches from a provided `dataset`.\n",
    "        \n",
    "        Parameters\n",
    "        ----------\n",
    "        `dataset`: A `tf.data.Dataset` object. \\n\n",
    "        `filename`: A custom name for file identification. \\n\n",
    "        `directory`: A string that indicates the directory where the files are put.\n",
    "    '''\n",
    "    for index, (images, labels) in dataset.enumerate():\n",
    "        file = TFRecordWriter(f'{directory}/{filename}_{index}.tfrecord')\n",
    "        serialized_data = create_example(images, labels)\n",
    "        file.write(serialized_data)\n",
    "\n",
    "# Generating the files.\n",
    "create_files(train, 'train', 'mnist')\n",
    "create_files(val, 'val', 'mnist')\n",
    "create_files(test, 'test', 'mnist')"
   ]
  },
  {
   "cell_type": "markdown",
   "id": "6fc6426e",
   "metadata": {
    "papermill": {
     "duration": 0.011379,
     "end_time": "2023-05-19T16:01:28.824712",
     "exception": false,
     "start_time": "2023-05-19T16:01:28.813333",
     "status": "completed"
    },
    "tags": []
   },
   "source": [
    "<h2 style='font-size:30px'> Data Treatment</h2>\n",
    "<div> \n",
    "    <ul style='font-size:20px'> \n",
    "        <li> \n",
    "            With the files generated, we can proceed and handle the data importing and its proper treatment.\n",
    "        </li>\n",
    "    </ul>\n",
    "</div>"
   ]
  },
  {
   "cell_type": "code",
   "execution_count": 7,
   "id": "f5335b42",
   "metadata": {
    "execution": {
     "iopub.execute_input": "2023-05-19T16:01:28.849893Z",
     "iopub.status.busy": "2023-05-19T16:01:28.849419Z",
     "iopub.status.idle": "2023-05-19T16:01:28.917162Z",
     "shell.execute_reply": "2023-05-19T16:01:28.915702Z"
    },
    "papermill": {
     "duration": 0.084046,
     "end_time": "2023-05-19T16:01:28.920390",
     "exception": false,
     "start_time": "2023-05-19T16:01:28.836344",
     "status": "completed"
    },
    "tags": []
   },
   "outputs": [],
   "source": [
    "# Reading the data files separately.\n",
    "train_files = Dataset.list_files('mnist/train*')\n",
    "val_files = Dataset.list_files('mnist/val*')\n",
    "test_files = Dataset.list_files('mnist/test*')"
   ]
  },
  {
   "cell_type": "code",
   "execution_count": 8,
   "id": "8f6bceed",
   "metadata": {
    "execution": {
     "iopub.execute_input": "2023-05-19T16:01:28.947603Z",
     "iopub.status.busy": "2023-05-19T16:01:28.946714Z",
     "iopub.status.idle": "2023-05-19T16:01:28.959711Z",
     "shell.execute_reply": "2023-05-19T16:01:28.958402Z"
    },
    "papermill": {
     "duration": 0.031273,
     "end_time": "2023-05-19T16:01:28.963182",
     "exception": false,
     "start_time": "2023-05-19T16:01:28.931909",
     "status": "completed"
    },
    "tags": []
   },
   "outputs": [],
   "source": [
    "from tensorflow import string, uint8\n",
    "from tensorflow.data import AUTOTUNE, TFRecordDataset\n",
    "from tensorflow.io import FixedLenFeature, parse_example, parse_tensor\n",
    "from typing import Optional, Iterable, Tuple\n",
    "\n",
    "def preprocess(tfrecord:Tensor)->Tuple[Tensor, Tensor]:\n",
    "    '''\n",
    "    Reads an encoded protobuf and returns its Tensors in numerical format.\n",
    "    \n",
    "    Parameter\n",
    "    ---------\n",
    "    `tfrecord`: A `tf.Tensor` that stores encoded protobufs.\n",
    "    \n",
    "    Returns\n",
    "    -------\n",
    "    Two tensors in a tuple. One with the pixel intensities and another containing the target values.\n",
    "    '''\n",
    "    features = {\n",
    "    'pixels':FixedLenFeature([], string, default_value=''), \n",
    "    'target':FixedLenFeature([], string, default_value='-1')\n",
    "                }\n",
    "    example = parse_example(tfrecord, features) # Returns a dictionary with the serialized images and target values.\n",
    "    pixels, target = parse_tensor(example['pixels'], uint8), parse_tensor(example['target'], uint8)\n",
    "    return pixels, target\n",
    "\n",
    "def read_files(filenames:Iterable[str], shuffle_size:Optional[int]=None, num_threads_reading:int=AUTOTUNE, \n",
    "               num_threads_preprocess:int=AUTOTUNE)->Dataset:\n",
    "    '''\n",
    "        Reads the .tfrecord files specified and retrieves a `tf.data.Dataset` object with the processed data.\n",
    "        \n",
    "        Parameters\n",
    "        ----------\n",
    "        `filenames`: The names of the files.\n",
    "        `shuffle_size`: If specified, it shuffles the Dataset using a deck with the specified length.\n",
    "        `num_threads_reading`: The number of threads to use when reading the files.\n",
    "        `num_threads_preprocess`: The number of threads to use when preprocessing the dataset.\n",
    "        \n",
    "        Returns\n",
    "        -------\n",
    "        The treated dataset.\n",
    "    '''\n",
    "    dataset = TFRecordDataset(filenames, num_parallel_reads=num_threads_reading)\n",
    "    if shuffle_size:\n",
    "        dataset.shuffle(shuffle_size)\n",
    "    return dataset.map(preprocess, num_parallel_calls=num_threads_preprocess).prefetch(1)"
   ]
  },
  {
   "cell_type": "markdown",
   "id": "65622f21",
   "metadata": {
    "papermill": {
     "duration": 0.01187,
     "end_time": "2023-05-19T16:01:28.987258",
     "exception": false,
     "start_time": "2023-05-19T16:01:28.975388",
     "status": "completed"
    },
    "tags": []
   },
   "source": [
    "<h2 style='font-size:30px'> Standardization Layer</h2>\n",
    "<div> \n",
    "    <ul style='font-size:20px'> \n",
    "        <li> \n",
    "            Here, we'll simply code a `tf.layers.Layer` object which fairly does a similar job of the Batch Normalization Layer. The main difference is that $\\mu$ and $\\sigma$ are computed in advance using the `adapt` function.\n",
    "        </li>\n",
    "    </ul>\n",
    "</div>"
   ]
  },
  {
   "cell_type": "code",
   "execution_count": 9,
   "id": "ed9cf07a",
   "metadata": {
    "execution": {
     "iopub.execute_input": "2023-05-19T16:01:29.012988Z",
     "iopub.status.busy": "2023-05-19T16:01:29.012101Z",
     "iopub.status.idle": "2023-05-19T16:01:29.030843Z",
     "shell.execute_reply": "2023-05-19T16:01:29.028751Z"
    },
    "papermill": {
     "duration": 0.035875,
     "end_time": "2023-05-19T16:01:29.034429",
     "exception": false,
     "start_time": "2023-05-19T16:01:28.998554",
     "status": "completed"
    },
    "tags": []
   },
   "outputs": [],
   "source": [
    "# The layer will inherit the properties of the experimental `PreprocessingLayer`.\n",
    "from tensorflow.keras.layers.experimental.preprocessing import PreprocessingLayer\n",
    "from tensorflow.math import reduce_mean, reduce_std\n",
    "from tensorflow.keras.backend import epsilon\n",
    "from typing import Union\n",
    "\n",
    "class Standardize(PreprocessingLayer):\n",
    "    '''\n",
    "    A `PreprocessingLayer` object that carries out the standardization of a given array accordingly to an \n",
    "    informed axis.\n",
    "    \n",
    "    The necessary stats are computed before training with the `adapt` method. This feature the  class' main \n",
    "    difference from the `BatchNormalization` layer, which computes means and standard deviations on the fly.\n",
    "    '''\n",
    "    def adapt(input_data:Union[Dataset, Tensor], axis=0)->None:\n",
    "        '''\n",
    "            Computes means and std's from a provided `tf.Tensor` or `tf.data.Dataset`.\n",
    "            \n",
    "            Paramater\n",
    "            ---------\n",
    "            `input_data`: The array from which the stats are computed.\n",
    "            `axis`: The axis of choice to compute the stats.\n",
    "        '''\n",
    "        self.means = reduce_mean(input_data, axis=axis)\n",
    "        self.stds = reduce_std(input_data, axis=axis)\n",
    "        return self\n",
    "        \n",
    "    def call(input_data:Union[Dataset, Tensor])->Union[Dataset, Tensor]:\n",
    "        '''\n",
    "        The method that standardizes the array.\n",
    "        \n",
    "        Paramter\n",
    "        --------\n",
    "        `input_data`: The array in which we perform the standardization\n",
    "        \n",
    "        '''\n",
    "        return (input_data - self.means) / (self.stds + epsilon)"
   ]
  },
  {
   "cell_type": "markdown",
   "id": "5e437bb4",
   "metadata": {
    "papermill": {
     "duration": 0.012762,
     "end_time": "2023-05-19T16:01:29.059517",
     "exception": false,
     "start_time": "2023-05-19T16:01:29.046755",
     "status": "completed"
    },
    "tags": []
   },
   "source": [
    "<h2 style='font-size:30px'> Neural Net Modelling</h2>\n",
    "<div> \n",
    "    <ul style='font-size:20px'> \n",
    "        <li> \n",
    "            With all the preprocessing stages programmed, we are free to model our Neural Network.\n",
    "        </li>\n",
    "    </ul>\n",
    "</div>"
   ]
  },
  {
   "cell_type": "code",
   "execution_count": 10,
   "id": "4b9c6e90",
   "metadata": {
    "execution": {
     "iopub.execute_input": "2023-05-19T16:01:29.085682Z",
     "iopub.status.busy": "2023-05-19T16:01:29.084744Z",
     "iopub.status.idle": "2023-05-19T16:01:29.311079Z",
     "shell.execute_reply": "2023-05-19T16:01:29.309988Z"
    },
    "papermill": {
     "duration": 0.243168,
     "end_time": "2023-05-19T16:01:29.314155",
     "exception": false,
     "start_time": "2023-05-19T16:01:29.070987",
     "status": "completed"
    },
    "tags": []
   },
   "outputs": [],
   "source": [
    "# Reading all the .tfrecords created.\n",
    "train_set = read_files(train_files, shuffle_size=100)\n",
    "val_set = read_files(val_files)\n",
    "test_set = read_files(test_files)"
   ]
  },
  {
   "cell_type": "code",
   "execution_count": 11,
   "id": "84cd3a53",
   "metadata": {
    "execution": {
     "iopub.execute_input": "2023-05-19T16:01:29.341353Z",
     "iopub.status.busy": "2023-05-19T16:01:29.339045Z",
     "iopub.status.idle": "2023-05-19T16:01:29.348093Z",
     "shell.execute_reply": "2023-05-19T16:01:29.346569Z"
    },
    "papermill": {
     "duration": 0.026098,
     "end_time": "2023-05-19T16:01:29.351462",
     "exception": false,
     "start_time": "2023-05-19T16:01:29.325364",
     "status": "completed"
    },
    "tags": []
   },
   "outputs": [],
   "source": [
    "# But before actually fitting the NN, we need to adapt our `Standardize` layer with the training data."
   ]
  },
  {
   "cell_type": "markdown",
   "id": "2ec267ce",
   "metadata": {
    "papermill": {
     "duration": 0.01092,
     "end_time": "2023-05-19T16:01:29.374246",
     "exception": false,
     "start_time": "2023-05-19T16:01:29.363326",
     "status": "completed"
    },
    "tags": []
   },
   "source": [
    "<p style='color:red'> Terminar de documentar a Camada de Padronização"
   ]
  },
  {
   "cell_type": "markdown",
   "id": "514954d1",
   "metadata": {
    "papermill": {
     "duration": 0.011295,
     "end_time": "2023-05-19T16:01:29.396702",
     "exception": false,
     "start_time": "2023-05-19T16:01:29.385407",
     "status": "completed"
    },
    "tags": []
   },
   "source": [
    "<h2 style='font-size:30px'> </h2>"
   ]
  }
 ],
 "metadata": {
  "kernelspec": {
   "display_name": "Python 3",
   "language": "python",
   "name": "python3"
  },
  "language_info": {
   "codemirror_mode": {
    "name": "ipython",
    "version": 3
   },
   "file_extension": ".py",
   "mimetype": "text/x-python",
   "name": "python",
   "nbconvert_exporter": "python",
   "pygments_lexer": "ipython3",
   "version": "3.7.12"
  },
  "papermill": {
   "default_parameters": {},
   "duration": 38.899853,
   "end_time": "2023-05-19T16:01:32.530872",
   "environment_variables": {},
   "exception": null,
   "input_path": "__notebook__.ipynb",
   "output_path": "__notebook__.ipynb",
   "parameters": {},
   "start_time": "2023-05-19T16:00:53.631019",
   "version": "2.4.0"
  }
 },
 "nbformat": 4,
 "nbformat_minor": 5
}
