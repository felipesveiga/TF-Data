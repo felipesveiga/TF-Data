{
 "cells": [
  {
   "cell_type": "markdown",
   "id": "5af4575b",
   "metadata": {
    "papermill": {
     "duration": 0.009751,
     "end_time": "2023-07-08T19:28:26.549049",
     "exception": false,
     "start_time": "2023-07-08T19:28:26.539298",
     "status": "completed"
    },
    "tags": []
   },
   "source": [
    "<h1 style='font-size:40px'> Deep Learning Pipeline for Digit Recognition</h1>\n",
    "<div> \n",
    "    <ul style='font-size:20px'> \n",
    "        <li> \n",
    "            In this notebook I'll practice my skills with Computer Vision and the tf.data module solving Exercise 9 from Hands-On Machine Learning with Scikit-Learn and TensorFlow's Chapter 13.\n",
    "        </li>\n",
    "        <li> \n",
    "            The Exercise commands us the following:\n",
    "            <p style='font-style:italic;margin-top:10px'> \n",
    "                Load the Fashion MNIST dataset (introduced in Chapter 10); split\n",
    "it into a training set, a validation set, and a test set; shuffle the\n",
    "training set; and save each dataset to multiple TFRecord files.\n",
    "Each record should be a serialized Example protobuf with two\n",
    "features: the serialized image (use tf.io.serialize_tensor()\n",
    "to serialize each image), and the label. 11 Then use tf.data to create\n",
    "an efficient dataset for each set. Finally, use a Keras model to\n",
    "train these datasets, including a preprocessing layer to standardize\n",
    "each input feature. Try to make the input pipeline as efficient as\n",
    "possible, using TensorBoard to visualize profiling data.\n",
    "            </p>\n",
    "        </li>\n",
    "    </ul>\n",
    "</div>"
   ]
  },
  {
   "cell_type": "markdown",
   "id": "e432c7f4",
   "metadata": {
    "papermill": {
     "duration": 0.007895,
     "end_time": "2023-07-08T19:28:26.565797",
     "exception": false,
     "start_time": "2023-07-08T19:28:26.557902",
     "status": "completed"
    },
    "tags": []
   },
   "source": [
    "<h2 style='font-size:30px'> Data Importing & Splitting</h2>"
   ]
  },
  {
   "cell_type": "code",
   "execution_count": 1,
   "id": "44939e51",
   "metadata": {
    "execution": {
     "iopub.execute_input": "2023-07-08T19:28:26.584852Z",
     "iopub.status.busy": "2023-07-08T19:28:26.584007Z",
     "iopub.status.idle": "2023-07-08T19:28:36.704998Z",
     "shell.execute_reply": "2023-07-08T19:28:36.703829Z"
    },
    "papermill": {
     "duration": 10.133855,
     "end_time": "2023-07-08T19:28:36.708075",
     "exception": false,
     "start_time": "2023-07-08T19:28:26.574220",
     "status": "completed"
    },
    "tags": []
   },
   "outputs": [
    {
     "name": "stdout",
     "output_type": "stream",
     "text": [
      "Downloading data from https://storage.googleapis.com/tensorflow/tf-keras-datasets/train-labels-idx1-ubyte.gz\n",
      "29515/29515 [==============================] - 0s 0us/step\n",
      "Downloading data from https://storage.googleapis.com/tensorflow/tf-keras-datasets/train-images-idx3-ubyte.gz\n",
      "26421880/26421880 [==============================] - 0s 0us/step\n",
      "Downloading data from https://storage.googleapis.com/tensorflow/tf-keras-datasets/t10k-labels-idx1-ubyte.gz\n",
      "5148/5148 [==============================] - 0s 0us/step\n",
      "Downloading data from https://storage.googleapis.com/tensorflow/tf-keras-datasets/t10k-images-idx3-ubyte.gz\n",
      "4422102/4422102 [==============================] - 0s 0us/step\n"
     ]
    }
   ],
   "source": [
    "from tensorflow.keras.datasets import fashion_mnist\n",
    "from sklearn.model_selection import train_test_split\n",
    "\n",
    "# Loading the fashion_mnist dataset.\n",
    "(X_train, y_train), (X_test, y_test) = fashion_mnist.load_data()\n",
    "\n",
    "# Now, generating the validation set with sklearn's `train_test_split`.\n",
    "X_train, X_val, y_train, y_val = train_test_split(X_train, y_train, test_size=.1, random_state=42)"
   ]
  },
  {
   "cell_type": "code",
   "execution_count": 2,
   "id": "58b001c8",
   "metadata": {
    "execution": {
     "iopub.execute_input": "2023-07-08T19:28:36.729131Z",
     "iopub.status.busy": "2023-07-08T19:28:36.728414Z",
     "iopub.status.idle": "2023-07-08T19:28:40.742234Z",
     "shell.execute_reply": "2023-07-08T19:28:40.741117Z"
    },
    "papermill": {
     "duration": 4.027368,
     "end_time": "2023-07-08T19:28:40.745114",
     "exception": false,
     "start_time": "2023-07-08T19:28:36.717746",
     "status": "completed"
    },
    "tags": []
   },
   "outputs": [],
   "source": [
    "# Storing each one of the sets in a tf.data.Dataset object.\n",
    "# The classes store batches with 1000 elements each. The groups' data will be put into a .tfrecord file.\n",
    "from tensorflow.data import Dataset\n",
    "batch_size = 1000\n",
    "train = Dataset.from_tensor_slices((X_train, y_train)).shuffle(54000).batch(batch_size)\n",
    "val = Dataset.from_tensor_slices((X_val, y_val)).batch(batch_size)\n",
    "test = Dataset.from_tensor_slices((X_test, y_test)).batch(batch_size)"
   ]
  },
  {
   "cell_type": "code",
   "execution_count": 3,
   "id": "d0a7231f",
   "metadata": {
    "execution": {
     "iopub.execute_input": "2023-07-08T19:28:40.766831Z",
     "iopub.status.busy": "2023-07-08T19:28:40.765942Z",
     "iopub.status.idle": "2023-07-08T19:28:40.771452Z",
     "shell.execute_reply": "2023-07-08T19:28:40.770241Z"
    },
    "papermill": {
     "duration": 0.018922,
     "end_time": "2023-07-08T19:28:40.774366",
     "exception": false,
     "start_time": "2023-07-08T19:28:40.755444",
     "status": "completed"
    },
    "tags": []
   },
   "outputs": [],
   "source": [
    "# We'll produce 1000 instances .tfrecord files. One corresponding to a bacth created.\n",
    "train_files = len(X_train) // batch_size\n",
    "val_files = len(X_val) // batch_size\n",
    "test_files = len(X_test) // batch_size"
   ]
  },
  {
   "cell_type": "markdown",
   "id": "5362d060",
   "metadata": {
    "papermill": {
     "duration": 0.009043,
     "end_time": "2023-07-08T19:28:40.792753",
     "exception": false,
     "start_time": "2023-07-08T19:28:40.783710",
     "status": "completed"
    },
    "tags": []
   },
   "source": [
    "<h2 style='font-size:30px'> .tfrecord's Production</h2>\n",
    "<div> \n",
    "    <ul style='font-size:20px'> \n",
    "        <li> \n",
    "            TensorFlow records demands data to be stored in protobuf format. We can do so by placing the serialized information in an `Example` class. \n",
    "        </li>\n",
    "    </ul>\n",
    "</div>"
   ]
  },
  {
   "cell_type": "code",
   "execution_count": 4,
   "id": "67a7595c",
   "metadata": {
    "execution": {
     "iopub.execute_input": "2023-07-08T19:28:40.812393Z",
     "iopub.status.busy": "2023-07-08T19:28:40.812094Z",
     "iopub.status.idle": "2023-07-08T19:28:40.823023Z",
     "shell.execute_reply": "2023-07-08T19:28:40.822032Z"
    },
    "papermill": {
     "duration": 0.02342,
     "end_time": "2023-07-08T19:28:40.825298",
     "exception": false,
     "start_time": "2023-07-08T19:28:40.801878",
     "status": "completed"
    },
    "tags": []
   },
   "outputs": [],
   "source": [
    "from tensorflow import Tensor\n",
    "from tensorflow.train import BytesList, Example, Features, Feature, Int64List\n",
    "from tensorflow.io import serialize_tensor, TFRecordWriter\n",
    "\n",
    "def create_example(images:Tensor, targets:Tensor)->bytes:\n",
    "    '''\n",
    "        Generates a serialized `Example` object holding the pixel intensities and target values from a collection\n",
    "        of MNIST images.\n",
    "        \n",
    "        Parameters\n",
    "        ----------\n",
    "        `images`: A 3-D `tf.Tensor` with the digits pixels. \\n\n",
    "        `targets`: An 1-D `tf.Tensor` with the digits labels.\n",
    "        \n",
    "        Returns\n",
    "        -------\n",
    "        An `tf.train.Example` object storing both pixels and target values.\n",
    "    '''\n",
    "    # Serializing the input vectors.\n",
    "    serialized_images, serialized_targets = serialize_tensor(images), serialize_tensor(targets)\n",
    "    example = Example(\n",
    "        features=Features(\n",
    "            feature={\n",
    "            'pixels':Feature(bytes_list=BytesList(value=[serialized_images.numpy()])),\n",
    "            'target':Feature(bytes_list=BytesList(value=[serialized_targets.numpy()]))\n",
    "        }\n",
    "        ))\n",
    "    # Now, converting the `Example` object into a binary string.\n",
    "    return example.SerializeToString()"
   ]
  },
  {
   "cell_type": "code",
   "execution_count": 5,
   "id": "b0dbba53",
   "metadata": {
    "execution": {
     "iopub.execute_input": "2023-07-08T19:28:40.848561Z",
     "iopub.status.busy": "2023-07-08T19:28:40.848236Z",
     "iopub.status.idle": "2023-07-08T19:28:41.856180Z",
     "shell.execute_reply": "2023-07-08T19:28:41.854601Z"
    },
    "papermill": {
     "duration": 1.023449,
     "end_time": "2023-07-08T19:28:41.859293",
     "exception": false,
     "start_time": "2023-07-08T19:28:40.835844",
     "status": "completed"
    },
    "tags": []
   },
   "outputs": [],
   "source": [
    "# It is convenient to place all data files in a separate directory.\n",
    "! mkdir mnist"
   ]
  },
  {
   "cell_type": "code",
   "execution_count": 6,
   "id": "e1050bbc",
   "metadata": {
    "execution": {
     "iopub.execute_input": "2023-07-08T19:28:41.882837Z",
     "iopub.status.busy": "2023-07-08T19:28:41.880976Z",
     "iopub.status.idle": "2023-07-08T19:28:42.400430Z",
     "shell.execute_reply": "2023-07-08T19:28:42.399314Z"
    },
    "papermill": {
     "duration": 0.533435,
     "end_time": "2023-07-08T19:28:42.403105",
     "exception": false,
     "start_time": "2023-07-08T19:28:41.869670",
     "status": "completed"
    },
    "tags": []
   },
   "outputs": [],
   "source": [
    "def create_files(dataset:Dataset, filename:str, directory:str='.')->None:\n",
    "    '''\n",
    "        Creates the .tfrecord's files based on the batches from a provided `dataset`.\n",
    "        \n",
    "        Parameters\n",
    "        ----------\n",
    "        `dataset`: A `tf.data.Dataset` object. \\n\n",
    "        `filename`: A custom name for file identification. \\n\n",
    "        `directory`: A string that indicates the directory where the files are put.\n",
    "    '''\n",
    "    for index, (images, labels) in dataset.enumerate():\n",
    "        file = TFRecordWriter(f'{directory}/{filename}_{index}.tfrecord')\n",
    "        serialized_data = create_example(images, labels)\n",
    "        file.write(serialized_data)\n",
    "\n",
    "# Generating the files.\n",
    "create_files(train, 'train', 'mnist')\n",
    "create_files(val, 'val', 'mnist')\n",
    "create_files(test, 'test', 'mnist')"
   ]
  },
  {
   "cell_type": "markdown",
   "id": "8b52a1de",
   "metadata": {
    "papermill": {
     "duration": 0.009053,
     "end_time": "2023-07-08T19:28:42.421879",
     "exception": false,
     "start_time": "2023-07-08T19:28:42.412826",
     "status": "completed"
    },
    "tags": []
   },
   "source": [
    "<h2 style='font-size:30px'> Data Treatment</h2>\n",
    "<div> \n",
    "    <ul style='font-size:20px'> \n",
    "        <li> \n",
    "            With the files generated, we can proceed and handle the data importing and its proper treatment.\n",
    "        </li>\n",
    "    </ul>\n",
    "</div>"
   ]
  },
  {
   "cell_type": "code",
   "execution_count": 7,
   "id": "1bdce07c",
   "metadata": {
    "execution": {
     "iopub.execute_input": "2023-07-08T19:28:42.444220Z",
     "iopub.status.busy": "2023-07-08T19:28:42.443864Z",
     "iopub.status.idle": "2023-07-08T19:28:42.503935Z",
     "shell.execute_reply": "2023-07-08T19:28:42.502887Z"
    },
    "papermill": {
     "duration": 0.072971,
     "end_time": "2023-07-08T19:28:42.506542",
     "exception": false,
     "start_time": "2023-07-08T19:28:42.433571",
     "status": "completed"
    },
    "tags": []
   },
   "outputs": [],
   "source": [
    "# Reading the data files separately.\n",
    "train_files = Dataset.list_files('mnist/train*')\n",
    "val_files = Dataset.list_files('mnist/val*')\n",
    "test_files = Dataset.list_files('mnist/test*')"
   ]
  },
  {
   "cell_type": "code",
   "execution_count": 8,
   "id": "38f4bc96",
   "metadata": {
    "execution": {
     "iopub.execute_input": "2023-07-08T19:28:42.526572Z",
     "iopub.status.busy": "2023-07-08T19:28:42.526250Z",
     "iopub.status.idle": "2023-07-08T19:28:42.537722Z",
     "shell.execute_reply": "2023-07-08T19:28:42.536577Z"
    },
    "papermill": {
     "duration": 0.024485,
     "end_time": "2023-07-08T19:28:42.540509",
     "exception": false,
     "start_time": "2023-07-08T19:28:42.516024",
     "status": "completed"
    },
    "tags": []
   },
   "outputs": [],
   "source": [
    "from tensorflow import string, uint8\n",
    "from tensorflow.data import AUTOTUNE, TFRecordDataset\n",
    "from tensorflow.io import FixedLenFeature, parse_example, parse_tensor\n",
    "from typing import Optional, Iterable, Tuple\n",
    "\n",
    "def preprocess(tfrecord:Tensor)->Tuple[Tensor, Tensor]:\n",
    "    '''\n",
    "    Reads an encoded protobuf and returns its Tensors in numerical format.\n",
    "    \n",
    "    Parameter\n",
    "    ---------\n",
    "    `tfrecord`: A `tf.Tensor` that stores encoded protobufs.\n",
    "    \n",
    "    Returns\n",
    "    -------\n",
    "    Two tensors in a tuple. One with the pixel intensities and another containing the target values.\n",
    "    '''\n",
    "    features = {\n",
    "    'pixels':FixedLenFeature([], string, default_value=''), \n",
    "    'target':FixedLenFeature([], string, default_value='-1')\n",
    "                }\n",
    "    example = parse_example(tfrecord, features) # Returns a dictionary with the serialized images and target values.\n",
    "    pixels, target = parse_tensor(example['pixels'], uint8), parse_tensor(example['target'], uint8)\n",
    "    return pixels, target\n",
    "\n",
    "def read_files(filenames:Iterable[str], shuffle_size:Optional[int]=None, num_threads_reading:int=AUTOTUNE, \n",
    "               num_threads_preprocess:int=AUTOTUNE)->Dataset:\n",
    "    '''\n",
    "        Reads the .tfrecord files specified and retrieves a `tf.data.Dataset` object with the processed data.\n",
    "        \n",
    "        Parameters\n",
    "        ----------\n",
    "        `filenames`: The names of the files.\n",
    "        `shuffle_size`: If specified, it shuffles the Dataset using a deck with the specified length.\n",
    "        `num_threads_reading`: The number of threads to use when reading the files.\n",
    "        `num_threads_preprocess`: The number of threads to use when preprocessing the dataset.\n",
    "        \n",
    "        Returns\n",
    "        -------\n",
    "        The treated dataset.\n",
    "    '''\n",
    "    dataset = TFRecordDataset(filenames, num_parallel_reads=num_threads_reading)\n",
    "    if shuffle_size:\n",
    "        dataset.shuffle(shuffle_size)\n",
    "    return dataset.map(preprocess, num_parallel_calls=num_threads_preprocess).prefetch(1)"
   ]
  },
  {
   "cell_type": "markdown",
   "id": "39769e02",
   "metadata": {
    "papermill": {
     "duration": 0.009008,
     "end_time": "2023-07-08T19:28:42.559074",
     "exception": false,
     "start_time": "2023-07-08T19:28:42.550066",
     "status": "completed"
    },
    "tags": []
   },
   "source": [
    "<h2 style='font-size:30px'> Standardization Layer</h2>\n",
    "<div> \n",
    "    <ul style='font-size:20px'> \n",
    "        <li> \n",
    "            Here, we'll simply code a `PreprocessingLayer` object which fairly does a similar job of the Batch Normalization Layer. The main difference is that $\\mu$ and $\\sigma$ are computed in advance using the `adapt` function.\n",
    "        </li>\n",
    "    </ul>\n",
    "</div>"
   ]
  },
  {
   "cell_type": "code",
   "execution_count": 9,
   "id": "70ef63db",
   "metadata": {
    "execution": {
     "iopub.execute_input": "2023-07-08T19:28:42.579228Z",
     "iopub.status.busy": "2023-07-08T19:28:42.578928Z",
     "iopub.status.idle": "2023-07-08T19:28:42.594491Z",
     "shell.execute_reply": "2023-07-08T19:28:42.593531Z"
    },
    "papermill": {
     "duration": 0.028359,
     "end_time": "2023-07-08T19:28:42.596728",
     "exception": false,
     "start_time": "2023-07-08T19:28:42.568369",
     "status": "completed"
    },
    "tags": []
   },
   "outputs": [],
   "source": [
    "# The layer will inherit the properties of the experimental `PreprocessingLayer`.\n",
    "from tensorflow.keras.layers.experimental.preprocessing import PreprocessingLayer\n",
    "from tensorflow.keras.layers import Layer\n",
    "from tensorflow.math import reduce_mean, reduce_std\n",
    "from tensorflow.keras.backend import epsilon\n",
    "from typing import Union\n",
    "\n",
    "class Standardize(PreprocessingLayer):\n",
    "    '''\n",
    "    A `PreprocessingLayer` object that carries out the standardization of a given array accordingly to an \n",
    "    informed axis.\n",
    "    \n",
    "    The necessary stats are computed before training with the `adapt` method. This feature is the  class' main \n",
    "    difference from the `BatchNormalization` layer, which computes means and standard deviations on the fly.\n",
    "    '''    \n",
    "    \n",
    "    def adapt(self, input_data:Union[Dataset, Tensor], axis=0)->None:\n",
    "        '''\n",
    "            Computes means and std's from a provided `tf.Tensor` or `tf.data.Dataset`.\n",
    "            \n",
    "            Paramaters\n",
    "            ----------\n",
    "            `input_data`: The array from which the stats are computed.\n",
    "            `axis`: The axis of choice to compute the stats.\n",
    "        '''\n",
    "        self.means = reduce_mean(input_data, axis=axis, keepdims=True)\n",
    "        self.stds = reduce_std(input_data, axis=axis, keepdims=True)\n",
    "        return self\n",
    "        \n",
    "    def call(self, input_data:Union[Dataset, Tensor])->Union[Dataset, Tensor]:\n",
    "        '''\n",
    "        The method that standardizes the array.\n",
    "        \n",
    "        Parameter\n",
    "        --------\n",
    "        `input_data`: The array in which we perform the standardization.\n",
    "        \n",
    "        Returns\n",
    "        -------\n",
    "        The standardized array.\n",
    "        '''\n",
    "        return (input_data - self.means) / (self.stds + epsilon())\n",
    "    \n",
    "    def get_config(self):\n",
    "        '''\n",
    "            Returns the Layer's configurations. It is needed for saving a class' instance for future uses.\n",
    "        '''\n",
    "        base_config = super().get_config() # Rendering the `Preprocessing` layer `get_config` output.\n",
    "        return {**base_config, 'means':self.means.numpy(), 'stds':self.stds.numpy()}\n",
    "    "
   ]
  },
  {
   "cell_type": "markdown",
   "id": "c1be6171",
   "metadata": {
    "papermill": {
     "duration": 0.008911,
     "end_time": "2023-07-08T19:28:42.614744",
     "exception": false,
     "start_time": "2023-07-08T19:28:42.605833",
     "status": "completed"
    },
    "tags": []
   },
   "source": [
    "<h2 style='font-size:30px'> Neural Net Modeling</h2>\n",
    "<div> \n",
    "    <ul style='font-size:20px'> \n",
    "        <li> \n",
    "            With all the preprocessing stages programmed, we are able to model our Neural Network.\n",
    "        </li>\n",
    "        <li> \n",
    "            Firstly, we are going to design a simple Fully-Connected Neural Network and see how it performs.\n",
    "        </li>\n",
    "    </ul>\n",
    "</div>"
   ]
  },
  {
   "cell_type": "code",
   "execution_count": 10,
   "id": "9eec0fa3",
   "metadata": {
    "execution": {
     "iopub.execute_input": "2023-07-08T19:28:42.635099Z",
     "iopub.status.busy": "2023-07-08T19:28:42.634769Z",
     "iopub.status.idle": "2023-07-08T19:28:42.803361Z",
     "shell.execute_reply": "2023-07-08T19:28:42.802294Z"
    },
    "papermill": {
     "duration": 0.181822,
     "end_time": "2023-07-08T19:28:42.806192",
     "exception": false,
     "start_time": "2023-07-08T19:28:42.624370",
     "status": "completed"
    },
    "tags": []
   },
   "outputs": [],
   "source": [
    "# Reading all the .tfrecords created.\n",
    "train_set = read_files(train_files, shuffle_size=100)\n",
    "val_set = read_files(val_files)\n",
    "test_set = read_files(test_files)"
   ]
  },
  {
   "cell_type": "code",
   "execution_count": 11,
   "id": "33b3ae50",
   "metadata": {
    "execution": {
     "iopub.execute_input": "2023-07-08T19:28:42.827841Z",
     "iopub.status.busy": "2023-07-08T19:28:42.826149Z",
     "iopub.status.idle": "2023-07-08T19:28:43.026836Z",
     "shell.execute_reply": "2023-07-08T19:28:43.025596Z"
    },
    "papermill": {
     "duration": 0.214335,
     "end_time": "2023-07-08T19:28:43.029976",
     "exception": false,
     "start_time": "2023-07-08T19:28:42.815641",
     "status": "completed"
    },
    "tags": []
   },
   "outputs": [],
   "source": [
    "# But before actually fitting the NN, we need to adapt our `Standardize` layer with the training data.\n",
    "from tensorflow import concat, cast, float32\n",
    "train_pixels = list(train_set.map(lambda pixels, target: pixels).take(-1)) # Getting all the training images.\n",
    "train_pixels = cast(concat(train_pixels, axis=0), dtype=float32) # Concatenating the batches so that we end up\n",
    "                                                                # with a single 3-D matrix.\n",
    "\n",
    "# Now, instantiating the `Standardize` class and adapting it to the `train_pixels` data.\n",
    "standardize = Standardize(input_shape=train_pixels.shape[1:]).adapt(train_pixels, axis=0)"
   ]
  },
  {
   "cell_type": "code",
   "execution_count": 12,
   "id": "6dad1d30",
   "metadata": {
    "execution": {
     "iopub.execute_input": "2023-07-08T19:28:43.051572Z",
     "iopub.status.busy": "2023-07-08T19:28:43.049885Z",
     "iopub.status.idle": "2023-07-08T19:28:43.066666Z",
     "shell.execute_reply": "2023-07-08T19:28:43.065648Z"
    },
    "papermill": {
     "duration": 0.029623,
     "end_time": "2023-07-08T19:28:43.069107",
     "exception": false,
     "start_time": "2023-07-08T19:28:43.039484",
     "status": "completed"
    },
    "tags": []
   },
   "outputs": [],
   "source": [
    "# Finally, making our FCNN.\n",
    "from tensorflow.keras.models import Sequential\n",
    "from tensorflow.keras.layers import Dense, Dropout, Flatten, Input\n",
    "from tensorflow.keras.activations import elu, softmax\n",
    "from tensorflow.keras.initializers import GlorotNormal, HeNormal\n",
    "from typing import Callable\n",
    "\n",
    "def _check_length(neurons:Iterable, activations:Iterable)->bool:\n",
    "    '''\n",
    "        Checks whether both provided arrays have equal lengths.\n",
    "        \n",
    "        Parameters\n",
    "        ----------\n",
    "        `neurons`: First Array\n",
    "        `activations`: Second array\n",
    "        \n",
    "        Returns\n",
    "        -------\n",
    "        A boolean indicating the existance of such condition.\n",
    "    '''\n",
    "    if len(neurons) != len(activations):\n",
    "        raise  AttributeError('The `neurons` array must have the same length as `activations`')\n",
    "    return True\n",
    "\n",
    "def my_fcnn(neurons:Iterable[int], activations:Union[Iterable[Callable[[float], float]], Callable[[float], float]],dropout_ratio:float=None,  \n",
    "            input_shape:list=[28,28], **kwargs)->Sequential:\n",
    "    '''\n",
    "        Generates the Fully-Connected Neural Network for the project.\n",
    "        \n",
    "        Parameters\n",
    "        ----------\n",
    "        `neurons`: An iterable object that indicates the amount of neurons each hidden layer needs to own. Its length will suggest the amount of such layers the model will have.\n",
    "        \n",
    "        `activations`: The activation functions for each hidden layer. If the user wishes to use a single function to be applied in all layers, they\n",
    "                       can only inform just one callable object. Otherwise, it will be demanded an iterable object containing all the functions. \n",
    "                       Note that in such case, the structure needs to have the same length as `neurons`.\n",
    "        \n",
    "        `dropout_ratio`: The amount of dropout to be applied in every hidden layer. If 'None' - default value -, no dropout is used. \n",
    "        \n",
    "        `input_shape`: The original images' shape. Do not provide the batch size in the iterable.\n",
    "        \n",
    "        **kwargs: Any further keyword argument will be used in the `compile` method.\n",
    "        \n",
    "        Returns\n",
    "        -------\n",
    "        A Sequential object built accordingly to the user's preferences. If no **kwargs is provided, the model will have to be manually compiled.\n",
    "        \n",
    "    '''\n",
    "    # If the user informed a function for `activations`, a list of such callable of the same length as `hidden_layers`\n",
    "    # is created.\n",
    "    if isinstance(activations, Callable):\n",
    "        activations = [activations] * len(neurons)    \n",
    "    \n",
    "    # `check_length` is of use when 'activations' is given as an array by the user.\n",
    "    _check_length(neurons, activations)\n",
    "    \n",
    "    # Creating the model's basic structure.\n",
    "    model = Sequential([\n",
    "        Input(shape=input_shape),\n",
    "        standardize, \n",
    "        Flatten(), # The inputs are flattened after the standardization.\n",
    "    ])\n",
    "    \n",
    "    for units, activation in zip(neurons, activations):\n",
    "        model.add(Dense(units, activation=activation, kernel_initializer=HeNormal()))\n",
    "        # Adding Dropout if it is the user's wish.\n",
    "        if dropout_ratio:\n",
    "            model.add(Dropout(dropout_ratio))\n",
    "            \n",
    "    # In the end, applying the output layer.\n",
    "    model.add(Dense(units=10, activation=softmax , kernel_initializer=GlorotNormal()))\n",
    "    \n",
    "    # Compiling the model.\n",
    "    if kwargs:\n",
    "        model.compile(**kwargs)\n",
    "    return model"
   ]
  },
  {
   "cell_type": "code",
   "execution_count": 13,
   "id": "300b8967",
   "metadata": {
    "execution": {
     "iopub.execute_input": "2023-07-08T19:28:43.088561Z",
     "iopub.status.busy": "2023-07-08T19:28:43.088251Z",
     "iopub.status.idle": "2023-07-08T19:30:20.400940Z",
     "shell.execute_reply": "2023-07-08T19:30:20.399829Z"
    },
    "papermill": {
     "duration": 97.325512,
     "end_time": "2023-07-08T19:30:20.403636",
     "exception": false,
     "start_time": "2023-07-08T19:28:43.078124",
     "status": "completed"
    },
    "tags": []
   },
   "outputs": [
    {
     "name": "stdout",
     "output_type": "stream",
     "text": [
      "Epoch 1/100\n",
      "54/54 [==============================] - 15s 71ms/step - loss: 3.1524 - sparse_categorical_accuracy: 0.4998 - val_loss: 0.7111 - val_sparse_categorical_accuracy: 0.7653 - lr: 0.0025\n",
      "Epoch 2/100\n",
      "54/54 [==============================] - 1s 22ms/step - loss: 0.9540 - sparse_categorical_accuracy: 0.6836 - val_loss: 0.5415 - val_sparse_categorical_accuracy: 0.8115 - lr: 0.0025\n",
      "Epoch 3/100\n",
      "54/54 [==============================] - 1s 20ms/step - loss: 0.7206 - sparse_categorical_accuracy: 0.7462 - val_loss: 0.4791 - val_sparse_categorical_accuracy: 0.8275 - lr: 0.0025\n",
      "Epoch 4/100\n",
      "54/54 [==============================] - 1s 20ms/step - loss: 0.6322 - sparse_categorical_accuracy: 0.7801 - val_loss: 0.4557 - val_sparse_categorical_accuracy: 0.8330 - lr: 0.0025\n",
      "Epoch 5/100\n",
      "54/54 [==============================] - 1s 20ms/step - loss: 0.5821 - sparse_categorical_accuracy: 0.7979 - val_loss: 0.4308 - val_sparse_categorical_accuracy: 0.8423 - lr: 0.0025\n",
      "Epoch 6/100\n",
      "54/54 [==============================] - 1s 20ms/step - loss: 0.5508 - sparse_categorical_accuracy: 0.8113 - val_loss: 0.4296 - val_sparse_categorical_accuracy: 0.8463 - lr: 0.0025\n",
      "Epoch 7/100\n",
      "54/54 [==============================] - 1s 20ms/step - loss: 0.5274 - sparse_categorical_accuracy: 0.8198 - val_loss: 0.4049 - val_sparse_categorical_accuracy: 0.8523 - lr: 0.0025\n",
      "Epoch 8/100\n",
      "54/54 [==============================] - 1s 21ms/step - loss: 0.5119 - sparse_categorical_accuracy: 0.8247 - val_loss: 0.3969 - val_sparse_categorical_accuracy: 0.8573 - lr: 0.0025\n",
      "Epoch 9/100\n",
      "54/54 [==============================] - 1s 26ms/step - loss: 0.4929 - sparse_categorical_accuracy: 0.8300 - val_loss: 0.3897 - val_sparse_categorical_accuracy: 0.8543 - lr: 0.0025\n",
      "Epoch 10/100\n",
      "54/54 [==============================] - 1s 22ms/step - loss: 0.4850 - sparse_categorical_accuracy: 0.8327 - val_loss: 0.3919 - val_sparse_categorical_accuracy: 0.8565 - lr: 0.0025\n",
      "Epoch 11/100\n",
      "54/54 [==============================] - 1s 20ms/step - loss: 0.4754 - sparse_categorical_accuracy: 0.8363 - val_loss: 0.3822 - val_sparse_categorical_accuracy: 0.8605 - lr: 0.0025\n",
      "Epoch 12/100\n",
      "54/54 [==============================] - 1s 20ms/step - loss: 0.4640 - sparse_categorical_accuracy: 0.8415 - val_loss: 0.3828 - val_sparse_categorical_accuracy: 0.8608 - lr: 0.0025\n",
      "Epoch 13/100\n",
      "54/54 [==============================] - 1s 20ms/step - loss: 0.4465 - sparse_categorical_accuracy: 0.8458 - val_loss: 0.3773 - val_sparse_categorical_accuracy: 0.8645 - lr: 0.0025\n",
      "Epoch 14/100\n",
      "54/54 [==============================] - 1s 19ms/step - loss: 0.4436 - sparse_categorical_accuracy: 0.8484 - val_loss: 0.3827 - val_sparse_categorical_accuracy: 0.8633 - lr: 0.0025\n",
      "Epoch 15/100\n",
      "54/54 [==============================] - 1s 19ms/step - loss: 0.4414 - sparse_categorical_accuracy: 0.8493 - val_loss: 0.3691 - val_sparse_categorical_accuracy: 0.8662 - lr: 0.0025\n",
      "Epoch 16/100\n",
      "54/54 [==============================] - 1s 20ms/step - loss: 0.4347 - sparse_categorical_accuracy: 0.8475 - val_loss: 0.3711 - val_sparse_categorical_accuracy: 0.8695 - lr: 0.0025\n",
      "Epoch 17/100\n",
      "54/54 [==============================] - 1s 20ms/step - loss: 0.4276 - sparse_categorical_accuracy: 0.8525 - val_loss: 0.3616 - val_sparse_categorical_accuracy: 0.8728 - lr: 0.0025\n",
      "Epoch 18/100\n",
      "54/54 [==============================] - 1s 21ms/step - loss: 0.4210 - sparse_categorical_accuracy: 0.8539 - val_loss: 0.3709 - val_sparse_categorical_accuracy: 0.8687 - lr: 0.0025\n",
      "Epoch 19/100\n",
      "54/54 [==============================] - 1s 19ms/step - loss: 0.4220 - sparse_categorical_accuracy: 0.8550 - val_loss: 0.3617 - val_sparse_categorical_accuracy: 0.8738 - lr: 0.0025\n",
      "Epoch 20/100\n",
      "54/54 [==============================] - 1s 20ms/step - loss: 0.4125 - sparse_categorical_accuracy: 0.8565 - val_loss: 0.3605 - val_sparse_categorical_accuracy: 0.8675 - lr: 0.0025\n",
      "Epoch 21/100\n",
      "54/54 [==============================] - 1s 19ms/step - loss: 0.4051 - sparse_categorical_accuracy: 0.8587 - val_loss: 0.3532 - val_sparse_categorical_accuracy: 0.8752 - lr: 0.0025\n",
      "Epoch 22/100\n",
      "54/54 [==============================] - 1s 20ms/step - loss: 0.3981 - sparse_categorical_accuracy: 0.8618 - val_loss: 0.3532 - val_sparse_categorical_accuracy: 0.8755 - lr: 0.0025\n",
      "Epoch 23/100\n",
      "54/54 [==============================] - 1s 20ms/step - loss: 0.3956 - sparse_categorical_accuracy: 0.8628 - val_loss: 0.3516 - val_sparse_categorical_accuracy: 0.8772 - lr: 0.0025\n",
      "Epoch 24/100\n",
      "54/54 [==============================] - 1s 20ms/step - loss: 0.3951 - sparse_categorical_accuracy: 0.8637 - val_loss: 0.3632 - val_sparse_categorical_accuracy: 0.8755 - lr: 0.0025\n",
      "Epoch 25/100\n",
      "54/54 [==============================] - 1s 19ms/step - loss: 0.3891 - sparse_categorical_accuracy: 0.8637 - val_loss: 0.3435 - val_sparse_categorical_accuracy: 0.8797 - lr: 0.0025\n",
      "Epoch 26/100\n",
      "54/54 [==============================] - 2s 29ms/step - loss: 0.3822 - sparse_categorical_accuracy: 0.8687 - val_loss: 0.3463 - val_sparse_categorical_accuracy: 0.8778 - lr: 0.0025\n",
      "Epoch 27/100\n",
      "54/54 [==============================] - 1s 20ms/step - loss: 0.3817 - sparse_categorical_accuracy: 0.8678 - val_loss: 0.3473 - val_sparse_categorical_accuracy: 0.8745 - lr: 0.0025\n",
      "Epoch 28/100\n",
      "54/54 [==============================] - 1s 20ms/step - loss: 0.3769 - sparse_categorical_accuracy: 0.8689 - val_loss: 0.3507 - val_sparse_categorical_accuracy: 0.8717 - lr: 0.0025\n",
      "Epoch 29/100\n",
      "54/54 [==============================] - 1s 20ms/step - loss: 0.3766 - sparse_categorical_accuracy: 0.8679 - val_loss: 0.3447 - val_sparse_categorical_accuracy: 0.8808 - lr: 0.0025\n",
      "Epoch 30/100\n",
      "54/54 [==============================] - 1s 19ms/step - loss: 0.3675 - sparse_categorical_accuracy: 0.8716 - val_loss: 0.3437 - val_sparse_categorical_accuracy: 0.8765 - lr: 0.0025\n",
      "Epoch 31/100\n",
      "54/54 [==============================] - 1s 20ms/step - loss: 0.3756 - sparse_categorical_accuracy: 0.8695 - val_loss: 0.3330 - val_sparse_categorical_accuracy: 0.8840 - lr: 0.0025\n",
      "Epoch 32/100\n",
      "54/54 [==============================] - 1s 20ms/step - loss: 0.3656 - sparse_categorical_accuracy: 0.8712 - val_loss: 0.3284 - val_sparse_categorical_accuracy: 0.8850 - lr: 0.0025\n",
      "Epoch 33/100\n",
      "54/54 [==============================] - 1s 20ms/step - loss: 0.3709 - sparse_categorical_accuracy: 0.8702 - val_loss: 0.3387 - val_sparse_categorical_accuracy: 0.8795 - lr: 0.0025\n",
      "Epoch 34/100\n",
      "54/54 [==============================] - 1s 21ms/step - loss: 0.3639 - sparse_categorical_accuracy: 0.8731 - val_loss: 0.3276 - val_sparse_categorical_accuracy: 0.8890 - lr: 0.0025\n",
      "Epoch 35/100\n",
      "54/54 [==============================] - 1s 20ms/step - loss: 0.3554 - sparse_categorical_accuracy: 0.8758 - val_loss: 0.3318 - val_sparse_categorical_accuracy: 0.8802 - lr: 0.0025\n",
      "Epoch 36/100\n",
      "54/54 [==============================] - 1s 20ms/step - loss: 0.3492 - sparse_categorical_accuracy: 0.8777 - val_loss: 0.3258 - val_sparse_categorical_accuracy: 0.8865 - lr: 0.0020\n",
      "Epoch 37/100\n",
      "54/54 [==============================] - 1s 20ms/step - loss: 0.3477 - sparse_categorical_accuracy: 0.8798 - val_loss: 0.3378 - val_sparse_categorical_accuracy: 0.8800 - lr: 0.0020\n",
      "Epoch 38/100\n",
      "54/54 [==============================] - 1s 19ms/step - loss: 0.3405 - sparse_categorical_accuracy: 0.8801 - val_loss: 0.3282 - val_sparse_categorical_accuracy: 0.8827 - lr: 0.0020\n",
      "Epoch 39/100\n",
      "54/54 [==============================] - 1s 20ms/step - loss: 0.3371 - sparse_categorical_accuracy: 0.8816 - val_loss: 0.3332 - val_sparse_categorical_accuracy: 0.8800 - lr: 0.0020\n",
      "Epoch 40/100\n",
      "54/54 [==============================] - 1s 20ms/step - loss: 0.3367 - sparse_categorical_accuracy: 0.8812 - val_loss: 0.3196 - val_sparse_categorical_accuracy: 0.8898 - lr: 0.0020\n",
      "Epoch 41/100\n",
      "54/54 [==============================] - 1s 19ms/step - loss: 0.3337 - sparse_categorical_accuracy: 0.8814 - val_loss: 0.3143 - val_sparse_categorical_accuracy: 0.8873 - lr: 0.0020\n",
      "Epoch 42/100\n",
      "54/54 [==============================] - 1s 21ms/step - loss: 0.3280 - sparse_categorical_accuracy: 0.8841 - val_loss: 0.3175 - val_sparse_categorical_accuracy: 0.8875 - lr: 0.0020\n",
      "Epoch 43/100\n",
      "54/54 [==============================] - 1s 20ms/step - loss: 0.3319 - sparse_categorical_accuracy: 0.8844 - val_loss: 0.3254 - val_sparse_categorical_accuracy: 0.8907 - lr: 0.0020\n",
      "Epoch 44/100\n",
      "54/54 [==============================] - 1s 20ms/step - loss: 0.3277 - sparse_categorical_accuracy: 0.8845 - val_loss: 0.3130 - val_sparse_categorical_accuracy: 0.8933 - lr: 0.0020\n",
      "Epoch 45/100\n",
      "54/54 [==============================] - 1s 19ms/step - loss: 0.3255 - sparse_categorical_accuracy: 0.8853 - val_loss: 0.3110 - val_sparse_categorical_accuracy: 0.8940 - lr: 0.0020\n",
      "Epoch 46/100\n",
      "54/54 [==============================] - 1s 19ms/step - loss: 0.3256 - sparse_categorical_accuracy: 0.8858 - val_loss: 0.3195 - val_sparse_categorical_accuracy: 0.8892 - lr: 0.0020\n",
      "Epoch 47/100\n",
      "54/54 [==============================] - 1s 20ms/step - loss: 0.3212 - sparse_categorical_accuracy: 0.8868 - val_loss: 0.3110 - val_sparse_categorical_accuracy: 0.8918 - lr: 0.0020\n",
      "Epoch 48/100\n",
      "54/54 [==============================] - 1s 20ms/step - loss: 0.3203 - sparse_categorical_accuracy: 0.8868 - val_loss: 0.3134 - val_sparse_categorical_accuracy: 0.8915 - lr: 0.0020\n",
      "Epoch 49/100\n",
      "54/54 [==============================] - 1s 20ms/step - loss: 0.3169 - sparse_categorical_accuracy: 0.8884 - val_loss: 0.3158 - val_sparse_categorical_accuracy: 0.8863 - lr: 0.0020\n",
      "Epoch 50/100\n",
      "54/54 [==============================] - 1s 21ms/step - loss: 0.3175 - sparse_categorical_accuracy: 0.8881 - val_loss: 0.3125 - val_sparse_categorical_accuracy: 0.8895 - lr: 0.0020\n",
      "Epoch 51/100\n",
      "54/54 [==============================] - 2s 28ms/step - loss: 0.3157 - sparse_categorical_accuracy: 0.8890 - val_loss: 0.3127 - val_sparse_categorical_accuracy: 0.8898 - lr: 0.0016\n",
      "Epoch 52/100\n",
      "54/54 [==============================] - 1s 20ms/step - loss: 0.3070 - sparse_categorical_accuracy: 0.8897 - val_loss: 0.3125 - val_sparse_categorical_accuracy: 0.8938 - lr: 0.0016\n",
      "Epoch 53/100\n",
      "54/54 [==============================] - 1s 20ms/step - loss: 0.3054 - sparse_categorical_accuracy: 0.8922 - val_loss: 0.3102 - val_sparse_categorical_accuracy: 0.8933 - lr: 0.0016\n",
      "Epoch 54/100\n",
      "54/54 [==============================] - 1s 20ms/step - loss: 0.2972 - sparse_categorical_accuracy: 0.8943 - val_loss: 0.3104 - val_sparse_categorical_accuracy: 0.8918 - lr: 0.0016\n",
      "Epoch 55/100\n",
      "54/54 [==============================] - 1s 19ms/step - loss: 0.2983 - sparse_categorical_accuracy: 0.8936 - val_loss: 0.3128 - val_sparse_categorical_accuracy: 0.8928 - lr: 0.0016\n",
      "Epoch 56/100\n",
      "54/54 [==============================] - 1s 19ms/step - loss: 0.2976 - sparse_categorical_accuracy: 0.8962 - val_loss: 0.3066 - val_sparse_categorical_accuracy: 0.8967 - lr: 0.0016\n",
      "Epoch 57/100\n",
      "54/54 [==============================] - 1s 21ms/step - loss: 0.2942 - sparse_categorical_accuracy: 0.8960 - val_loss: 0.3146 - val_sparse_categorical_accuracy: 0.8937 - lr: 0.0016\n",
      "Epoch 58/100\n",
      "54/54 [==============================] - 1s 19ms/step - loss: 0.2961 - sparse_categorical_accuracy: 0.8949 - val_loss: 0.3062 - val_sparse_categorical_accuracy: 0.8908 - lr: 0.0016\n",
      "Epoch 59/100\n",
      "54/54 [==============================] - 1s 19ms/step - loss: 0.2959 - sparse_categorical_accuracy: 0.8956 - val_loss: 0.3168 - val_sparse_categorical_accuracy: 0.8942 - lr: 0.0016\n",
      "Epoch 60/100\n",
      "54/54 [==============================] - 1s 21ms/step - loss: 0.2916 - sparse_categorical_accuracy: 0.8970 - val_loss: 0.3042 - val_sparse_categorical_accuracy: 0.8948 - lr: 0.0016\n",
      "Epoch 61/100\n",
      "54/54 [==============================] - 1s 19ms/step - loss: 0.2879 - sparse_categorical_accuracy: 0.8979 - val_loss: 0.3043 - val_sparse_categorical_accuracy: 0.8938 - lr: 0.0013\n",
      "Epoch 62/100\n",
      "54/54 [==============================] - 1s 19ms/step - loss: 0.2829 - sparse_categorical_accuracy: 0.9003 - val_loss: 0.3179 - val_sparse_categorical_accuracy: 0.8920 - lr: 0.0013\n",
      "Epoch 63/100\n",
      "54/54 [==============================] - 1s 20ms/step - loss: 0.2816 - sparse_categorical_accuracy: 0.9007 - val_loss: 0.3108 - val_sparse_categorical_accuracy: 0.8952 - lr: 0.0013\n",
      "Epoch 64/100\n",
      "54/54 [==============================] - 1s 20ms/step - loss: 0.2821 - sparse_categorical_accuracy: 0.9003 - val_loss: 0.3079 - val_sparse_categorical_accuracy: 0.8963 - lr: 0.0013\n",
      "Epoch 65/100\n",
      "54/54 [==============================] - 1s 21ms/step - loss: 0.2821 - sparse_categorical_accuracy: 0.8992 - val_loss: 0.3070 - val_sparse_categorical_accuracy: 0.8950 - lr: 0.0013\n"
     ]
    }
   ],
   "source": [
    "# Compiling and fitting the model.\n",
    "from numpy.random import randint, seed\n",
    "from tensorflow.keras.optimizers import Adam \n",
    "from tensorflow.keras.losses import SparseCategoricalCrossentropy\n",
    "from tensorflow.keras.metrics import SparseCategoricalAccuracy\n",
    "from tensorflow.keras.callbacks import EarlyStopping, ReduceLROnPlateau\n",
    "from tensorflow.config import list_logical_devices\n",
    "import tensorflow.distribute as tf_dist\n",
    "\n",
    "seed(42) \n",
    "\n",
    "# Running the fitting in our available GPU's.\n",
    "gpus = list_logical_devices('GPU')\n",
    "strategy = tf_dist.MirroredStrategy(gpus)\n",
    "\n",
    "# Informing TensorFlow to run the training in the GPU's.\n",
    "with strategy.scope():\n",
    "    # Setting the compilation configs.\n",
    "    optimizer = Adam(learning_rate=0.0025)\n",
    "    loss = SparseCategoricalCrossentropy()\n",
    "    metrics = [SparseCategoricalAccuracy()]\n",
    "    callbacks = [EarlyStopping(monitor='val_sparse_categorical_accuracy', min_delta=.01, patience=25, restore_best_weights=True),\n",
    "                    ReduceLROnPlateau(monitor='val_sparse_categorical_accuracy', factor=.8, min_delta=.01, patience=10)]\n",
    "    \n",
    "    # Defining the amount of neurons for our 5 hidden layers.\n",
    "    neurons = randint(200, 400, 5)\n",
    "    \n",
    "    # Creating the model and fitting it.\n",
    "    fcnn = my_fcnn(neurons, elu, .5, optimizer=optimizer, loss=loss, metrics=metrics)\n",
    "    fcnn.fit(x=train_set, epochs=100, callbacks=callbacks, validation_data=val_set)"
   ]
  },
  {
   "cell_type": "markdown",
   "id": "7f25778c",
   "metadata": {
    "papermill": {
     "duration": 0.099552,
     "end_time": "2023-07-08T19:30:20.627949",
     "exception": false,
     "start_time": "2023-07-08T19:30:20.528397",
     "status": "completed"
    },
    "tags": []
   },
   "source": [
    "<h3 style='font-size:30px;font-style:italic'> Extra Challenge: LeNet-5 </h3>\n",
    "<div> \n",
    "    <ul style='font-size:20px'> \n",
    "        <li> \n",
    "            Fully-Connected Neural Networks are utterly unsuitable for Computer Vision tasks. In modern DL systems, Convolutional Neural Networks show up as a resource both trustable and computationally lighter for this duty.\n",
    "        </li>\n",
    "        <li> \n",
    "            Hence, we'll design here a LeNet-5 model for of its success in digit recognition. \n",
    "        </li>\n",
    "    </ul>\n",
    "</div>"
   ]
  },
  {
   "cell_type": "code",
   "execution_count": 14,
   "id": "120a050a",
   "metadata": {
    "execution": {
     "iopub.execute_input": "2023-07-08T19:30:20.809000Z",
     "iopub.status.busy": "2023-07-08T19:30:20.807695Z",
     "iopub.status.idle": "2023-07-08T19:30:20.816742Z",
     "shell.execute_reply": "2023-07-08T19:30:20.815741Z"
    },
    "papermill": {
     "duration": 0.100007,
     "end_time": "2023-07-08T19:30:20.819047",
     "exception": false,
     "start_time": "2023-07-08T19:30:20.719040",
     "status": "completed"
    },
    "tags": []
   },
   "outputs": [],
   "source": [
    "# The images that feed the Input Layer of LetNet-5 have 32x32 shape. Since the MNIST digits are 28x28 it is\n",
    "# necessary to add zero-padding to each matrix.\n",
    "from tensorflow.keras.layers import Reshape, ZeroPadding2D\n",
    "\n",
    "# `ZeroPadding2d` demands the inputs to own a dimension for the amount of channels. That's why we are invoking the\n",
    "# `Reshape` layer as well.\n",
    "target_shape = train_pixels.shape[1:]+[1]\n",
    "reshape = Reshape(target_shape=target_shape)\n",
    "\n",
    "# Instantiating the `ZeroPadding2D` layer.\n",
    "zero_padding_2d = ZeroPadding2D(padding=2)"
   ]
  },
  {
   "cell_type": "code",
   "execution_count": 15,
   "id": "62077dca",
   "metadata": {
    "execution": {
     "iopub.execute_input": "2023-07-08T19:30:21.001456Z",
     "iopub.status.busy": "2023-07-08T19:30:21.000288Z",
     "iopub.status.idle": "2023-07-08T19:31:49.565030Z",
     "shell.execute_reply": "2023-07-08T19:31:49.563677Z"
    },
    "papermill": {
     "duration": 88.661162,
     "end_time": "2023-07-08T19:31:49.567728",
     "exception": false,
     "start_time": "2023-07-08T19:30:20.906566",
     "status": "completed"
    },
    "tags": []
   },
   "outputs": [
    {
     "name": "stdout",
     "output_type": "stream",
     "text": [
      "Epoch 1/100\n",
      "54/54 [==============================] - 16s 59ms/step - loss: 0.8563 - sparse_categorical_accuracy: 0.7022 - val_loss: 0.5684 - val_sparse_categorical_accuracy: 0.7907 - lr: 0.0012\n",
      "Epoch 2/100\n",
      "54/54 [==============================] - 1s 25ms/step - loss: 0.5101 - sparse_categorical_accuracy: 0.8195 - val_loss: 0.4634 - val_sparse_categorical_accuracy: 0.8325 - lr: 0.0012\n",
      "Epoch 3/100\n",
      "54/54 [==============================] - 1s 25ms/step - loss: 0.4363 - sparse_categorical_accuracy: 0.8441 - val_loss: 0.4088 - val_sparse_categorical_accuracy: 0.8497 - lr: 0.0012\n",
      "Epoch 4/100\n",
      "54/54 [==============================] - 1s 23ms/step - loss: 0.3951 - sparse_categorical_accuracy: 0.8587 - val_loss: 0.3807 - val_sparse_categorical_accuracy: 0.8600 - lr: 0.0012\n",
      "Epoch 5/100\n",
      "54/54 [==============================] - 1s 23ms/step - loss: 0.3698 - sparse_categorical_accuracy: 0.8680 - val_loss: 0.3617 - val_sparse_categorical_accuracy: 0.8675 - lr: 0.0012\n",
      "Epoch 6/100\n",
      "54/54 [==============================] - 1s 23ms/step - loss: 0.3493 - sparse_categorical_accuracy: 0.8741 - val_loss: 0.3500 - val_sparse_categorical_accuracy: 0.8743 - lr: 0.0012\n",
      "Epoch 7/100\n",
      "54/54 [==============================] - 1s 24ms/step - loss: 0.3328 - sparse_categorical_accuracy: 0.8804 - val_loss: 0.3402 - val_sparse_categorical_accuracy: 0.8762 - lr: 0.0012\n",
      "Epoch 8/100\n",
      "54/54 [==============================] - 1s 24ms/step - loss: 0.3179 - sparse_categorical_accuracy: 0.8851 - val_loss: 0.3318 - val_sparse_categorical_accuracy: 0.8793 - lr: 0.0012\n",
      "Epoch 9/100\n",
      "54/54 [==============================] - 1s 24ms/step - loss: 0.3073 - sparse_categorical_accuracy: 0.8895 - val_loss: 0.3268 - val_sparse_categorical_accuracy: 0.8778 - lr: 0.0012\n",
      "Epoch 10/100\n",
      "54/54 [==============================] - 1s 24ms/step - loss: 0.2963 - sparse_categorical_accuracy: 0.8931 - val_loss: 0.3186 - val_sparse_categorical_accuracy: 0.8862 - lr: 0.0012\n",
      "Epoch 11/100\n",
      "54/54 [==============================] - 1s 25ms/step - loss: 0.2870 - sparse_categorical_accuracy: 0.8953 - val_loss: 0.3113 - val_sparse_categorical_accuracy: 0.8875 - lr: 0.0012\n",
      "Epoch 12/100\n",
      "54/54 [==============================] - 1s 24ms/step - loss: 0.2773 - sparse_categorical_accuracy: 0.8992 - val_loss: 0.3069 - val_sparse_categorical_accuracy: 0.8882 - lr: 0.0012\n",
      "Epoch 13/100\n",
      "54/54 [==============================] - 1s 25ms/step - loss: 0.2695 - sparse_categorical_accuracy: 0.9019 - val_loss: 0.3038 - val_sparse_categorical_accuracy: 0.8882 - lr: 0.0012\n",
      "Epoch 14/100\n",
      "54/54 [==============================] - 1s 23ms/step - loss: 0.2613 - sparse_categorical_accuracy: 0.9042 - val_loss: 0.3000 - val_sparse_categorical_accuracy: 0.8920 - lr: 0.0012\n",
      "Epoch 15/100\n",
      "54/54 [==============================] - 1s 23ms/step - loss: 0.2548 - sparse_categorical_accuracy: 0.9069 - val_loss: 0.2919 - val_sparse_categorical_accuracy: 0.8943 - lr: 0.0012\n",
      "Epoch 16/100\n",
      "54/54 [==============================] - 1s 25ms/step - loss: 0.2474 - sparse_categorical_accuracy: 0.9098 - val_loss: 0.2943 - val_sparse_categorical_accuracy: 0.8957 - lr: 0.0012\n",
      "Epoch 17/100\n",
      "54/54 [==============================] - 1s 25ms/step - loss: 0.2434 - sparse_categorical_accuracy: 0.9106 - val_loss: 0.2923 - val_sparse_categorical_accuracy: 0.8942 - lr: 0.0012\n",
      "Epoch 18/100\n",
      "54/54 [==============================] - 1s 23ms/step - loss: 0.2357 - sparse_categorical_accuracy: 0.9139 - val_loss: 0.2929 - val_sparse_categorical_accuracy: 0.8905 - lr: 0.0012\n",
      "Epoch 19/100\n",
      "54/54 [==============================] - 1s 25ms/step - loss: 0.2297 - sparse_categorical_accuracy: 0.9163 - val_loss: 0.2906 - val_sparse_categorical_accuracy: 0.8957 - lr: 0.0012\n",
      "Epoch 20/100\n",
      "54/54 [==============================] - 1s 26ms/step - loss: 0.2238 - sparse_categorical_accuracy: 0.9182 - val_loss: 0.2849 - val_sparse_categorical_accuracy: 0.8957 - lr: 0.0012\n",
      "Epoch 21/100\n",
      "54/54 [==============================] - 1s 25ms/step - loss: 0.2195 - sparse_categorical_accuracy: 0.9203 - val_loss: 0.2842 - val_sparse_categorical_accuracy: 0.8945 - lr: 0.0012\n",
      "Epoch 22/100\n",
      "54/54 [==============================] - 1s 24ms/step - loss: 0.2105 - sparse_categorical_accuracy: 0.9230 - val_loss: 0.2893 - val_sparse_categorical_accuracy: 0.8948 - lr: 0.0012\n",
      "Epoch 23/100\n",
      "54/54 [==============================] - 1s 24ms/step - loss: 0.2069 - sparse_categorical_accuracy: 0.9245 - val_loss: 0.2888 - val_sparse_categorical_accuracy: 0.8985 - lr: 0.0012\n",
      "Epoch 24/100\n",
      "54/54 [==============================] - 1s 23ms/step - loss: 0.2030 - sparse_categorical_accuracy: 0.9272 - val_loss: 0.2821 - val_sparse_categorical_accuracy: 0.9000 - lr: 0.0012\n",
      "Epoch 25/100\n",
      "54/54 [==============================] - 1s 23ms/step - loss: 0.1969 - sparse_categorical_accuracy: 0.9289 - val_loss: 0.2833 - val_sparse_categorical_accuracy: 0.8975 - lr: 0.0012\n",
      "Epoch 26/100\n",
      "54/54 [==============================] - 1s 25ms/step - loss: 0.1917 - sparse_categorical_accuracy: 0.9311 - val_loss: 0.2783 - val_sparse_categorical_accuracy: 0.8967 - lr: 0.0012\n",
      "Epoch 27/100\n",
      "54/54 [==============================] - 1s 24ms/step - loss: 0.1853 - sparse_categorical_accuracy: 0.9334 - val_loss: 0.2867 - val_sparse_categorical_accuracy: 0.8982 - lr: 0.0012\n",
      "Epoch 28/100\n",
      "54/54 [==============================] - 1s 23ms/step - loss: 0.1830 - sparse_categorical_accuracy: 0.9340 - val_loss: 0.2847 - val_sparse_categorical_accuracy: 0.8992 - lr: 0.0012\n",
      "Epoch 29/100\n",
      "54/54 [==============================] - 1s 24ms/step - loss: 0.1793 - sparse_categorical_accuracy: 0.9360 - val_loss: 0.2987 - val_sparse_categorical_accuracy: 0.8920 - lr: 0.0012\n",
      "Epoch 30/100\n",
      "54/54 [==============================] - 1s 24ms/step - loss: 0.1727 - sparse_categorical_accuracy: 0.9374 - val_loss: 0.2830 - val_sparse_categorical_accuracy: 0.8993 - lr: 0.0012\n",
      "Epoch 31/100\n",
      "54/54 [==============================] - 1s 25ms/step - loss: 0.1679 - sparse_categorical_accuracy: 0.9395 - val_loss: 0.2895 - val_sparse_categorical_accuracy: 0.8977 - lr: 0.0012\n",
      "Epoch 32/100\n",
      "54/54 [==============================] - 1s 25ms/step - loss: 0.1639 - sparse_categorical_accuracy: 0.9413 - val_loss: 0.2971 - val_sparse_categorical_accuracy: 0.8965 - lr: 0.0012\n",
      "Epoch 33/100\n",
      "54/54 [==============================] - 1s 25ms/step - loss: 0.1608 - sparse_categorical_accuracy: 0.9409 - val_loss: 0.2897 - val_sparse_categorical_accuracy: 0.9010 - lr: 0.0012\n",
      "Epoch 34/100\n",
      "54/54 [==============================] - 1s 23ms/step - loss: 0.1484 - sparse_categorical_accuracy: 0.9486 - val_loss: 0.2853 - val_sparse_categorical_accuracy: 0.9017 - lr: 6.2500e-04\n",
      "Epoch 35/100\n",
      "54/54 [==============================] - 1s 25ms/step - loss: 0.1433 - sparse_categorical_accuracy: 0.9504 - val_loss: 0.2867 - val_sparse_categorical_accuracy: 0.8990 - lr: 6.2500e-04\n",
      "Epoch 36/100\n",
      "54/54 [==============================] - 1s 24ms/step - loss: 0.1413 - sparse_categorical_accuracy: 0.9511 - val_loss: 0.2909 - val_sparse_categorical_accuracy: 0.9002 - lr: 6.2500e-04\n",
      "Epoch 37/100\n",
      "54/54 [==============================] - 1s 24ms/step - loss: 0.1391 - sparse_categorical_accuracy: 0.9516 - val_loss: 0.2925 - val_sparse_categorical_accuracy: 0.8998 - lr: 6.2500e-04\n",
      "Epoch 38/100\n",
      "54/54 [==============================] - 1s 23ms/step - loss: 0.1371 - sparse_categorical_accuracy: 0.9537 - val_loss: 0.2904 - val_sparse_categorical_accuracy: 0.8993 - lr: 6.2500e-04\n",
      "Epoch 39/100\n",
      "54/54 [==============================] - 1s 25ms/step - loss: 0.1340 - sparse_categorical_accuracy: 0.9541 - val_loss: 0.2936 - val_sparse_categorical_accuracy: 0.8990 - lr: 6.2500e-04\n",
      "Epoch 40/100\n",
      "54/54 [==============================] - 1s 25ms/step - loss: 0.1323 - sparse_categorical_accuracy: 0.9546 - val_loss: 0.2946 - val_sparse_categorical_accuracy: 0.9013 - lr: 6.2500e-04\n",
      "Epoch 41/100\n",
      "54/54 [==============================] - 2s 29ms/step - loss: 0.1303 - sparse_categorical_accuracy: 0.9555 - val_loss: 0.2932 - val_sparse_categorical_accuracy: 0.8995 - lr: 6.2500e-04\n",
      "Epoch 42/100\n",
      "54/54 [==============================] - 2s 31ms/step - loss: 0.1277 - sparse_categorical_accuracy: 0.9570 - val_loss: 0.2978 - val_sparse_categorical_accuracy: 0.8985 - lr: 6.2500e-04\n",
      "Epoch 43/100\n",
      "54/54 [==============================] - 1s 26ms/step - loss: 0.1264 - sparse_categorical_accuracy: 0.9574 - val_loss: 0.3002 - val_sparse_categorical_accuracy: 0.8988 - lr: 6.2500e-04\n",
      "Epoch 44/100\n",
      "54/54 [==============================] - 1s 25ms/step - loss: 0.1194 - sparse_categorical_accuracy: 0.9602 - val_loss: 0.2946 - val_sparse_categorical_accuracy: 0.9015 - lr: 3.1250e-04\n",
      "Epoch 45/100\n",
      "54/54 [==============================] - 1s 24ms/step - loss: 0.1172 - sparse_categorical_accuracy: 0.9620 - val_loss: 0.2954 - val_sparse_categorical_accuracy: 0.9000 - lr: 3.1250e-04\n",
      "Epoch 46/100\n",
      "54/54 [==============================] - 1s 25ms/step - loss: 0.1159 - sparse_categorical_accuracy: 0.9615 - val_loss: 0.2954 - val_sparse_categorical_accuracy: 0.8992 - lr: 3.1250e-04\n",
      "Epoch 47/100\n",
      "54/54 [==============================] - 1s 25ms/step - loss: 0.1154 - sparse_categorical_accuracy: 0.9619 - val_loss: 0.2979 - val_sparse_categorical_accuracy: 0.8985 - lr: 3.1250e-04\n",
      "Epoch 48/100\n",
      "54/54 [==============================] - 1s 25ms/step - loss: 0.1140 - sparse_categorical_accuracy: 0.9623 - val_loss: 0.2994 - val_sparse_categorical_accuracy: 0.8982 - lr: 3.1250e-04\n"
     ]
    }
   ],
   "source": [
    "from tensorflow.keras.layers import Conv2D, AveragePooling2D\n",
    "# Informing TensorFlow to run the training in the GPU's.\n",
    "with strategy.scope():\n",
    "    \n",
    "    # Building our LeNet-5\n",
    "    lenet5 = Sequential([\n",
    "        # Initial layers.\n",
    "        Input(shape=[28,28]),\n",
    "        standardize, # Note that the inputs need to be standardized as well in this architecture.\n",
    "        reshape,\n",
    "        zero_padding_2d,\n",
    "\n",
    "        # Performing the Convolutions and Pooling in accordance to LeNet-5's architecture.\n",
    "        Conv2D(filters=6, kernel_size=5, strides=1, activation='tanh'),\n",
    "        AveragePooling2D(),\n",
    "        Conv2D(filters=16, kernel_size=5, strides=1, activation='tanh'),\n",
    "        AveragePooling2D(),\n",
    "        Conv2D(filters=120, kernel_size=5, strides=1, activation='tanh'),\n",
    "\n",
    "        # A Dense layer followed by the output layer.\n",
    "        Flatten(),\n",
    "        Dense(units=84, activation='tanh', kernel_initializer=GlorotNormal()),\n",
    "        Dense(units=10, activation='softmax')\n",
    "\n",
    "    ])\n",
    "\n",
    "    # Setting the compilation configs.\n",
    "    optimizer = Adam(learning_rate=0.00125)\n",
    "    loss = SparseCategoricalCrossentropy()\n",
    "    metrics = [SparseCategoricalAccuracy()]\n",
    "    callbacks = [EarlyStopping(monitor='val_sparse_categorical_accuracy', min_delta=.01, patience=25, restore_best_weights=True),\n",
    "                    ReduceLROnPlateau(monitor='val_sparse_categorical_accuracy', factor=.5, min_delta=.005, patience=10)]\n",
    "    \n",
    "    # Creating the model and fitting it.\n",
    "    lenet5.compile(optimizer=optimizer, loss=loss, metrics=metrics)\n",
    "    lenet5.fit(x=train_set, epochs=100, callbacks=callbacks, validation_data=val_set)"
   ]
  },
  {
   "cell_type": "markdown",
   "id": "fdff2e7f",
   "metadata": {
    "papermill": {
     "duration": 0.157456,
     "end_time": "2023-07-08T19:31:49.886405",
     "exception": false,
     "start_time": "2023-07-08T19:31:49.728949",
     "status": "completed"
    },
    "tags": []
   },
   "source": [
    "<h2 style='font-size:30px'> Models Testing and Comparison</h2>\n",
    "<div> \n",
    "    <ul style='font-size:20px'> \n",
    "        <li> \n",
    "            By seeing the fitting logs, we cannot observe a big difference between the NN's accuracies. \n",
    "        </li>\n",
    "        <li> \n",
    "            Let's find out whether the test performances present any statistical difference.\n",
    "        </li>\n",
    "    </ul>\n",
    "</div>"
   ]
  },
  {
   "cell_type": "code",
   "execution_count": 16,
   "id": "57a63c34",
   "metadata": {
    "execution": {
     "iopub.execute_input": "2023-07-08T19:31:50.273569Z",
     "iopub.status.busy": "2023-07-08T19:31:50.271344Z",
     "iopub.status.idle": "2023-07-08T19:31:50.284363Z",
     "shell.execute_reply": "2023-07-08T19:31:50.282490Z"
    },
    "papermill": {
     "duration": 0.178227,
     "end_time": "2023-07-08T19:31:50.287000",
     "exception": false,
     "start_time": "2023-07-08T19:31:50.108773",
     "status": "completed"
    },
    "tags": []
   },
   "outputs": [],
   "source": [
    "# We are going to conduct a Hypothesis Test on both models' accuracy.\n",
    "# Since the statsmodels function demands us to inform countings instead of proportions, we need to create a small method\n",
    "# that gives us the quantity of right estimations.\n",
    "\n",
    "def n_correct_predictions(model:Sequential, data:Dataset)->int:\n",
    "    '''\n",
    "        Computes the amount of instances that a given model correctly predicted.\n",
    "        \n",
    "        Parameters\n",
    "        ----------\n",
    "        `model`: A Keras model.\n",
    "        `data`: A Dataset object storing the independent and dependent variables.\n",
    "        \n",
    "        Returns\n",
    "        -------\n",
    "        An integer indicating the number of instances correctly predicted by the model.\n",
    "    '''\n",
    "    accuracy = model.evaluate(data)[1]\n",
    "    return int(round(accuracy, 4) * 10000) # Rounding the model's accuracy and multiplying it by 10000 (test set's length)."
   ]
  },
  {
   "cell_type": "code",
   "execution_count": 17,
   "id": "7539899b",
   "metadata": {
    "execution": {
     "iopub.execute_input": "2023-07-08T19:31:50.646924Z",
     "iopub.status.busy": "2023-07-08T19:31:50.646510Z",
     "iopub.status.idle": "2023-07-08T19:31:51.564604Z",
     "shell.execute_reply": "2023-07-08T19:31:51.563395Z"
    },
    "papermill": {
     "duration": 1.122237,
     "end_time": "2023-07-08T19:31:51.567231",
     "exception": false,
     "start_time": "2023-07-08T19:31:50.444994",
     "status": "completed"
    },
    "tags": []
   },
   "outputs": [
    {
     "name": "stdout",
     "output_type": "stream",
     "text": [
      "10/10 [==============================] - 0s 15ms/step - loss: 0.3475 - sparse_categorical_accuracy: 0.8799\n",
      "10/10 [==============================] - 0s 16ms/step - loss: 0.3103 - sparse_categorical_accuracy: 0.8889\n",
      "FCNN has correctly estimated 8799 instances\n",
      "LeNet-5 has correctly estimated 8889 instances\n"
     ]
    }
   ],
   "source": [
    "# Carrying out the estimations.\n",
    "with strategy.scope():\n",
    "    fcnn_correct = n_correct_predictions(fcnn, test_set)\n",
    "    lenet5_correct = n_correct_predictions(lenet5, test_set)\n",
    "    \n",
    "print(f'FCNN has correctly estimated {fcnn_correct} instances')\n",
    "print(f'LeNet-5 has correctly estimated {lenet5_correct} instances')"
   ]
  },
  {
   "cell_type": "code",
   "execution_count": 18,
   "id": "f26d434d",
   "metadata": {
    "execution": {
     "iopub.execute_input": "2023-07-08T19:31:51.888723Z",
     "iopub.status.busy": "2023-07-08T19:31:51.887744Z",
     "iopub.status.idle": "2023-07-08T19:31:51.945662Z",
     "shell.execute_reply": "2023-07-08T19:31:51.944431Z"
    },
    "papermill": {
     "duration": 0.221902,
     "end_time": "2023-07-08T19:31:51.948654",
     "exception": false,
     "start_time": "2023-07-08T19:31:51.726752",
     "status": "completed"
    },
    "tags": []
   },
   "outputs": [
    {
     "name": "stdout",
     "output_type": "stream",
     "text": [
      "The test's p-value was 0.02329.\n"
     ]
    }
   ],
   "source": [
    "from statsmodels.stats.proportion import test_proportions_2indep, confint_proportions_2indep\n",
    "\n",
    "# H0: The accuracies are equal\n",
    "# H1: FCNN's accuracy is lower than LeNet-5's.\n",
    "\n",
    "# By setting the confidence level as 5%, we do not own sufficient evidence that LeNet-5 had a better performance than FCNN.\n",
    "nobs = len(y_test)\n",
    "\n",
    "pvalue = test_proportions_2indep(fcnn_correct, nobs, lenet5_correct, nobs, compare='ratio', alternative='smaller', return_results=False)[1]\n",
    "print(f'The test\\'s p-value was {pvalue :.5f}.')"
   ]
  },
  {
   "cell_type": "code",
   "execution_count": 19,
   "id": "fa4ac814",
   "metadata": {
    "execution": {
     "iopub.execute_input": "2023-07-08T19:31:52.269437Z",
     "iopub.status.busy": "2023-07-08T19:31:52.269048Z",
     "iopub.status.idle": "2023-07-08T19:31:52.280930Z",
     "shell.execute_reply": "2023-07-08T19:31:52.279929Z"
    },
    "papermill": {
     "duration": 0.172591,
     "end_time": "2023-07-08T19:31:52.283284",
     "exception": false,
     "start_time": "2023-07-08T19:31:52.110693",
     "status": "completed"
    },
    "tags": []
   },
   "outputs": [
    {
     "data": {
      "text/plain": [
       "(0.9800049627803122, 0.9998458485786287)"
      ]
     },
     "execution_count": 19,
     "metadata": {},
     "output_type": "execute_result"
    }
   ],
   "source": [
    "# And here is the Confidence Interval for the Accuracies Ratio. Since it contains 1, we must keep H0.\n",
    "confint_proportions_2indep(fcnn_correct, nobs, lenet5_correct, nobs, compare='ratio', alpha=.05)"
   ]
  },
  {
   "cell_type": "markdown",
   "id": "f8710a21",
   "metadata": {
    "papermill": {
     "duration": 0.159868,
     "end_time": "2023-07-08T19:31:52.604881",
     "exception": false,
     "start_time": "2023-07-08T19:31:52.445013",
     "status": "completed"
    },
    "tags": []
   },
   "source": [
    "<div> \n",
    "    <ul style='font-size:20px'> \n",
    "        <li> \n",
    "            But besides the statistically equivalent accuracies, LeNet-5 is still the most interesting model for production purposes since it has 90% less parameters than the FCNN.  \n",
    "        </li>\n",
    "    </ul>\n",
    "</div>"
   ]
  },
  {
   "cell_type": "code",
   "execution_count": 20,
   "id": "877903d3",
   "metadata": {
    "execution": {
     "iopub.execute_input": "2023-07-08T19:31:52.955406Z",
     "iopub.status.busy": "2023-07-08T19:31:52.954311Z",
     "iopub.status.idle": "2023-07-08T19:31:52.964540Z",
     "shell.execute_reply": "2023-07-08T19:31:52.963452Z"
    },
    "papermill": {
     "duration": 0.189092,
     "end_time": "2023-07-08T19:31:52.967102",
     "exception": false,
     "start_time": "2023-07-08T19:31:52.778010",
     "status": "completed"
    },
    "tags": []
   },
   "outputs": [
    {
     "data": {
      "text/plain": [
       "0.10380718302774596"
      ]
     },
     "execution_count": 20,
     "metadata": {},
     "output_type": "execute_result"
    }
   ],
   "source": [
    "lenet5.count_params() / fcnn.count_params()"
   ]
  },
  {
   "cell_type": "markdown",
   "id": "c4e8804b",
   "metadata": {
    "papermill": {
     "duration": 0.15817,
     "end_time": "2023-07-08T19:31:53.288176",
     "exception": false,
     "start_time": "2023-07-08T19:31:53.130006",
     "status": "completed"
    },
    "tags": []
   },
   "source": [
    "<h2 style='font-size:30px'> Final Thoughts</h2>\n",
    "<div> \n",
    "    <ul style='font-size:20px'> \n",
    "        <li> \n",
    "            We've succeeded in generating a complete Deep Learning Pipeline with the use of TensorFlow's data storage and modeling resources.\n",
    "        </li>\n",
    "        <li> \n",
    "            In the end, both NN's demonstrated similar performances over the digit recognition task. But because LeNet-5 was comprised of 90% less parameters than the Fully-Connected Model, it is probably more suitable for a hypothetical deployment. \n",
    "        </li>\n",
    "        <li>\n",
    "            I hope you've enjoyed going through the whole code. I'll leave here my <a href='https://www.linkedin.com/in/felipesveiga'> LinkedIn</a> and <a href='https://medium.com/@felipesveiga'> Medium</a> accounts if you want to follow up my content productions. \n",
    "        </li>\n",
    "    </ul>\n",
    "</div>"
   ]
  }
 ],
 "metadata": {
  "kernelspec": {
   "display_name": "Python 3",
   "language": "python",
   "name": "python3"
  },
  "language_info": {
   "codemirror_mode": {
    "name": "ipython",
    "version": 3
   },
   "file_extension": ".py",
   "mimetype": "text/x-python",
   "name": "python",
   "nbconvert_exporter": "python",
   "pygments_lexer": "ipython3",
   "version": "3.7.12"
  },
  "papermill": {
   "default_parameters": {},
   "duration": 221.230392,
   "end_time": "2023-07-08T19:31:56.515921",
   "environment_variables": {},
   "exception": null,
   "input_path": "__notebook__.ipynb",
   "output_path": "__notebook__.ipynb",
   "parameters": {},
   "start_time": "2023-07-08T19:28:15.285529",
   "version": "2.4.0"
  }
 },
 "nbformat": 4,
 "nbformat_minor": 5
}
