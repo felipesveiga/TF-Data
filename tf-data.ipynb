{
 "cells": [
  {
   "cell_type": "markdown",
   "id": "9e7c2607",
   "metadata": {
    "papermill": {
     "duration": 0.007492,
     "end_time": "2023-05-17T16:17:29.340492",
     "exception": false,
     "start_time": "2023-05-17T16:17:29.333000",
     "status": "completed"
    },
    "tags": []
   },
   "source": [
    "<h1 style='font-size:40px'> tf.data Pipeline</h1>\n",
    "<div> \n",
    "    <ul style='font-size:20px'> \n",
    "        <li> \n",
    "            In this notebook I'll practice my skills with the tf.data module solving Exercise 9 from Hands-On Machine Learning with Scikit-Learn and TensorFlow's Chapter 13.\n",
    "        </li>\n",
    "        <li> \n",
    "            The Exercise commands us the following:\n",
    "            <p style='font-style:italic;margin-top:10px'> \n",
    "                Load the Fashion MNIST dataset (introduced in Chapter 10); split\n",
    "it into a training set, a validation set, and a test set; shuffle the\n",
    "training set; and save each dataset to multiple TFRecord files.\n",
    "Each record should be a serialized Example protobuf with two\n",
    "features: the serialized image (use tf.io.serialize_tensor()\n",
    "to serialize each image), and the label. 11 Then use tf.data to create\n",
    "an efficient dataset for each set. Finally, use a Keras model to\n",
    "train these datasets, including a preprocessing layer to standardize\n",
    "each input feature. Try to make the input pipeline as efficient as\n",
    "possible, using TensorBoard to visualize profiling data.\n",
    "            </p>\n",
    "        </li>\n",
    "    </ul>\n",
    "</div>"
   ]
  },
  {
   "cell_type": "markdown",
   "id": "8d5e6962",
   "metadata": {
    "papermill": {
     "duration": 0.005841,
     "end_time": "2023-05-17T16:17:29.352787",
     "exception": false,
     "start_time": "2023-05-17T16:17:29.346946",
     "status": "completed"
    },
    "tags": []
   },
   "source": [
    "<h2 style='font-size:30px'> Data Importing & Splitting</h2>"
   ]
  },
  {
   "cell_type": "code",
   "execution_count": 1,
   "id": "e9fdf1da",
   "metadata": {
    "execution": {
     "iopub.execute_input": "2023-05-17T16:17:29.367214Z",
     "iopub.status.busy": "2023-05-17T16:17:29.366733Z",
     "iopub.status.idle": "2023-05-17T16:17:42.173091Z",
     "shell.execute_reply": "2023-05-17T16:17:42.171785Z"
    },
    "papermill": {
     "duration": 12.817635,
     "end_time": "2023-05-17T16:17:42.176544",
     "exception": false,
     "start_time": "2023-05-17T16:17:29.358909",
     "status": "completed"
    },
    "tags": []
   },
   "outputs": [
    {
     "name": "stdout",
     "output_type": "stream",
     "text": [
      "Downloading data from https://storage.googleapis.com/tensorflow/tf-keras-datasets/train-labels-idx1-ubyte.gz\n",
      "29515/29515 [==============================] - 0s 0us/step\n",
      "Downloading data from https://storage.googleapis.com/tensorflow/tf-keras-datasets/train-images-idx3-ubyte.gz\n",
      "26421880/26421880 [==============================] - 0s 0us/step\n",
      "Downloading data from https://storage.googleapis.com/tensorflow/tf-keras-datasets/t10k-labels-idx1-ubyte.gz\n",
      "5148/5148 [==============================] - 0s 0us/step\n",
      "Downloading data from https://storage.googleapis.com/tensorflow/tf-keras-datasets/t10k-images-idx3-ubyte.gz\n",
      "4422102/4422102 [==============================] - 0s 0us/step\n"
     ]
    }
   ],
   "source": [
    "# Loading the fashion_mnist dataset.\n",
    "from tensorflow.keras.datasets import fashion_mnist\n",
    "from sklearn.model_selection import train_test_split\n",
    "(X_train, y_train), (X_test, y_test) = fashion_mnist.load_data()\n",
    "\n",
    "# Now, generating the validation set with `train_test_split`.\n",
    "X_train, X_val, y_train, y_val = train_test_split(X_train, y_train, test_size=.1, random_state=42)"
   ]
  },
  {
   "cell_type": "code",
   "execution_count": 2,
   "id": "b4b01b0b",
   "metadata": {
    "execution": {
     "iopub.execute_input": "2023-05-17T16:17:42.195077Z",
     "iopub.status.busy": "2023-05-17T16:17:42.194134Z",
     "iopub.status.idle": "2023-05-17T16:17:42.365176Z",
     "shell.execute_reply": "2023-05-17T16:17:42.363669Z"
    },
    "papermill": {
     "duration": 0.183475,
     "end_time": "2023-05-17T16:17:42.368159",
     "exception": false,
     "start_time": "2023-05-17T16:17:42.184684",
     "status": "completed"
    },
    "tags": []
   },
   "outputs": [],
   "source": [
    "# Storing each one of the sets in a tf.data.Dataset object.\n",
    "# The classes store 1000 elements batches. The groups' data will be put into a .tfrecord file.\n",
    "from tensorflow.data import Dataset\n",
    "batch_size = 1000\n",
    "train = Dataset.from_tensor_slices((X_train, y_train)).shuffle(54000).batch(batch_size)\n",
    "val = Dataset.from_tensor_slices((X_val, y_val)).batch(batch_size)\n",
    "test = Dataset.from_tensor_slices((X_test, y_test)).batch(batch_size)"
   ]
  },
  {
   "cell_type": "code",
   "execution_count": 3,
   "id": "d73715e1",
   "metadata": {
    "execution": {
     "iopub.execute_input": "2023-05-17T16:17:42.387370Z",
     "iopub.status.busy": "2023-05-17T16:17:42.386140Z",
     "iopub.status.idle": "2023-05-17T16:17:42.393062Z",
     "shell.execute_reply": "2023-05-17T16:17:42.391892Z"
    },
    "papermill": {
     "duration": 0.019557,
     "end_time": "2023-05-17T16:17:42.395961",
     "exception": false,
     "start_time": "2023-05-17T16:17:42.376404",
     "status": "completed"
    },
    "tags": []
   },
   "outputs": [],
   "source": [
    "# We'll produce 1000 instances .tfrecord files. One corresponding to a bacth created.\n",
    "train_files = len(X_train) // batch_size\n",
    "val_files = len(X_val) // batch_size\n",
    "test_files = len(X_test) // batch_size"
   ]
  },
  {
   "cell_type": "markdown",
   "id": "9c262ed3",
   "metadata": {
    "papermill": {
     "duration": 0.007425,
     "end_time": "2023-05-17T16:17:42.411681",
     "exception": false,
     "start_time": "2023-05-17T16:17:42.404256",
     "status": "completed"
    },
    "tags": []
   },
   "source": [
    "<h2 style='font-size:30px'> .tfrecord's Production</h2>\n",
    "<div> \n",
    "    <ul style='font-size:20px'> \n",
    "        <li> \n",
    "            TensorFlow records demands data to be stored in protobuf format. We can do so by placing the serialized information in an `Example` class. \n",
    "        </li>\n",
    "    </ul>\n",
    "</div>"
   ]
  },
  {
   "cell_type": "code",
   "execution_count": 4,
   "id": "67f8e407",
   "metadata": {
    "execution": {
     "iopub.execute_input": "2023-05-17T16:17:42.429698Z",
     "iopub.status.busy": "2023-05-17T16:17:42.428646Z",
     "iopub.status.idle": "2023-05-17T16:17:42.440566Z",
     "shell.execute_reply": "2023-05-17T16:17:42.439460Z"
    },
    "papermill": {
     "duration": 0.024261,
     "end_time": "2023-05-17T16:17:42.443606",
     "exception": false,
     "start_time": "2023-05-17T16:17:42.419345",
     "status": "completed"
    },
    "tags": []
   },
   "outputs": [],
   "source": [
    "from tensorflow import Tensor\n",
    "from tensorflow.train import BytesList, Example, Features, Feature, Int64List\n",
    "from tensorflow.io import serialize_tensor, TFRecordWriter\n",
    "\n",
    "def create_example(images:Tensor, targets:Tensor)->str:\n",
    "    '''\n",
    "        Generates a serialized `Example` object holding the pixel intensities and target values from a collection\n",
    "        of MNIST images.\n",
    "        \n",
    "        Parameters\n",
    "        ----------\n",
    "        `images`: A 3-D `tf.Tensor` with the digits pixels. \\n\n",
    "        `targets`: An 1-D `tf.Tensor` with the digits labels.\n",
    "        \n",
    "        Returns\n",
    "        -------\n",
    "        An `tf.train.Example` object storing both pixels and target values.\n",
    "    '''\n",
    "    # Serializing the input vectors.\n",
    "    serialized_images, serialized_targets = serialize_tensor(images), serialize_tensor(targets)\n",
    "    example = Example(\n",
    "        features=Features(\n",
    "            feature={\n",
    "            'pixels':Feature(bytes_list=BytesList(value=[serialized_images.numpy()])),\n",
    "            'target':Feature(bytes_list=BytesList(value=[serialized_targets.numpy()]))\n",
    "        }\n",
    "        ))\n",
    "    # Now, converting the `Example` object into a binary string.\n",
    "    return example.SerializeToString()"
   ]
  },
  {
   "cell_type": "code",
   "execution_count": 5,
   "id": "7c9c508f",
   "metadata": {
    "execution": {
     "iopub.execute_input": "2023-05-17T16:17:42.461732Z",
     "iopub.status.busy": "2023-05-17T16:17:42.460899Z",
     "iopub.status.idle": "2023-05-17T16:17:43.578413Z",
     "shell.execute_reply": "2023-05-17T16:17:43.576473Z"
    },
    "papermill": {
     "duration": 1.130311,
     "end_time": "2023-05-17T16:17:43.581676",
     "exception": false,
     "start_time": "2023-05-17T16:17:42.451365",
     "status": "completed"
    },
    "tags": []
   },
   "outputs": [],
   "source": [
    "# It is convenient to place all data files in a separate directory.\n",
    "! mkdir mnist"
   ]
  },
  {
   "cell_type": "code",
   "execution_count": 6,
   "id": "e1765faf",
   "metadata": {
    "execution": {
     "iopub.execute_input": "2023-05-17T16:17:43.600469Z",
     "iopub.status.busy": "2023-05-17T16:17:43.599082Z",
     "iopub.status.idle": "2023-05-17T16:17:44.179289Z",
     "shell.execute_reply": "2023-05-17T16:17:44.178019Z"
    },
    "papermill": {
     "duration": 0.593299,
     "end_time": "2023-05-17T16:17:44.182861",
     "exception": false,
     "start_time": "2023-05-17T16:17:43.589562",
     "status": "completed"
    },
    "tags": []
   },
   "outputs": [],
   "source": [
    "def create_files(dataset:Dataset, filename:str, directory:str='.')->None:\n",
    "    '''\n",
    "        Creates the .tfrecord's files based on the batches from a provided `dataset`.\n",
    "        \n",
    "        Parameters\n",
    "        ----------\n",
    "        `dataset`: A `tf.data.Dataset` object. \\n\n",
    "        `filename`: A custom name for file identification. \\n\n",
    "        `directory`: A string that indicates the directory where the files are put.\n",
    "    '''\n",
    "    for index, (images, labels) in dataset.enumerate():\n",
    "        file = TFRecordWriter(f'{directory}/{filename}_{index}.tfrecord')\n",
    "        serialized_data = create_example(images, labels)\n",
    "        file.write(serialized_data)\n",
    "\n",
    "# Generating the files.\n",
    "create_files(train, 'train', 'mnist')\n",
    "create_files(val, 'val', 'mnist')\n",
    "create_files(test, 'test', 'mnist')"
   ]
  },
  {
   "cell_type": "markdown",
   "id": "b4d11aaf",
   "metadata": {
    "papermill": {
     "duration": 0.007939,
     "end_time": "2023-05-17T16:17:44.198398",
     "exception": false,
     "start_time": "2023-05-17T16:17:44.190459",
     "status": "completed"
    },
    "tags": []
   },
   "source": [
    "<h2 style='font-size:30px'> Data Treatment</h2>\n",
    "<div> \n",
    "    <ul style='font-size:20px'> \n",
    "        <li> \n",
    "            With the files generated, we can proceed and handle the data importing and its proper treatment.\n",
    "        </li>\n",
    "    </ul>\n",
    "</div>"
   ]
  },
  {
   "cell_type": "code",
   "execution_count": 7,
   "id": "ea9871c1",
   "metadata": {
    "execution": {
     "iopub.execute_input": "2023-05-17T16:17:44.221091Z",
     "iopub.status.busy": "2023-05-17T16:17:44.220353Z",
     "iopub.status.idle": "2023-05-17T16:17:44.303209Z",
     "shell.execute_reply": "2023-05-17T16:17:44.301276Z"
    },
    "papermill": {
     "duration": 0.100247,
     "end_time": "2023-05-17T16:17:44.307593",
     "exception": false,
     "start_time": "2023-05-17T16:17:44.207346",
     "status": "completed"
    },
    "tags": []
   },
   "outputs": [],
   "source": [
    "# Reading the data files separately.\n",
    "train_files = Dataset.list_files('mnist/train*')\n",
    "val_files = Dataset.list_files('mnist/val*')\n",
    "test_files = Dataset.list_files('mnist/test*')"
   ]
  },
  {
   "cell_type": "code",
   "execution_count": 8,
   "id": "78cf6a6c",
   "metadata": {
    "execution": {
     "iopub.execute_input": "2023-05-17T16:17:44.325802Z",
     "iopub.status.busy": "2023-05-17T16:17:44.325331Z",
     "iopub.status.idle": "2023-05-17T16:17:44.339016Z",
     "shell.execute_reply": "2023-05-17T16:17:44.337511Z"
    },
    "papermill": {
     "duration": 0.026564,
     "end_time": "2023-05-17T16:17:44.341879",
     "exception": false,
     "start_time": "2023-05-17T16:17:44.315315",
     "status": "completed"
    },
    "tags": []
   },
   "outputs": [],
   "source": [
    "from tensorflow import string, uint8\n",
    "from tensorflow.data import AUTOTUNE, TFRecordDataset\n",
    "from tensorflow.io import FixedLenFeature, parse_example, parse_tensor\n",
    "from typing import Iterable, Tuple\n",
    "\n",
    "def preprocess(tfrecord:Tensor)->Tuple[Tensor, Tensor]:\n",
    "    '''\n",
    "    Reads an encoded protobuf and returns its Tensors in numerical format.\n",
    "    \n",
    "    Parameter\n",
    "    ---------\n",
    "    `tfrecord`: A `tf.Tensor` that stores encoded protobufs.\n",
    "    \n",
    "    Returns\n",
    "    -------\n",
    "    Two tensors in a tuple. One with the pixel intensities and another containing the target values.\n",
    "    '''\n",
    "    features = {\n",
    "    'pixels':FixedLenFeature([], string, default_value=''), \n",
    "    'target':FixedLenFeature([], string, default_value='-1')\n",
    "                }\n",
    "    example = parse_example(tfrecord, features) # Returns a dictionary with the serialized images and target values.\n",
    "    pixels, target = parse_tensor(example['pixels'], uint8), parse_tensor(example['target'], uint8)\n",
    "    return pixels, target\n",
    "\n",
    "def read_files(filenames:Iterable[str], shuffle_size:int=None, num_threads_reading:int=AUTOTUNE, \n",
    "               num_threads_preprocess:int=AUTOTUNE)->Dataset:\n",
    "    '''\n",
    "        Reads the .tfrecord files specified and retrieves a `tf.data.Dataset` object with the processed data.\n",
    "        \n",
    "        Parameters\n",
    "        ----------\n",
    "        `filenames`: The names of the files.\n",
    "        `shuffle_size`: If specified, it shuffles the Dataset using a deck with the specified length.\n",
    "        `num_threads_reading`: The number of threads to use when reading the files.\n",
    "        `num_threads_preprocess`: The number of threads to use when preprocessing the dataset.\n",
    "        \n",
    "        Returns\n",
    "        -------\n",
    "        The treated dataset.\n",
    "    '''\n",
    "    dataset = TFRecordDataset(filenames, num_parallel_reads=num_threads_reading)\n",
    "    if shuffle_size:\n",
    "        dataset.shuffle(shuffle_size)\n",
    "    return dataset.map(preprocess, num_parallel_calls=num_threads_preprocess).prefetch(1)"
   ]
  },
  {
   "cell_type": "markdown",
   "id": "33c4ee10",
   "metadata": {
    "papermill": {
     "duration": 0.007242,
     "end_time": "2023-05-17T16:17:44.356691",
     "exception": false,
     "start_time": "2023-05-17T16:17:44.349449",
     "status": "completed"
    },
    "tags": []
   },
   "source": [
    "<h2 style='font-size:30px'> Standardization Layer</h2>\n",
    "<div> \n",
    "    <ul style='font-size:20px'> \n",
    "        <li> \n",
    "            Here, we'll simply code a `tf.layers.Layer` object which fairly does a similar job of the Batch Normalization Layer. The main difference is that $\\mu$ and $\\sigma$ are computed in advance using the `adapt` function.\n",
    "        </li>\n",
    "    </ul>\n",
    "</div>"
   ]
  },
  {
   "cell_type": "code",
   "execution_count": 9,
   "id": "ba8fb52e",
   "metadata": {
    "collapsed": true,
    "execution": {
     "iopub.execute_input": "2023-05-17T16:17:44.373756Z",
     "iopub.status.busy": "2023-05-17T16:17:44.373274Z",
     "iopub.status.idle": "2023-05-17T16:17:44.415988Z",
     "shell.execute_reply": "2023-05-17T16:17:44.414575Z"
    },
    "jupyter": {
     "outputs_hidden": true
    },
    "papermill": {
     "duration": 0.05506,
     "end_time": "2023-05-17T16:17:44.419288",
     "exception": false,
     "start_time": "2023-05-17T16:17:44.364228",
     "status": "completed"
    },
    "tags": []
   },
   "outputs": [
    {
     "data": {
      "text/plain": [
       "<tf.Tensor: shape=(10, 10), dtype=float32, numpy=\n",
       "array([[-0.71860915, -0.37386498,  0.84272593,  0.15425727,  0.71466786,\n",
       "        -0.5308983 ,  0.147206  ,  0.1305735 ,  0.28914818,  0.16880181],\n",
       "       [-0.12105656, -0.12724052,  0.23465379, -0.2755946 , -0.20157509,\n",
       "         0.64078265,  0.00167464, -0.24770947, -0.17672545,  0.00147332],\n",
       "       [ 0.6664582 ,  0.1417041 , -0.36508322, -0.3298834 ,  0.19712499,\n",
       "        -0.08973067, -0.00951571, -0.34670582,  0.15999393,  0.68951577],\n",
       "       [-0.58635855, -0.34293714,  0.03675737, -0.19457375,  0.04571567,\n",
       "         0.03293511, -0.708356  ,  0.18836927,  0.7266482 ,  0.20899737],\n",
       "       [ 0.6625474 , -0.04238774,  0.9981421 ,  0.70100176,  0.23378868,\n",
       "         0.69413424, -0.54928   ,  0.30869088,  0.35642567,  0.3064534 ],\n",
       "       [ 0.23344226,  1.3789672 ,  0.5510902 , -0.21043363,  0.3211848 ,\n",
       "         0.5299282 , -0.35761735, -0.37501377, -0.5181626 ,  0.20408134],\n",
       "       [-0.29252636, -0.35589853, -0.08450793,  0.31069106, -0.8988579 ,\n",
       "        -0.70774853, -0.58094496,  0.7378027 , -0.6448396 , -0.44081408],\n",
       "       [-0.37903315, -0.5140743 , -0.05095321, -1.0779978 ,  0.03133512,\n",
       "        -0.15062529,  1.446125  ,  0.20974246, -0.03000956, -0.02849111],\n",
       "       [ 0.1657848 ,  0.68316823, -0.09023988, -0.57685536,  0.5785445 ,\n",
       "         0.4653442 ,  0.40961528, -0.6895958 ,  0.09247271,  0.00367235],\n",
       "       [ 1.0463133 ,  1.297941  ,  0.09781022, -0.36538443, -0.4262766 ,\n",
       "         0.16822526, -0.7575148 , -0.7471646 , -0.13445416,  0.5129646 ]],\n",
       "      dtype=float32)>"
      ]
     },
     "execution_count": 9,
     "metadata": {},
     "output_type": "execute_result"
    }
   ],
   "source": [
    "from tensorflow.random import normal\n",
    "from tensorflow.math import reduce_mean, reduce_std\n",
    "reduce_mean(normal(shape=(5, 10, 10)), axis=0)"
   ]
  },
  {
   "cell_type": "code",
   "execution_count": 10,
   "id": "aef7ea65",
   "metadata": {
    "execution": {
     "iopub.execute_input": "2023-05-17T16:17:44.438808Z",
     "iopub.status.busy": "2023-05-17T16:17:44.438303Z",
     "iopub.status.idle": "2023-05-17T16:17:44.467428Z",
     "shell.execute_reply": "2023-05-17T16:17:44.465964Z"
    },
    "papermill": {
     "duration": 0.0423,
     "end_time": "2023-05-17T16:17:44.470672",
     "exception": false,
     "start_time": "2023-05-17T16:17:44.428372",
     "status": "completed"
    },
    "tags": []
   },
   "outputs": [
    {
     "data": {
      "text/plain": [
       "<__main__.Standardize at 0x7fe2982fff90>"
      ]
     },
     "execution_count": 10,
     "metadata": {},
     "output_type": "execute_result"
    }
   ],
   "source": [
    "# The layer will inherit the properties of the experimental `PreprocessingLayer`.\n",
    "from tensorflow.keras.layers.experimental.preprocessing import PreprocessingLayer\n",
    "from tensorflow.math import reduce_mean, reduce_std\n",
    "from tensorflow.keras.backend import epsilon\n",
    "from typing import Union\n",
    "\n",
    "class Standardize(PreprocessingLayer):\n",
    "    '''\n",
    "    A `PreprocessingLayer` object that carries out the standardization of a given array accordingly to an \n",
    "    informed axis.\n",
    "    \n",
    "    The necessary stats are computed before training with the `adapt` method. This aspect is what differentiates\n",
    "    such class from the `BatchNormalization` layer, which computes means and standard deviations on the fly.\n",
    "    '''\n",
    "    def adapt(input_data:Union[Dataset, Tensor], axis=0)->None:\n",
    "        '''\n",
    "            Computes means and std's from a provided `tf.Tensor` or `tf.data.Dataset`.\n",
    "            \n",
    "            Paramater\n",
    "            ---------\n",
    "            `input_data`: The array from which the stats are computed.\n",
    "            `axis`: The axis of choice to compute the stats.\n",
    "        '''\n",
    "        self.means = reduce_mean(input_data, axis=axis)\n",
    "        self.stds = reduce_std(input_data, axis=axis)\n",
    "        \n",
    "    def transform(input_data:Union[Dataset, Tensor])->Union[Dataset, Tensor]:\n",
    "        '''\n",
    "        The method that standardizes the array.\n",
    "        \n",
    "        Paramter\n",
    "        --------\n",
    "        `input_data`: The array in which we perform the standardization\n",
    "        \n",
    "        '''\n",
    "        return (input_data - self.means) / (self.stds + epsilon)\n",
    "    \n",
    "Standardize()"
   ]
  },
  {
   "cell_type": "markdown",
   "id": "31acdda9",
   "metadata": {
    "papermill": {
     "duration": 0.007624,
     "end_time": "2023-05-17T16:17:44.486393",
     "exception": false,
     "start_time": "2023-05-17T16:17:44.478769",
     "status": "completed"
    },
    "tags": []
   },
   "source": [
    "<p style='color:red'> Terminar de documentar a Camada de Padronização"
   ]
  },
  {
   "cell_type": "markdown",
   "id": "04fa345d",
   "metadata": {
    "papermill": {
     "duration": 0.00751,
     "end_time": "2023-05-17T16:17:44.501757",
     "exception": false,
     "start_time": "2023-05-17T16:17:44.494247",
     "status": "completed"
    },
    "tags": []
   },
   "source": [
    "<h2 style='font-size:30px'> </h2>"
   ]
  }
 ],
 "metadata": {
  "kernelspec": {
   "display_name": "Python 3",
   "language": "python",
   "name": "python3"
  },
  "language_info": {
   "codemirror_mode": {
    "name": "ipython",
    "version": 3
   },
   "file_extension": ".py",
   "mimetype": "text/x-python",
   "name": "python",
   "nbconvert_exporter": "python",
   "pygments_lexer": "ipython3",
   "version": "3.7.12"
  },
  "papermill": {
   "default_parameters": {},
   "duration": 32.510203,
   "end_time": "2023-05-17T16:17:47.734960",
   "environment_variables": {},
   "exception": null,
   "input_path": "__notebook__.ipynb",
   "output_path": "__notebook__.ipynb",
   "parameters": {},
   "start_time": "2023-05-17T16:17:15.224757",
   "version": "2.4.0"
  }
 },
 "nbformat": 4,
 "nbformat_minor": 5
}
