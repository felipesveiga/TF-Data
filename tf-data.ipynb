{
 "cells": [
  {
   "cell_type": "markdown",
   "id": "204ff38a",
   "metadata": {
    "papermill": {
     "duration": 0.0033,
     "end_time": "2023-04-21T19:20:52.531515",
     "exception": false,
     "start_time": "2023-04-21T19:20:52.528215",
     "status": "completed"
    },
    "tags": []
   },
   "source": [
    "<h1 style='font-size:40px'> tf.data Pipeline</h1>\n",
    "<div> \n",
    "    <ul style='font-size:20px'> \n",
    "        <li> \n",
    "            In this notebook I'll practice my skills with the tf.data module solving Exercise 9 from Hands-On Machine Learning with Scikit-Learn and TensorFlow's Chapter 13.\n",
    "        </li>\n",
    "        <li> \n",
    "            The Exercise commands us the following:\n",
    "            <p style='font-style:italic;margin-top:10px'> \n",
    "                Load the Fashion MNIST dataset (introduced in Chapter 10); split\n",
    "it into a training set, a validation set, and a test set; shuffle the\n",
    "training set; and save each dataset to multiple TFRecord files.\n",
    "Each record should be a serialized Example protobuf with two\n",
    "features: the serialized image (use tf.io.serialize_tensor()\n",
    "to serialize each image), and the label. 11 Then use tf.data to create\n",
    "an efficient dataset for each set. Finally, use a Keras model to\n",
    "train these datasets, including a preprocessing layer to standardize\n",
    "each input feature. Try to make the input pipeline as efficient as\n",
    "possible, using TensorBoard to visualize profiling data.\n",
    "            </p>\n",
    "        </li>\n",
    "    </ul>\n",
    "</div>"
   ]
  },
  {
   "cell_type": "markdown",
   "id": "d43ce3db",
   "metadata": {
    "papermill": {
     "duration": 0.002027,
     "end_time": "2023-04-21T19:20:52.536307",
     "exception": false,
     "start_time": "2023-04-21T19:20:52.534280",
     "status": "completed"
    },
    "tags": []
   },
   "source": [
    "<h2 style='font-size:30px'> Data Importing & Splitting</h2>"
   ]
  },
  {
   "cell_type": "code",
   "execution_count": 1,
   "id": "7851461c",
   "metadata": {
    "execution": {
     "iopub.execute_input": "2023-04-21T19:20:52.543891Z",
     "iopub.status.busy": "2023-04-21T19:20:52.542903Z",
     "iopub.status.idle": "2023-04-21T19:21:04.134911Z",
     "shell.execute_reply": "2023-04-21T19:21:04.133841Z"
    },
    "papermill": {
     "duration": 11.59853,
     "end_time": "2023-04-21T19:21:04.137724",
     "exception": false,
     "start_time": "2023-04-21T19:20:52.539194",
     "status": "completed"
    },
    "tags": []
   },
   "outputs": [
    {
     "name": "stdout",
     "output_type": "stream",
     "text": [
      "Downloading data from https://storage.googleapis.com/tensorflow/tf-keras-datasets/train-labels-idx1-ubyte.gz\n",
      "29515/29515 [==============================] - 0s 0us/step\n",
      "Downloading data from https://storage.googleapis.com/tensorflow/tf-keras-datasets/train-images-idx3-ubyte.gz\n",
      "26421880/26421880 [==============================] - 1s 0us/step\n",
      "Downloading data from https://storage.googleapis.com/tensorflow/tf-keras-datasets/t10k-labels-idx1-ubyte.gz\n",
      "5148/5148 [==============================] - 0s 0us/step\n",
      "Downloading data from https://storage.googleapis.com/tensorflow/tf-keras-datasets/t10k-images-idx3-ubyte.gz\n",
      "4422102/4422102 [==============================] - 1s 0us/step\n"
     ]
    }
   ],
   "source": [
    "# Loading the fashion_mnist dataset.\n",
    "from tensorflow.keras.datasets import fashion_mnist\n",
    "from sklearn.model_selection import train_test_split\n",
    "(X_train, y_train), (X_test, y_test) = fashion_mnist.load_data()\n",
    "\n",
    "# Now, generating the validation set with `train_test_split`.\n",
    "X_train, X_val, y_train, y_val = train_test_split(X_train, y_train, test_size=.1, random_state=42)"
   ]
  },
  {
   "cell_type": "code",
   "execution_count": 2,
   "id": "cf9a62ed",
   "metadata": {
    "execution": {
     "iopub.execute_input": "2023-04-21T19:21:04.150893Z",
     "iopub.status.busy": "2023-04-21T19:21:04.149594Z",
     "iopub.status.idle": "2023-04-21T19:21:04.291508Z",
     "shell.execute_reply": "2023-04-21T19:21:04.290558Z"
    },
    "papermill": {
     "duration": 0.151261,
     "end_time": "2023-04-21T19:21:04.294444",
     "exception": false,
     "start_time": "2023-04-21T19:21:04.143183",
     "status": "completed"
    },
    "tags": []
   },
   "outputs": [],
   "source": [
    "# Storing each one of the sets in a tf.data.Dataset object.\n",
    "from tensorflow.data import Dataset\n",
    "train = Dataset.from_tensor_slices((X_train, y_train)).shuffle(54000).batch(1000)\n",
    "val = Dataset.from_tensor_slices((X_val, y_val)).batch(1000)\n",
    "test = Dataset.from_tensor_slices((X_test, y_test)).batch(1000)"
   ]
  },
  {
   "cell_type": "markdown",
   "id": "af078595",
   "metadata": {
    "papermill": {
     "duration": 0.004936,
     "end_time": "2023-04-21T19:21:04.304895",
     "exception": false,
     "start_time": "2023-04-21T19:21:04.299959",
     "status": "completed"
    },
    "tags": []
   },
   "source": [
    "<p style='color:red'> Criar .tfrecords"
   ]
  },
  {
   "cell_type": "markdown",
   "id": "823e01bb",
   "metadata": {
    "papermill": {
     "duration": 0.004894,
     "end_time": "2023-04-21T19:21:04.314997",
     "exception": false,
     "start_time": "2023-04-21T19:21:04.310103",
     "status": "completed"
    },
    "tags": []
   },
   "source": [
    "<h2 style='font-size:30px'> </h2>"
   ]
  }
 ],
 "metadata": {
  "kernelspec": {
   "display_name": "Python 3",
   "language": "python",
   "name": "python3"
  },
  "language_info": {
   "codemirror_mode": {
    "name": "ipython",
    "version": 3
   },
   "file_extension": ".py",
   "mimetype": "text/x-python",
   "name": "python",
   "nbconvert_exporter": "python",
   "pygments_lexer": "ipython3",
   "version": "3.7.12"
  },
  "papermill": {
   "default_parameters": {},
   "duration": 24.624963,
   "end_time": "2023-04-21T19:21:07.495150",
   "environment_variables": {},
   "exception": null,
   "input_path": "__notebook__.ipynb",
   "output_path": "__notebook__.ipynb",
   "parameters": {},
   "start_time": "2023-04-21T19:20:42.870187",
   "version": "2.4.0"
  }
 },
 "nbformat": 4,
 "nbformat_minor": 5
}
