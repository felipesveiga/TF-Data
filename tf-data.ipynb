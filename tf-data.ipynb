{
 "cells": [
  {
   "cell_type": "markdown",
   "id": "dd052594",
   "metadata": {
    "papermill": {
     "duration": 0.00905,
     "end_time": "2023-06-14T11:02:51.817999",
     "exception": false,
     "start_time": "2023-06-14T11:02:51.808949",
     "status": "completed"
    },
    "tags": []
   },
   "source": [
    "<h1 style='font-size:40px'> tf.data Pipeline</h1>\n",
    "<div> \n",
    "    <ul style='font-size:20px'> \n",
    "        <li> \n",
    "            In this notebook I'll practice my skills with the tf.data module solving Exercise 9 from Hands-On Machine Learning with Scikit-Learn and TensorFlow's Chapter 13.\n",
    "        </li>\n",
    "        <li> \n",
    "            The Exercise commands us the following:\n",
    "            <p style='font-style:italic;margin-top:10px'> \n",
    "                Load the Fashion MNIST dataset (introduced in Chapter 10); split\n",
    "it into a training set, a validation set, and a test set; shuffle the\n",
    "training set; and save each dataset to multiple TFRecord files.\n",
    "Each record should be a serialized Example protobuf with two\n",
    "features: the serialized image (use tf.io.serialize_tensor()\n",
    "to serialize each image), and the label. 11 Then use tf.data to create\n",
    "an efficient dataset for each set. Finally, use a Keras model to\n",
    "train these datasets, including a preprocessing layer to standardize\n",
    "each input feature. Try to make the input pipeline as efficient as\n",
    "possible, using TensorBoard to visualize profiling data.\n",
    "            </p>\n",
    "        </li>\n",
    "    </ul>\n",
    "</div>"
   ]
  },
  {
   "cell_type": "markdown",
   "id": "a098c44f",
   "metadata": {
    "papermill": {
     "duration": 0.006427,
     "end_time": "2023-06-14T11:02:51.831326",
     "exception": false,
     "start_time": "2023-06-14T11:02:51.824899",
     "status": "completed"
    },
    "tags": []
   },
   "source": [
    "<h2 style='font-size:30px'> Data Importing & Splitting</h2>"
   ]
  },
  {
   "cell_type": "code",
   "execution_count": 1,
   "id": "ba14f709",
   "metadata": {
    "execution": {
     "iopub.execute_input": "2023-06-14T11:02:51.846861Z",
     "iopub.status.busy": "2023-06-14T11:02:51.845979Z",
     "iopub.status.idle": "2023-06-14T11:03:07.826586Z",
     "shell.execute_reply": "2023-06-14T11:03:07.825355Z"
    },
    "papermill": {
     "duration": 15.991948,
     "end_time": "2023-06-14T11:03:07.829851",
     "exception": false,
     "start_time": "2023-06-14T11:02:51.837903",
     "status": "completed"
    },
    "tags": []
   },
   "outputs": [
    {
     "name": "stdout",
     "output_type": "stream",
     "text": [
      "Downloading data from https://storage.googleapis.com/tensorflow/tf-keras-datasets/train-labels-idx1-ubyte.gz\n",
      "29515/29515 [==============================] - 0s 0us/step\n",
      "Downloading data from https://storage.googleapis.com/tensorflow/tf-keras-datasets/train-images-idx3-ubyte.gz\n",
      "26421880/26421880 [==============================] - 0s 0us/step\n",
      "Downloading data from https://storage.googleapis.com/tensorflow/tf-keras-datasets/t10k-labels-idx1-ubyte.gz\n",
      "5148/5148 [==============================] - 0s 0us/step\n",
      "Downloading data from https://storage.googleapis.com/tensorflow/tf-keras-datasets/t10k-images-idx3-ubyte.gz\n",
      "4422102/4422102 [==============================] - 0s 0us/step\n"
     ]
    }
   ],
   "source": [
    "# Loading the fashion_mnist dataset.\n",
    "from tensorflow.keras.datasets import fashion_mnist\n",
    "from sklearn.model_selection import train_test_split\n",
    "(X_train, y_train), (X_test, y_test) = fashion_mnist.load_data()\n",
    "\n",
    "# Now, generating the validation set with `train_test_split`.\n",
    "X_train, X_val, y_train, y_val = train_test_split(X_train, y_train, test_size=.1, random_state=42)"
   ]
  },
  {
   "cell_type": "code",
   "execution_count": 2,
   "id": "ef2d3633",
   "metadata": {
    "execution": {
     "iopub.execute_input": "2023-06-14T11:03:07.847182Z",
     "iopub.status.busy": "2023-06-14T11:03:07.846490Z",
     "iopub.status.idle": "2023-06-14T11:03:12.824896Z",
     "shell.execute_reply": "2023-06-14T11:03:12.823787Z"
    },
    "papermill": {
     "duration": 4.989993,
     "end_time": "2023-06-14T11:03:12.827621",
     "exception": false,
     "start_time": "2023-06-14T11:03:07.837628",
     "status": "completed"
    },
    "tags": []
   },
   "outputs": [],
   "source": [
    "# Storing each one of the sets in a tf.data.Dataset object.\n",
    "# The classes store 1000 elements batches. The groups' data will be put into a .tfrecord file.\n",
    "from tensorflow.data import Dataset\n",
    "batch_size = 1000\n",
    "train = Dataset.from_tensor_slices((X_train, y_train)).shuffle(54000).batch(batch_size)\n",
    "val = Dataset.from_tensor_slices((X_val, y_val)).batch(batch_size)\n",
    "test = Dataset.from_tensor_slices((X_test, y_test)).batch(batch_size)"
   ]
  },
  {
   "cell_type": "code",
   "execution_count": 3,
   "id": "e5a96603",
   "metadata": {
    "execution": {
     "iopub.execute_input": "2023-06-14T11:03:12.845218Z",
     "iopub.status.busy": "2023-06-14T11:03:12.844836Z",
     "iopub.status.idle": "2023-06-14T11:03:12.852114Z",
     "shell.execute_reply": "2023-06-14T11:03:12.851094Z"
    },
    "papermill": {
     "duration": 0.019018,
     "end_time": "2023-06-14T11:03:12.854602",
     "exception": false,
     "start_time": "2023-06-14T11:03:12.835584",
     "status": "completed"
    },
    "tags": []
   },
   "outputs": [],
   "source": [
    "# We'll produce 1000 instances .tfrecord files. One corresponding to a bacth created.\n",
    "train_files = len(X_train) // batch_size\n",
    "val_files = len(X_val) // batch_size\n",
    "test_files = len(X_test) // batch_size"
   ]
  },
  {
   "cell_type": "markdown",
   "id": "fbfa339f",
   "metadata": {
    "papermill": {
     "duration": 0.007493,
     "end_time": "2023-06-14T11:03:12.869817",
     "exception": false,
     "start_time": "2023-06-14T11:03:12.862324",
     "status": "completed"
    },
    "tags": []
   },
   "source": [
    "<h2 style='font-size:30px'> .tfrecord's Production</h2>\n",
    "<div> \n",
    "    <ul style='font-size:20px'> \n",
    "        <li> \n",
    "            TensorFlow records demands data to be stored in protobuf format. We can do so by placing the serialized information in an `Example` class. \n",
    "        </li>\n",
    "    </ul>\n",
    "</div>"
   ]
  },
  {
   "cell_type": "code",
   "execution_count": 4,
   "id": "fbd1a168",
   "metadata": {
    "execution": {
     "iopub.execute_input": "2023-06-14T11:03:12.885943Z",
     "iopub.status.busy": "2023-06-14T11:03:12.885657Z",
     "iopub.status.idle": "2023-06-14T11:03:12.895967Z",
     "shell.execute_reply": "2023-06-14T11:03:12.895048Z"
    },
    "papermill": {
     "duration": 0.021251,
     "end_time": "2023-06-14T11:03:12.898400",
     "exception": false,
     "start_time": "2023-06-14T11:03:12.877149",
     "status": "completed"
    },
    "tags": []
   },
   "outputs": [],
   "source": [
    "from tensorflow import Tensor\n",
    "from tensorflow.train import BytesList, Example, Features, Feature, Int64List\n",
    "from tensorflow.io import serialize_tensor, TFRecordWriter\n",
    "\n",
    "def create_example(images:Tensor, targets:Tensor)->str:\n",
    "    '''\n",
    "        Generates a serialized `Example` object holding the pixel intensities and target values from a collection\n",
    "        of MNIST images.\n",
    "        \n",
    "        Parameters\n",
    "        ----------\n",
    "        `images`: A 3-D `tf.Tensor` with the digits pixels. \\n\n",
    "        `targets`: An 1-D `tf.Tensor` with the digits labels.\n",
    "        \n",
    "        Returns\n",
    "        -------\n",
    "        An `tf.train.Example` object storing both pixels and target values.\n",
    "    '''\n",
    "    # Serializing the input vectors.\n",
    "    serialized_images, serialized_targets = serialize_tensor(images), serialize_tensor(targets)\n",
    "    example = Example(\n",
    "        features=Features(\n",
    "            feature={\n",
    "            'pixels':Feature(bytes_list=BytesList(value=[serialized_images.numpy()])),\n",
    "            'target':Feature(bytes_list=BytesList(value=[serialized_targets.numpy()]))\n",
    "        }\n",
    "        ))\n",
    "    # Now, converting the `Example` object into a binary string.\n",
    "    return example.SerializeToString()"
   ]
  },
  {
   "cell_type": "code",
   "execution_count": 5,
   "id": "19e82dba",
   "metadata": {
    "execution": {
     "iopub.execute_input": "2023-06-14T11:03:12.914821Z",
     "iopub.status.busy": "2023-06-14T11:03:12.914535Z",
     "iopub.status.idle": "2023-06-14T11:03:13.924037Z",
     "shell.execute_reply": "2023-06-14T11:03:13.922301Z"
    },
    "papermill": {
     "duration": 1.021599,
     "end_time": "2023-06-14T11:03:13.927385",
     "exception": false,
     "start_time": "2023-06-14T11:03:12.905786",
     "status": "completed"
    },
    "tags": []
   },
   "outputs": [],
   "source": [
    "# It is convenient to place all data files in a separate directory.\n",
    "! mkdir mnist"
   ]
  },
  {
   "cell_type": "code",
   "execution_count": 6,
   "id": "dc8f1132",
   "metadata": {
    "execution": {
     "iopub.execute_input": "2023-06-14T11:03:13.944962Z",
     "iopub.status.busy": "2023-06-14T11:03:13.944605Z",
     "iopub.status.idle": "2023-06-14T11:03:14.488544Z",
     "shell.execute_reply": "2023-06-14T11:03:14.487233Z"
    },
    "papermill": {
     "duration": 0.556014,
     "end_time": "2023-06-14T11:03:14.491450",
     "exception": false,
     "start_time": "2023-06-14T11:03:13.935436",
     "status": "completed"
    },
    "tags": []
   },
   "outputs": [],
   "source": [
    "def create_files(dataset:Dataset, filename:str, directory:str='.')->None:\n",
    "    '''\n",
    "        Creates the .tfrecord's files based on the batches from a provided `dataset`.\n",
    "        \n",
    "        Parameters\n",
    "        ----------\n",
    "        `dataset`: A `tf.data.Dataset` object. \\n\n",
    "        `filename`: A custom name for file identification. \\n\n",
    "        `directory`: A string that indicates the directory where the files are put.\n",
    "    '''\n",
    "    for index, (images, labels) in dataset.enumerate():\n",
    "        file = TFRecordWriter(f'{directory}/{filename}_{index}.tfrecord')\n",
    "        serialized_data = create_example(images, labels)\n",
    "        file.write(serialized_data)\n",
    "\n",
    "# Generating the files.\n",
    "create_files(train, 'train', 'mnist')\n",
    "create_files(val, 'val', 'mnist')\n",
    "create_files(test, 'test', 'mnist')"
   ]
  },
  {
   "cell_type": "markdown",
   "id": "0ce9571f",
   "metadata": {
    "papermill": {
     "duration": 0.007208,
     "end_time": "2023-06-14T11:03:14.506412",
     "exception": false,
     "start_time": "2023-06-14T11:03:14.499204",
     "status": "completed"
    },
    "tags": []
   },
   "source": [
    "<h2 style='font-size:30px'> Data Treatment</h2>\n",
    "<div> \n",
    "    <ul style='font-size:20px'> \n",
    "        <li> \n",
    "            With the files generated, we can proceed and handle the data importing and its proper treatment.\n",
    "        </li>\n",
    "    </ul>\n",
    "</div>"
   ]
  },
  {
   "cell_type": "code",
   "execution_count": 7,
   "id": "3a4631d0",
   "metadata": {
    "execution": {
     "iopub.execute_input": "2023-06-14T11:03:14.524029Z",
     "iopub.status.busy": "2023-06-14T11:03:14.523327Z",
     "iopub.status.idle": "2023-06-14T11:03:14.589058Z",
     "shell.execute_reply": "2023-06-14T11:03:14.587576Z"
    },
    "papermill": {
     "duration": 0.07786,
     "end_time": "2023-06-14T11:03:14.591816",
     "exception": false,
     "start_time": "2023-06-14T11:03:14.513956",
     "status": "completed"
    },
    "tags": []
   },
   "outputs": [],
   "source": [
    "# Reading the data files separately.\n",
    "train_files = Dataset.list_files('mnist/train*')\n",
    "val_files = Dataset.list_files('mnist/val*')\n",
    "test_files = Dataset.list_files('mnist/test*')"
   ]
  },
  {
   "cell_type": "code",
   "execution_count": 8,
   "id": "882fbdfa",
   "metadata": {
    "execution": {
     "iopub.execute_input": "2023-06-14T11:03:14.608109Z",
     "iopub.status.busy": "2023-06-14T11:03:14.607783Z",
     "iopub.status.idle": "2023-06-14T11:03:14.618664Z",
     "shell.execute_reply": "2023-06-14T11:03:14.617575Z"
    },
    "papermill": {
     "duration": 0.021703,
     "end_time": "2023-06-14T11:03:14.620835",
     "exception": false,
     "start_time": "2023-06-14T11:03:14.599132",
     "status": "completed"
    },
    "tags": []
   },
   "outputs": [],
   "source": [
    "from tensorflow import string, uint8\n",
    "from tensorflow.data import AUTOTUNE, TFRecordDataset\n",
    "from tensorflow.io import FixedLenFeature, parse_example, parse_tensor\n",
    "from typing import Optional, Iterable, Tuple\n",
    "\n",
    "def preprocess(tfrecord:Tensor)->Tuple[Tensor, Tensor]:\n",
    "    '''\n",
    "    Reads an encoded protobuf and returns its Tensors in numerical format.\n",
    "    \n",
    "    Parameter\n",
    "    ---------\n",
    "    `tfrecord`: A `tf.Tensor` that stores encoded protobufs.\n",
    "    \n",
    "    Returns\n",
    "    -------\n",
    "    Two tensors in a tuple. One with the pixel intensities and another containing the target values.\n",
    "    '''\n",
    "    features = {\n",
    "    'pixels':FixedLenFeature([], string, default_value=''), \n",
    "    'target':FixedLenFeature([], string, default_value='-1')\n",
    "                }\n",
    "    example = parse_example(tfrecord, features) # Returns a dictionary with the serialized images and target values.\n",
    "    pixels, target = parse_tensor(example['pixels'], uint8), parse_tensor(example['target'], uint8)\n",
    "    return pixels, target\n",
    "\n",
    "def read_files(filenames:Iterable[str], shuffle_size:Optional[int]=None, num_threads_reading:int=AUTOTUNE, \n",
    "               num_threads_preprocess:int=AUTOTUNE)->Dataset:\n",
    "    '''\n",
    "        Reads the .tfrecord files specified and retrieves a `tf.data.Dataset` object with the processed data.\n",
    "        \n",
    "        Parameters\n",
    "        ----------\n",
    "        `filenames`: The names of the files.\n",
    "        `shuffle_size`: If specified, it shuffles the Dataset using a deck with the specified length.\n",
    "        `num_threads_reading`: The number of threads to use when reading the files.\n",
    "        `num_threads_preprocess`: The number of threads to use when preprocessing the dataset.\n",
    "        \n",
    "        Returns\n",
    "        -------\n",
    "        The treated dataset.\n",
    "    '''\n",
    "    dataset = TFRecordDataset(filenames, num_parallel_reads=num_threads_reading)\n",
    "    if shuffle_size:\n",
    "        dataset.shuffle(shuffle_size)\n",
    "    return dataset.map(preprocess, num_parallel_calls=num_threads_preprocess).prefetch(1)"
   ]
  },
  {
   "cell_type": "markdown",
   "id": "efe6935c",
   "metadata": {
    "papermill": {
     "duration": 0.00736,
     "end_time": "2023-06-14T11:03:14.635405",
     "exception": false,
     "start_time": "2023-06-14T11:03:14.628045",
     "status": "completed"
    },
    "tags": []
   },
   "source": [
    "<h2 style='font-size:30px'> Standardization Layer</h2>\n",
    "<div> \n",
    "    <ul style='font-size:20px'> \n",
    "        <li> \n",
    "            Here, we'll simply code a `tf.layers.Layer` object which fairly does a similar job of the Batch Normalization Layer. The main difference is that $\\mu$ and $\\sigma$ are computed in advance using the `adapt` function.\n",
    "        </li>\n",
    "    </ul>\n",
    "</div>"
   ]
  },
  {
   "cell_type": "code",
   "execution_count": 9,
   "id": "d989ff79",
   "metadata": {
    "execution": {
     "iopub.execute_input": "2023-06-14T11:03:14.651993Z",
     "iopub.status.busy": "2023-06-14T11:03:14.651711Z",
     "iopub.status.idle": "2023-06-14T11:03:14.666535Z",
     "shell.execute_reply": "2023-06-14T11:03:14.665606Z"
    },
    "papermill": {
     "duration": 0.02604,
     "end_time": "2023-06-14T11:03:14.669046",
     "exception": false,
     "start_time": "2023-06-14T11:03:14.643006",
     "status": "completed"
    },
    "tags": []
   },
   "outputs": [],
   "source": [
    "# The layer will inherit the properties of the experimental `PreprocessingLayer`.\n",
    "from tensorflow.keras.layers.experimental.preprocessing import PreprocessingLayer\n",
    "from tensorflow.keras.layers import Layer\n",
    "from tensorflow.math import reduce_mean, reduce_std\n",
    "from tensorflow.keras.backend import epsilon\n",
    "from typing import Union\n",
    "\n",
    "class Standardize(PreprocessingLayer):\n",
    "    '''\n",
    "    A `PreprocessingLayer` object that carries out the standardization of a given array accordingly to an \n",
    "    informed axis.\n",
    "    \n",
    "    The necessary stats are computed before training with the `adapt` method. This feature the  class' main \n",
    "    difference from the `BatchNormalization` layer, which computes means and standard deviations on the fly.\n",
    "    '''    \n",
    "    \n",
    "    def adapt(self, input_data:Union[Dataset, Tensor], axis=0)->None:\n",
    "        '''\n",
    "            Computes means and std's from a provided `tf.Tensor` or `tf.data.Dataset`.\n",
    "            \n",
    "            Paramater\n",
    "            ---------\n",
    "            `input_data`: The array from which the stats are computed.\n",
    "            `axis`: The axis of choice to compute the stats.\n",
    "        '''\n",
    "        self.means = reduce_mean(input_data, axis=axis, keepdims=True)\n",
    "        self.stds = reduce_std(input_data, axis=axis, keepdims=True)\n",
    "        return self\n",
    "        \n",
    "    def call(self, input_data:Union[Dataset, Tensor])->Union[Dataset, Tensor]:\n",
    "        '''\n",
    "        The method that standardizes the array.\n",
    "        \n",
    "        Parameter\n",
    "        --------\n",
    "        `input_data`: The array in which we perform the standardization.\n",
    "        \n",
    "        Returns\n",
    "        -------\n",
    "        The standardized array.\n",
    "        '''\n",
    "        return (input_data - self.means) / (self.stds + epsilon())\n",
    "    \n",
    "    def get_config(self):\n",
    "        '''\n",
    "            Returns the Layer's configurations. It is needed for saving a class' instance for future uses.\n",
    "        '''\n",
    "        base_config = super().get_config() # Rendering the `Preprocessing` layer `get_config` output.\n",
    "        return {**base_config, 'means':self.means.numpy(), 'stds':self.stds.numpy()}\n",
    "    "
   ]
  },
  {
   "cell_type": "markdown",
   "id": "15dbfbb5",
   "metadata": {
    "papermill": {
     "duration": 0.00778,
     "end_time": "2023-06-14T11:03:14.684687",
     "exception": false,
     "start_time": "2023-06-14T11:03:14.676907",
     "status": "completed"
    },
    "tags": []
   },
   "source": [
    "<h2 style='font-size:30px'> Neural Net Modeling</h2>\n",
    "<div> \n",
    "    <ul style='font-size:20px'> \n",
    "        <li> \n",
    "            With all the preprocessing stages programmed, we are free to model our Neural Network.\n",
    "        </li>\n",
    "    </ul>\n",
    "</div>"
   ]
  },
  {
   "cell_type": "code",
   "execution_count": 10,
   "id": "524b0023",
   "metadata": {
    "execution": {
     "iopub.execute_input": "2023-06-14T11:03:14.702072Z",
     "iopub.status.busy": "2023-06-14T11:03:14.701747Z",
     "iopub.status.idle": "2023-06-14T11:03:14.878767Z",
     "shell.execute_reply": "2023-06-14T11:03:14.877733Z"
    },
    "papermill": {
     "duration": 0.188739,
     "end_time": "2023-06-14T11:03:14.881600",
     "exception": false,
     "start_time": "2023-06-14T11:03:14.692861",
     "status": "completed"
    },
    "tags": []
   },
   "outputs": [],
   "source": [
    "# Reading all the .tfrecords created.\n",
    "train_set = read_files(train_files, shuffle_size=100)\n",
    "val_set = read_files(val_files)\n",
    "test_set = read_files(test_files)"
   ]
  },
  {
   "cell_type": "code",
   "execution_count": 11,
   "id": "4f6be7cc",
   "metadata": {
    "execution": {
     "iopub.execute_input": "2023-06-14T11:03:14.898178Z",
     "iopub.status.busy": "2023-06-14T11:03:14.897833Z",
     "iopub.status.idle": "2023-06-14T11:03:15.113214Z",
     "shell.execute_reply": "2023-06-14T11:03:15.112119Z"
    },
    "papermill": {
     "duration": 0.227055,
     "end_time": "2023-06-14T11:03:15.116331",
     "exception": false,
     "start_time": "2023-06-14T11:03:14.889276",
     "status": "completed"
    },
    "tags": []
   },
   "outputs": [],
   "source": [
    "# But before actually fitting the NN, we need to adapt our `Standardize` layer with the training data.\n",
    "from tensorflow import concat, cast, float32\n",
    "train_pixels = list(train_set.map(lambda pixels, target: pixels).take(-1)) # Getting all the training images.\n",
    "train_pixels = cast(concat(train_pixels, axis=0), dtype=float32) # Concatenating the batches so that we end up\n",
    "                                                                # with a single 3-D matrix.\n",
    "\n",
    "# Now, instantiating the `Standardize` class and adapting it to the `train_pixels` data.\n",
    "standardize = Standardize(input_shape=train_pixels.shape[1:]).adapt(train_pixels, axis=0)"
   ]
  },
  {
   "cell_type": "code",
   "execution_count": 12,
   "id": "14ab661e",
   "metadata": {
    "execution": {
     "iopub.execute_input": "2023-06-14T11:03:15.133685Z",
     "iopub.status.busy": "2023-06-14T11:03:15.133358Z",
     "iopub.status.idle": "2023-06-14T11:03:15.168684Z",
     "shell.execute_reply": "2023-06-14T11:03:15.167583Z"
    },
    "papermill": {
     "duration": 0.047314,
     "end_time": "2023-06-14T11:03:15.171335",
     "exception": false,
     "start_time": "2023-06-14T11:03:15.124021",
     "status": "completed"
    },
    "tags": []
   },
   "outputs": [],
   "source": [
    "# Finally, making our FCNN.\n",
    "from tensorflow.keras.models import Sequential\n",
    "from tensorflow.keras.layers import Dense, Dropout, Flatten, Input\n",
    "from tensorflow.keras.activations import elu, softmax\n",
    "from tensorflow.keras.initializers import GlorotNormal, HeNormal\n",
    "from tensorflow.keras.optimizers import SGD, Optimizer\n",
    "from tensorflow.keras.losses import SparseCategoricalCrossentropy, Loss\n",
    "from tensorflow.keras.metrics import Accuracy, Metric\n",
    "from typing import Callable\n",
    "\n",
    "# Here we define some of the model's settings.\n",
    "optimizer = SGD(momentum=.9, nesterov=True)\n",
    "loss = SparseCategoricalCrossentropy()\n",
    "metrics = [Accuracy()]\n",
    "\n",
    "def _check_length(neurons:Iterable, activations:Iterable)->bool:\n",
    "    '''\n",
    "        Checks whether both provided arrays have equal lengths.\n",
    "        \n",
    "        Parameters\n",
    "        ----------\n",
    "        `neurons`: First Array\n",
    "        `activations`: Second array\n",
    "        \n",
    "        Returns\n",
    "        -------\n",
    "        A boolean indicating the existance of such condition.\n",
    "    '''\n",
    "    if len(neurons) != len(activations):\n",
    "        raise  AttributeError('The `neurons` array must have the same length as `activations`')\n",
    "    return True\n",
    "\n",
    "def my_fcnn(neurons:Iterable[int], activations:Union[Iterable[Callable[[float], float]], Callable[[float], float]],dropout_ratio:float=None,  \n",
    "            input_shape:list=[28,28], **kwargs)->Sequential:\n",
    "    '''\n",
    "        Generates the Fully-Connected Neural Network for the project.\n",
    "        \n",
    "        Parameters\n",
    "        ----------\n",
    "        `neurons`: An iterable object that indicates the amount of neurons each hidden layer needs to own. Its length will suggest the amount of such layers the model will have.\n",
    "        \n",
    "        `activations`: The activation functions for each hidden layer. If the user wishes to use a single function to be applied in all layers, they\n",
    "                       can only inform just one callable object. Otherwise, it will be demanded an iterable object containing all the functions. \n",
    "                       Note that in such case, the structure needs to have the same length as `neurons`.\n",
    "        \n",
    "        `dropout_ratio`: The amount of dropout to be applied in every hidden layer. If 'None' - default value -, no dropout is used. \n",
    "        \n",
    "        `input_shape`: The original images' shape. Do not provide the batch size in the iterable.\n",
    "        \n",
    "        **kwargs: Any further keyword argument will be used in the `compile` method.\n",
    "        \n",
    "        Returns\n",
    "        -------\n",
    "        A Sequential object built accordingly to the user's preferences. If no **kwargs is provided, the model will have to be manually compiled.\n",
    "        \n",
    "    '''\n",
    "    # If the user informed a function for `activations`, a list of such callable of the same length as `hidden_layers`\n",
    "    # is created.\n",
    "    if isinstance(activations, Callable):\n",
    "        activations = [activations] * len(neurons)    \n",
    "    \n",
    "    # `check_length` is of use when 'activations' is given as an array by the user.\n",
    "    _check_length(neurons, activations)\n",
    "    \n",
    "    # Creating the model's basic structure.\n",
    "    model = Sequential([\n",
    "        Input(shape=input_shape),\n",
    "        standardize, \n",
    "        Flatten(), # The inputs are flattened after the standardization.\n",
    "    ])\n",
    "    \n",
    "    for units, activation in zip(neurons, activations):\n",
    "        model.add(Dense(units, activation=activation, kernel_initializer=HeNormal()))\n",
    "        # Adding Dropout if it is the user's wish.\n",
    "        if dropout_ratio:\n",
    "            model.add(Dropout(dropout_ratio))\n",
    "            \n",
    "    # In the end, applying the output layer.\n",
    "    model.add(Dense(units=10, activation=softmax , kernel_initializer=GlorotNormal()))\n",
    "    \n",
    "    # Compiling the model.\n",
    "    if kwargs:\n",
    "        model.compile(**kwargs)\n",
    "    return model"
   ]
  },
  {
   "cell_type": "code",
   "execution_count": 13,
   "id": "60379b01",
   "metadata": {
    "execution": {
     "iopub.execute_input": "2023-06-14T11:03:15.187513Z",
     "iopub.status.busy": "2023-06-14T11:03:15.187002Z",
     "iopub.status.idle": "2023-06-14T11:04:31.088925Z",
     "shell.execute_reply": "2023-06-14T11:04:31.087572Z"
    },
    "papermill": {
     "duration": 75.913602,
     "end_time": "2023-06-14T11:04:31.092316",
     "exception": false,
     "start_time": "2023-06-14T11:03:15.178714",
     "status": "completed"
    },
    "tags": []
   },
   "outputs": [
    {
     "name": "stdout",
     "output_type": "stream",
     "text": [
      "Epoch 1/100\n",
      "54/54 [==============================] - 14s 67ms/step - loss: 3.3367 - val_loss: 0.7414\n",
      "Epoch 2/100\n",
      "54/54 [==============================] - 1s 18ms/step - loss: 0.9936 - val_loss: 0.6208\n",
      "Epoch 3/100\n",
      "54/54 [==============================] - 1s 19ms/step - loss: 0.8654 - val_loss: 0.5570\n",
      "Epoch 4/100\n",
      "54/54 [==============================] - 1s 18ms/step - loss: 0.8062 - val_loss: 0.5560\n",
      "Epoch 5/100\n",
      "54/54 [==============================] - 1s 18ms/step - loss: 0.7683 - val_loss: 0.5369\n",
      "Epoch 6/100\n",
      "54/54 [==============================] - 1s 18ms/step - loss: 0.7355 - val_loss: 0.5163\n",
      "Epoch 7/100\n",
      "54/54 [==============================] - 1s 17ms/step - loss: 0.7133 - val_loss: 0.5088\n",
      "Epoch 8/100\n",
      "54/54 [==============================] - 1s 18ms/step - loss: 0.6887 - val_loss: 0.4893\n",
      "Epoch 9/100\n",
      "54/54 [==============================] - 1s 18ms/step - loss: 0.6703 - val_loss: 0.4878\n",
      "Epoch 10/100\n",
      "54/54 [==============================] - 1s 19ms/step - loss: 0.6545 - val_loss: 0.4667\n",
      "Epoch 11/100\n",
      "54/54 [==============================] - 1s 18ms/step - loss: 0.6412 - val_loss: 0.4608\n",
      "Epoch 12/100\n",
      "54/54 [==============================] - 1s 18ms/step - loss: 0.6291 - val_loss: 0.4668\n",
      "Epoch 13/100\n",
      "54/54 [==============================] - 1s 23ms/step - loss: 0.6199 - val_loss: 0.4501\n",
      "Epoch 14/100\n",
      "54/54 [==============================] - 1s 18ms/step - loss: 0.6120 - val_loss: 0.4547\n",
      "Epoch 15/100\n",
      "54/54 [==============================] - 1s 18ms/step - loss: 0.6011 - val_loss: 0.4416\n",
      "Epoch 16/100\n",
      "54/54 [==============================] - 1s 18ms/step - loss: 0.5943 - val_loss: 0.4407\n",
      "Epoch 17/100\n",
      "54/54 [==============================] - 1s 17ms/step - loss: 0.5835 - val_loss: 0.4436\n",
      "Epoch 18/100\n",
      "54/54 [==============================] - 1s 18ms/step - loss: 0.5835 - val_loss: 0.4380\n",
      "Epoch 19/100\n",
      "54/54 [==============================] - 1s 19ms/step - loss: 0.5714 - val_loss: 0.4361\n",
      "Epoch 20/100\n",
      "54/54 [==============================] - 1s 18ms/step - loss: 0.5693 - val_loss: 0.4404\n",
      "Epoch 21/100\n",
      "54/54 [==============================] - 1s 18ms/step - loss: 0.5601 - val_loss: 0.4350\n",
      "Epoch 22/100\n",
      "54/54 [==============================] - 1s 17ms/step - loss: 0.5532 - val_loss: 0.4277\n",
      "Epoch 23/100\n",
      "54/54 [==============================] - 1s 17ms/step - loss: 0.5503 - val_loss: 0.4237\n",
      "Epoch 24/100\n",
      "54/54 [==============================] - 1s 18ms/step - loss: 0.5423 - val_loss: 0.4237\n",
      "Epoch 25/100\n",
      "54/54 [==============================] - 1s 19ms/step - loss: 0.5403 - val_loss: 0.4244\n",
      "Epoch 26/100\n",
      "54/54 [==============================] - 1s 18ms/step - loss: 0.5395 - val_loss: 0.4187\n",
      "Epoch 27/100\n",
      "54/54 [==============================] - 1s 22ms/step - loss: 0.5354 - val_loss: 0.4209\n",
      "Epoch 28/100\n",
      "54/54 [==============================] - 1s 18ms/step - loss: 0.5317 - val_loss: 0.4187\n",
      "Epoch 29/100\n",
      "54/54 [==============================] - 1s 18ms/step - loss: 0.5265 - val_loss: 0.4141\n",
      "Epoch 30/100\n",
      "54/54 [==============================] - 1s 18ms/step - loss: 0.5270 - val_loss: 0.4122\n",
      "Epoch 31/100\n",
      "54/54 [==============================] - 1s 18ms/step - loss: 0.5241 - val_loss: 0.4113\n",
      "Epoch 32/100\n",
      "54/54 [==============================] - 1s 18ms/step - loss: 0.5162 - val_loss: 0.4110\n",
      "Epoch 33/100\n",
      "54/54 [==============================] - 1s 18ms/step - loss: 0.5175 - val_loss: 0.4148\n",
      "Epoch 34/100\n",
      "54/54 [==============================] - 1s 18ms/step - loss: 0.5113 - val_loss: 0.4090\n",
      "Epoch 35/100\n",
      "54/54 [==============================] - 1s 19ms/step - loss: 0.5074 - val_loss: 0.4050\n",
      "Epoch 36/100\n",
      "54/54 [==============================] - 1s 17ms/step - loss: 0.5026 - val_loss: 0.4059\n",
      "Epoch 37/100\n",
      "54/54 [==============================] - 1s 18ms/step - loss: 0.5000 - val_loss: 0.4042\n",
      "Epoch 38/100\n",
      "54/54 [==============================] - 1s 18ms/step - loss: 0.5010 - val_loss: 0.4010\n",
      "Epoch 39/100\n",
      "54/54 [==============================] - 1s 18ms/step - loss: 0.4977 - val_loss: 0.4045\n",
      "Epoch 40/100\n",
      "54/54 [==============================] - 1s 18ms/step - loss: 0.4927 - val_loss: 0.4016\n",
      "Epoch 41/100\n",
      "54/54 [==============================] - 1s 18ms/step - loss: 0.4904 - val_loss: 0.4024\n",
      "Epoch 42/100\n",
      "54/54 [==============================] - 1s 18ms/step - loss: 0.4869 - val_loss: 0.4014\n",
      "Epoch 43/100\n",
      "54/54 [==============================] - 1s 18ms/step - loss: 0.4919 - val_loss: 0.4019\n",
      "Epoch 44/100\n",
      "54/54 [==============================] - 1s 20ms/step - loss: 0.4846 - val_loss: 0.4002\n",
      "Epoch 45/100\n",
      "54/54 [==============================] - 1s 18ms/step - loss: 0.4807 - val_loss: 0.3968\n",
      "Epoch 46/100\n",
      "54/54 [==============================] - 1s 18ms/step - loss: 0.4793 - val_loss: 0.4018\n",
      "Epoch 47/100\n",
      "54/54 [==============================] - 1s 17ms/step - loss: 0.4782 - val_loss: 0.3980\n",
      "Epoch 48/100\n",
      "54/54 [==============================] - 1s 17ms/step - loss: 0.4767 - val_loss: 0.3932\n",
      "Epoch 49/100\n",
      "54/54 [==============================] - 1s 18ms/step - loss: 0.4777 - val_loss: 0.3936\n",
      "Epoch 50/100\n",
      "54/54 [==============================] - 1s 18ms/step - loss: 0.4742 - val_loss: 0.3938\n",
      "Epoch 51/100\n",
      "54/54 [==============================] - 1s 17ms/step - loss: 0.4718 - val_loss: 0.3926\n",
      "Epoch 52/100\n",
      "54/54 [==============================] - 1s 18ms/step - loss: 0.4731 - val_loss: 0.3902\n",
      "Epoch 53/100\n",
      "54/54 [==============================] - 1s 19ms/step - loss: 0.4638 - val_loss: 0.3939\n",
      "Epoch 54/100\n",
      "54/54 [==============================] - 1s 22ms/step - loss: 0.4638 - val_loss: 0.3853\n"
     ]
    }
   ],
   "source": [
    "# Compiling and fitting the model.\n",
    "from numpy.random import randint, seed\n",
    "from tensorflow.keras.optimizers import SGD\n",
    "from tensorflow.keras.losses import SparseCategoricalCrossentropy\n",
    "from tensorflow.keras.callbacks import EarlyStopping\n",
    "from tensorflow.config import list_logical_devices\n",
    "import tensorflow.distribute as tf_dist\n",
    "\n",
    "seed(42) \n",
    "\n",
    "# Running the fitting in our available GPU's.\n",
    "gpus = list_logical_devices('GPU')\n",
    "strategy = tf_dist.MirroredStrategy(gpus)\n",
    "\n",
    "# Informing TensorFlow to run the training in the GPU's.\n",
    "with strategy.scope():\n",
    "    # Setting the compilation configs.\n",
    "    optimizer = SGD(momentum=.9, nesterov=True)\n",
    "    loss = SparseCategoricalCrossentropy()\n",
    "    callbacks = [EarlyStopping(min_delta=.025, patience=20, restore_best_weights=True)]\n",
    "    neurons = randint(200, 400, 5)\n",
    "    \n",
    "    # Creating the model and fitting it.\n",
    "    fcnn = my_fcnn(neurons, elu, .5, optimizer=optimizer, loss=loss)\n",
    "    fcnn.fit(x=train_set, epochs=100, callbacks=callbacks, validation_data=val_set)"
   ]
  },
  {
   "cell_type": "code",
   "execution_count": 14,
   "id": "29b4136b",
   "metadata": {
    "execution": {
     "iopub.execute_input": "2023-06-14T11:04:31.300856Z",
     "iopub.status.busy": "2023-06-14T11:04:31.300411Z",
     "iopub.status.idle": "2023-06-14T11:04:31.310719Z",
     "shell.execute_reply": "2023-06-14T11:04:31.309694Z"
    },
    "papermill": {
     "duration": 0.115808,
     "end_time": "2023-06-14T11:04:31.313667",
     "exception": false,
     "start_time": "2023-06-14T11:04:31.197859",
     "status": "completed"
    },
    "tags": []
   },
   "outputs": [],
   "source": [
    "# We'll be designing here a LetNet-5 NN. Thus, we'll need some extra components.\n",
    "\n",
    "# The images that feed the Input Layer of such model have 32x32 shape. Since the MNIST digits are 28x28 it is\n",
    "# necessary to add zero-padding to each matrix.\n",
    "from tensorflow.keras.layers import Reshape, ZeroPadding2D\n",
    "\n",
    "# `ZeroPadding2d` demands the inputs to own a dimension for the amount of channels. That's why we are invoking the\n",
    "# `Reshape` layer as well.\n",
    "target_shape = train_pixels.shape[1:]+[1]\n",
    "reshape = Reshape(target_shape=target_shape)\n",
    "\n",
    "# Instantiating the `ZeroPadding2D` layer.\n",
    "zero_padding_2d = ZeroPadding2D(padding=2)"
   ]
  },
  {
   "cell_type": "code",
   "execution_count": 15,
   "id": "c0311502",
   "metadata": {
    "execution": {
     "iopub.execute_input": "2023-06-14T11:04:31.497422Z",
     "iopub.status.busy": "2023-06-14T11:04:31.496845Z",
     "iopub.status.idle": "2023-06-14T11:04:32.458744Z",
     "shell.execute_reply": "2023-06-14T11:04:32.457657Z"
    },
    "papermill": {
     "duration": 1.05865,
     "end_time": "2023-06-14T11:04:32.461620",
     "exception": false,
     "start_time": "2023-06-14T11:04:31.402970",
     "status": "completed"
    },
    "tags": []
   },
   "outputs": [],
   "source": [
    "from tensorflow.keras.layers import Conv2D, MaxPool2D\n",
    "\n",
    "lenet5 = Sequential([\n",
    "    Input(shape=[28,28]),\n",
    "    reshape,\n",
    "    zero_padding_2d\n",
    "    \n",
    "])\n"
   ]
  },
  {
   "cell_type": "markdown",
   "id": "79f8ee88",
   "metadata": {
    "papermill": {
     "duration": 0.062494,
     "end_time": "2023-06-14T11:04:32.587162",
     "exception": false,
     "start_time": "2023-06-14T11:04:32.524668",
     "status": "completed"
    },
    "tags": []
   },
   "source": [
    "<p style='color:red'>  treinar Lenet5 (usar GPU!)"
   ]
  },
  {
   "cell_type": "markdown",
   "id": "ed97bdf4",
   "metadata": {
    "papermill": {
     "duration": 0.063056,
     "end_time": "2023-06-14T11:04:32.714885",
     "exception": false,
     "start_time": "2023-06-14T11:04:32.651829",
     "status": "completed"
    },
    "tags": []
   },
   "source": [
    "<h2 style='font-size:30px'> </h2>"
   ]
  }
 ],
 "metadata": {
  "kernelspec": {
   "display_name": "Python 3",
   "language": "python",
   "name": "python3"
  },
  "language_info": {
   "codemirror_mode": {
    "name": "ipython",
    "version": 3
   },
   "file_extension": ".py",
   "mimetype": "text/x-python",
   "name": "python",
   "nbconvert_exporter": "python",
   "pygments_lexer": "ipython3",
   "version": "3.7.12"
  },
  "papermill": {
   "default_parameters": {},
   "duration": 119.053699,
   "end_time": "2023-06-14T11:04:36.643025",
   "environment_variables": {},
   "exception": null,
   "input_path": "__notebook__.ipynb",
   "output_path": "__notebook__.ipynb",
   "parameters": {},
   "start_time": "2023-06-14T11:02:37.589326",
   "version": "2.4.0"
  }
 },
 "nbformat": 4,
 "nbformat_minor": 5
}
