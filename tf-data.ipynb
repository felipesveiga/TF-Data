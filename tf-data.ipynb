{
 "cells": [
  {
   "cell_type": "markdown",
   "id": "b385972a",
   "metadata": {
    "papermill": {
     "duration": 0.007347,
     "end_time": "2023-05-29T16:32:48.418773",
     "exception": false,
     "start_time": "2023-05-29T16:32:48.411426",
     "status": "completed"
    },
    "tags": []
   },
   "source": [
    "<h1 style='font-size:40px'> tf.data Pipeline</h1>\n",
    "<div> \n",
    "    <ul style='font-size:20px'> \n",
    "        <li> \n",
    "            In this notebook I'll practice my skills with the tf.data module solving Exercise 9 from Hands-On Machine Learning with Scikit-Learn and TensorFlow's Chapter 13.\n",
    "        </li>\n",
    "        <li> \n",
    "            The Exercise commands us the following:\n",
    "            <p style='font-style:italic;margin-top:10px'> \n",
    "                Load the Fashion MNIST dataset (introduced in Chapter 10); split\n",
    "it into a training set, a validation set, and a test set; shuffle the\n",
    "training set; and save each dataset to multiple TFRecord files.\n",
    "Each record should be a serialized Example protobuf with two\n",
    "features: the serialized image (use tf.io.serialize_tensor()\n",
    "to serialize each image), and the label. 11 Then use tf.data to create\n",
    "an efficient dataset for each set. Finally, use a Keras model to\n",
    "train these datasets, including a preprocessing layer to standardize\n",
    "each input feature. Try to make the input pipeline as efficient as\n",
    "possible, using TensorBoard to visualize profiling data.\n",
    "            </p>\n",
    "        </li>\n",
    "    </ul>\n",
    "</div>"
   ]
  },
  {
   "cell_type": "markdown",
   "id": "c15784fe",
   "metadata": {
    "papermill": {
     "duration": 0.005323,
     "end_time": "2023-05-29T16:32:48.430078",
     "exception": false,
     "start_time": "2023-05-29T16:32:48.424755",
     "status": "completed"
    },
    "tags": []
   },
   "source": [
    "<h2 style='font-size:30px'> Data Importing & Splitting</h2>"
   ]
  },
  {
   "cell_type": "code",
   "execution_count": 1,
   "id": "9a7dcf2d",
   "metadata": {
    "execution": {
     "iopub.execute_input": "2023-05-29T16:32:48.443748Z",
     "iopub.status.busy": "2023-05-29T16:32:48.443131Z",
     "iopub.status.idle": "2023-05-29T16:33:02.272405Z",
     "shell.execute_reply": "2023-05-29T16:33:02.271222Z"
    },
    "papermill": {
     "duration": 13.839648,
     "end_time": "2023-05-29T16:33:02.275483",
     "exception": false,
     "start_time": "2023-05-29T16:32:48.435835",
     "status": "completed"
    },
    "tags": []
   },
   "outputs": [
    {
     "name": "stdout",
     "output_type": "stream",
     "text": [
      "Downloading data from https://storage.googleapis.com/tensorflow/tf-keras-datasets/train-labels-idx1-ubyte.gz\n",
      "29515/29515 [==============================] - 0s 0us/step\n",
      "Downloading data from https://storage.googleapis.com/tensorflow/tf-keras-datasets/train-images-idx3-ubyte.gz\n",
      "26421880/26421880 [==============================] - 1s 0us/step\n",
      "Downloading data from https://storage.googleapis.com/tensorflow/tf-keras-datasets/t10k-labels-idx1-ubyte.gz\n",
      "5148/5148 [==============================] - 0s 0us/step\n",
      "Downloading data from https://storage.googleapis.com/tensorflow/tf-keras-datasets/t10k-images-idx3-ubyte.gz\n",
      "4422102/4422102 [==============================] - 1s 0us/step\n"
     ]
    }
   ],
   "source": [
    "# Loading the fashion_mnist dataset.\n",
    "from tensorflow.keras.datasets import fashion_mnist\n",
    "from sklearn.model_selection import train_test_split\n",
    "(X_train, y_train), (X_test, y_test) = fashion_mnist.load_data()\n",
    "\n",
    "# Now, generating the validation set with `train_test_split`.\n",
    "X_train, X_val, y_train, y_val = train_test_split(X_train, y_train, test_size=.1, random_state=42)"
   ]
  },
  {
   "cell_type": "code",
   "execution_count": 2,
   "id": "40693c1d",
   "metadata": {
    "execution": {
     "iopub.execute_input": "2023-05-29T16:33:02.295056Z",
     "iopub.status.busy": "2023-05-29T16:33:02.293129Z",
     "iopub.status.idle": "2023-05-29T16:33:02.480002Z",
     "shell.execute_reply": "2023-05-29T16:33:02.478371Z"
    },
    "papermill": {
     "duration": 0.19944,
     "end_time": "2023-05-29T16:33:02.483016",
     "exception": false,
     "start_time": "2023-05-29T16:33:02.283576",
     "status": "completed"
    },
    "tags": []
   },
   "outputs": [],
   "source": [
    "# Storing each one of the sets in a tf.data.Dataset object.\n",
    "# The classes store 1000 elements batches. The groups' data will be put into a .tfrecord file.\n",
    "from tensorflow.data import Dataset\n",
    "batch_size = 1000\n",
    "train = Dataset.from_tensor_slices((X_train, y_train)).shuffle(54000).batch(batch_size)\n",
    "val = Dataset.from_tensor_slices((X_val, y_val)).batch(batch_size)\n",
    "test = Dataset.from_tensor_slices((X_test, y_test)).batch(batch_size)"
   ]
  },
  {
   "cell_type": "code",
   "execution_count": 3,
   "id": "f73578c0",
   "metadata": {
    "execution": {
     "iopub.execute_input": "2023-05-29T16:33:02.501096Z",
     "iopub.status.busy": "2023-05-29T16:33:02.500622Z",
     "iopub.status.idle": "2023-05-29T16:33:02.506071Z",
     "shell.execute_reply": "2023-05-29T16:33:02.505085Z"
    },
    "papermill": {
     "duration": 0.017546,
     "end_time": "2023-05-29T16:33:02.508561",
     "exception": false,
     "start_time": "2023-05-29T16:33:02.491015",
     "status": "completed"
    },
    "tags": []
   },
   "outputs": [],
   "source": [
    "# We'll produce 1000 instances .tfrecord files. One corresponding to a bacth created.\n",
    "train_files = len(X_train) // batch_size\n",
    "val_files = len(X_val) // batch_size\n",
    "test_files = len(X_test) // batch_size"
   ]
  },
  {
   "cell_type": "markdown",
   "id": "7a5cefba",
   "metadata": {
    "papermill": {
     "duration": 0.007626,
     "end_time": "2023-05-29T16:33:02.524589",
     "exception": false,
     "start_time": "2023-05-29T16:33:02.516963",
     "status": "completed"
    },
    "tags": []
   },
   "source": [
    "<h2 style='font-size:30px'> .tfrecord's Production</h2>\n",
    "<div> \n",
    "    <ul style='font-size:20px'> \n",
    "        <li> \n",
    "            TensorFlow records demands data to be stored in protobuf format. We can do so by placing the serialized information in an `Example` class. \n",
    "        </li>\n",
    "    </ul>\n",
    "</div>"
   ]
  },
  {
   "cell_type": "code",
   "execution_count": 4,
   "id": "10269498",
   "metadata": {
    "execution": {
     "iopub.execute_input": "2023-05-29T16:33:02.543907Z",
     "iopub.status.busy": "2023-05-29T16:33:02.543391Z",
     "iopub.status.idle": "2023-05-29T16:33:02.554994Z",
     "shell.execute_reply": "2023-05-29T16:33:02.553654Z"
    },
    "papermill": {
     "duration": 0.024648,
     "end_time": "2023-05-29T16:33:02.557776",
     "exception": false,
     "start_time": "2023-05-29T16:33:02.533128",
     "status": "completed"
    },
    "tags": []
   },
   "outputs": [],
   "source": [
    "from tensorflow import Tensor\n",
    "from tensorflow.train import BytesList, Example, Features, Feature, Int64List\n",
    "from tensorflow.io import serialize_tensor, TFRecordWriter\n",
    "\n",
    "def create_example(images:Tensor, targets:Tensor)->str:\n",
    "    '''\n",
    "        Generates a serialized `Example` object holding the pixel intensities and target values from a collection\n",
    "        of MNIST images.\n",
    "        \n",
    "        Parameters\n",
    "        ----------\n",
    "        `images`: A 3-D `tf.Tensor` with the digits pixels. \\n\n",
    "        `targets`: An 1-D `tf.Tensor` with the digits labels.\n",
    "        \n",
    "        Returns\n",
    "        -------\n",
    "        An `tf.train.Example` object storing both pixels and target values.\n",
    "    '''\n",
    "    # Serializing the input vectors.\n",
    "    serialized_images, serialized_targets = serialize_tensor(images), serialize_tensor(targets)\n",
    "    example = Example(\n",
    "        features=Features(\n",
    "            feature={\n",
    "            'pixels':Feature(bytes_list=BytesList(value=[serialized_images.numpy()])),\n",
    "            'target':Feature(bytes_list=BytesList(value=[serialized_targets.numpy()]))\n",
    "        }\n",
    "        ))\n",
    "    # Now, converting the `Example` object into a binary string.\n",
    "    return example.SerializeToString()"
   ]
  },
  {
   "cell_type": "code",
   "execution_count": 5,
   "id": "0c2a6e1f",
   "metadata": {
    "execution": {
     "iopub.execute_input": "2023-05-29T16:33:02.576443Z",
     "iopub.status.busy": "2023-05-29T16:33:02.575945Z",
     "iopub.status.idle": "2023-05-29T16:33:03.610861Z",
     "shell.execute_reply": "2023-05-29T16:33:03.609320Z"
    },
    "papermill": {
     "duration": 1.048105,
     "end_time": "2023-05-29T16:33:03.613855",
     "exception": false,
     "start_time": "2023-05-29T16:33:02.565750",
     "status": "completed"
    },
    "tags": []
   },
   "outputs": [],
   "source": [
    "# It is convenient to place all data files in a separate directory.\n",
    "! mkdir mnist"
   ]
  },
  {
   "cell_type": "code",
   "execution_count": 6,
   "id": "94398d0f",
   "metadata": {
    "execution": {
     "iopub.execute_input": "2023-05-29T16:33:03.632222Z",
     "iopub.status.busy": "2023-05-29T16:33:03.631731Z",
     "iopub.status.idle": "2023-05-29T16:33:04.313571Z",
     "shell.execute_reply": "2023-05-29T16:33:04.312085Z"
    },
    "papermill": {
     "duration": 0.695257,
     "end_time": "2023-05-29T16:33:04.316988",
     "exception": false,
     "start_time": "2023-05-29T16:33:03.621731",
     "status": "completed"
    },
    "tags": []
   },
   "outputs": [],
   "source": [
    "def create_files(dataset:Dataset, filename:str, directory:str='.')->None:\n",
    "    '''\n",
    "        Creates the .tfrecord's files based on the batches from a provided `dataset`.\n",
    "        \n",
    "        Parameters\n",
    "        ----------\n",
    "        `dataset`: A `tf.data.Dataset` object. \\n\n",
    "        `filename`: A custom name for file identification. \\n\n",
    "        `directory`: A string that indicates the directory where the files are put.\n",
    "    '''\n",
    "    for index, (images, labels) in dataset.enumerate():\n",
    "        file = TFRecordWriter(f'{directory}/{filename}_{index}.tfrecord')\n",
    "        serialized_data = create_example(images, labels)\n",
    "        file.write(serialized_data)\n",
    "\n",
    "# Generating the files.\n",
    "create_files(train, 'train', 'mnist')\n",
    "create_files(val, 'val', 'mnist')\n",
    "create_files(test, 'test', 'mnist')"
   ]
  },
  {
   "cell_type": "markdown",
   "id": "083ffa69",
   "metadata": {
    "papermill": {
     "duration": 0.007629,
     "end_time": "2023-05-29T16:33:04.332903",
     "exception": false,
     "start_time": "2023-05-29T16:33:04.325274",
     "status": "completed"
    },
    "tags": []
   },
   "source": [
    "<h2 style='font-size:30px'> Data Treatment</h2>\n",
    "<div> \n",
    "    <ul style='font-size:20px'> \n",
    "        <li> \n",
    "            With the files generated, we can proceed and handle the data importing and its proper treatment.\n",
    "        </li>\n",
    "    </ul>\n",
    "</div>"
   ]
  },
  {
   "cell_type": "code",
   "execution_count": 7,
   "id": "b2aa83f4",
   "metadata": {
    "execution": {
     "iopub.execute_input": "2023-05-29T16:33:04.350898Z",
     "iopub.status.busy": "2023-05-29T16:33:04.350393Z",
     "iopub.status.idle": "2023-05-29T16:33:04.414975Z",
     "shell.execute_reply": "2023-05-29T16:33:04.413363Z"
    },
    "papermill": {
     "duration": 0.077112,
     "end_time": "2023-05-29T16:33:04.417962",
     "exception": false,
     "start_time": "2023-05-29T16:33:04.340850",
     "status": "completed"
    },
    "tags": []
   },
   "outputs": [],
   "source": [
    "# Reading the data files separately.\n",
    "train_files = Dataset.list_files('mnist/train*')\n",
    "val_files = Dataset.list_files('mnist/val*')\n",
    "test_files = Dataset.list_files('mnist/test*')"
   ]
  },
  {
   "cell_type": "code",
   "execution_count": 8,
   "id": "afd12bb4",
   "metadata": {
    "execution": {
     "iopub.execute_input": "2023-05-29T16:33:04.438261Z",
     "iopub.status.busy": "2023-05-29T16:33:04.436656Z",
     "iopub.status.idle": "2023-05-29T16:33:04.448987Z",
     "shell.execute_reply": "2023-05-29T16:33:04.447787Z"
    },
    "papermill": {
     "duration": 0.025846,
     "end_time": "2023-05-29T16:33:04.451796",
     "exception": false,
     "start_time": "2023-05-29T16:33:04.425950",
     "status": "completed"
    },
    "tags": []
   },
   "outputs": [],
   "source": [
    "from tensorflow import string, uint8\n",
    "from tensorflow.data import AUTOTUNE, TFRecordDataset\n",
    "from tensorflow.io import FixedLenFeature, parse_example, parse_tensor\n",
    "from typing import Optional, Iterable, Tuple\n",
    "\n",
    "def preprocess(tfrecord:Tensor)->Tuple[Tensor, Tensor]:\n",
    "    '''\n",
    "    Reads an encoded protobuf and returns its Tensors in numerical format.\n",
    "    \n",
    "    Parameter\n",
    "    ---------\n",
    "    `tfrecord`: A `tf.Tensor` that stores encoded protobufs.\n",
    "    \n",
    "    Returns\n",
    "    -------\n",
    "    Two tensors in a tuple. One with the pixel intensities and another containing the target values.\n",
    "    '''\n",
    "    features = {\n",
    "    'pixels':FixedLenFeature([], string, default_value=''), \n",
    "    'target':FixedLenFeature([], string, default_value='-1')\n",
    "                }\n",
    "    example = parse_example(tfrecord, features) # Returns a dictionary with the serialized images and target values.\n",
    "    pixels, target = parse_tensor(example['pixels'], uint8), parse_tensor(example['target'], uint8)\n",
    "    return pixels, target\n",
    "\n",
    "def read_files(filenames:Iterable[str], shuffle_size:Optional[int]=None, num_threads_reading:int=AUTOTUNE, \n",
    "               num_threads_preprocess:int=AUTOTUNE)->Dataset:\n",
    "    '''\n",
    "        Reads the .tfrecord files specified and retrieves a `tf.data.Dataset` object with the processed data.\n",
    "        \n",
    "        Parameters\n",
    "        ----------\n",
    "        `filenames`: The names of the files.\n",
    "        `shuffle_size`: If specified, it shuffles the Dataset using a deck with the specified length.\n",
    "        `num_threads_reading`: The number of threads to use when reading the files.\n",
    "        `num_threads_preprocess`: The number of threads to use when preprocessing the dataset.\n",
    "        \n",
    "        Returns\n",
    "        -------\n",
    "        The treated dataset.\n",
    "    '''\n",
    "    dataset = TFRecordDataset(filenames, num_parallel_reads=num_threads_reading)\n",
    "    if shuffle_size:\n",
    "        dataset.shuffle(shuffle_size)\n",
    "    return dataset.map(preprocess, num_parallel_calls=num_threads_preprocess).prefetch(1)"
   ]
  },
  {
   "cell_type": "markdown",
   "id": "1b925af9",
   "metadata": {
    "papermill": {
     "duration": 0.007619,
     "end_time": "2023-05-29T16:33:04.467330",
     "exception": false,
     "start_time": "2023-05-29T16:33:04.459711",
     "status": "completed"
    },
    "tags": []
   },
   "source": [
    "<h2 style='font-size:30px'> Standardization Layer</h2>\n",
    "<div> \n",
    "    <ul style='font-size:20px'> \n",
    "        <li> \n",
    "            Here, we'll simply code a `tf.layers.Layer` object which fairly does a similar job of the Batch Normalization Layer. The main difference is that $\\mu$ and $\\sigma$ are computed in advance using the `adapt` function.\n",
    "        </li>\n",
    "    </ul>\n",
    "</div>"
   ]
  },
  {
   "cell_type": "code",
   "execution_count": 9,
   "id": "6ad8fd0f",
   "metadata": {
    "execution": {
     "iopub.execute_input": "2023-05-29T16:33:04.485249Z",
     "iopub.status.busy": "2023-05-29T16:33:04.484760Z",
     "iopub.status.idle": "2023-05-29T16:33:04.500952Z",
     "shell.execute_reply": "2023-05-29T16:33:04.499587Z"
    },
    "papermill": {
     "duration": 0.028904,
     "end_time": "2023-05-29T16:33:04.504156",
     "exception": false,
     "start_time": "2023-05-29T16:33:04.475252",
     "status": "completed"
    },
    "tags": []
   },
   "outputs": [],
   "source": [
    "# The layer will inherit the properties of the experimental `PreprocessingLayer`.\n",
    "from tensorflow.keras.layers.experimental.preprocessing import PreprocessingLayer\n",
    "from tensorflow.keras.layers import Layer\n",
    "from tensorflow.math import reduce_mean, reduce_std\n",
    "from tensorflow.keras.backend import epsilon\n",
    "from typing import Union\n",
    "\n",
    "class Standardize(PreprocessingLayer):\n",
    "    '''\n",
    "    A `PreprocessingLayer` object that carries out the standardization of a given array accordingly to an \n",
    "    informed axis.\n",
    "    \n",
    "    The necessary stats are computed before training with the `adapt` method. This feature the  class' main \n",
    "    difference from the `BatchNormalization` layer, which computes means and standard deviations on the fly.\n",
    "    '''\n",
    "    def adapt(self, input_data:Union[Dataset, Tensor], axis=0)->None:\n",
    "        '''\n",
    "            Computes means and std's from a provided `tf.Tensor` or `tf.data.Dataset`.\n",
    "            \n",
    "            Paramater\n",
    "            ---------\n",
    "            `input_data`: The array from which the stats are computed.\n",
    "            `axis`: The axis of choice to compute the stats.\n",
    "        '''\n",
    "        self.means = reduce_mean(input_data, axis=axis)\n",
    "        self.stds = reduce_std(input_data, axis=axis)\n",
    "        return self\n",
    "        \n",
    "    def call(self, input_data:Union[Dataset, Tensor])->Union[Dataset, Tensor]:\n",
    "        '''\n",
    "        The method that standardizes the array.\n",
    "        \n",
    "        Parameter\n",
    "        --------\n",
    "        `input_data`: The array in which we perform the standardization.\n",
    "        \n",
    "        Returns\n",
    "        -------\n",
    "        The standardized array.\n",
    "        '''\n",
    "        return (input_data - self.means) / (self.stds + epsilon())"
   ]
  },
  {
   "cell_type": "markdown",
   "id": "a391547e",
   "metadata": {
    "papermill": {
     "duration": 0.007637,
     "end_time": "2023-05-29T16:33:04.519897",
     "exception": false,
     "start_time": "2023-05-29T16:33:04.512260",
     "status": "completed"
    },
    "tags": []
   },
   "source": [
    "<h2 style='font-size:30px'> Neural Net Modelling</h2>\n",
    "<div> \n",
    "    <ul style='font-size:20px'> \n",
    "        <li> \n",
    "            With all the preprocessing stages programmed, we are free to model our Neural Network.\n",
    "        </li>\n",
    "    </ul>\n",
    "</div>"
   ]
  },
  {
   "cell_type": "code",
   "execution_count": 10,
   "id": "3cc364bb",
   "metadata": {
    "execution": {
     "iopub.execute_input": "2023-05-29T16:33:04.537964Z",
     "iopub.status.busy": "2023-05-29T16:33:04.537143Z",
     "iopub.status.idle": "2023-05-29T16:33:04.737285Z",
     "shell.execute_reply": "2023-05-29T16:33:04.735927Z"
    },
    "papermill": {
     "duration": 0.212919,
     "end_time": "2023-05-29T16:33:04.740722",
     "exception": false,
     "start_time": "2023-05-29T16:33:04.527803",
     "status": "completed"
    },
    "tags": []
   },
   "outputs": [],
   "source": [
    "# Reading all the .tfrecords created.\n",
    "train_set = read_files(train_files, shuffle_size=100)\n",
    "val_set = read_files(val_files)\n",
    "test_set = read_files(test_files)"
   ]
  },
  {
   "cell_type": "code",
   "execution_count": 11,
   "id": "d7ffb194",
   "metadata": {
    "execution": {
     "iopub.execute_input": "2023-05-29T16:33:04.759621Z",
     "iopub.status.busy": "2023-05-29T16:33:04.759126Z",
     "iopub.status.idle": "2023-05-29T16:33:05.498009Z",
     "shell.execute_reply": "2023-05-29T16:33:05.496392Z"
    },
    "papermill": {
     "duration": 0.752209,
     "end_time": "2023-05-29T16:33:05.501148",
     "exception": false,
     "start_time": "2023-05-29T16:33:04.748939",
     "status": "completed"
    },
    "tags": []
   },
   "outputs": [],
   "source": [
    "# But before actually fitting the NN, we need to adapt our `Standardize` layer with the training data.\n",
    "from tensorflow import concat, cast, float32\n",
    "train_pixels = list(train_set.map(lambda pixels, target: pixels).take(-1)) # Getting all the training images.\n",
    "train_pixels = cast(concat(train_pixels, axis=0), dtype=float32) # Concatenating the batches so that we end up\n",
    "                                                                # with a single 3-D matrix.\n",
    "\n",
    "# Now, instantiating the `Standardize` class and adapting it to the `train_pixels` data.\n",
    "standardize = Standardize(input_shape=train_pixels.shape[1:]).adapt(train_pixels, axis=0)"
   ]
  },
  {
   "cell_type": "code",
   "execution_count": 12,
   "id": "125f923f",
   "metadata": {
    "execution": {
     "iopub.execute_input": "2023-05-29T16:33:05.520101Z",
     "iopub.status.busy": "2023-05-29T16:33:05.518665Z",
     "iopub.status.idle": "2023-05-29T16:33:05.530885Z",
     "shell.execute_reply": "2023-05-29T16:33:05.529680Z"
    },
    "papermill": {
     "duration": 0.024916,
     "end_time": "2023-05-29T16:33:05.533894",
     "exception": false,
     "start_time": "2023-05-29T16:33:05.508978",
     "status": "completed"
    },
    "tags": []
   },
   "outputs": [],
   "source": [
    "# Finally, making our FCNN.\n",
    "from tensorflow.keras.models import Sequential\n",
    "from tensorflow.keras.layers import Input, Dense, Dropout\n",
    "from tensorflow.keras.activations import elu, softmax\n",
    "from typing import Callable\n",
    "\n",
    "def _check_length(hidden_layers:Iterable, activations:Iterable)->bool:\n",
    "    '''\n",
    "        Checks whether both provided arrays have equal lengths.\n",
    "        \n",
    "        Parameters\n",
    "        ----------\n",
    "        `hidden_layers`: First Array\n",
    "        `activations`: Second array\n",
    "        \n",
    "        Returns\n",
    "        -------\n",
    "        A boolean indicating the existance of such condition.\n",
    "    '''\n",
    "    if len(a1) != len(a2):\n",
    "        raise  AttributeError('The `hidden_layers` array must have the same length as `activations`')\n",
    "    return True\n",
    "\n",
    "def my_fcnn(hidden_layers:Iterable[int], activations:Union[Iterable[Callable[[float], float]], Callable[[float], float]],\n",
    "                input_shape:list=[28,28])->Sequential:\n",
    "    # If the user informed a function for `activations`, a list of such callable of the same length as 'hidden_layers'\n",
    "    # is created.\n",
    "    if isinstance(activations, Callable):\n",
    "        activations = [activations for _ in range(len(hidden_layers))]    \n",
    "    \n",
    "    # `check_length` is of use when 'activations' is given as an array by the user.\n",
    "    _check_length(hidden_layers, activations)\n",
    "        \n",
    "    "
   ]
  },
  {
   "cell_type": "code",
   "execution_count": 13,
   "id": "b231b38d",
   "metadata": {
    "execution": {
     "iopub.execute_input": "2023-05-29T16:33:05.552069Z",
     "iopub.status.busy": "2023-05-29T16:33:05.551013Z",
     "iopub.status.idle": "2023-05-29T16:33:05.562096Z",
     "shell.execute_reply": "2023-05-29T16:33:05.560779Z"
    },
    "papermill": {
     "duration": 0.023006,
     "end_time": "2023-05-29T16:33:05.564815",
     "exception": false,
     "start_time": "2023-05-29T16:33:05.541809",
     "status": "completed"
    },
    "tags": []
   },
   "outputs": [],
   "source": [
    "# We'll be designing here a LetNet-5 NN. Thus, we'll need some extra components.\n",
    "\n",
    "# The images that feed the Input Layer of such model have 32x32 shape. Since the MNIST digits are 28x28 it is\n",
    "# necessary to add zero-padding to each matrix.\n",
    "from tensorflow.keras.layers import Reshape, ZeroPadding2D\n",
    "\n",
    "# `ZeroPadding2d` demands the inputs to own a dimension for the amount of channels. That's why we are invoking the\n",
    "# `Reshape` layer as well.\n",
    "target_shape = train_pixels.shape[1:]+[1]\n",
    "reshape = Reshape(target_shape=target_shape)\n",
    "\n",
    "# Instantiating the `ZeroPadding2D` layer.\n",
    "zero_padding_2d = ZeroPadding2D(padding=2)"
   ]
  },
  {
   "cell_type": "markdown",
   "id": "078b572b",
   "metadata": {
    "papermill": {
     "duration": 0.007866,
     "end_time": "2023-05-29T16:33:05.580681",
     "exception": false,
     "start_time": "2023-05-29T16:33:05.572815",
     "status": "completed"
    },
    "tags": []
   },
   "source": [
    "<p style='color:red'> Montar FCNN e depois Lenet5"
   ]
  },
  {
   "cell_type": "markdown",
   "id": "c88807b7",
   "metadata": {
    "papermill": {
     "duration": 0.007273,
     "end_time": "2023-05-29T16:33:05.595762",
     "exception": false,
     "start_time": "2023-05-29T16:33:05.588489",
     "status": "completed"
    },
    "tags": []
   },
   "source": [
    "<h2 style='font-size:30px'> </h2>"
   ]
  }
 ],
 "metadata": {
  "kernelspec": {
   "display_name": "Python 3",
   "language": "python",
   "name": "python3"
  },
  "language_info": {
   "codemirror_mode": {
    "name": "ipython",
    "version": 3
   },
   "file_extension": ".py",
   "mimetype": "text/x-python",
   "name": "python",
   "nbconvert_exporter": "python",
   "pygments_lexer": "ipython3",
   "version": "3.7.12"
  },
  "papermill": {
   "default_parameters": {},
   "duration": 32.527954,
   "end_time": "2023-05-29T16:33:08.582394",
   "environment_variables": {},
   "exception": null,
   "input_path": "__notebook__.ipynb",
   "output_path": "__notebook__.ipynb",
   "parameters": {},
   "start_time": "2023-05-29T16:32:36.054440",
   "version": "2.4.0"
  }
 },
 "nbformat": 4,
 "nbformat_minor": 5
}
