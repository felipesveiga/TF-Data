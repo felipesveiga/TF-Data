{
 "cells": [
  {
   "cell_type": "markdown",
   "id": "f4b113ad",
   "metadata": {
    "papermill": {
     "duration": 0.009774,
     "end_time": "2023-07-06T17:01:13.781903",
     "exception": false,
     "start_time": "2023-07-06T17:01:13.772129",
     "status": "completed"
    },
    "tags": []
   },
   "source": [
    "<h1 style='font-size:40px'> Deep Learning Pipeline for Digit Recognition</h1>\n",
    "<div> \n",
    "    <ul style='font-size:20px'> \n",
    "        <li> \n",
    "            In this notebook I'll practice my skills with Computer Vision and the tf.data module solving Exercise 9 from Hands-On Machine Learning with Scikit-Learn and TensorFlow's Chapter 13.\n",
    "        </li>\n",
    "        <li> \n",
    "            The Exercise commands us the following:\n",
    "            <p style='font-style:italic;margin-top:10px'> \n",
    "                Load the Fashion MNIST dataset (introduced in Chapter 10); split\n",
    "it into a training set, a validation set, and a test set; shuffle the\n",
    "training set; and save each dataset to multiple TFRecord files.\n",
    "Each record should be a serialized Example protobuf with two\n",
    "features: the serialized image (use tf.io.serialize_tensor()\n",
    "to serialize each image), and the label. 11 Then use tf.data to create\n",
    "an efficient dataset for each set. Finally, use a Keras model to\n",
    "train these datasets, including a preprocessing layer to standardize\n",
    "each input feature. Try to make the input pipeline as efficient as\n",
    "possible, using TensorBoard to visualize profiling data.\n",
    "            </p>\n",
    "        </li>\n",
    "    </ul>\n",
    "</div>"
   ]
  },
  {
   "cell_type": "markdown",
   "id": "b221df35",
   "metadata": {
    "papermill": {
     "duration": 0.008231,
     "end_time": "2023-07-06T17:01:13.798764",
     "exception": false,
     "start_time": "2023-07-06T17:01:13.790533",
     "status": "completed"
    },
    "tags": []
   },
   "source": [
    "<h2 style='font-size:30px'> Data Importing & Splitting</h2>"
   ]
  },
  {
   "cell_type": "code",
   "execution_count": 1,
   "id": "63cc5e9e",
   "metadata": {
    "execution": {
     "iopub.execute_input": "2023-07-06T17:01:13.817765Z",
     "iopub.status.busy": "2023-07-06T17:01:13.816995Z",
     "iopub.status.idle": "2023-07-06T17:01:23.818967Z",
     "shell.execute_reply": "2023-07-06T17:01:23.817692Z"
    },
    "papermill": {
     "duration": 10.014982,
     "end_time": "2023-07-06T17:01:23.822154",
     "exception": false,
     "start_time": "2023-07-06T17:01:13.807172",
     "status": "completed"
    },
    "tags": []
   },
   "outputs": [
    {
     "name": "stdout",
     "output_type": "stream",
     "text": [
      "Downloading data from https://storage.googleapis.com/tensorflow/tf-keras-datasets/train-labels-idx1-ubyte.gz\n",
      "29515/29515 [==============================] - 0s 0us/step\n",
      "Downloading data from https://storage.googleapis.com/tensorflow/tf-keras-datasets/train-images-idx3-ubyte.gz\n",
      "26421880/26421880 [==============================] - 0s 0us/step\n",
      "Downloading data from https://storage.googleapis.com/tensorflow/tf-keras-datasets/t10k-labels-idx1-ubyte.gz\n",
      "5148/5148 [==============================] - 0s 0us/step\n",
      "Downloading data from https://storage.googleapis.com/tensorflow/tf-keras-datasets/t10k-images-idx3-ubyte.gz\n",
      "4422102/4422102 [==============================] - 0s 0us/step\n"
     ]
    }
   ],
   "source": [
    "from tensorflow.keras.datasets import fashion_mnist\n",
    "from sklearn.model_selection import train_test_split\n",
    "\n",
    "# Loading the fashion_mnist dataset.\n",
    "(X_train, y_train), (X_test, y_test) = fashion_mnist.load_data()\n",
    "\n",
    "# Now, generating the validation set with sklearn's `train_test_split`.\n",
    "X_train, X_val, y_train, y_val = train_test_split(X_train, y_train, test_size=.1, random_state=42)"
   ]
  },
  {
   "cell_type": "code",
   "execution_count": 2,
   "id": "ed4e3026",
   "metadata": {
    "execution": {
     "iopub.execute_input": "2023-07-06T17:01:23.843850Z",
     "iopub.status.busy": "2023-07-06T17:01:23.843180Z",
     "iopub.status.idle": "2023-07-06T17:01:27.678144Z",
     "shell.execute_reply": "2023-07-06T17:01:27.676128Z"
    },
    "papermill": {
     "duration": 3.849666,
     "end_time": "2023-07-06T17:01:27.681680",
     "exception": false,
     "start_time": "2023-07-06T17:01:23.832014",
     "status": "completed"
    },
    "tags": []
   },
   "outputs": [],
   "source": [
    "# Storing each one of the sets in a tf.data.Dataset object.\n",
    "# The classes store batches with 1000 elements each. The groups' data will be put into a .tfrecord file.\n",
    "from tensorflow.data import Dataset\n",
    "batch_size = 1000\n",
    "train = Dataset.from_tensor_slices((X_train, y_train)).shuffle(54000).batch(batch_size)\n",
    "val = Dataset.from_tensor_slices((X_val, y_val)).batch(batch_size)\n",
    "test = Dataset.from_tensor_slices((X_test, y_test)).batch(batch_size)"
   ]
  },
  {
   "cell_type": "code",
   "execution_count": 3,
   "id": "5705ee1a",
   "metadata": {
    "execution": {
     "iopub.execute_input": "2023-07-06T17:01:27.725431Z",
     "iopub.status.busy": "2023-07-06T17:01:27.724720Z",
     "iopub.status.idle": "2023-07-06T17:01:27.733865Z",
     "shell.execute_reply": "2023-07-06T17:01:27.732616Z"
    },
    "papermill": {
     "duration": 0.032792,
     "end_time": "2023-07-06T17:01:27.738590",
     "exception": false,
     "start_time": "2023-07-06T17:01:27.705798",
     "status": "completed"
    },
    "tags": []
   },
   "outputs": [],
   "source": [
    "# We'll produce 1000 instances .tfrecord files. One corresponding to a bacth created.\n",
    "train_files = len(X_train) // batch_size\n",
    "val_files = len(X_val) // batch_size\n",
    "test_files = len(X_test) // batch_size"
   ]
  },
  {
   "cell_type": "markdown",
   "id": "091c55a9",
   "metadata": {
    "papermill": {
     "duration": 0.01588,
     "end_time": "2023-07-06T17:01:27.772421",
     "exception": false,
     "start_time": "2023-07-06T17:01:27.756541",
     "status": "completed"
    },
    "tags": []
   },
   "source": [
    "<h2 style='font-size:30px'> .tfrecord's Production</h2>\n",
    "<div> \n",
    "    <ul style='font-size:20px'> \n",
    "        <li> \n",
    "            TensorFlow records demands data to be stored in protobuf format. We can do so by placing the serialized information in an `Example` class. \n",
    "        </li>\n",
    "    </ul>\n",
    "</div>"
   ]
  },
  {
   "cell_type": "code",
   "execution_count": 4,
   "id": "669c9e81",
   "metadata": {
    "execution": {
     "iopub.execute_input": "2023-07-06T17:01:27.793908Z",
     "iopub.status.busy": "2023-07-06T17:01:27.793558Z",
     "iopub.status.idle": "2023-07-06T17:01:27.805176Z",
     "shell.execute_reply": "2023-07-06T17:01:27.804159Z"
    },
    "papermill": {
     "duration": 0.025385,
     "end_time": "2023-07-06T17:01:27.807616",
     "exception": false,
     "start_time": "2023-07-06T17:01:27.782231",
     "status": "completed"
    },
    "tags": []
   },
   "outputs": [],
   "source": [
    "from tensorflow import Tensor\n",
    "from tensorflow.train import BytesList, Example, Features, Feature, Int64List\n",
    "from tensorflow.io import serialize_tensor, TFRecordWriter\n",
    "\n",
    "def create_example(images:Tensor, targets:Tensor)->bytes:\n",
    "    '''\n",
    "        Generates a serialized `Example` object holding the pixel intensities and target values from a collection\n",
    "        of MNIST images.\n",
    "        \n",
    "        Parameters\n",
    "        ----------\n",
    "        `images`: A 3-D `tf.Tensor` with the digits pixels. \\n\n",
    "        `targets`: An 1-D `tf.Tensor` with the digits labels.\n",
    "        \n",
    "        Returns\n",
    "        -------\n",
    "        An `tf.train.Example` object storing both pixels and target values.\n",
    "    '''\n",
    "    # Serializing the input vectors.\n",
    "    serialized_images, serialized_targets = serialize_tensor(images), serialize_tensor(targets)\n",
    "    example = Example(\n",
    "        features=Features(\n",
    "            feature={\n",
    "            'pixels':Feature(bytes_list=BytesList(value=[serialized_images.numpy()])),\n",
    "            'target':Feature(bytes_list=BytesList(value=[serialized_targets.numpy()]))\n",
    "        }\n",
    "        ))\n",
    "    # Now, converting the `Example` object into a binary string.\n",
    "    return example.SerializeToString()"
   ]
  },
  {
   "cell_type": "code",
   "execution_count": 5,
   "id": "e4a92bd6",
   "metadata": {
    "execution": {
     "iopub.execute_input": "2023-07-06T17:01:27.829337Z",
     "iopub.status.busy": "2023-07-06T17:01:27.828852Z",
     "iopub.status.idle": "2023-07-06T17:01:28.864661Z",
     "shell.execute_reply": "2023-07-06T17:01:28.863053Z"
    },
    "papermill": {
     "duration": 1.049155,
     "end_time": "2023-07-06T17:01:28.867595",
     "exception": false,
     "start_time": "2023-07-06T17:01:27.818440",
     "status": "completed"
    },
    "tags": []
   },
   "outputs": [],
   "source": [
    "# It is convenient to place all data files in a separate directory.\n",
    "! mkdir mnist"
   ]
  },
  {
   "cell_type": "code",
   "execution_count": 6,
   "id": "98a6c8a1",
   "metadata": {
    "execution": {
     "iopub.execute_input": "2023-07-06T17:01:28.890522Z",
     "iopub.status.busy": "2023-07-06T17:01:28.890153Z",
     "iopub.status.idle": "2023-07-06T17:01:29.431888Z",
     "shell.execute_reply": "2023-07-06T17:01:29.430569Z"
    },
    "papermill": {
     "duration": 0.556519,
     "end_time": "2023-07-06T17:01:29.435088",
     "exception": false,
     "start_time": "2023-07-06T17:01:28.878569",
     "status": "completed"
    },
    "tags": []
   },
   "outputs": [],
   "source": [
    "def create_files(dataset:Dataset, filename:str, directory:str='.')->None:\n",
    "    '''\n",
    "        Creates the .tfrecord's files based on the batches from a provided `dataset`.\n",
    "        \n",
    "        Parameters\n",
    "        ----------\n",
    "        `dataset`: A `tf.data.Dataset` object. \\n\n",
    "        `filename`: A custom name for file identification. \\n\n",
    "        `directory`: A string that indicates the directory where the files are put.\n",
    "    '''\n",
    "    for index, (images, labels) in dataset.enumerate():\n",
    "        file = TFRecordWriter(f'{directory}/{filename}_{index}.tfrecord')\n",
    "        serialized_data = create_example(images, labels)\n",
    "        file.write(serialized_data)\n",
    "\n",
    "# Generating the files.\n",
    "create_files(train, 'train', 'mnist')\n",
    "create_files(val, 'val', 'mnist')\n",
    "create_files(test, 'test', 'mnist')"
   ]
  },
  {
   "cell_type": "markdown",
   "id": "ab548344",
   "metadata": {
    "papermill": {
     "duration": 0.011011,
     "end_time": "2023-07-06T17:01:29.457695",
     "exception": false,
     "start_time": "2023-07-06T17:01:29.446684",
     "status": "completed"
    },
    "tags": []
   },
   "source": [
    "<h2 style='font-size:30px'> Data Treatment</h2>\n",
    "<div> \n",
    "    <ul style='font-size:20px'> \n",
    "        <li> \n",
    "            With the files generated, we can proceed and handle the data importing and its proper treatment.\n",
    "        </li>\n",
    "    </ul>\n",
    "</div>"
   ]
  },
  {
   "cell_type": "code",
   "execution_count": 7,
   "id": "a751034b",
   "metadata": {
    "execution": {
     "iopub.execute_input": "2023-07-06T17:01:29.482542Z",
     "iopub.status.busy": "2023-07-06T17:01:29.481395Z",
     "iopub.status.idle": "2023-07-06T17:01:29.546854Z",
     "shell.execute_reply": "2023-07-06T17:01:29.545770Z"
    },
    "papermill": {
     "duration": 0.080688,
     "end_time": "2023-07-06T17:01:29.549532",
     "exception": false,
     "start_time": "2023-07-06T17:01:29.468844",
     "status": "completed"
    },
    "tags": []
   },
   "outputs": [],
   "source": [
    "# Reading the data files separately.\n",
    "train_files = Dataset.list_files('mnist/train*')\n",
    "val_files = Dataset.list_files('mnist/val*')\n",
    "test_files = Dataset.list_files('mnist/test*')"
   ]
  },
  {
   "cell_type": "code",
   "execution_count": 8,
   "id": "e2c41966",
   "metadata": {
    "execution": {
     "iopub.execute_input": "2023-07-06T17:01:29.572117Z",
     "iopub.status.busy": "2023-07-06T17:01:29.571040Z",
     "iopub.status.idle": "2023-07-06T17:01:29.583652Z",
     "shell.execute_reply": "2023-07-06T17:01:29.582489Z"
    },
    "papermill": {
     "duration": 0.026266,
     "end_time": "2023-07-06T17:01:29.586090",
     "exception": false,
     "start_time": "2023-07-06T17:01:29.559824",
     "status": "completed"
    },
    "tags": []
   },
   "outputs": [],
   "source": [
    "from tensorflow import string, uint8\n",
    "from tensorflow.data import AUTOTUNE, TFRecordDataset\n",
    "from tensorflow.io import FixedLenFeature, parse_example, parse_tensor\n",
    "from typing import Optional, Iterable, Tuple\n",
    "\n",
    "def preprocess(tfrecord:Tensor)->Tuple[Tensor, Tensor]:\n",
    "    '''\n",
    "    Reads an encoded protobuf and returns its Tensors in numerical format.\n",
    "    \n",
    "    Parameter\n",
    "    ---------\n",
    "    `tfrecord`: A `tf.Tensor` that stores encoded protobufs.\n",
    "    \n",
    "    Returns\n",
    "    -------\n",
    "    Two tensors in a tuple. One with the pixel intensities and another containing the target values.\n",
    "    '''\n",
    "    features = {\n",
    "    'pixels':FixedLenFeature([], string, default_value=''), \n",
    "    'target':FixedLenFeature([], string, default_value='-1')\n",
    "                }\n",
    "    example = parse_example(tfrecord, features) # Returns a dictionary with the serialized images and target values.\n",
    "    pixels, target = parse_tensor(example['pixels'], uint8), parse_tensor(example['target'], uint8)\n",
    "    return pixels, target\n",
    "\n",
    "def read_files(filenames:Iterable[str], shuffle_size:Optional[int]=None, num_threads_reading:int=AUTOTUNE, \n",
    "               num_threads_preprocess:int=AUTOTUNE)->Dataset:\n",
    "    '''\n",
    "        Reads the .tfrecord files specified and retrieves a `tf.data.Dataset` object with the processed data.\n",
    "        \n",
    "        Parameters\n",
    "        ----------\n",
    "        `filenames`: The names of the files.\n",
    "        `shuffle_size`: If specified, it shuffles the Dataset using a deck with the specified length.\n",
    "        `num_threads_reading`: The number of threads to use when reading the files.\n",
    "        `num_threads_preprocess`: The number of threads to use when preprocessing the dataset.\n",
    "        \n",
    "        Returns\n",
    "        -------\n",
    "        The treated dataset.\n",
    "    '''\n",
    "    dataset = TFRecordDataset(filenames, num_parallel_reads=num_threads_reading)\n",
    "    if shuffle_size:\n",
    "        dataset.shuffle(shuffle_size)\n",
    "    return dataset.map(preprocess, num_parallel_calls=num_threads_preprocess).prefetch(1)"
   ]
  },
  {
   "cell_type": "markdown",
   "id": "e8208f74",
   "metadata": {
    "papermill": {
     "duration": 0.009865,
     "end_time": "2023-07-06T17:01:29.606059",
     "exception": false,
     "start_time": "2023-07-06T17:01:29.596194",
     "status": "completed"
    },
    "tags": []
   },
   "source": [
    "<h2 style='font-size:30px'> Standardization Layer</h2>\n",
    "<div> \n",
    "    <ul style='font-size:20px'> \n",
    "        <li> \n",
    "            Here, we'll simply code a `PreprocessingLayer` object which fairly does a similar job of the Batch Normalization Layer. The main difference is that $\\mu$ and $\\sigma$ are computed in advance using the `adapt` function.\n",
    "        </li>\n",
    "    </ul>\n",
    "</div>"
   ]
  },
  {
   "cell_type": "code",
   "execution_count": 9,
   "id": "06ec485c",
   "metadata": {
    "execution": {
     "iopub.execute_input": "2023-07-06T17:01:29.631362Z",
     "iopub.status.busy": "2023-07-06T17:01:29.630986Z",
     "iopub.status.idle": "2023-07-06T17:01:29.647300Z",
     "shell.execute_reply": "2023-07-06T17:01:29.646235Z"
    },
    "papermill": {
     "duration": 0.030729,
     "end_time": "2023-07-06T17:01:29.649799",
     "exception": false,
     "start_time": "2023-07-06T17:01:29.619070",
     "status": "completed"
    },
    "tags": []
   },
   "outputs": [],
   "source": [
    "# The layer will inherit the properties of the experimental `PreprocessingLayer`.\n",
    "from tensorflow.keras.layers.experimental.preprocessing import PreprocessingLayer\n",
    "from tensorflow.keras.layers import Layer\n",
    "from tensorflow.math import reduce_mean, reduce_std\n",
    "from tensorflow.keras.backend import epsilon\n",
    "from typing import Union\n",
    "\n",
    "class Standardize(PreprocessingLayer):\n",
    "    '''\n",
    "    A `PreprocessingLayer` object that carries out the standardization of a given array accordingly to an \n",
    "    informed axis.\n",
    "    \n",
    "    The necessary stats are computed before training with the `adapt` method. This feature is the  class' main \n",
    "    difference from the `BatchNormalization` layer, which computes means and standard deviations on the fly.\n",
    "    '''    \n",
    "    \n",
    "    def adapt(self, input_data:Union[Dataset, Tensor], axis=0)->None:\n",
    "        '''\n",
    "            Computes means and std's from a provided `tf.Tensor` or `tf.data.Dataset`.\n",
    "            \n",
    "            Paramaters\n",
    "            ----------\n",
    "            `input_data`: The array from which the stats are computed.\n",
    "            `axis`: The axis of choice to compute the stats.\n",
    "        '''\n",
    "        self.means = reduce_mean(input_data, axis=axis, keepdims=True)\n",
    "        self.stds = reduce_std(input_data, axis=axis, keepdims=True)\n",
    "        return self\n",
    "        \n",
    "    def call(self, input_data:Union[Dataset, Tensor])->Union[Dataset, Tensor]:\n",
    "        '''\n",
    "        The method that standardizes the array.\n",
    "        \n",
    "        Parameter\n",
    "        --------\n",
    "        `input_data`: The array in which we perform the standardization.\n",
    "        \n",
    "        Returns\n",
    "        -------\n",
    "        The standardized array.\n",
    "        '''\n",
    "        return (input_data - self.means) / (self.stds + epsilon())\n",
    "    \n",
    "    def get_config(self):\n",
    "        '''\n",
    "            Returns the Layer's configurations. It is needed for saving a class' instance for future uses.\n",
    "        '''\n",
    "        base_config = super().get_config() # Rendering the `Preprocessing` layer `get_config` output.\n",
    "        return {**base_config, 'means':self.means.numpy(), 'stds':self.stds.numpy()}\n",
    "    "
   ]
  },
  {
   "cell_type": "markdown",
   "id": "098d0b54",
   "metadata": {
    "papermill": {
     "duration": 0.009585,
     "end_time": "2023-07-06T17:01:29.669572",
     "exception": false,
     "start_time": "2023-07-06T17:01:29.659987",
     "status": "completed"
    },
    "tags": []
   },
   "source": [
    "<h2 style='font-size:30px'> Neural Net Modeling</h2>\n",
    "<div> \n",
    "    <ul style='font-size:20px'> \n",
    "        <li> \n",
    "            With all the preprocessing stages programmed, we are able to model our Neural Network.\n",
    "        </li>\n",
    "        <li> \n",
    "            Firstly, we are going to design a simple Fully-Connected Neural Network and see how it performs.\n",
    "        </li>\n",
    "    </ul>\n",
    "</div>"
   ]
  },
  {
   "cell_type": "code",
   "execution_count": 10,
   "id": "1e207d21",
   "metadata": {
    "execution": {
     "iopub.execute_input": "2023-07-06T17:01:29.690643Z",
     "iopub.status.busy": "2023-07-06T17:01:29.690310Z",
     "iopub.status.idle": "2023-07-06T17:01:29.875637Z",
     "shell.execute_reply": "2023-07-06T17:01:29.874577Z"
    },
    "papermill": {
     "duration": 0.199619,
     "end_time": "2023-07-06T17:01:29.878595",
     "exception": false,
     "start_time": "2023-07-06T17:01:29.678976",
     "status": "completed"
    },
    "tags": []
   },
   "outputs": [],
   "source": [
    "# Reading all the .tfrecords created.\n",
    "train_set = read_files(train_files, shuffle_size=100)\n",
    "val_set = read_files(val_files)\n",
    "test_set = read_files(test_files)"
   ]
  },
  {
   "cell_type": "code",
   "execution_count": 11,
   "id": "f34bc126",
   "metadata": {
    "execution": {
     "iopub.execute_input": "2023-07-06T17:01:29.900484Z",
     "iopub.status.busy": "2023-07-06T17:01:29.899855Z",
     "iopub.status.idle": "2023-07-06T17:01:30.101271Z",
     "shell.execute_reply": "2023-07-06T17:01:30.100168Z"
    },
    "papermill": {
     "duration": 0.215626,
     "end_time": "2023-07-06T17:01:30.104115",
     "exception": false,
     "start_time": "2023-07-06T17:01:29.888489",
     "status": "completed"
    },
    "tags": []
   },
   "outputs": [],
   "source": [
    "# But before actually fitting the NN, we need to adapt our `Standardize` layer with the training data.\n",
    "from tensorflow import concat, cast, float32\n",
    "train_pixels = list(train_set.map(lambda pixels, target: pixels).take(-1)) # Getting all the training images.\n",
    "train_pixels = cast(concat(train_pixels, axis=0), dtype=float32) # Concatenating the batches so that we end up\n",
    "                                                                # with a single 3-D matrix.\n",
    "\n",
    "# Now, instantiating the `Standardize` class and adapting it to the `train_pixels` data.\n",
    "standardize = Standardize(input_shape=train_pixels.shape[1:]).adapt(train_pixels, axis=0)"
   ]
  },
  {
   "cell_type": "code",
   "execution_count": 12,
   "id": "67e52ea4",
   "metadata": {
    "execution": {
     "iopub.execute_input": "2023-07-06T17:01:30.127050Z",
     "iopub.status.busy": "2023-07-06T17:01:30.126616Z",
     "iopub.status.idle": "2023-07-06T17:01:30.144317Z",
     "shell.execute_reply": "2023-07-06T17:01:30.143264Z"
    },
    "papermill": {
     "duration": 0.032276,
     "end_time": "2023-07-06T17:01:30.147042",
     "exception": false,
     "start_time": "2023-07-06T17:01:30.114766",
     "status": "completed"
    },
    "tags": []
   },
   "outputs": [],
   "source": [
    "# Finally, making our FCNN.\n",
    "from tensorflow.keras.models import Sequential\n",
    "from tensorflow.keras.layers import Dense, Dropout, Flatten, Input\n",
    "from tensorflow.keras.activations import elu, softmax\n",
    "from tensorflow.keras.initializers import GlorotNormal, HeNormal\n",
    "from typing import Callable\n",
    "\n",
    "def _check_length(neurons:Iterable, activations:Iterable)->bool:\n",
    "    '''\n",
    "        Checks whether both provided arrays have equal lengths.\n",
    "        \n",
    "        Parameters\n",
    "        ----------\n",
    "        `neurons`: First Array\n",
    "        `activations`: Second array\n",
    "        \n",
    "        Returns\n",
    "        -------\n",
    "        A boolean indicating the existance of such condition.\n",
    "    '''\n",
    "    if len(neurons) != len(activations):\n",
    "        raise  AttributeError('The `neurons` array must have the same length as `activations`')\n",
    "    return True\n",
    "\n",
    "def my_fcnn(neurons:Iterable[int], activations:Union[Iterable[Callable[[float], float]], Callable[[float], float]],dropout_ratio:float=None,  \n",
    "            input_shape:list=[28,28], **kwargs)->Sequential:\n",
    "    '''\n",
    "        Generates the Fully-Connected Neural Network for the project.\n",
    "        \n",
    "        Parameters\n",
    "        ----------\n",
    "        `neurons`: An iterable object that indicates the amount of neurons each hidden layer needs to own. Its length will suggest the amount of such layers the model will have.\n",
    "        \n",
    "        `activations`: The activation functions for each hidden layer. If the user wishes to use a single function to be applied in all layers, they\n",
    "                       can only inform just one callable object. Otherwise, it will be demanded an iterable object containing all the functions. \n",
    "                       Note that in such case, the structure needs to have the same length as `neurons`.\n",
    "        \n",
    "        `dropout_ratio`: The amount of dropout to be applied in every hidden layer. If 'None' - default value -, no dropout is used. \n",
    "        \n",
    "        `input_shape`: The original images' shape. Do not provide the batch size in the iterable.\n",
    "        \n",
    "        **kwargs: Any further keyword argument will be used in the `compile` method.\n",
    "        \n",
    "        Returns\n",
    "        -------\n",
    "        A Sequential object built accordingly to the user's preferences. If no **kwargs is provided, the model will have to be manually compiled.\n",
    "        \n",
    "    '''\n",
    "    # If the user informed a function for `activations`, a list of such callable of the same length as `hidden_layers`\n",
    "    # is created.\n",
    "    if isinstance(activations, Callable):\n",
    "        activations = [activations] * len(neurons)    \n",
    "    \n",
    "    # `check_length` is of use when 'activations' is given as an array by the user.\n",
    "    _check_length(neurons, activations)\n",
    "    \n",
    "    # Creating the model's basic structure.\n",
    "    model = Sequential([\n",
    "        Input(shape=input_shape),\n",
    "        standardize, \n",
    "        Flatten(), # The inputs are flattened after the standardization.\n",
    "    ])\n",
    "    \n",
    "    for units, activation in zip(neurons, activations):\n",
    "        model.add(Dense(units, activation=activation, kernel_initializer=HeNormal()))\n",
    "        # Adding Dropout if it is the user's wish.\n",
    "        if dropout_ratio:\n",
    "            model.add(Dropout(dropout_ratio))\n",
    "            \n",
    "    # In the end, applying the output layer.\n",
    "    model.add(Dense(units=10, activation=softmax , kernel_initializer=GlorotNormal()))\n",
    "    \n",
    "    # Compiling the model.\n",
    "    if kwargs:\n",
    "        model.compile(**kwargs)\n",
    "    return model"
   ]
  },
  {
   "cell_type": "code",
   "execution_count": 13,
   "id": "02b2f231",
   "metadata": {
    "execution": {
     "iopub.execute_input": "2023-07-06T17:01:30.168488Z",
     "iopub.status.busy": "2023-07-06T17:01:30.168162Z",
     "iopub.status.idle": "2023-07-06T17:03:10.533562Z",
     "shell.execute_reply": "2023-07-06T17:03:10.532314Z"
    },
    "papermill": {
     "duration": 100.379276,
     "end_time": "2023-07-06T17:03:10.536387",
     "exception": false,
     "start_time": "2023-07-06T17:01:30.157111",
     "status": "completed"
    },
    "tags": []
   },
   "outputs": [
    {
     "name": "stdout",
     "output_type": "stream",
     "text": [
      "Epoch 1/100\n",
      "54/54 [==============================] - 15s 63ms/step - loss: 3.1705 - sparse_categorical_accuracy: 0.5007 - val_loss: 0.7323 - val_sparse_categorical_accuracy: 0.7685 - lr: 0.0025\n",
      "Epoch 2/100\n",
      "54/54 [==============================] - 1s 20ms/step - loss: 0.9604 - sparse_categorical_accuracy: 0.6912 - val_loss: 0.5400 - val_sparse_categorical_accuracy: 0.8015 - lr: 0.0025\n",
      "Epoch 3/100\n",
      "54/54 [==============================] - 1s 21ms/step - loss: 0.7133 - sparse_categorical_accuracy: 0.7546 - val_loss: 0.4842 - val_sparse_categorical_accuracy: 0.8257 - lr: 0.0025\n",
      "Epoch 4/100\n",
      "54/54 [==============================] - 1s 20ms/step - loss: 0.6313 - sparse_categorical_accuracy: 0.7829 - val_loss: 0.4532 - val_sparse_categorical_accuracy: 0.8342 - lr: 0.0025\n",
      "Epoch 5/100\n",
      "54/54 [==============================] - 1s 21ms/step - loss: 0.5756 - sparse_categorical_accuracy: 0.8015 - val_loss: 0.4300 - val_sparse_categorical_accuracy: 0.8452 - lr: 0.0025\n",
      "Epoch 6/100\n",
      "54/54 [==============================] - 1s 20ms/step - loss: 0.5467 - sparse_categorical_accuracy: 0.8119 - val_loss: 0.4183 - val_sparse_categorical_accuracy: 0.8480 - lr: 0.0025\n",
      "Epoch 7/100\n",
      "54/54 [==============================] - 1s 20ms/step - loss: 0.5193 - sparse_categorical_accuracy: 0.8234 - val_loss: 0.4159 - val_sparse_categorical_accuracy: 0.8497 - lr: 0.0025\n",
      "Epoch 8/100\n",
      "54/54 [==============================] - 1s 20ms/step - loss: 0.5097 - sparse_categorical_accuracy: 0.8251 - val_loss: 0.4163 - val_sparse_categorical_accuracy: 0.8423 - lr: 0.0025\n",
      "Epoch 9/100\n",
      "54/54 [==============================] - 1s 26ms/step - loss: 0.4959 - sparse_categorical_accuracy: 0.8316 - val_loss: 0.3940 - val_sparse_categorical_accuracy: 0.8583 - lr: 0.0025\n",
      "Epoch 10/100\n",
      "54/54 [==============================] - 1s 23ms/step - loss: 0.4793 - sparse_categorical_accuracy: 0.8351 - val_loss: 0.3869 - val_sparse_categorical_accuracy: 0.8620 - lr: 0.0025\n",
      "Epoch 11/100\n",
      "54/54 [==============================] - 1s 20ms/step - loss: 0.4716 - sparse_categorical_accuracy: 0.8383 - val_loss: 0.3870 - val_sparse_categorical_accuracy: 0.8595 - lr: 0.0025\n",
      "Epoch 12/100\n",
      "54/54 [==============================] - 1s 20ms/step - loss: 0.4624 - sparse_categorical_accuracy: 0.8426 - val_loss: 0.3760 - val_sparse_categorical_accuracy: 0.8663 - lr: 0.0025\n",
      "Epoch 13/100\n",
      "54/54 [==============================] - 1s 20ms/step - loss: 0.4509 - sparse_categorical_accuracy: 0.8445 - val_loss: 0.3713 - val_sparse_categorical_accuracy: 0.8660 - lr: 0.0025\n",
      "Epoch 14/100\n",
      "54/54 [==============================] - 1s 20ms/step - loss: 0.4430 - sparse_categorical_accuracy: 0.8499 - val_loss: 0.3732 - val_sparse_categorical_accuracy: 0.8630 - lr: 0.0025\n",
      "Epoch 15/100\n",
      "54/54 [==============================] - 1s 21ms/step - loss: 0.4393 - sparse_categorical_accuracy: 0.8471 - val_loss: 0.3663 - val_sparse_categorical_accuracy: 0.8695 - lr: 0.0025\n",
      "Epoch 16/100\n",
      "54/54 [==============================] - 1s 19ms/step - loss: 0.4332 - sparse_categorical_accuracy: 0.8515 - val_loss: 0.3635 - val_sparse_categorical_accuracy: 0.8680 - lr: 0.0025\n",
      "Epoch 17/100\n",
      "54/54 [==============================] - 1s 21ms/step - loss: 0.4216 - sparse_categorical_accuracy: 0.8541 - val_loss: 0.3567 - val_sparse_categorical_accuracy: 0.8725 - lr: 0.0025\n",
      "Epoch 18/100\n",
      "54/54 [==============================] - 1s 21ms/step - loss: 0.4188 - sparse_categorical_accuracy: 0.8551 - val_loss: 0.3667 - val_sparse_categorical_accuracy: 0.8663 - lr: 0.0025\n",
      "Epoch 19/100\n",
      "54/54 [==============================] - 1s 22ms/step - loss: 0.4188 - sparse_categorical_accuracy: 0.8560 - val_loss: 0.3602 - val_sparse_categorical_accuracy: 0.8690 - lr: 0.0025\n",
      "Epoch 20/100\n",
      "54/54 [==============================] - 1s 23ms/step - loss: 0.4116 - sparse_categorical_accuracy: 0.8591 - val_loss: 0.3505 - val_sparse_categorical_accuracy: 0.8777 - lr: 0.0025\n",
      "Epoch 21/100\n",
      "54/54 [==============================] - 1s 20ms/step - loss: 0.4049 - sparse_categorical_accuracy: 0.8597 - val_loss: 0.3620 - val_sparse_categorical_accuracy: 0.8740 - lr: 0.0025\n",
      "Epoch 22/100\n",
      "54/54 [==============================] - 1s 20ms/step - loss: 0.3975 - sparse_categorical_accuracy: 0.8617 - val_loss: 0.3510 - val_sparse_categorical_accuracy: 0.8793 - lr: 0.0025\n",
      "Epoch 23/100\n",
      "54/54 [==============================] - 1s 20ms/step - loss: 0.3976 - sparse_categorical_accuracy: 0.8616 - val_loss: 0.3445 - val_sparse_categorical_accuracy: 0.8802 - lr: 0.0025\n",
      "Epoch 24/100\n",
      "54/54 [==============================] - 1s 21ms/step - loss: 0.3918 - sparse_categorical_accuracy: 0.8645 - val_loss: 0.3416 - val_sparse_categorical_accuracy: 0.8835 - lr: 0.0025\n",
      "Epoch 25/100\n",
      "54/54 [==============================] - 1s 22ms/step - loss: 0.3857 - sparse_categorical_accuracy: 0.8661 - val_loss: 0.3439 - val_sparse_categorical_accuracy: 0.8780 - lr: 0.0025\n",
      "Epoch 26/100\n",
      "54/54 [==============================] - 1s 21ms/step - loss: 0.3855 - sparse_categorical_accuracy: 0.8679 - val_loss: 0.3447 - val_sparse_categorical_accuracy: 0.8782 - lr: 0.0025\n",
      "Epoch 27/100\n",
      "54/54 [==============================] - 1s 20ms/step - loss: 0.3816 - sparse_categorical_accuracy: 0.8676 - val_loss: 0.3383 - val_sparse_categorical_accuracy: 0.8852 - lr: 0.0025\n",
      "Epoch 28/100\n",
      "54/54 [==============================] - 1s 20ms/step - loss: 0.3759 - sparse_categorical_accuracy: 0.8693 - val_loss: 0.3387 - val_sparse_categorical_accuracy: 0.8848 - lr: 0.0025\n",
      "Epoch 29/100\n",
      "54/54 [==============================] - 1s 20ms/step - loss: 0.3755 - sparse_categorical_accuracy: 0.8683 - val_loss: 0.3425 - val_sparse_categorical_accuracy: 0.8797 - lr: 0.0025\n",
      "Epoch 30/100\n",
      "54/54 [==============================] - 1s 20ms/step - loss: 0.3719 - sparse_categorical_accuracy: 0.8704 - val_loss: 0.3363 - val_sparse_categorical_accuracy: 0.8805 - lr: 0.0025\n",
      "Epoch 31/100\n",
      "54/54 [==============================] - 1s 20ms/step - loss: 0.3687 - sparse_categorical_accuracy: 0.8718 - val_loss: 0.3260 - val_sparse_categorical_accuracy: 0.8853 - lr: 0.0025\n",
      "Epoch 32/100\n",
      "54/54 [==============================] - 1s 22ms/step - loss: 0.3654 - sparse_categorical_accuracy: 0.8724 - val_loss: 0.3340 - val_sparse_categorical_accuracy: 0.8833 - lr: 0.0025\n",
      "Epoch 33/100\n",
      "54/54 [==============================] - 1s 22ms/step - loss: 0.3605 - sparse_categorical_accuracy: 0.8742 - val_loss: 0.3419 - val_sparse_categorical_accuracy: 0.8812 - lr: 0.0025\n",
      "Epoch 34/100\n",
      "54/54 [==============================] - 1s 20ms/step - loss: 0.3526 - sparse_categorical_accuracy: 0.8775 - val_loss: 0.3295 - val_sparse_categorical_accuracy: 0.8862 - lr: 0.0020\n",
      "Epoch 35/100\n",
      "54/54 [==============================] - 1s 20ms/step - loss: 0.3461 - sparse_categorical_accuracy: 0.8797 - val_loss: 0.3213 - val_sparse_categorical_accuracy: 0.8863 - lr: 0.0020\n",
      "Epoch 36/100\n",
      "54/54 [==============================] - 1s 20ms/step - loss: 0.3438 - sparse_categorical_accuracy: 0.8790 - val_loss: 0.3213 - val_sparse_categorical_accuracy: 0.8865 - lr: 0.0020\n",
      "Epoch 37/100\n",
      "54/54 [==============================] - 1s 20ms/step - loss: 0.3404 - sparse_categorical_accuracy: 0.8803 - val_loss: 0.3295 - val_sparse_categorical_accuracy: 0.8882 - lr: 0.0020\n",
      "Epoch 38/100\n",
      "54/54 [==============================] - 1s 21ms/step - loss: 0.3368 - sparse_categorical_accuracy: 0.8823 - val_loss: 0.3224 - val_sparse_categorical_accuracy: 0.8888 - lr: 0.0020\n",
      "Epoch 39/100\n",
      "54/54 [==============================] - 1s 20ms/step - loss: 0.3429 - sparse_categorical_accuracy: 0.8799 - val_loss: 0.3278 - val_sparse_categorical_accuracy: 0.8863 - lr: 0.0020\n",
      "Epoch 40/100\n",
      "54/54 [==============================] - 1s 20ms/step - loss: 0.3345 - sparse_categorical_accuracy: 0.8826 - val_loss: 0.3223 - val_sparse_categorical_accuracy: 0.8897 - lr: 0.0020\n",
      "Epoch 41/100\n",
      "54/54 [==============================] - 1s 22ms/step - loss: 0.3335 - sparse_categorical_accuracy: 0.8826 - val_loss: 0.3209 - val_sparse_categorical_accuracy: 0.8912 - lr: 0.0020\n",
      "Epoch 42/100\n",
      "54/54 [==============================] - 1s 20ms/step - loss: 0.3293 - sparse_categorical_accuracy: 0.8867 - val_loss: 0.3243 - val_sparse_categorical_accuracy: 0.8845 - lr: 0.0020\n",
      "Epoch 43/100\n",
      "54/54 [==============================] - 1s 20ms/step - loss: 0.3272 - sparse_categorical_accuracy: 0.8868 - val_loss: 0.3188 - val_sparse_categorical_accuracy: 0.8902 - lr: 0.0020\n",
      "Epoch 44/100\n",
      "54/54 [==============================] - 1s 22ms/step - loss: 0.3264 - sparse_categorical_accuracy: 0.8864 - val_loss: 0.3285 - val_sparse_categorical_accuracy: 0.8860 - lr: 0.0020\n",
      "Epoch 45/100\n",
      "54/54 [==============================] - 1s 20ms/step - loss: 0.3307 - sparse_categorical_accuracy: 0.8848 - val_loss: 0.3168 - val_sparse_categorical_accuracy: 0.8898 - lr: 0.0020\n",
      "Epoch 46/100\n",
      "54/54 [==============================] - 1s 20ms/step - loss: 0.3266 - sparse_categorical_accuracy: 0.8847 - val_loss: 0.3178 - val_sparse_categorical_accuracy: 0.8890 - lr: 0.0020\n",
      "Epoch 47/100\n",
      "54/54 [==============================] - 1s 20ms/step - loss: 0.3218 - sparse_categorical_accuracy: 0.8876 - val_loss: 0.3179 - val_sparse_categorical_accuracy: 0.8925 - lr: 0.0020\n",
      "Epoch 48/100\n",
      "54/54 [==============================] - 1s 21ms/step - loss: 0.3229 - sparse_categorical_accuracy: 0.8878 - val_loss: 0.3177 - val_sparse_categorical_accuracy: 0.8892 - lr: 0.0020\n",
      "Epoch 49/100\n",
      "54/54 [==============================] - 1s 20ms/step - loss: 0.3210 - sparse_categorical_accuracy: 0.8873 - val_loss: 0.3231 - val_sparse_categorical_accuracy: 0.8908 - lr: 0.0020\n",
      "Epoch 50/100\n",
      "54/54 [==============================] - 1s 20ms/step - loss: 0.3187 - sparse_categorical_accuracy: 0.8891 - val_loss: 0.3213 - val_sparse_categorical_accuracy: 0.8912 - lr: 0.0020\n",
      "Epoch 51/100\n",
      "54/54 [==============================] - 1s 20ms/step - loss: 0.3203 - sparse_categorical_accuracy: 0.8879 - val_loss: 0.3104 - val_sparse_categorical_accuracy: 0.8917 - lr: 0.0020\n",
      "Epoch 52/100\n",
      "54/54 [==============================] - 1s 20ms/step - loss: 0.3063 - sparse_categorical_accuracy: 0.8926 - val_loss: 0.3196 - val_sparse_categorical_accuracy: 0.8915 - lr: 0.0016\n",
      "Epoch 53/100\n",
      "54/54 [==============================] - 1s 20ms/step - loss: 0.3051 - sparse_categorical_accuracy: 0.8921 - val_loss: 0.3136 - val_sparse_categorical_accuracy: 0.8962 - lr: 0.0016\n",
      "Epoch 54/100\n",
      "54/54 [==============================] - 1s 20ms/step - loss: 0.3052 - sparse_categorical_accuracy: 0.8941 - val_loss: 0.3223 - val_sparse_categorical_accuracy: 0.8880 - lr: 0.0016\n",
      "Epoch 55/100\n",
      "54/54 [==============================] - 1s 20ms/step - loss: 0.3006 - sparse_categorical_accuracy: 0.8943 - val_loss: 0.3170 - val_sparse_categorical_accuracy: 0.8935 - lr: 0.0016\n",
      "Epoch 56/100\n",
      "54/54 [==============================] - 1s 22ms/step - loss: 0.2995 - sparse_categorical_accuracy: 0.8952 - val_loss: 0.3167 - val_sparse_categorical_accuracy: 0.8917 - lr: 0.0016\n",
      "Epoch 57/100\n",
      "54/54 [==============================] - 1s 20ms/step - loss: 0.2944 - sparse_categorical_accuracy: 0.8978 - val_loss: 0.3105 - val_sparse_categorical_accuracy: 0.8942 - lr: 0.0016\n",
      "Epoch 58/100\n",
      "54/54 [==============================] - 1s 20ms/step - loss: 0.2962 - sparse_categorical_accuracy: 0.8972 - val_loss: 0.3131 - val_sparse_categorical_accuracy: 0.8943 - lr: 0.0016\n",
      "Epoch 59/100\n",
      "54/54 [==============================] - 1s 21ms/step - loss: 0.2920 - sparse_categorical_accuracy: 0.8964 - val_loss: 0.3195 - val_sparse_categorical_accuracy: 0.8922 - lr: 0.0016\n",
      "Epoch 60/100\n",
      "54/54 [==============================] - 1s 20ms/step - loss: 0.2884 - sparse_categorical_accuracy: 0.8985 - val_loss: 0.3107 - val_sparse_categorical_accuracy: 0.8955 - lr: 0.0016\n",
      "Epoch 61/100\n",
      "54/54 [==============================] - 1s 21ms/step - loss: 0.2943 - sparse_categorical_accuracy: 0.8961 - val_loss: 0.3151 - val_sparse_categorical_accuracy: 0.8883 - lr: 0.0016\n",
      "Epoch 62/100\n",
      "54/54 [==============================] - 1s 20ms/step - loss: 0.2888 - sparse_categorical_accuracy: 0.8975 - val_loss: 0.3122 - val_sparse_categorical_accuracy: 0.8927 - lr: 0.0013\n",
      "Epoch 63/100\n",
      "54/54 [==============================] - 1s 20ms/step - loss: 0.2801 - sparse_categorical_accuracy: 0.8999 - val_loss: 0.3058 - val_sparse_categorical_accuracy: 0.8967 - lr: 0.0013\n",
      "Epoch 64/100\n",
      "54/54 [==============================] - 1s 23ms/step - loss: 0.2763 - sparse_categorical_accuracy: 0.9021 - val_loss: 0.3042 - val_sparse_categorical_accuracy: 0.8967 - lr: 0.0013\n",
      "Epoch 65/100\n",
      "54/54 [==============================] - 1s 20ms/step - loss: 0.2792 - sparse_categorical_accuracy: 0.9010 - val_loss: 0.3107 - val_sparse_categorical_accuracy: 0.8927 - lr: 0.0013\n",
      "Epoch 66/100\n",
      "54/54 [==============================] - 1s 21ms/step - loss: 0.2761 - sparse_categorical_accuracy: 0.9028 - val_loss: 0.3129 - val_sparse_categorical_accuracy: 0.8953 - lr: 0.0013\n"
     ]
    }
   ],
   "source": [
    "# Compiling and fitting the model.\n",
    "from numpy.random import randint, seed\n",
    "from tensorflow.keras.optimizers import Adam \n",
    "from tensorflow.keras.losses import SparseCategoricalCrossentropy\n",
    "from tensorflow.keras.metrics import SparseCategoricalAccuracy\n",
    "from tensorflow.keras.callbacks import EarlyStopping, ReduceLROnPlateau\n",
    "from tensorflow.config import list_logical_devices\n",
    "import tensorflow.distribute as tf_dist\n",
    "\n",
    "seed(42) \n",
    "\n",
    "# Running the fitting in our available GPU's.\n",
    "gpus = list_logical_devices('GPU')\n",
    "strategy = tf_dist.MirroredStrategy(gpus)\n",
    "\n",
    "# Informing TensorFlow to run the training in the GPU's.\n",
    "with strategy.scope():\n",
    "    # Setting the compilation configs.\n",
    "    optimizer = Adam(learning_rate=0.0025)\n",
    "    loss = SparseCategoricalCrossentropy()\n",
    "    metrics = [SparseCategoricalAccuracy()]\n",
    "    callbacks = [EarlyStopping(monitor='val_sparse_categorical_accuracy', min_delta=.01, patience=25, restore_best_weights=True),\n",
    "                    ReduceLROnPlateau(monitor='val_sparse_categorical_accuracy', factor=.8, min_delta=.01, patience=10)]\n",
    "    \n",
    "    # Defining the amount of neurons for our 5 hidden layers.\n",
    "    neurons = randint(200, 400, 5)\n",
    "    \n",
    "    # Creating the model and fitting it.\n",
    "    fcnn = my_fcnn(neurons, elu, .5, optimizer=optimizer, loss=loss, metrics=metrics)\n",
    "    fcnn.fit(x=train_set, epochs=100, callbacks=callbacks, validation_data=val_set)"
   ]
  },
  {
   "cell_type": "markdown",
   "id": "64f1ad02",
   "metadata": {
    "papermill": {
     "duration": 0.093784,
     "end_time": "2023-07-06T17:03:10.725549",
     "exception": false,
     "start_time": "2023-07-06T17:03:10.631765",
     "status": "completed"
    },
    "tags": []
   },
   "source": [
    "<h3 style='font-size:30px;font-style:italic'> Extra Challenge: LeNet-5 </h3>\n",
    "<div> \n",
    "    <ul style='font-size:20px'> \n",
    "        <li> \n",
    "            Fully-Connected Neural Networks are utterly unsuitable for Computer Vision tasks. In modern DL systems, Convolutional Neural Networks show up as a resource both trustable and computationally lighter for this duty.\n",
    "        </li>\n",
    "        <li> \n",
    "            Hence, we'll design here a LeNet-5 model for of its success in digit recognition. \n",
    "        </li>\n",
    "    </ul>\n",
    "</div>"
   ]
  },
  {
   "cell_type": "code",
   "execution_count": 14,
   "id": "d2c593d0",
   "metadata": {
    "execution": {
     "iopub.execute_input": "2023-07-06T17:03:10.910735Z",
     "iopub.status.busy": "2023-07-06T17:03:10.910342Z",
     "iopub.status.idle": "2023-07-06T17:03:10.918110Z",
     "shell.execute_reply": "2023-07-06T17:03:10.916884Z"
    },
    "papermill": {
     "duration": 0.102819,
     "end_time": "2023-07-06T17:03:10.921034",
     "exception": false,
     "start_time": "2023-07-06T17:03:10.818215",
     "status": "completed"
    },
    "tags": []
   },
   "outputs": [],
   "source": [
    "# The images that feed the Input Layer of LetNet-5 have 32x32 shape. Since the MNIST digits are 28x28 it is\n",
    "# necessary to add zero-padding to each matrix.\n",
    "from tensorflow.keras.layers import Reshape, ZeroPadding2D\n",
    "\n",
    "# `ZeroPadding2d` demands the inputs to own a dimension for the amount of channels. That's why we are invoking the\n",
    "# `Reshape` layer as well.\n",
    "target_shape = train_pixels.shape[1:]+[1]\n",
    "reshape = Reshape(target_shape=target_shape)\n",
    "\n",
    "# Instantiating the `ZeroPadding2D` layer.\n",
    "zero_padding_2d = ZeroPadding2D(padding=2)"
   ]
  },
  {
   "cell_type": "code",
   "execution_count": 15,
   "id": "2762fd56",
   "metadata": {
    "execution": {
     "iopub.execute_input": "2023-07-06T17:03:11.106612Z",
     "iopub.status.busy": "2023-07-06T17:03:11.106250Z",
     "iopub.status.idle": "2023-07-06T17:04:22.465925Z",
     "shell.execute_reply": "2023-07-06T17:04:22.464083Z"
    },
    "papermill": {
     "duration": 71.46079,
     "end_time": "2023-07-06T17:04:22.471427",
     "exception": false,
     "start_time": "2023-07-06T17:03:11.010637",
     "status": "completed"
    },
    "tags": []
   },
   "outputs": [
    {
     "name": "stdout",
     "output_type": "stream",
     "text": [
      "Epoch 1/100\n",
      "54/54 [==============================] - 15s 58ms/step - loss: 0.8344 - sparse_categorical_accuracy: 0.7165 - val_loss: 0.5669 - val_sparse_categorical_accuracy: 0.7877 - lr: 0.0012\n",
      "Epoch 2/100\n",
      "54/54 [==============================] - 1s 26ms/step - loss: 0.5127 - sparse_categorical_accuracy: 0.8156 - val_loss: 0.4672 - val_sparse_categorical_accuracy: 0.8352 - lr: 0.0012\n",
      "Epoch 3/100\n",
      "54/54 [==============================] - 1s 24ms/step - loss: 0.4409 - sparse_categorical_accuracy: 0.8416 - val_loss: 0.4136 - val_sparse_categorical_accuracy: 0.8527 - lr: 0.0012\n",
      "Epoch 4/100\n",
      "54/54 [==============================] - 1s 23ms/step - loss: 0.3977 - sparse_categorical_accuracy: 0.8586 - val_loss: 0.3800 - val_sparse_categorical_accuracy: 0.8625 - lr: 0.0012\n",
      "Epoch 5/100\n",
      "54/54 [==============================] - 1s 24ms/step - loss: 0.3678 - sparse_categorical_accuracy: 0.8695 - val_loss: 0.3601 - val_sparse_categorical_accuracy: 0.8697 - lr: 0.0012\n",
      "Epoch 6/100\n",
      "54/54 [==============================] - 1s 24ms/step - loss: 0.3479 - sparse_categorical_accuracy: 0.8755 - val_loss: 0.3458 - val_sparse_categorical_accuracy: 0.8743 - lr: 0.0012\n",
      "Epoch 7/100\n",
      "54/54 [==============================] - 1s 24ms/step - loss: 0.3315 - sparse_categorical_accuracy: 0.8817 - val_loss: 0.3439 - val_sparse_categorical_accuracy: 0.8698 - lr: 0.0012\n",
      "Epoch 8/100\n",
      "54/54 [==============================] - 1s 25ms/step - loss: 0.3183 - sparse_categorical_accuracy: 0.8860 - val_loss: 0.3245 - val_sparse_categorical_accuracy: 0.8833 - lr: 0.0012\n",
      "Epoch 9/100\n",
      "54/54 [==============================] - 1s 25ms/step - loss: 0.3046 - sparse_categorical_accuracy: 0.8907 - val_loss: 0.3218 - val_sparse_categorical_accuracy: 0.8835 - lr: 0.0012\n",
      "Epoch 10/100\n",
      "54/54 [==============================] - 1s 24ms/step - loss: 0.2943 - sparse_categorical_accuracy: 0.8940 - val_loss: 0.3131 - val_sparse_categorical_accuracy: 0.8880 - lr: 0.0012\n",
      "Epoch 11/100\n",
      "54/54 [==============================] - 1s 24ms/step - loss: 0.2833 - sparse_categorical_accuracy: 0.8972 - val_loss: 0.3062 - val_sparse_categorical_accuracy: 0.8905 - lr: 0.0012\n",
      "Epoch 12/100\n",
      "54/54 [==============================] - 1s 25ms/step - loss: 0.2755 - sparse_categorical_accuracy: 0.9017 - val_loss: 0.3038 - val_sparse_categorical_accuracy: 0.8898 - lr: 0.0012\n",
      "Epoch 13/100\n",
      "54/54 [==============================] - 1s 25ms/step - loss: 0.2670 - sparse_categorical_accuracy: 0.9041 - val_loss: 0.2947 - val_sparse_categorical_accuracy: 0.8977 - lr: 0.0012\n",
      "Epoch 14/100\n",
      "54/54 [==============================] - 2s 31ms/step - loss: 0.2604 - sparse_categorical_accuracy: 0.9059 - val_loss: 0.2918 - val_sparse_categorical_accuracy: 0.8950 - lr: 0.0012\n",
      "Epoch 15/100\n",
      "54/54 [==============================] - 1s 25ms/step - loss: 0.2501 - sparse_categorical_accuracy: 0.9093 - val_loss: 0.2904 - val_sparse_categorical_accuracy: 0.8970 - lr: 0.0012\n",
      "Epoch 16/100\n",
      "54/54 [==============================] - 1s 23ms/step - loss: 0.2430 - sparse_categorical_accuracy: 0.9124 - val_loss: 0.2935 - val_sparse_categorical_accuracy: 0.8967 - lr: 0.0012\n",
      "Epoch 17/100\n",
      "54/54 [==============================] - 1s 24ms/step - loss: 0.2377 - sparse_categorical_accuracy: 0.9147 - val_loss: 0.2875 - val_sparse_categorical_accuracy: 0.8972 - lr: 0.0012\n",
      "Epoch 18/100\n",
      "54/54 [==============================] - 1s 24ms/step - loss: 0.2309 - sparse_categorical_accuracy: 0.9162 - val_loss: 0.2874 - val_sparse_categorical_accuracy: 0.8970 - lr: 0.0012\n",
      "Epoch 19/100\n",
      "54/54 [==============================] - 1s 23ms/step - loss: 0.2254 - sparse_categorical_accuracy: 0.9174 - val_loss: 0.2830 - val_sparse_categorical_accuracy: 0.8990 - lr: 0.0012\n",
      "Epoch 20/100\n",
      "54/54 [==============================] - 1s 25ms/step - loss: 0.2196 - sparse_categorical_accuracy: 0.9205 - val_loss: 0.2864 - val_sparse_categorical_accuracy: 0.8980 - lr: 0.0012\n",
      "Epoch 21/100\n",
      "54/54 [==============================] - 1s 24ms/step - loss: 0.2184 - sparse_categorical_accuracy: 0.9199 - val_loss: 0.2845 - val_sparse_categorical_accuracy: 0.8988 - lr: 0.0012\n",
      "Epoch 22/100\n",
      "54/54 [==============================] - 1s 27ms/step - loss: 0.2079 - sparse_categorical_accuracy: 0.9256 - val_loss: 0.2847 - val_sparse_categorical_accuracy: 0.8983 - lr: 0.0012\n",
      "Epoch 23/100\n",
      "54/54 [==============================] - 1s 23ms/step - loss: 0.2058 - sparse_categorical_accuracy: 0.9259 - val_loss: 0.2926 - val_sparse_categorical_accuracy: 0.8965 - lr: 0.0012\n",
      "Epoch 24/100\n",
      "54/54 [==============================] - 1s 24ms/step - loss: 0.1923 - sparse_categorical_accuracy: 0.9320 - val_loss: 0.2773 - val_sparse_categorical_accuracy: 0.9013 - lr: 6.2500e-04\n",
      "Epoch 25/100\n",
      "54/54 [==============================] - 1s 23ms/step - loss: 0.1872 - sparse_categorical_accuracy: 0.9340 - val_loss: 0.2797 - val_sparse_categorical_accuracy: 0.9022 - lr: 6.2500e-04\n",
      "Epoch 26/100\n",
      "54/54 [==============================] - 1s 23ms/step - loss: 0.1849 - sparse_categorical_accuracy: 0.9348 - val_loss: 0.2773 - val_sparse_categorical_accuracy: 0.9048 - lr: 6.2500e-04\n",
      "Epoch 27/100\n",
      "54/54 [==============================] - 1s 24ms/step - loss: 0.1816 - sparse_categorical_accuracy: 0.9357 - val_loss: 0.2819 - val_sparse_categorical_accuracy: 0.9010 - lr: 6.2500e-04\n",
      "Epoch 28/100\n",
      "54/54 [==============================] - 1s 24ms/step - loss: 0.1809 - sparse_categorical_accuracy: 0.9358 - val_loss: 0.2786 - val_sparse_categorical_accuracy: 0.9032 - lr: 6.2500e-04\n",
      "Epoch 29/100\n",
      "54/54 [==============================] - 1s 26ms/step - loss: 0.1770 - sparse_categorical_accuracy: 0.9371 - val_loss: 0.2785 - val_sparse_categorical_accuracy: 0.9028 - lr: 6.2500e-04\n",
      "Epoch 30/100\n",
      "54/54 [==============================] - 1s 25ms/step - loss: 0.1742 - sparse_categorical_accuracy: 0.9382 - val_loss: 0.2806 - val_sparse_categorical_accuracy: 0.9013 - lr: 6.2500e-04\n",
      "Epoch 31/100\n",
      "54/54 [==============================] - 1s 23ms/step - loss: 0.1726 - sparse_categorical_accuracy: 0.9380 - val_loss: 0.2832 - val_sparse_categorical_accuracy: 0.9038 - lr: 6.2500e-04\n",
      "Epoch 32/100\n",
      "54/54 [==============================] - 1s 26ms/step - loss: 0.1689 - sparse_categorical_accuracy: 0.9407 - val_loss: 0.2839 - val_sparse_categorical_accuracy: 0.9037 - lr: 6.2500e-04\n",
      "Epoch 33/100\n",
      "54/54 [==============================] - 1s 24ms/step - loss: 0.1671 - sparse_categorical_accuracy: 0.9403 - val_loss: 0.2831 - val_sparse_categorical_accuracy: 0.9033 - lr: 6.2500e-04\n",
      "Epoch 34/100\n",
      "54/54 [==============================] - 1s 23ms/step - loss: 0.1655 - sparse_categorical_accuracy: 0.9413 - val_loss: 0.2788 - val_sparse_categorical_accuracy: 0.9023 - lr: 6.2500e-04\n",
      "Epoch 35/100\n",
      "54/54 [==============================] - 2s 30ms/step - loss: 0.1614 - sparse_categorical_accuracy: 0.9437 - val_loss: 0.2804 - val_sparse_categorical_accuracy: 0.9030 - lr: 6.2500e-04\n",
      "Epoch 36/100\n",
      "54/54 [==============================] - 1s 25ms/step - loss: 0.1607 - sparse_categorical_accuracy: 0.9432 - val_loss: 0.2815 - val_sparse_categorical_accuracy: 0.9025 - lr: 6.2500e-04\n",
      "Epoch 37/100\n",
      "54/54 [==============================] - 1s 24ms/step - loss: 0.1525 - sparse_categorical_accuracy: 0.9464 - val_loss: 0.2813 - val_sparse_categorical_accuracy: 0.9013 - lr: 3.1250e-04\n",
      "Epoch 38/100\n",
      "54/54 [==============================] - 1s 25ms/step - loss: 0.1504 - sparse_categorical_accuracy: 0.9485 - val_loss: 0.2816 - val_sparse_categorical_accuracy: 0.9037 - lr: 3.1250e-04\n"
     ]
    }
   ],
   "source": [
    "from tensorflow.keras.layers import Conv2D, AveragePooling2D\n",
    "# Informing TensorFlow to run the training in the GPU's.\n",
    "with strategy.scope():\n",
    "    \n",
    "    # Building our LeNet-5\n",
    "    lenet5 = Sequential([\n",
    "        # Initial layers.\n",
    "        Input(shape=[28,28]),\n",
    "        standardize, # Note that the inputs need to be standardized as well in this architecture.\n",
    "        reshape,\n",
    "        zero_padding_2d,\n",
    "\n",
    "        # Performing the Convolutions and Pooling in accordance to LeNet-5's architecture.\n",
    "        Conv2D(filters=6, kernel_size=5, strides=1, activation='tanh'),\n",
    "        AveragePooling2D(),\n",
    "        Conv2D(filters=16, kernel_size=5, strides=1, activation='tanh'),\n",
    "        AveragePooling2D(),\n",
    "        Conv2D(filters=120, kernel_size=5, strides=1, activation='tanh'),\n",
    "\n",
    "        # A Dense layer followed by the output layer.\n",
    "        Flatten(),\n",
    "        Dense(units=84, activation='tanh', kernel_initializer=GlorotNormal()),\n",
    "        Dense(units=10, activation='softmax')\n",
    "\n",
    "    ])\n",
    "\n",
    "    # Setting the compilation configs.\n",
    "    optimizer = Adam(learning_rate=0.00125)\n",
    "    loss = SparseCategoricalCrossentropy()\n",
    "    metrics = [SparseCategoricalAccuracy()]\n",
    "    callbacks = [EarlyStopping(monitor='val_sparse_categorical_accuracy', min_delta=.01, patience=25, restore_best_weights=True),\n",
    "                    ReduceLROnPlateau(monitor='val_sparse_categorical_accuracy', factor=.5, min_delta=.005, patience=10)]\n",
    "    \n",
    "    # Creating the model and fitting it.\n",
    "    lenet5.compile(optimizer=optimizer, loss=loss, metrics=metrics)\n",
    "    lenet5.fit(x=train_set, epochs=100, callbacks=callbacks, validation_data=val_set)"
   ]
  },
  {
   "cell_type": "markdown",
   "id": "3c0901bf",
   "metadata": {
    "papermill": {
     "duration": 0.147139,
     "end_time": "2023-07-06T17:04:22.771549",
     "exception": false,
     "start_time": "2023-07-06T17:04:22.624410",
     "status": "completed"
    },
    "tags": []
   },
   "source": [
    "<h2 style='font-size:30px'> Models Testing and Comparison</h2>\n",
    "<div> \n",
    "    <ul style='font-size:20px'> \n",
    "        <li> \n",
    "            By seeing the fitting logs, we cannot observe a big difference between the NN's accuracies. \n",
    "        </li>\n",
    "        <li> \n",
    "            Let's find out whether the test performances presents any statistical difference.\n",
    "        </li>\n",
    "    </ul>\n",
    "</div>"
   ]
  },
  {
   "cell_type": "code",
   "execution_count": 16,
   "id": "19d96b6b",
   "metadata": {
    "execution": {
     "iopub.execute_input": "2023-07-06T17:04:23.072039Z",
     "iopub.status.busy": "2023-07-06T17:04:23.071003Z",
     "iopub.status.idle": "2023-07-06T17:04:23.079027Z",
     "shell.execute_reply": "2023-07-06T17:04:23.077976Z"
    },
    "papermill": {
     "duration": 0.163961,
     "end_time": "2023-07-06T17:04:23.081507",
     "exception": false,
     "start_time": "2023-07-06T17:04:22.917546",
     "status": "completed"
    },
    "tags": []
   },
   "outputs": [],
   "source": [
    "# We are going to conduct a Hypothesis Test on both models' accuracy.\n",
    "# Since the statsmodels function demands us to inform countings instead of proportions, we need to create a small method\n",
    "# that gives us the quantity of right estimations.\n",
    "\n",
    "def n_correct_predictions(model:Sequential, data:Dataset)->int:\n",
    "    '''\n",
    "        Computes the amount of instances that a given model correctly predicted.\n",
    "        \n",
    "        Parameters\n",
    "        ----------\n",
    "        `model`: A Keras model.\n",
    "        `data`: A Dataset object storing the independent and dependent variables.\n",
    "        \n",
    "        Returns\n",
    "        -------\n",
    "        An integer indicating the number of instances correctly predicted by the model.\n",
    "    '''\n",
    "    accuracy = model.evaluate(data)[1]\n",
    "    return int(round(accuracy, 4) * 10000) # Rounding the model's accuracy and multiplying it by 10000 (test set's length)."
   ]
  },
  {
   "cell_type": "code",
   "execution_count": 17,
   "id": "ad16e18b",
   "metadata": {
    "execution": {
     "iopub.execute_input": "2023-07-06T17:04:23.375474Z",
     "iopub.status.busy": "2023-07-06T17:04:23.375084Z",
     "iopub.status.idle": "2023-07-06T17:04:24.677521Z",
     "shell.execute_reply": "2023-07-06T17:04:24.676398Z"
    },
    "papermill": {
     "duration": 1.451513,
     "end_time": "2023-07-06T17:04:24.680117",
     "exception": false,
     "start_time": "2023-07-06T17:04:23.228604",
     "status": "completed"
    },
    "tags": []
   },
   "outputs": [
    {
     "name": "stdout",
     "output_type": "stream",
     "text": [
      "10/10 [==============================] - 0s 15ms/step - loss: 0.3490 - sparse_categorical_accuracy: 0.8831\n",
      "10/10 [==============================] - 1s 17ms/step - loss: 0.3179 - sparse_categorical_accuracy: 0.8850\n",
      "FCNN has correctly estimated 8831 instances\n",
      "LeNet-5 has correctly estimated 8850 instances\n"
     ]
    }
   ],
   "source": [
    "# Carrying out the estimations.\n",
    "with strategy.scope():\n",
    "    fcnn_correct = n_correct_predictions(fcnn, test_set)\n",
    "    lenet5_correct = n_correct_predictions(lenet5, test_set)\n",
    "    \n",
    "print(f'FCNN has correctly estimated {fcnn_correct} instances')\n",
    "print(f'LeNet-5 has correctly estimated {lenet5_correct} instances')"
   ]
  },
  {
   "cell_type": "code",
   "execution_count": 18,
   "id": "8ea44a41",
   "metadata": {
    "execution": {
     "iopub.execute_input": "2023-07-06T17:04:25.038701Z",
     "iopub.status.busy": "2023-07-06T17:04:25.038283Z",
     "iopub.status.idle": "2023-07-06T17:04:25.094971Z",
     "shell.execute_reply": "2023-07-06T17:04:25.093534Z"
    },
    "papermill": {
     "duration": 0.210007,
     "end_time": "2023-07-06T17:04:25.097693",
     "exception": false,
     "start_time": "2023-07-06T17:04:24.887686",
     "status": "completed"
    },
    "tags": []
   },
   "outputs": [
    {
     "name": "stdout",
     "output_type": "stream",
     "text": [
      "The test's p-value was 0.33738.\n"
     ]
    }
   ],
   "source": [
    "from statsmodels.stats.proportion import test_proportions_2indep, confint_proportions_2indep\n",
    "\n",
    "# H0: The accuracies are equal\n",
    "# H1: FCNN's accuracy is lower than LeNet-5's.\n",
    "\n",
    "# By setting the confidence level as 5%, we own sufficient evidence that LeNet-5 had a better performance than the FCNN.\n",
    "nobs = len(y_test)\n",
    "\n",
    "pvalue = test_proportions_2indep(fcnn_correct, nobs, lenet5_correct, nobs, compare='ratio', alternative='smaller', return_results=False)[1]\n",
    "print(f'The test\\'s p-value was {pvalue :.5f}.')"
   ]
  },
  {
   "cell_type": "code",
   "execution_count": 19,
   "id": "6d3db7ad",
   "metadata": {
    "execution": {
     "iopub.execute_input": "2023-07-06T17:04:25.403817Z",
     "iopub.status.busy": "2023-07-06T17:04:25.403434Z",
     "iopub.status.idle": "2023-07-06T17:04:25.414018Z",
     "shell.execute_reply": "2023-07-06T17:04:25.411990Z"
    },
    "papermill": {
     "duration": 0.164198,
     "end_time": "2023-07-06T17:04:25.417434",
     "exception": false,
     "start_time": "2023-07-06T17:04:25.253236",
     "status": "completed"
    },
    "tags": []
   },
   "outputs": [
    {
     "data": {
      "text/plain": [
       "(0.9878870680097193, 1.0079199314711706)"
      ]
     },
     "execution_count": 19,
     "metadata": {},
     "output_type": "execute_result"
    }
   ],
   "source": [
    "# And here is the Confidence Interval for the Accuracies Ratio. Since it did not contain 1, we must reject H0.\n",
    "confint_proportions_2indep(fcnn_correct, nobs, lenet5_correct, nobs, compare='ratio', alpha=.05)"
   ]
  },
  {
   "cell_type": "markdown",
   "id": "331e0245",
   "metadata": {
    "papermill": {
     "duration": 0.149464,
     "end_time": "2023-07-06T17:04:25.728722",
     "exception": false,
     "start_time": "2023-07-06T17:04:25.579258",
     "status": "completed"
    },
    "tags": []
   },
   "source": [
    "<div> \n",
    "    <ul style='font-size:20px'> \n",
    "        <li> \n",
    "            But on top of the LeNet-5's greater performance, this model was built with roughly 10 times less parameters than the Fully-Connected Neural Network.  \n",
    "        </li>\n",
    "    </ul>\n",
    "</div>"
   ]
  },
  {
   "cell_type": "code",
   "execution_count": 20,
   "id": "f2cef62c",
   "metadata": {
    "execution": {
     "iopub.execute_input": "2023-07-06T17:04:26.030113Z",
     "iopub.status.busy": "2023-07-06T17:04:26.028822Z",
     "iopub.status.idle": "2023-07-06T17:04:26.038381Z",
     "shell.execute_reply": "2023-07-06T17:04:26.037041Z"
    },
    "papermill": {
     "duration": 0.165914,
     "end_time": "2023-07-06T17:04:26.041710",
     "exception": false,
     "start_time": "2023-07-06T17:04:25.875796",
     "status": "completed"
    },
    "tags": []
   },
   "outputs": [
    {
     "data": {
      "text/plain": [
       "0.10380718302774596"
      ]
     },
     "execution_count": 20,
     "metadata": {},
     "output_type": "execute_result"
    }
   ],
   "source": [
    "lenet5.count_params() / fcnn.count_params()"
   ]
  },
  {
   "cell_type": "markdown",
   "id": "dbd96ace",
   "metadata": {
    "papermill": {
     "duration": 0.14925,
     "end_time": "2023-07-06T17:04:26.342025",
     "exception": false,
     "start_time": "2023-07-06T17:04:26.192775",
     "status": "completed"
    },
    "tags": []
   },
   "source": [
    "<h2 style='font-size:30px'> Final Thoughts</h2>\n",
    "<div> \n",
    "    <ul style='font-size:20px'> \n",
    "        <li> \n",
    "            We've succeeded in generating a complete Deep Learning Pipeline with the use of TensorFlow's data storage and modeling resources.\n",
    "        </li>\n",
    "        <li> \n",
    "            In the end, both NN's demonstrated similar performances over the digit recognition task. But since LeNet-5 has 90% less parameters than the Fully-Connected Model, it is probably more suitable for a hypothetical deployment. \n",
    "        </li>\n",
    "        <li>\n",
    "            I hope you've enjoyed going through the whole code. I'll leave here my <a href='https://www.linkedin.com/in/felipesveiga'> LinkedIn</a> and <a href='https://medium.com/@felipesveiga'> Medium</a> accounts if you want to follow up my content productions. \n",
    "        </li>\n",
    "    </ul>\n",
    "</div>"
   ]
  },
  {
   "cell_type": "markdown",
   "id": "b78db171",
   "metadata": {
    "papermill": {
     "duration": 0.158487,
     "end_time": "2023-07-06T17:04:26.652017",
     "exception": false,
     "start_time": "2023-07-06T17:04:26.493530",
     "status": "completed"
    },
    "tags": []
   },
   "source": [
    "<p style='color:red'>Continuar a partir de Models Testing and Comparison. Corrigir as conclusões sobre o teste de hipo. Preparar o README do repositório. NÃO RODAR O CÓDIGO"
   ]
  },
  {
   "cell_type": "markdown",
   "id": "e475f6e8",
   "metadata": {
    "papermill": {
     "duration": 0.145457,
     "end_time": "2023-07-06T17:04:26.948115",
     "exception": false,
     "start_time": "2023-07-06T17:04:26.802658",
     "status": "completed"
    },
    "tags": []
   },
   "source": [
    "<h2 style='font-size:30px'> </h2>"
   ]
  }
 ],
 "metadata": {
  "kernelspec": {
   "display_name": "Python 3",
   "language": "python",
   "name": "python3"
  },
  "language_info": {
   "codemirror_mode": {
    "name": "ipython",
    "version": 3
   },
   "file_extension": ".py",
   "mimetype": "text/x-python",
   "name": "python",
   "nbconvert_exporter": "python",
   "pygments_lexer": "ipython3",
   "version": "3.7.12"
  },
  "papermill": {
   "default_parameters": {},
   "duration": 208.253877,
   "end_time": "2023-07-06T17:04:30.343408",
   "environment_variables": {},
   "exception": null,
   "input_path": "__notebook__.ipynb",
   "output_path": "__notebook__.ipynb",
   "parameters": {},
   "start_time": "2023-07-06T17:01:02.089531",
   "version": "2.4.0"
  }
 },
 "nbformat": 4,
 "nbformat_minor": 5
}
